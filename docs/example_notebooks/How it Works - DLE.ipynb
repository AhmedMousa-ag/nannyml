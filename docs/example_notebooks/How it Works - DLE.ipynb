{
 "cells": [
  {
   "cell_type": "code",
   "id": "f0ecd7f6",
   "metadata": {},
   "outputs": [],
   "source": [
    "import numpy as np\n",
    "from sklearn.linear_model import LinearRegression\n",
    "from sklearn.metrics import mean_absolute_error\n",
    "import matplotlib.pyplot as plt\n"
   ]
  },
  {
   "cell_type": "code",
   "id": "dc093133",
   "metadata": {},
   "outputs": [],
   "source": [
    "np.random.seed(1)"
   ]
  },
  {
   "cell_type": "code",
   "id": "d3353159",
   "metadata": {},
   "outputs": [],
   "source": [
    "size = 10_000\n",
    "x1 = np.random.uniform(0, 1, size)\n",
    "x1 = np.asarray([x1]).T\n",
    "y = 2*x1 + np.random.normal(0, x1) # true target generating function"
   ]
  },
  {
   "cell_type": "code",
   "id": "065fb4bf",
   "metadata": {},
   "outputs": [],
   "source": [
    "plt.scatter(x1, y, s=1)\n",
    "plt.ylabel('y')\n",
    "plt.xlabel('x1')\n",
    "plt.title('Heteroscedastic process')\n",
    "plt.savefig(\"../_static/how-it-works-dle-data.svg\", format=\"svg\")"
   ]
  },
  {
   "cell_type": "code",
   "id": "ed05d502",
   "metadata": {},
   "outputs": [],
   "source": [
    "\n",
    "child_model = LinearRegression()\n",
    "child_model.fit(x1, y)\n",
    "child_pred = child_model.predict(x1)\n",
    "x1_coef = np.round(child_model.coef_[0][0], 3)\n",
    "\n",
    "plt.scatter(x1, y, s=1)\n",
    "plt.ylabel('y')\n",
    "plt.xlabel('x1')\n",
    "plt.title('Linear Regression prediction, x1 coeff:{}'.format(x1_coef))\n",
    "plt.scatter(x1, child_pred, s=1, color='red', label='Linear Regression')\n",
    "plt.legend()\n",
    "plt.savefig(\"../_static/how-it-works-dle-regression.svg\", format=\"svg\")"
   ]
  },
  {
   "cell_type": "code",
   "id": "2bd3ec3e",
   "metadata": {},
   "outputs": [
    {
     "data": {
      "text/plain": [
       "0.5008844408557486"
      ]
     },
     "execution_count": 6,
     "metadata": {},
     "output_type": "execute_result"
    }
   ],
   "source": [
    "child_model.score(x1, y)"
   ]
  },
  {
   "cell_type": "code",
   "id": "7890ae65",
   "metadata": {},
   "outputs": [],
   "source": [
    "errors = y - child_pred \n",
    "plt.hist(errors, bins=100, density=True);\n",
    "mean_errors = np.mean(errors)\n",
    "plt.title(\"Errors, mean = {}\".format(np.round(mean_errors, 3)))\n",
    "plt.savefig(\"../_static/how-it-works-dle-regression-errors-hist.svg\", format=\"svg\")"
   ]
  },
  {
   "cell_type": "code",
   "id": "07fb94fe",
   "metadata": {},
   "outputs": [],
   "source": [
    "abs_errors = abs(y - child_pred)\n",
    "plt.hist(abs_errors, bins=100, density=True);\n",
    "mean_errors = np.mean(abs_errors)\n",
    "plt.title(\"Absolute Errors, mean = {}\".format(np.round(mean_errors, 3)))\n",
    "plt.savefig(\"../_static/how-it-works-dle-regression-abs-errors-hist.svg\", format=\"svg\")"
   ]
  },
  {
   "cell_type": "code",
   "id": "b9728fc2",
   "metadata": {},
   "outputs": [],
   "source": []
  },
  {
   "cell_type": "code",
   "id": "98a1ae94",
   "metadata": {},
   "outputs": [],
   "source": []
  },
  {
   "cell_type": "code",
   "id": "40684ea0",
   "metadata": {},
   "outputs": [],
   "source": [
    "nanny_model_target = abs_errors\n",
    "nanny_model = LinearRegression()\n",
    "nanny_features = np.asarray([x1.T[0], child_pred.T[0]]).T\n",
    "nanny_model.fit(nanny_features, nanny_model_target)\n",
    "nanny_abs_error_estimate = nanny_model.predict(nanny_features)\n",
    "prediction_interval_lower = child_pred - nanny_abs_error_estimate\n",
    "prediction_interval_upper = child_pred + nanny_abs_error_estimate"
   ]
  },
  {
   "cell_type": "code",
   "id": "9fa8025e",
   "metadata": {},
   "outputs": [],
   "source": [
    "plt.scatter(x1, y, s=1)\n",
    "plt.scatter(x1, child_pred, s=1, color='red', label='Linear Regression')\n",
    "plt.scatter(x1, prediction_interval_lower, s=1, color='black', label='LR prediction +/- estimated abs error')\n",
    "plt.scatter(x1, prediction_interval_upper, s=1, color='black')\n",
    "plt.ylabel('y')\n",
    "plt.xlabel('x1')\n",
    "plt.title('Linear Regression fit.')\n",
    "plt.title(\"DEE used for naive prediction intervals.\");\n",
    "plt.legend();\n",
    "plt.savefig(\"../_static/how-it-works-dle-regression-PI.svg\", format=\"svg\")"
   ]
  },
  {
   "cell_type": "code",
   "id": "04a3dc8a",
   "metadata": {},
   "outputs": [],
   "source": []
  },
  {
   "cell_type": "code",
   "id": "09a2ec22",
   "metadata": {},
   "outputs": [
    {
     "data": {
      "text/plain": [
       "(0.20111729723798066, 0.2031672932387649)"
      ]
     },
     "execution_count": 11,
     "metadata": {},
     "output_type": "execute_result"
    }
   ],
   "source": [
    "# randomly select observations where x1 < 0.5\n",
    "idx_x1_lt_05 = np.where(x1 < 0.5)[0]\n",
    "random_indexes = np.random.choice(idx_x1_lt_05, 1000)\n",
    "\n",
    "y_drawn = y[random_indexes]\n",
    "child_pred_drawn = child_pred[random_indexes]\n",
    "nanny_abs_error_estimate_drawn = nanny_abs_error_estimate[random_indexes]\n",
    "\n",
    "# true MAE, estimated MAE\n",
    "mean_absolute_error(y_drawn, child_pred_drawn), np.mean(nanny_abs_error_estimate_drawn)"
   ]
  },
  {
   "cell_type": "code",
   "id": "77a482dc",
   "metadata": {},
   "outputs": [
    {
     "data": {
      "text/plain": [
       "(0.6101016454957128, 0.5992408384835519)"
      ]
     },
     "execution_count": 12,
     "metadata": {},
     "output_type": "execute_result"
    }
   ],
   "source": [
    "# randomly select observations where x1 > 0.5\n",
    "idx_x1_gt_05 = np.where(x1 > 0.5)[0]\n",
    "random_indexes = np.random.choice(idx_x1_gt_05, 1000)\n",
    "\n",
    "y_drawn = y[random_indexes]\n",
    "child_pred_drawn = child_pred[random_indexes]\n",
    "nanny_abs_error_estimate_drawn = nanny_abs_error_estimate[random_indexes]\n",
    "\n",
    "# true MAE, estimated MAE\n",
    "mean_absolute_error(y_drawn, child_pred_drawn), np.mean(nanny_abs_error_estimate_drawn)"
   ]
  },
  {
   "cell_type": "code",
   "id": "b6c85dbe",
   "metadata": {},
   "outputs": [],
   "source": []
  }
 ],
 "metadata": {
  "kernelspec": {
   "display_name": "Python 3 (ipykernel)",
   "language": "python",
   "name": "python3"
  },
  "language_info": {
   "codemirror_mode": {
    "name": "ipython",
    "version": 3
   },
   "file_extension": ".py",
   "mimetype": "text/x-python",
   "name": "python",
   "nbconvert_exporter": "python",
   "pygments_lexer": "ipython3",
   "version": "3.8.8"
  }
 },
 "nbformat": 4,
 "nbformat_minor": 5
}
