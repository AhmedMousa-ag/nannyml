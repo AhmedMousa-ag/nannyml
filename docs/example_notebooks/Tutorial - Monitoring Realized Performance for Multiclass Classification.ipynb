{
 "cells": [
  {
   "cell_type": "code",
   "execution_count": 5,
   "id": "d11ed3df",
   "metadata": {
    "pycharm": {
     "name": "#%%\n"
    }
   },
   "outputs": [],
   "source": [
    "def showrst(df):\n",
    "    print(df.to_markdown(tablefmt=\"grid\"))"
   ]
  },
  {
   "cell_type": "code",
   "execution_count": 2,
   "id": "edd4641b",
   "metadata": {},
   "outputs": [
    {
     "data": {
      "text/html": [
       "<div>\n",
       "<style scoped>\n",
       "    .dataframe tbody tr th:only-of-type {\n",
       "        vertical-align: middle;\n",
       "    }\n",
       "\n",
       "    .dataframe tbody tr th {\n",
       "        vertical-align: top;\n",
       "    }\n",
       "\n",
       "    .dataframe thead th {\n",
       "        text-align: right;\n",
       "    }\n",
       "</style>\n",
       "<table border=\"1\" class=\"dataframe\">\n",
       "  <thead>\n",
       "    <tr style=\"text-align: right;\">\n",
       "      <th></th>\n",
       "      <th>acq_channel</th>\n",
       "      <th>app_behavioral_score</th>\n",
       "      <th>requested_credit_limit</th>\n",
       "      <th>app_channel</th>\n",
       "      <th>credit_bureau_score</th>\n",
       "      <th>stated_income</th>\n",
       "      <th>is_customer</th>\n",
       "      <th>period</th>\n",
       "      <th>identifier</th>\n",
       "      <th>timestamp</th>\n",
       "      <th>y_pred_proba_prepaid_card</th>\n",
       "      <th>y_pred_proba_highstreet_card</th>\n",
       "      <th>y_pred_proba_upmarket_card</th>\n",
       "      <th>y_pred</th>\n",
       "      <th>y_true</th>\n",
       "    </tr>\n",
       "  </thead>\n",
       "  <tbody>\n",
       "    <tr>\n",
       "      <th>0</th>\n",
       "      <td>Partner3</td>\n",
       "      <td>1.808232</td>\n",
       "      <td>350</td>\n",
       "      <td>web</td>\n",
       "      <td>309</td>\n",
       "      <td>15000</td>\n",
       "      <td>True</td>\n",
       "      <td>reference</td>\n",
       "      <td>60000</td>\n",
       "      <td>2020-05-02 02:01:30</td>\n",
       "      <td>0.97</td>\n",
       "      <td>0.03</td>\n",
       "      <td>0.00</td>\n",
       "      <td>prepaid_card</td>\n",
       "      <td>prepaid_card</td>\n",
       "    </tr>\n",
       "    <tr>\n",
       "      <th>1</th>\n",
       "      <td>Partner2</td>\n",
       "      <td>4.382568</td>\n",
       "      <td>500</td>\n",
       "      <td>mobile</td>\n",
       "      <td>418</td>\n",
       "      <td>23000</td>\n",
       "      <td>True</td>\n",
       "      <td>reference</td>\n",
       "      <td>60001</td>\n",
       "      <td>2020-05-02 02:03:33</td>\n",
       "      <td>0.87</td>\n",
       "      <td>0.13</td>\n",
       "      <td>0.00</td>\n",
       "      <td>prepaid_card</td>\n",
       "      <td>prepaid_card</td>\n",
       "    </tr>\n",
       "    <tr>\n",
       "      <th>2</th>\n",
       "      <td>Partner2</td>\n",
       "      <td>-0.787575</td>\n",
       "      <td>400</td>\n",
       "      <td>web</td>\n",
       "      <td>507</td>\n",
       "      <td>24000</td>\n",
       "      <td>False</td>\n",
       "      <td>reference</td>\n",
       "      <td>60002</td>\n",
       "      <td>2020-05-02 02:04:49</td>\n",
       "      <td>0.47</td>\n",
       "      <td>0.35</td>\n",
       "      <td>0.18</td>\n",
       "      <td>prepaid_card</td>\n",
       "      <td>upmarket_card</td>\n",
       "    </tr>\n",
       "  </tbody>\n",
       "</table>\n",
       "</div>"
      ],
      "text/plain": [
       "  acq_channel  app_behavioral_score  requested_credit_limit app_channel  \\\n",
       "0    Partner3              1.808232                     350         web   \n",
       "1    Partner2              4.382568                     500      mobile   \n",
       "2    Partner2             -0.787575                     400         web   \n",
       "\n",
       "   credit_bureau_score  stated_income  is_customer     period  identifier  \\\n",
       "0                  309          15000         True  reference       60000   \n",
       "1                  418          23000         True  reference       60001   \n",
       "2                  507          24000        False  reference       60002   \n",
       "\n",
       "             timestamp  y_pred_proba_prepaid_card  \\\n",
       "0  2020-05-02 02:01:30                       0.97   \n",
       "1  2020-05-02 02:03:33                       0.87   \n",
       "2  2020-05-02 02:04:49                       0.47   \n",
       "\n",
       "   y_pred_proba_highstreet_card  y_pred_proba_upmarket_card        y_pred  \\\n",
       "0                          0.03                        0.00  prepaid_card   \n",
       "1                          0.13                        0.00  prepaid_card   \n",
       "2                          0.35                        0.18  prepaid_card   \n",
       "\n",
       "          y_true  \n",
       "0   prepaid_card  \n",
       "1   prepaid_card  \n",
       "2  upmarket_card  "
      ]
     },
     "metadata": {},
     "output_type": "display_data"
    }
   ],
   "source": [
    "import pandas as pd\n",
    "import nannyml as nml\n",
    "from IPython.display import display\n",
    "\n",
    "reference_df = nml.load_synthetic_multiclass_classification_dataset()[0]\n",
    "analysis_df = nml.load_synthetic_multiclass_classification_dataset()[1]\n",
    "analysis_target_df = nml.load_synthetic_multiclass_classification_dataset()[2]\n",
    "analysis_df = analysis_df.merge(analysis_target_df, on='identifier')\n",
    "\n",
    "display(reference_df.head(3))"
   ]
  },
  {
   "cell_type": "code",
   "execution_count": 3,
   "id": "37f0d2a1",
   "metadata": {},
   "outputs": [
    {
     "data": {
      "text/plain": [
       "<nannyml.performance_calculation.calculator.PerformanceCalculator at 0x21dea537fd0>"
      ]
     },
     "execution_count": 3,
     "metadata": {},
     "output_type": "execute_result"
    }
   ],
   "source": [
    "calc = nml.PerformanceCalculator(\n",
    "    y_pred_proba={\n",
    "        'prepaid_card': 'y_pred_proba_prepaid_card',\n",
    "        'highstreet_card': 'y_pred_proba_highstreet_card',\n",
    "        'upmarket_card': 'y_pred_proba_upmarket_card'\n",
    "    },\n",
    "    y_pred='y_pred',\n",
    "    y_true='y_true',\n",
    "    timestamp_column_name='timestamp',\n",
    "    metrics=['f1', 'roc_auc'],\n",
    "    chunk_size=6000)\n",
    "\n",
    "calc.fit(reference_df)"
   ]
  },
  {
   "cell_type": "code",
   "execution_count": 4,
   "id": "4b3ac561",
   "metadata": {},
   "outputs": [
    {
     "data": {
      "text/html": [
       "<div>\n",
       "<style scoped>\n",
       "    .dataframe tbody tr th:only-of-type {\n",
       "        vertical-align: middle;\n",
       "    }\n",
       "\n",
       "    .dataframe tbody tr th {\n",
       "        vertical-align: top;\n",
       "    }\n",
       "\n",
       "    .dataframe thead th {\n",
       "        text-align: right;\n",
       "    }\n",
       "</style>\n",
       "<table border=\"1\" class=\"dataframe\">\n",
       "  <thead>\n",
       "    <tr style=\"text-align: right;\">\n",
       "      <th></th>\n",
       "      <th>key</th>\n",
       "      <th>start_index</th>\n",
       "      <th>end_index</th>\n",
       "      <th>start_date</th>\n",
       "      <th>end_date</th>\n",
       "      <th>period</th>\n",
       "      <th>targets_missing_rate</th>\n",
       "      <th>f1</th>\n",
       "      <th>f1_lower_threshold</th>\n",
       "      <th>f1_upper_threshold</th>\n",
       "      <th>f1_alert</th>\n",
       "      <th>roc_auc</th>\n",
       "      <th>roc_auc_lower_threshold</th>\n",
       "      <th>roc_auc_upper_threshold</th>\n",
       "      <th>roc_auc_alert</th>\n",
       "    </tr>\n",
       "  </thead>\n",
       "  <tbody>\n",
       "    <tr>\n",
       "      <th>0</th>\n",
       "      <td>[0:5999]</td>\n",
       "      <td>0</td>\n",
       "      <td>5999</td>\n",
       "      <td>2020-09-01 03:10:01</td>\n",
       "      <td>2020-09-13 16:15:10</td>\n",
       "      <td>None</td>\n",
       "      <td>0.0</td>\n",
       "      <td>0.751103</td>\n",
       "      <td>0.741254</td>\n",
       "      <td>0.764944</td>\n",
       "      <td>False</td>\n",
       "      <td>0.907595</td>\n",
       "      <td>0.900902</td>\n",
       "      <td>0.913516</td>\n",
       "      <td>False</td>\n",
       "    </tr>\n",
       "    <tr>\n",
       "      <th>1</th>\n",
       "      <td>[6000:11999]</td>\n",
       "      <td>6000</td>\n",
       "      <td>11999</td>\n",
       "      <td>2020-09-13 16:15:32</td>\n",
       "      <td>2020-09-25 19:48:42</td>\n",
       "      <td>None</td>\n",
       "      <td>0.0</td>\n",
       "      <td>0.763045</td>\n",
       "      <td>0.741254</td>\n",
       "      <td>0.764944</td>\n",
       "      <td>False</td>\n",
       "      <td>0.910534</td>\n",
       "      <td>0.900902</td>\n",
       "      <td>0.913516</td>\n",
       "      <td>False</td>\n",
       "    </tr>\n",
       "    <tr>\n",
       "      <th>2</th>\n",
       "      <td>[12000:17999]</td>\n",
       "      <td>12000</td>\n",
       "      <td>17999</td>\n",
       "      <td>2020-09-25 19:50:04</td>\n",
       "      <td>2020-10-08 02:53:47</td>\n",
       "      <td>None</td>\n",
       "      <td>0.0</td>\n",
       "      <td>0.758487</td>\n",
       "      <td>0.741254</td>\n",
       "      <td>0.764944</td>\n",
       "      <td>False</td>\n",
       "      <td>0.909414</td>\n",
       "      <td>0.900902</td>\n",
       "      <td>0.913516</td>\n",
       "      <td>False</td>\n",
       "    </tr>\n",
       "  </tbody>\n",
       "</table>\n",
       "</div>"
      ],
      "text/plain": [
       "             key  start_index  end_index          start_date  \\\n",
       "0       [0:5999]            0       5999 2020-09-01 03:10:01   \n",
       "1   [6000:11999]         6000      11999 2020-09-13 16:15:32   \n",
       "2  [12000:17999]        12000      17999 2020-09-25 19:50:04   \n",
       "\n",
       "             end_date period  targets_missing_rate        f1  \\\n",
       "0 2020-09-13 16:15:10   None                   0.0  0.751103   \n",
       "1 2020-09-25 19:48:42   None                   0.0  0.763045   \n",
       "2 2020-10-08 02:53:47   None                   0.0  0.758487   \n",
       "\n",
       "   f1_lower_threshold  f1_upper_threshold  f1_alert   roc_auc  \\\n",
       "0            0.741254            0.764944     False  0.907595   \n",
       "1            0.741254            0.764944     False  0.910534   \n",
       "2            0.741254            0.764944     False  0.909414   \n",
       "\n",
       "   roc_auc_lower_threshold  roc_auc_upper_threshold  roc_auc_alert  \n",
       "0                 0.900902                 0.913516          False  \n",
       "1                 0.900902                 0.913516          False  \n",
       "2                 0.900902                 0.913516          False  "
      ]
     },
     "metadata": {},
     "output_type": "display_data"
    }
   ],
   "source": [
    "results = calc.calculate(analysis_df)\n",
    "display(results.data.head(3))"
   ]
  },
  {
   "cell_type": "code",
   "execution_count": 6,
   "id": "4d0e7018",
   "metadata": {},
   "outputs": [
    {
     "name": "stdout",
     "output_type": "stream",
     "text": [
      "+----+---------------+---------------+-------------+---------------------+---------------------+----------+------------------------+----------+----------------------+----------------------+------------+-----------+---------------------------+---------------------------+-----------------+\n",
      "|    | key           |   start_index |   end_index | start_date          | end_date            | period   |   targets_missing_rate |       f1 |   f1_lower_threshold |   f1_upper_threshold | f1_alert   |   roc_auc |   roc_auc_lower_threshold |   roc_auc_upper_threshold | roc_auc_alert   |\n",
      "+====+===============+===============+=============+=====================+=====================+==========+========================+==========+======================+======================+============+===========+===========================+===========================+=================+\n",
      "|  0 | [0:5999]      |             0 |        5999 | 2020-09-01 03:10:01 | 2020-09-13 16:15:10 |          |                      0 | 0.751103 |             0.741254 |             0.764944 | False      |  0.907595 |                  0.900902 |                  0.913516 | False           |\n",
      "+----+---------------+---------------+-------------+---------------------+---------------------+----------+------------------------+----------+----------------------+----------------------+------------+-----------+---------------------------+---------------------------+-----------------+\n",
      "|  1 | [6000:11999]  |          6000 |       11999 | 2020-09-13 16:15:32 | 2020-09-25 19:48:42 |          |                      0 | 0.763045 |             0.741254 |             0.764944 | False      |  0.910534 |                  0.900902 |                  0.913516 | False           |\n",
      "+----+---------------+---------------+-------------+---------------------+---------------------+----------+------------------------+----------+----------------------+----------------------+------------+-----------+---------------------------+---------------------------+-----------------+\n",
      "|  2 | [12000:17999] |         12000 |       17999 | 2020-09-25 19:50:04 | 2020-10-08 02:53:47 |          |                      0 | 0.758487 |             0.741254 |             0.764944 | False      |  0.909414 |                  0.900902 |                  0.913516 | False           |\n",
      "+----+---------------+---------------+-------------+---------------------+---------------------+----------+------------------------+----------+----------------------+----------------------+------------+-----------+---------------------------+---------------------------+-----------------+\n"
     ]
    }
   ],
   "source": [
    "showrst(results.data.head(3))"
   ]
  },
  {
   "cell_type": "code",
   "execution_count": 7,
   "id": "618ddca0",
   "metadata": {},
   "outputs": [
    {
     "data": {
      "application/vnd.plotly.v1+json": {
       "config": {
        "plotlyServerURL": "https://plot.ly"
       },
       "data": [
        {
         "hoverinfo": "skip",
         "legendgroup": "1",
         "line": {
          "color": "#00c8e5",
          "shape": "hv",
          "width": 2
         },
         "mode": "lines",
         "name": "Reference period",
         "type": "scatter",
         "x": [
          "2020-05-02T02:01:30",
          "2020-05-14T12:29:25",
          "2020-05-26T18:31:06",
          "2020-06-07T19:58:39",
          "2020-06-19T19:44:14",
          "2020-07-02T02:06:56",
          "2020-07-14T08:14:08",
          "2020-07-26T12:57:37",
          "2020-08-07T16:33:44",
          "2020-08-20T00:07:58",
          "2020-09-01T03:03:23"
         ],
         "y": [
          0.7505323557358875,
          0.7511484640126803,
          0.7571400512722031,
          0.7502740596433638,
          0.7591436975867962,
          0.7486300734249819,
          0.7527627058654386,
          0.7558827980804009,
          0.7474196344836103,
          0.7580550513577399,
          0.7580550513577399
         ]
        },
        {
         "hoverinfo": "skip",
         "legendgroup": "1",
         "line": {
          "color": "#3b0280",
          "shape": "hv",
          "width": 2
         },
         "mode": "lines",
         "name": "Analysis period",
         "type": "scatter",
         "x": [
          "2020-09-01T03:10:01",
          "2020-09-13T16:15:32",
          "2020-09-25T19:50:04",
          "2020-10-08T02:57:34",
          "2020-10-20T15:49:06",
          "2020-11-01T22:04:59",
          "2020-11-14T03:55:49",
          "2020-11-26T09:19:22",
          "2020-12-08T14:34:25",
          "2020-12-20T18:31:09",
          "2021-01-01T22:57:55"
         ],
         "y": [
          0.7511029725567399,
          0.763045484661255,
          0.7584871119660588,
          0.7589438350894463,
          0.7579637647538195,
          0.5571123937358071,
          0.5591478583434738,
          0.5650552384148319,
          0.5638970959051086,
          0.5616437963495821,
          0.5616437963495821
         ]
        },
        {
         "hoverinfo": "skip",
         "legendgroup": "1",
         "line": {
          "color": "#3b0280",
          "dash": "dot",
          "shape": "hv",
          "width": 2
         },
         "mode": "lines",
         "name": "Incomplete target data",
         "type": "scatter",
         "x": [
          "2020-09-01T03:10:01",
          "2020-09-13T16:15:32",
          "2020-09-25T19:50:04",
          "2020-10-08T02:57:34",
          "2020-10-20T15:49:06",
          "2020-11-01T22:04:59",
          "2020-11-14T03:55:49",
          "2020-11-26T09:19:22",
          "2020-12-08T14:34:25",
          "2020-12-20T18:31:09",
          "2021-01-01T22:57:55"
         ],
         "y": [
          0.7511029725567399,
          0.763045484661255,
          0.7584871119660588,
          0.7589438350894463,
          0.7579637647538195,
          0.5571123937358071,
          0.5591478583434738,
          0.5650552384148319,
          0.5638970959051086,
          0.5616437963495821,
          0.5616437963495821
         ]
        },
        {
         "customdata": [
          [
           "[0:5999]",
           "May-02-2020",
           "May-14-2020",
           "0.7505",
           "<b style=\"color:#00c8e5;line-height:60px\">Reference</b>",
           "",
           "Data: <span ><b>0.00% missing</b></span>  &nbsp; &nbsp;"
          ],
          [
           "[6000:11999]",
           "May-14-2020",
           "May-26-2020",
           "0.7511",
           "<b style=\"color:#00c8e5;line-height:60px\">Reference</b>",
           "",
           "Data: <span ><b>0.00% missing</b></span>  &nbsp; &nbsp;"
          ],
          [
           "[12000:17999]",
           "May-26-2020",
           "Jun-07-2020",
           "0.7571",
           "<b style=\"color:#00c8e5;line-height:60px\">Reference</b>",
           "",
           "Data: <span ><b>0.00% missing</b></span>  &nbsp; &nbsp;"
          ],
          [
           "[18000:23999]",
           "Jun-07-2020",
           "Jun-19-2020",
           "0.7503",
           "<b style=\"color:#00c8e5;line-height:60px\">Reference</b>",
           "",
           "Data: <span ><b>0.00% missing</b></span>  &nbsp; &nbsp;"
          ],
          [
           "[24000:29999]",
           "Jun-19-2020",
           "Jul-02-2020",
           "0.7591",
           "<b style=\"color:#00c8e5;line-height:60px\">Reference</b>",
           "",
           "Data: <span ><b>0.00% missing</b></span>  &nbsp; &nbsp;"
          ],
          [
           "[30000:35999]",
           "Jul-02-2020",
           "Jul-14-2020",
           "0.7486",
           "<b style=\"color:#00c8e5;line-height:60px\">Reference</b>",
           "",
           "Data: <span ><b>0.00% missing</b></span>  &nbsp; &nbsp;"
          ],
          [
           "[36000:41999]",
           "Jul-14-2020",
           "Jul-26-2020",
           "0.7528",
           "<b style=\"color:#00c8e5;line-height:60px\">Reference</b>",
           "",
           "Data: <span ><b>0.00% missing</b></span>  &nbsp; &nbsp;"
          ],
          [
           "[42000:47999]",
           "Jul-26-2020",
           "Aug-07-2020",
           "0.7559",
           "<b style=\"color:#00c8e5;line-height:60px\">Reference</b>",
           "",
           "Data: <span ><b>0.00% missing</b></span>  &nbsp; &nbsp;"
          ],
          [
           "[48000:53999]",
           "Aug-07-2020",
           "Aug-20-2020",
           "0.7474",
           "<b style=\"color:#00c8e5;line-height:60px\">Reference</b>",
           "",
           "Data: <span ><b>0.00% missing</b></span>  &nbsp; &nbsp;"
          ],
          [
           "[54000:59999]",
           "Aug-20-2020",
           "Sep-01-2020",
           "0.7581",
           "<b style=\"color:#00c8e5;line-height:60px\">Reference</b>",
           "",
           "Data: <span ><b>0.00% missing</b></span>  &nbsp; &nbsp;"
          ]
         ],
         "hovertemplate": "%{customdata[4]} &nbsp; &nbsp; <span style=\"color:#AD0000\">%{customdata[5]}</span><br>Chunk: <b>%{customdata[0]}</b> &nbsp; &nbsp; From <b>%{customdata[1]}</b> to <b>%{customdata[2]}</b> &nbsp; &nbsp; <br>F1: <b>%{customdata[3]}</b>  &nbsp; &nbsp; %{customdata[6]} <extra></extra>",
         "marker": {
          "color": "#00c8e5",
          "size": 6,
          "symbol": "square"
         },
         "mode": "markers",
         "name": "Reference",
         "showlegend": false,
         "type": "scatter",
         "x": [
          "2020-05-08T07:13:32.500000",
          "2020-05-20T15:28:33.500000",
          "2020-06-01T19:13:25.500000",
          "2020-06-13T19:50:29.500000",
          "2020-06-25T22:51:09.500000",
          "2020-07-08T05:10:30",
          "2020-07-20T10:34:55",
          "2020-08-01T14:44:56",
          "2020-08-13T20:19:56",
          "2020-08-26T01:35:40.500000"
         ],
         "y": [
          0.7505323557358875,
          0.7511484640126803,
          0.7571400512722031,
          0.7502740596433638,
          0.7591436975867962,
          0.7486300734249819,
          0.7527627058654386,
          0.7558827980804009,
          0.7474196344836103,
          0.7580550513577399
         ]
        },
        {
         "customdata": [
          [
           "[0:5999]",
           "Sep-01-2020",
           "Sep-13-2020",
           "0.7511",
           "<b style=\"color:#3b0280;line-height:60px\">Analysis</b>",
           "",
           "Data: <span ><b>0.00% missing</b></span>  &nbsp; &nbsp;"
          ],
          [
           "[6000:11999]",
           "Sep-13-2020",
           "Sep-25-2020",
           "0.7630",
           "<b style=\"color:#3b0280;line-height:60px\">Analysis</b>",
           "",
           "Data: <span ><b>0.00% missing</b></span>  &nbsp; &nbsp;"
          ],
          [
           "[12000:17999]",
           "Sep-25-2020",
           "Oct-08-2020",
           "0.7585",
           "<b style=\"color:#3b0280;line-height:60px\">Analysis</b>",
           "",
           "Data: <span ><b>0.00% missing</b></span>  &nbsp; &nbsp;"
          ],
          [
           "[18000:23999]",
           "Oct-08-2020",
           "Oct-20-2020",
           "0.7589",
           "<b style=\"color:#3b0280;line-height:60px\">Analysis</b>",
           "",
           "Data: <span ><b>0.00% missing</b></span>  &nbsp; &nbsp;"
          ],
          [
           "[24000:29999]",
           "Oct-20-2020",
           "Nov-01-2020",
           "0.7580",
           "<b style=\"color:#3b0280;line-height:60px\">Analysis</b>",
           "",
           "Data: <span ><b>0.00% missing</b></span>  &nbsp; &nbsp;"
          ]
         ],
         "hovertemplate": "%{customdata[4]} &nbsp; &nbsp; <span style=\"color:#AD0000\">%{customdata[5]}</span><br>Chunk: <b>%{customdata[0]}</b> &nbsp; &nbsp; From <b>%{customdata[1]}</b> to <b>%{customdata[2]}</b> &nbsp; &nbsp; <br>F1: <b>%{customdata[3]}</b>  &nbsp; &nbsp; %{customdata[6]} <extra></extra>",
         "marker": {
          "color": "#3b0280",
          "size": 6,
          "symbol": "square"
         },
         "mode": "markers",
         "name": "No change",
         "showlegend": false,
         "type": "scatter",
         "x": [
          "2020-09-07T09:42:35.500000",
          "2020-09-19T18:02:07",
          "2020-10-01T23:21:55.500000",
          "2020-10-14T09:22:56.500000",
          "2020-10-26T18:56:53"
         ],
         "y": [
          0.7511029725567399,
          0.763045484661255,
          0.7584871119660588,
          0.7589438350894463,
          0.7579637647538195
         ]
        },
        {
         "customdata": [
          [
           "[30000:35999]",
           "Nov-01-2020",
           "Nov-14-2020",
           "0.5571",
           "<b style=\"color:#3b0280;line-height:60px\">Analysis</b>",
           "⚠ <b>Drift detected</b>",
           "Data: <span ><b>0.00% missing</b></span>  &nbsp; &nbsp;"
          ],
          [
           "[36000:41999]",
           "Nov-14-2020",
           "Nov-26-2020",
           "0.5591",
           "<b style=\"color:#3b0280;line-height:60px\">Analysis</b>",
           "⚠ <b>Drift detected</b>",
           "Data: <span ><b>0.00% missing</b></span>  &nbsp; &nbsp;"
          ],
          [
           "[42000:47999]",
           "Nov-26-2020",
           "Dec-08-2020",
           "0.5651",
           "<b style=\"color:#3b0280;line-height:60px\">Analysis</b>",
           "⚠ <b>Drift detected</b>",
           "Data: <span ><b>0.00% missing</b></span>  &nbsp; &nbsp;"
          ],
          [
           "[48000:53999]",
           "Dec-08-2020",
           "Dec-20-2020",
           "0.5639",
           "<b style=\"color:#3b0280;line-height:60px\">Analysis</b>",
           "⚠ <b>Drift detected</b>",
           "Data: <span ><b>0.00% missing</b></span>  &nbsp; &nbsp;"
          ],
          [
           "[54000:59999]",
           "Dec-20-2020",
           "Jan-01-2021",
           "0.5616",
           "<b style=\"color:#3b0280;line-height:60px\">Analysis</b>",
           "⚠ <b>Drift detected</b>",
           "Data: <span ><b>0.00% missing</b></span>  &nbsp; &nbsp;"
          ]
         ],
         "hovertemplate": "%{customdata[4]} &nbsp; &nbsp; <span style=\"color:#AD0000\">%{customdata[5]}</span><br>Chunk: <b>%{customdata[0]}</b> &nbsp; &nbsp; From <b>%{customdata[1]}</b> to <b>%{customdata[2]}</b> &nbsp; &nbsp; <br>F1: <b>%{customdata[3]}</b>  &nbsp; &nbsp; %{customdata[6]} <extra></extra>",
         "marker": {
          "color": "#DD4040",
          "size": 6,
          "symbol": "diamond"
         },
         "mode": "markers",
         "name": "Change",
         "showlegend": false,
         "type": "scatter",
         "x": [
          "2020-11-08T01:00:16",
          "2020-11-20T06:37:27.500000",
          "2020-12-02T11:56:39",
          "2020-12-14T16:32:27.500000",
          "2020-12-26T20:44:32"
         ],
         "y": [
          0.5571123937358071,
          0.5591478583434738,
          0.5650552384148319,
          0.5638970959051086,
          0.5616437963495821
         ]
        },
        {
         "legendgroup": "1",
         "line": {
          "color": "#DD4040",
          "dash": "dash",
          "width": 1
         },
         "mode": "lines",
         "name": "Performance threshold",
         "type": "scatter",
         "x": [
          [
           1588922012500000000
          ],
          [
           1609015472000000000
          ]
         ],
         "y": [
          null,
          null
         ]
        },
        {
         "line": {
          "color": "rgba(0,0,0,0)"
         },
         "mode": "lines",
         "showlegend": false,
         "type": "scatter",
         "x": [
          [
           1588922012500000000
          ],
          [
           1609015472000000000
          ]
         ],
         "y": [
          null,
          null
         ]
        },
        {
         "fill": "tonexty",
         "fillcolor": "rgba(0.8666666666666667, 0.25098039215686274, 0.25098039215686274, 0.2)",
         "legendgroup": "1",
         "line": {
          "color": "rgba(0,0,0,0)"
         },
         "marker": {
          "color": "#DD4040",
          "size": 6,
          "symbol": "diamond"
         },
         "mode": "lines+markers",
         "name": "Degraded performance",
         "type": "scatter",
         "x": [
          [
           1588922012500000000
          ],
          [
           1609015472000000000
          ]
         ],
         "y": [
          null,
          null
         ]
        }
       ],
       "layout": {
        "annotations": [
         {
          "font": {
           "color": "#DD4040"
          },
          "showarrow": false,
          "text": "0.76",
          "x": 1,
          "xanchor": "right",
          "xref": "x domain",
          "y": 0.7649438592270994,
          "yanchor": "bottom",
          "yref": "y"
         },
         {
          "font": {
           "color": "#DD4040"
          },
          "showarrow": false,
          "text": "0.74",
          "x": 1,
          "xanchor": "right",
          "xref": "x domain",
          "y": 0.741253919065521,
          "yanchor": "bottom",
          "yref": "y"
         }
        ],
        "hoverlabel": {
         "bgcolor": "white",
         "font": {
          "size": 14
         }
        },
        "legend": {
         "itemclick": false,
         "itemdoubleclick": false,
         "orientation": "h",
         "traceorder": "normal",
         "x": 0,
         "xanchor": "left",
         "y": -0.25,
         "yanchor": "top"
        },
        "paper_bgcolor": "rgba(255,255,255,1)",
        "plot_bgcolor": "rgba(255,255,255,1)",
        "shapes": [
         {
          "layer": "below",
          "line": {
           "color": "#DD4040",
           "dash": "dash",
           "width": 1
          },
          "type": "line",
          "x0": 0,
          "x1": 1,
          "xref": "x domain",
          "y0": 0.7649438592270994,
          "y1": 0.7649438592270994,
          "yref": "y"
         },
         {
          "layer": "below",
          "line": {
           "color": "#DD4040",
           "dash": "dash",
           "width": 1
          },
          "type": "line",
          "x0": 0,
          "x1": 1,
          "xref": "x domain",
          "y0": 0.741253919065521,
          "y1": 0.741253919065521,
          "yref": "y"
         },
         {
          "layer": "below",
          "line": {
           "color": "#3b0280",
           "dash": "dash",
           "width": 1
          },
          "type": "line",
          "x0": "2020-09-01T03:10:01",
          "x1": "2020-09-01T03:10:01",
          "xref": "x",
          "y0": 0,
          "y1": 1,
          "yref": "y domain"
         },
         {
          "fillcolor": "#DD4040",
          "layer": "below",
          "line": {
           "width": 0
          },
          "opacity": 0.2,
          "type": "rect",
          "x0": "2020-11-01T22:04:59",
          "x1": "2020-11-14T03:55:33",
          "xref": "x",
          "y0": 0,
          "y1": 1,
          "yref": "y domain"
         },
         {
          "fillcolor": "#DD4040",
          "layer": "below",
          "line": {
           "width": 0
          },
          "opacity": 0.2,
          "type": "rect",
          "x0": "2020-11-14T03:55:49",
          "x1": "2020-11-26T09:19:06",
          "xref": "x",
          "y0": 0,
          "y1": 1,
          "yref": "y domain"
         },
         {
          "fillcolor": "#DD4040",
          "layer": "below",
          "line": {
           "width": 0
          },
          "opacity": 0.2,
          "type": "rect",
          "x0": "2020-11-26T09:19:22",
          "x1": "2020-12-08T14:33:56",
          "xref": "x",
          "y0": 0,
          "y1": 1,
          "yref": "y domain"
         },
         {
          "fillcolor": "#DD4040",
          "layer": "below",
          "line": {
           "width": 0
          },
          "opacity": 0.2,
          "type": "rect",
          "x0": "2020-12-08T14:34:25",
          "x1": "2020-12-20T18:30:30",
          "xref": "x",
          "y0": 0,
          "y1": 1,
          "yref": "y domain"
         },
         {
          "fillcolor": "#DD4040",
          "layer": "below",
          "line": {
           "width": 0
          },
          "opacity": 0.2,
          "type": "rect",
          "x0": "2020-12-20T18:31:09",
          "x1": "2021-01-01T22:57:55",
          "xref": "x",
          "y0": 0,
          "y1": 1,
          "yref": "y domain"
         }
        ],
        "template": {
         "data": {
          "bar": [
           {
            "error_x": {
             "color": "#2a3f5f"
            },
            "error_y": {
             "color": "#2a3f5f"
            },
            "marker": {
             "line": {
              "color": "#E5ECF6",
              "width": 0.5
             },
             "pattern": {
              "fillmode": "overlay",
              "size": 10,
              "solidity": 0.2
             }
            },
            "type": "bar"
           }
          ],
          "barpolar": [
           {
            "marker": {
             "line": {
              "color": "#E5ECF6",
              "width": 0.5
             },
             "pattern": {
              "fillmode": "overlay",
              "size": 10,
              "solidity": 0.2
             }
            },
            "type": "barpolar"
           }
          ],
          "carpet": [
           {
            "aaxis": {
             "endlinecolor": "#2a3f5f",
             "gridcolor": "white",
             "linecolor": "white",
             "minorgridcolor": "white",
             "startlinecolor": "#2a3f5f"
            },
            "baxis": {
             "endlinecolor": "#2a3f5f",
             "gridcolor": "white",
             "linecolor": "white",
             "minorgridcolor": "white",
             "startlinecolor": "#2a3f5f"
            },
            "type": "carpet"
           }
          ],
          "choropleth": [
           {
            "colorbar": {
             "outlinewidth": 0,
             "ticks": ""
            },
            "type": "choropleth"
           }
          ],
          "contour": [
           {
            "colorbar": {
             "outlinewidth": 0,
             "ticks": ""
            },
            "colorscale": [
             [
              0,
              "#0d0887"
             ],
             [
              0.1111111111111111,
              "#46039f"
             ],
             [
              0.2222222222222222,
              "#7201a8"
             ],
             [
              0.3333333333333333,
              "#9c179e"
             ],
             [
              0.4444444444444444,
              "#bd3786"
             ],
             [
              0.5555555555555556,
              "#d8576b"
             ],
             [
              0.6666666666666666,
              "#ed7953"
             ],
             [
              0.7777777777777778,
              "#fb9f3a"
             ],
             [
              0.8888888888888888,
              "#fdca26"
             ],
             [
              1,
              "#f0f921"
             ]
            ],
            "type": "contour"
           }
          ],
          "contourcarpet": [
           {
            "colorbar": {
             "outlinewidth": 0,
             "ticks": ""
            },
            "type": "contourcarpet"
           }
          ],
          "heatmap": [
           {
            "colorbar": {
             "outlinewidth": 0,
             "ticks": ""
            },
            "colorscale": [
             [
              0,
              "#0d0887"
             ],
             [
              0.1111111111111111,
              "#46039f"
             ],
             [
              0.2222222222222222,
              "#7201a8"
             ],
             [
              0.3333333333333333,
              "#9c179e"
             ],
             [
              0.4444444444444444,
              "#bd3786"
             ],
             [
              0.5555555555555556,
              "#d8576b"
             ],
             [
              0.6666666666666666,
              "#ed7953"
             ],
             [
              0.7777777777777778,
              "#fb9f3a"
             ],
             [
              0.8888888888888888,
              "#fdca26"
             ],
             [
              1,
              "#f0f921"
             ]
            ],
            "type": "heatmap"
           }
          ],
          "heatmapgl": [
           {
            "colorbar": {
             "outlinewidth": 0,
             "ticks": ""
            },
            "colorscale": [
             [
              0,
              "#0d0887"
             ],
             [
              0.1111111111111111,
              "#46039f"
             ],
             [
              0.2222222222222222,
              "#7201a8"
             ],
             [
              0.3333333333333333,
              "#9c179e"
             ],
             [
              0.4444444444444444,
              "#bd3786"
             ],
             [
              0.5555555555555556,
              "#d8576b"
             ],
             [
              0.6666666666666666,
              "#ed7953"
             ],
             [
              0.7777777777777778,
              "#fb9f3a"
             ],
             [
              0.8888888888888888,
              "#fdca26"
             ],
             [
              1,
              "#f0f921"
             ]
            ],
            "type": "heatmapgl"
           }
          ],
          "histogram": [
           {
            "marker": {
             "pattern": {
              "fillmode": "overlay",
              "size": 10,
              "solidity": 0.2
             }
            },
            "type": "histogram"
           }
          ],
          "histogram2d": [
           {
            "colorbar": {
             "outlinewidth": 0,
             "ticks": ""
            },
            "colorscale": [
             [
              0,
              "#0d0887"
             ],
             [
              0.1111111111111111,
              "#46039f"
             ],
             [
              0.2222222222222222,
              "#7201a8"
             ],
             [
              0.3333333333333333,
              "#9c179e"
             ],
             [
              0.4444444444444444,
              "#bd3786"
             ],
             [
              0.5555555555555556,
              "#d8576b"
             ],
             [
              0.6666666666666666,
              "#ed7953"
             ],
             [
              0.7777777777777778,
              "#fb9f3a"
             ],
             [
              0.8888888888888888,
              "#fdca26"
             ],
             [
              1,
              "#f0f921"
             ]
            ],
            "type": "histogram2d"
           }
          ],
          "histogram2dcontour": [
           {
            "colorbar": {
             "outlinewidth": 0,
             "ticks": ""
            },
            "colorscale": [
             [
              0,
              "#0d0887"
             ],
             [
              0.1111111111111111,
              "#46039f"
             ],
             [
              0.2222222222222222,
              "#7201a8"
             ],
             [
              0.3333333333333333,
              "#9c179e"
             ],
             [
              0.4444444444444444,
              "#bd3786"
             ],
             [
              0.5555555555555556,
              "#d8576b"
             ],
             [
              0.6666666666666666,
              "#ed7953"
             ],
             [
              0.7777777777777778,
              "#fb9f3a"
             ],
             [
              0.8888888888888888,
              "#fdca26"
             ],
             [
              1,
              "#f0f921"
             ]
            ],
            "type": "histogram2dcontour"
           }
          ],
          "mesh3d": [
           {
            "colorbar": {
             "outlinewidth": 0,
             "ticks": ""
            },
            "type": "mesh3d"
           }
          ],
          "parcoords": [
           {
            "line": {
             "colorbar": {
              "outlinewidth": 0,
              "ticks": ""
             }
            },
            "type": "parcoords"
           }
          ],
          "pie": [
           {
            "automargin": true,
            "type": "pie"
           }
          ],
          "scatter": [
           {
            "marker": {
             "colorbar": {
              "outlinewidth": 0,
              "ticks": ""
             }
            },
            "type": "scatter"
           }
          ],
          "scatter3d": [
           {
            "line": {
             "colorbar": {
              "outlinewidth": 0,
              "ticks": ""
             }
            },
            "marker": {
             "colorbar": {
              "outlinewidth": 0,
              "ticks": ""
             }
            },
            "type": "scatter3d"
           }
          ],
          "scattercarpet": [
           {
            "marker": {
             "colorbar": {
              "outlinewidth": 0,
              "ticks": ""
             }
            },
            "type": "scattercarpet"
           }
          ],
          "scattergeo": [
           {
            "marker": {
             "colorbar": {
              "outlinewidth": 0,
              "ticks": ""
             }
            },
            "type": "scattergeo"
           }
          ],
          "scattergl": [
           {
            "marker": {
             "colorbar": {
              "outlinewidth": 0,
              "ticks": ""
             }
            },
            "type": "scattergl"
           }
          ],
          "scattermapbox": [
           {
            "marker": {
             "colorbar": {
              "outlinewidth": 0,
              "ticks": ""
             }
            },
            "type": "scattermapbox"
           }
          ],
          "scatterpolar": [
           {
            "marker": {
             "colorbar": {
              "outlinewidth": 0,
              "ticks": ""
             }
            },
            "type": "scatterpolar"
           }
          ],
          "scatterpolargl": [
           {
            "marker": {
             "colorbar": {
              "outlinewidth": 0,
              "ticks": ""
             }
            },
            "type": "scatterpolargl"
           }
          ],
          "scatterternary": [
           {
            "marker": {
             "colorbar": {
              "outlinewidth": 0,
              "ticks": ""
             }
            },
            "type": "scatterternary"
           }
          ],
          "surface": [
           {
            "colorbar": {
             "outlinewidth": 0,
             "ticks": ""
            },
            "colorscale": [
             [
              0,
              "#0d0887"
             ],
             [
              0.1111111111111111,
              "#46039f"
             ],
             [
              0.2222222222222222,
              "#7201a8"
             ],
             [
              0.3333333333333333,
              "#9c179e"
             ],
             [
              0.4444444444444444,
              "#bd3786"
             ],
             [
              0.5555555555555556,
              "#d8576b"
             ],
             [
              0.6666666666666666,
              "#ed7953"
             ],
             [
              0.7777777777777778,
              "#fb9f3a"
             ],
             [
              0.8888888888888888,
              "#fdca26"
             ],
             [
              1,
              "#f0f921"
             ]
            ],
            "type": "surface"
           }
          ],
          "table": [
           {
            "cells": {
             "fill": {
              "color": "#EBF0F8"
             },
             "line": {
              "color": "white"
             }
            },
            "header": {
             "fill": {
              "color": "#C8D4E3"
             },
             "line": {
              "color": "white"
             }
            },
            "type": "table"
           }
          ]
         },
         "layout": {
          "annotationdefaults": {
           "arrowcolor": "#2a3f5f",
           "arrowhead": 0,
           "arrowwidth": 1
          },
          "autotypenumbers": "strict",
          "coloraxis": {
           "colorbar": {
            "outlinewidth": 0,
            "ticks": ""
           }
          },
          "colorscale": {
           "diverging": [
            [
             0,
             "#8e0152"
            ],
            [
             0.1,
             "#c51b7d"
            ],
            [
             0.2,
             "#de77ae"
            ],
            [
             0.3,
             "#f1b6da"
            ],
            [
             0.4,
             "#fde0ef"
            ],
            [
             0.5,
             "#f7f7f7"
            ],
            [
             0.6,
             "#e6f5d0"
            ],
            [
             0.7,
             "#b8e186"
            ],
            [
             0.8,
             "#7fbc41"
            ],
            [
             0.9,
             "#4d9221"
            ],
            [
             1,
             "#276419"
            ]
           ],
           "sequential": [
            [
             0,
             "#0d0887"
            ],
            [
             0.1111111111111111,
             "#46039f"
            ],
            [
             0.2222222222222222,
             "#7201a8"
            ],
            [
             0.3333333333333333,
             "#9c179e"
            ],
            [
             0.4444444444444444,
             "#bd3786"
            ],
            [
             0.5555555555555556,
             "#d8576b"
            ],
            [
             0.6666666666666666,
             "#ed7953"
            ],
            [
             0.7777777777777778,
             "#fb9f3a"
            ],
            [
             0.8888888888888888,
             "#fdca26"
            ],
            [
             1,
             "#f0f921"
            ]
           ],
           "sequentialminus": [
            [
             0,
             "#0d0887"
            ],
            [
             0.1111111111111111,
             "#46039f"
            ],
            [
             0.2222222222222222,
             "#7201a8"
            ],
            [
             0.3333333333333333,
             "#9c179e"
            ],
            [
             0.4444444444444444,
             "#bd3786"
            ],
            [
             0.5555555555555556,
             "#d8576b"
            ],
            [
             0.6666666666666666,
             "#ed7953"
            ],
            [
             0.7777777777777778,
             "#fb9f3a"
            ],
            [
             0.8888888888888888,
             "#fdca26"
            ],
            [
             1,
             "#f0f921"
            ]
           ]
          },
          "colorway": [
           "#636efa",
           "#EF553B",
           "#00cc96",
           "#ab63fa",
           "#FFA15A",
           "#19d3f3",
           "#FF6692",
           "#B6E880",
           "#FF97FF",
           "#FECB52"
          ],
          "font": {
           "color": "#2a3f5f"
          },
          "geo": {
           "bgcolor": "white",
           "lakecolor": "white",
           "landcolor": "#E5ECF6",
           "showlakes": true,
           "showland": true,
           "subunitcolor": "white"
          },
          "hoverlabel": {
           "align": "left"
          },
          "hovermode": "closest",
          "mapbox": {
           "style": "light"
          },
          "paper_bgcolor": "white",
          "plot_bgcolor": "#E5ECF6",
          "polar": {
           "angularaxis": {
            "gridcolor": "white",
            "linecolor": "white",
            "ticks": ""
           },
           "bgcolor": "#E5ECF6",
           "radialaxis": {
            "gridcolor": "white",
            "linecolor": "white",
            "ticks": ""
           }
          },
          "scene": {
           "xaxis": {
            "backgroundcolor": "#E5ECF6",
            "gridcolor": "white",
            "gridwidth": 2,
            "linecolor": "white",
            "showbackground": true,
            "ticks": "",
            "zerolinecolor": "white"
           },
           "yaxis": {
            "backgroundcolor": "#E5ECF6",
            "gridcolor": "white",
            "gridwidth": 2,
            "linecolor": "white",
            "showbackground": true,
            "ticks": "",
            "zerolinecolor": "white"
           },
           "zaxis": {
            "backgroundcolor": "#E5ECF6",
            "gridcolor": "white",
            "gridwidth": 2,
            "linecolor": "white",
            "showbackground": true,
            "ticks": "",
            "zerolinecolor": "white"
           }
          },
          "shapedefaults": {
           "line": {
            "color": "#2a3f5f"
           }
          },
          "ternary": {
           "aaxis": {
            "gridcolor": "white",
            "linecolor": "white",
            "ticks": ""
           },
           "baxis": {
            "gridcolor": "white",
            "linecolor": "white",
            "ticks": ""
           },
           "bgcolor": "#E5ECF6",
           "caxis": {
            "gridcolor": "white",
            "linecolor": "white",
            "ticks": ""
           }
          },
          "title": {
           "x": 0.05
          },
          "xaxis": {
           "automargin": true,
           "gridcolor": "white",
           "linecolor": "white",
           "ticks": "",
           "title": {
            "standoff": 15
           },
           "zerolinecolor": "white",
           "zerolinewidth": 2
          },
          "yaxis": {
           "automargin": true,
           "gridcolor": "white",
           "linecolor": "white",
           "ticks": "",
           "title": {
            "standoff": 15
           },
           "zerolinecolor": "white",
           "zerolinewidth": 2
          }
         }
        },
        "title": {
         "text": "Realized performance: F1"
        },
        "xaxis": {
         "linecolor": "#666666",
         "mirror": true,
         "showgrid": false,
         "title": {
          "text": "Time"
         },
         "zeroline": false
        },
        "yaxis": {
         "linecolor": "#666666",
         "mirror": true,
         "showgrid": false,
         "title": {
          "text": "Realized performance"
         },
         "zeroline": false
        }
       }
      },
      "text/html": [
       "<div>                            <div id=\"951a7367-66d8-4661-b04e-51e3b3b9fb73\" class=\"plotly-graph-div\" style=\"height:525px; width:100%;\"></div>            <script type=\"text/javascript\">                require([\"plotly\"], function(Plotly) {                    window.PLOTLYENV=window.PLOTLYENV || {};                                    if (document.getElementById(\"951a7367-66d8-4661-b04e-51e3b3b9fb73\")) {                    Plotly.newPlot(                        \"951a7367-66d8-4661-b04e-51e3b3b9fb73\",                        [{\"hoverinfo\":\"skip\",\"legendgroup\":\"1\",\"line\":{\"color\":\"#00c8e5\",\"shape\":\"hv\",\"width\":2},\"mode\":\"lines\",\"name\":\"Reference period\",\"x\":[\"2020-05-02T02:01:30\",\"2020-05-14T12:29:25\",\"2020-05-26T18:31:06\",\"2020-06-07T19:58:39\",\"2020-06-19T19:44:14\",\"2020-07-02T02:06:56\",\"2020-07-14T08:14:08\",\"2020-07-26T12:57:37\",\"2020-08-07T16:33:44\",\"2020-08-20T00:07:58\",\"2020-09-01T03:03:23\"],\"y\":[0.7505323557358875,0.7511484640126803,0.7571400512722031,0.7502740596433638,0.7591436975867962,0.7486300734249819,0.7527627058654386,0.7558827980804009,0.7474196344836103,0.7580550513577399,0.7580550513577399],\"type\":\"scatter\"},{\"hoverinfo\":\"skip\",\"legendgroup\":\"1\",\"line\":{\"color\":\"#3b0280\",\"shape\":\"hv\",\"width\":2},\"mode\":\"lines\",\"name\":\"Analysis period\",\"x\":[\"2020-09-01T03:10:01\",\"2020-09-13T16:15:32\",\"2020-09-25T19:50:04\",\"2020-10-08T02:57:34\",\"2020-10-20T15:49:06\",\"2020-11-01T22:04:59\",\"2020-11-14T03:55:49\",\"2020-11-26T09:19:22\",\"2020-12-08T14:34:25\",\"2020-12-20T18:31:09\",\"2021-01-01T22:57:55\"],\"y\":[0.7511029725567399,0.763045484661255,0.7584871119660588,0.7589438350894463,0.7579637647538195,0.5571123937358071,0.5591478583434738,0.5650552384148319,0.5638970959051086,0.5616437963495821,0.5616437963495821],\"type\":\"scatter\"},{\"hoverinfo\":\"skip\",\"legendgroup\":\"1\",\"line\":{\"color\":\"#3b0280\",\"dash\":\"dot\",\"shape\":\"hv\",\"width\":2},\"mode\":\"lines\",\"name\":\"Incomplete target data\",\"x\":[\"2020-09-01T03:10:01\",\"2020-09-13T16:15:32\",\"2020-09-25T19:50:04\",\"2020-10-08T02:57:34\",\"2020-10-20T15:49:06\",\"2020-11-01T22:04:59\",\"2020-11-14T03:55:49\",\"2020-11-26T09:19:22\",\"2020-12-08T14:34:25\",\"2020-12-20T18:31:09\",\"2021-01-01T22:57:55\"],\"y\":[0.7511029725567399,0.763045484661255,0.7584871119660588,0.7589438350894463,0.7579637647538195,0.5571123937358071,0.5591478583434738,0.5650552384148319,0.5638970959051086,0.5616437963495821,0.5616437963495821],\"type\":\"scatter\"},{\"customdata\":[[\"[0:5999]\",\"May-02-2020\",\"May-14-2020\",\"0.7505\",\"<b style=\\\"color:#00c8e5;line-height:60px\\\">Reference</b>\",\"\",\"Data: <span ><b>0.00% missing</b></span>  &nbsp; &nbsp;\"],[\"[6000:11999]\",\"May-14-2020\",\"May-26-2020\",\"0.7511\",\"<b style=\\\"color:#00c8e5;line-height:60px\\\">Reference</b>\",\"\",\"Data: <span ><b>0.00% missing</b></span>  &nbsp; &nbsp;\"],[\"[12000:17999]\",\"May-26-2020\",\"Jun-07-2020\",\"0.7571\",\"<b style=\\\"color:#00c8e5;line-height:60px\\\">Reference</b>\",\"\",\"Data: <span ><b>0.00% missing</b></span>  &nbsp; &nbsp;\"],[\"[18000:23999]\",\"Jun-07-2020\",\"Jun-19-2020\",\"0.7503\",\"<b style=\\\"color:#00c8e5;line-height:60px\\\">Reference</b>\",\"\",\"Data: <span ><b>0.00% missing</b></span>  &nbsp; &nbsp;\"],[\"[24000:29999]\",\"Jun-19-2020\",\"Jul-02-2020\",\"0.7591\",\"<b style=\\\"color:#00c8e5;line-height:60px\\\">Reference</b>\",\"\",\"Data: <span ><b>0.00% missing</b></span>  &nbsp; &nbsp;\"],[\"[30000:35999]\",\"Jul-02-2020\",\"Jul-14-2020\",\"0.7486\",\"<b style=\\\"color:#00c8e5;line-height:60px\\\">Reference</b>\",\"\",\"Data: <span ><b>0.00% missing</b></span>  &nbsp; &nbsp;\"],[\"[36000:41999]\",\"Jul-14-2020\",\"Jul-26-2020\",\"0.7528\",\"<b style=\\\"color:#00c8e5;line-height:60px\\\">Reference</b>\",\"\",\"Data: <span ><b>0.00% missing</b></span>  &nbsp; &nbsp;\"],[\"[42000:47999]\",\"Jul-26-2020\",\"Aug-07-2020\",\"0.7559\",\"<b style=\\\"color:#00c8e5;line-height:60px\\\">Reference</b>\",\"\",\"Data: <span ><b>0.00% missing</b></span>  &nbsp; &nbsp;\"],[\"[48000:53999]\",\"Aug-07-2020\",\"Aug-20-2020\",\"0.7474\",\"<b style=\\\"color:#00c8e5;line-height:60px\\\">Reference</b>\",\"\",\"Data: <span ><b>0.00% missing</b></span>  &nbsp; &nbsp;\"],[\"[54000:59999]\",\"Aug-20-2020\",\"Sep-01-2020\",\"0.7581\",\"<b style=\\\"color:#00c8e5;line-height:60px\\\">Reference</b>\",\"\",\"Data: <span ><b>0.00% missing</b></span>  &nbsp; &nbsp;\"]],\"hovertemplate\":\"%{customdata[4]} &nbsp; &nbsp; <span style=\\\"color:#AD0000\\\">%{customdata[5]}</span><br>Chunk: <b>%{customdata[0]}</b> &nbsp; &nbsp; From <b>%{customdata[1]}</b> to <b>%{customdata[2]}</b> &nbsp; &nbsp; <br>F1: <b>%{customdata[3]}</b>  &nbsp; &nbsp; %{customdata[6]} <extra></extra>\",\"marker\":{\"color\":\"#00c8e5\",\"size\":6,\"symbol\":\"square\"},\"mode\":\"markers\",\"name\":\"Reference\",\"showlegend\":false,\"x\":[\"2020-05-08T07:13:32.500000\",\"2020-05-20T15:28:33.500000\",\"2020-06-01T19:13:25.500000\",\"2020-06-13T19:50:29.500000\",\"2020-06-25T22:51:09.500000\",\"2020-07-08T05:10:30\",\"2020-07-20T10:34:55\",\"2020-08-01T14:44:56\",\"2020-08-13T20:19:56\",\"2020-08-26T01:35:40.500000\"],\"y\":[0.7505323557358875,0.7511484640126803,0.7571400512722031,0.7502740596433638,0.7591436975867962,0.7486300734249819,0.7527627058654386,0.7558827980804009,0.7474196344836103,0.7580550513577399],\"type\":\"scatter\"},{\"customdata\":[[\"[0:5999]\",\"Sep-01-2020\",\"Sep-13-2020\",\"0.7511\",\"<b style=\\\"color:#3b0280;line-height:60px\\\">Analysis</b>\",\"\",\"Data: <span ><b>0.00% missing</b></span>  &nbsp; &nbsp;\"],[\"[6000:11999]\",\"Sep-13-2020\",\"Sep-25-2020\",\"0.7630\",\"<b style=\\\"color:#3b0280;line-height:60px\\\">Analysis</b>\",\"\",\"Data: <span ><b>0.00% missing</b></span>  &nbsp; &nbsp;\"],[\"[12000:17999]\",\"Sep-25-2020\",\"Oct-08-2020\",\"0.7585\",\"<b style=\\\"color:#3b0280;line-height:60px\\\">Analysis</b>\",\"\",\"Data: <span ><b>0.00% missing</b></span>  &nbsp; &nbsp;\"],[\"[18000:23999]\",\"Oct-08-2020\",\"Oct-20-2020\",\"0.7589\",\"<b style=\\\"color:#3b0280;line-height:60px\\\">Analysis</b>\",\"\",\"Data: <span ><b>0.00% missing</b></span>  &nbsp; &nbsp;\"],[\"[24000:29999]\",\"Oct-20-2020\",\"Nov-01-2020\",\"0.7580\",\"<b style=\\\"color:#3b0280;line-height:60px\\\">Analysis</b>\",\"\",\"Data: <span ><b>0.00% missing</b></span>  &nbsp; &nbsp;\"]],\"hovertemplate\":\"%{customdata[4]} &nbsp; &nbsp; <span style=\\\"color:#AD0000\\\">%{customdata[5]}</span><br>Chunk: <b>%{customdata[0]}</b> &nbsp; &nbsp; From <b>%{customdata[1]}</b> to <b>%{customdata[2]}</b> &nbsp; &nbsp; <br>F1: <b>%{customdata[3]}</b>  &nbsp; &nbsp; %{customdata[6]} <extra></extra>\",\"marker\":{\"color\":\"#3b0280\",\"size\":6,\"symbol\":\"square\"},\"mode\":\"markers\",\"name\":\"No change\",\"showlegend\":false,\"x\":[\"2020-09-07T09:42:35.500000\",\"2020-09-19T18:02:07\",\"2020-10-01T23:21:55.500000\",\"2020-10-14T09:22:56.500000\",\"2020-10-26T18:56:53\"],\"y\":[0.7511029725567399,0.763045484661255,0.7584871119660588,0.7589438350894463,0.7579637647538195],\"type\":\"scatter\"},{\"customdata\":[[\"[30000:35999]\",\"Nov-01-2020\",\"Nov-14-2020\",\"0.5571\",\"<b style=\\\"color:#3b0280;line-height:60px\\\">Analysis</b>\",\"\\u26a0 <b>Drift detected</b>\",\"Data: <span ><b>0.00% missing</b></span>  &nbsp; &nbsp;\"],[\"[36000:41999]\",\"Nov-14-2020\",\"Nov-26-2020\",\"0.5591\",\"<b style=\\\"color:#3b0280;line-height:60px\\\">Analysis</b>\",\"\\u26a0 <b>Drift detected</b>\",\"Data: <span ><b>0.00% missing</b></span>  &nbsp; &nbsp;\"],[\"[42000:47999]\",\"Nov-26-2020\",\"Dec-08-2020\",\"0.5651\",\"<b style=\\\"color:#3b0280;line-height:60px\\\">Analysis</b>\",\"\\u26a0 <b>Drift detected</b>\",\"Data: <span ><b>0.00% missing</b></span>  &nbsp; &nbsp;\"],[\"[48000:53999]\",\"Dec-08-2020\",\"Dec-20-2020\",\"0.5639\",\"<b style=\\\"color:#3b0280;line-height:60px\\\">Analysis</b>\",\"\\u26a0 <b>Drift detected</b>\",\"Data: <span ><b>0.00% missing</b></span>  &nbsp; &nbsp;\"],[\"[54000:59999]\",\"Dec-20-2020\",\"Jan-01-2021\",\"0.5616\",\"<b style=\\\"color:#3b0280;line-height:60px\\\">Analysis</b>\",\"\\u26a0 <b>Drift detected</b>\",\"Data: <span ><b>0.00% missing</b></span>  &nbsp; &nbsp;\"]],\"hovertemplate\":\"%{customdata[4]} &nbsp; &nbsp; <span style=\\\"color:#AD0000\\\">%{customdata[5]}</span><br>Chunk: <b>%{customdata[0]}</b> &nbsp; &nbsp; From <b>%{customdata[1]}</b> to <b>%{customdata[2]}</b> &nbsp; &nbsp; <br>F1: <b>%{customdata[3]}</b>  &nbsp; &nbsp; %{customdata[6]} <extra></extra>\",\"marker\":{\"color\":\"#DD4040\",\"size\":6,\"symbol\":\"diamond\"},\"mode\":\"markers\",\"name\":\"Change\",\"showlegend\":false,\"x\":[\"2020-11-08T01:00:16\",\"2020-11-20T06:37:27.500000\",\"2020-12-02T11:56:39\",\"2020-12-14T16:32:27.500000\",\"2020-12-26T20:44:32\"],\"y\":[0.5571123937358071,0.5591478583434738,0.5650552384148319,0.5638970959051086,0.5616437963495821],\"type\":\"scatter\"},{\"legendgroup\":\"1\",\"line\":{\"color\":\"#DD4040\",\"dash\":\"dash\",\"width\":1},\"mode\":\"lines\",\"name\":\"Performance threshold\",\"x\":[[1588922012500000000],[1609015472000000000]],\"y\":[null,null],\"type\":\"scatter\"},{\"line\":{\"color\":\"rgba(0,0,0,0)\"},\"mode\":\"lines\",\"showlegend\":false,\"x\":[[1588922012500000000],[1609015472000000000]],\"y\":[null,null],\"type\":\"scatter\"},{\"fill\":\"tonexty\",\"fillcolor\":\"rgba(0.8666666666666667, 0.25098039215686274, 0.25098039215686274, 0.2)\",\"legendgroup\":\"1\",\"line\":{\"color\":\"rgba(0,0,0,0)\"},\"marker\":{\"color\":\"#DD4040\",\"size\":6,\"symbol\":\"diamond\"},\"mode\":\"lines+markers\",\"name\":\"Degraded performance\",\"x\":[[1588922012500000000],[1609015472000000000]],\"y\":[null,null],\"type\":\"scatter\"}],                        {\"hoverlabel\":{\"bgcolor\":\"white\",\"font\":{\"size\":14}},\"legend\":{\"itemclick\":false,\"itemdoubleclick\":false,\"traceorder\":\"normal\",\"yanchor\":\"top\",\"y\":-0.25,\"xanchor\":\"left\",\"x\":0,\"orientation\":\"h\"},\"paper_bgcolor\":\"rgba(255,255,255,1)\",\"plot_bgcolor\":\"rgba(255,255,255,1)\",\"title\":{\"text\":\"Realized performance: F1\"},\"xaxis\":{\"linecolor\":\"#666666\",\"mirror\":true,\"showgrid\":false,\"title\":{\"text\":\"Time\"},\"zeroline\":false},\"yaxis\":{\"linecolor\":\"#666666\",\"mirror\":true,\"showgrid\":false,\"title\":{\"text\":\"Realized performance\"},\"zeroline\":false},\"template\":{\"data\":{\"bar\":[{\"error_x\":{\"color\":\"#2a3f5f\"},\"error_y\":{\"color\":\"#2a3f5f\"},\"marker\":{\"line\":{\"color\":\"#E5ECF6\",\"width\":0.5},\"pattern\":{\"fillmode\":\"overlay\",\"size\":10,\"solidity\":0.2}},\"type\":\"bar\"}],\"barpolar\":[{\"marker\":{\"line\":{\"color\":\"#E5ECF6\",\"width\":0.5},\"pattern\":{\"fillmode\":\"overlay\",\"size\":10,\"solidity\":0.2}},\"type\":\"barpolar\"}],\"carpet\":[{\"aaxis\":{\"endlinecolor\":\"#2a3f5f\",\"gridcolor\":\"white\",\"linecolor\":\"white\",\"minorgridcolor\":\"white\",\"startlinecolor\":\"#2a3f5f\"},\"baxis\":{\"endlinecolor\":\"#2a3f5f\",\"gridcolor\":\"white\",\"linecolor\":\"white\",\"minorgridcolor\":\"white\",\"startlinecolor\":\"#2a3f5f\"},\"type\":\"carpet\"}],\"choropleth\":[{\"colorbar\":{\"outlinewidth\":0,\"ticks\":\"\"},\"type\":\"choropleth\"}],\"contour\":[{\"colorbar\":{\"outlinewidth\":0,\"ticks\":\"\"},\"colorscale\":[[0.0,\"#0d0887\"],[0.1111111111111111,\"#46039f\"],[0.2222222222222222,\"#7201a8\"],[0.3333333333333333,\"#9c179e\"],[0.4444444444444444,\"#bd3786\"],[0.5555555555555556,\"#d8576b\"],[0.6666666666666666,\"#ed7953\"],[0.7777777777777778,\"#fb9f3a\"],[0.8888888888888888,\"#fdca26\"],[1.0,\"#f0f921\"]],\"type\":\"contour\"}],\"contourcarpet\":[{\"colorbar\":{\"outlinewidth\":0,\"ticks\":\"\"},\"type\":\"contourcarpet\"}],\"heatmap\":[{\"colorbar\":{\"outlinewidth\":0,\"ticks\":\"\"},\"colorscale\":[[0.0,\"#0d0887\"],[0.1111111111111111,\"#46039f\"],[0.2222222222222222,\"#7201a8\"],[0.3333333333333333,\"#9c179e\"],[0.4444444444444444,\"#bd3786\"],[0.5555555555555556,\"#d8576b\"],[0.6666666666666666,\"#ed7953\"],[0.7777777777777778,\"#fb9f3a\"],[0.8888888888888888,\"#fdca26\"],[1.0,\"#f0f921\"]],\"type\":\"heatmap\"}],\"heatmapgl\":[{\"colorbar\":{\"outlinewidth\":0,\"ticks\":\"\"},\"colorscale\":[[0.0,\"#0d0887\"],[0.1111111111111111,\"#46039f\"],[0.2222222222222222,\"#7201a8\"],[0.3333333333333333,\"#9c179e\"],[0.4444444444444444,\"#bd3786\"],[0.5555555555555556,\"#d8576b\"],[0.6666666666666666,\"#ed7953\"],[0.7777777777777778,\"#fb9f3a\"],[0.8888888888888888,\"#fdca26\"],[1.0,\"#f0f921\"]],\"type\":\"heatmapgl\"}],\"histogram\":[{\"marker\":{\"pattern\":{\"fillmode\":\"overlay\",\"size\":10,\"solidity\":0.2}},\"type\":\"histogram\"}],\"histogram2d\":[{\"colorbar\":{\"outlinewidth\":0,\"ticks\":\"\"},\"colorscale\":[[0.0,\"#0d0887\"],[0.1111111111111111,\"#46039f\"],[0.2222222222222222,\"#7201a8\"],[0.3333333333333333,\"#9c179e\"],[0.4444444444444444,\"#bd3786\"],[0.5555555555555556,\"#d8576b\"],[0.6666666666666666,\"#ed7953\"],[0.7777777777777778,\"#fb9f3a\"],[0.8888888888888888,\"#fdca26\"],[1.0,\"#f0f921\"]],\"type\":\"histogram2d\"}],\"histogram2dcontour\":[{\"colorbar\":{\"outlinewidth\":0,\"ticks\":\"\"},\"colorscale\":[[0.0,\"#0d0887\"],[0.1111111111111111,\"#46039f\"],[0.2222222222222222,\"#7201a8\"],[0.3333333333333333,\"#9c179e\"],[0.4444444444444444,\"#bd3786\"],[0.5555555555555556,\"#d8576b\"],[0.6666666666666666,\"#ed7953\"],[0.7777777777777778,\"#fb9f3a\"],[0.8888888888888888,\"#fdca26\"],[1.0,\"#f0f921\"]],\"type\":\"histogram2dcontour\"}],\"mesh3d\":[{\"colorbar\":{\"outlinewidth\":0,\"ticks\":\"\"},\"type\":\"mesh3d\"}],\"parcoords\":[{\"line\":{\"colorbar\":{\"outlinewidth\":0,\"ticks\":\"\"}},\"type\":\"parcoords\"}],\"pie\":[{\"automargin\":true,\"type\":\"pie\"}],\"scatter\":[{\"marker\":{\"colorbar\":{\"outlinewidth\":0,\"ticks\":\"\"}},\"type\":\"scatter\"}],\"scatter3d\":[{\"line\":{\"colorbar\":{\"outlinewidth\":0,\"ticks\":\"\"}},\"marker\":{\"colorbar\":{\"outlinewidth\":0,\"ticks\":\"\"}},\"type\":\"scatter3d\"}],\"scattercarpet\":[{\"marker\":{\"colorbar\":{\"outlinewidth\":0,\"ticks\":\"\"}},\"type\":\"scattercarpet\"}],\"scattergeo\":[{\"marker\":{\"colorbar\":{\"outlinewidth\":0,\"ticks\":\"\"}},\"type\":\"scattergeo\"}],\"scattergl\":[{\"marker\":{\"colorbar\":{\"outlinewidth\":0,\"ticks\":\"\"}},\"type\":\"scattergl\"}],\"scattermapbox\":[{\"marker\":{\"colorbar\":{\"outlinewidth\":0,\"ticks\":\"\"}},\"type\":\"scattermapbox\"}],\"scatterpolar\":[{\"marker\":{\"colorbar\":{\"outlinewidth\":0,\"ticks\":\"\"}},\"type\":\"scatterpolar\"}],\"scatterpolargl\":[{\"marker\":{\"colorbar\":{\"outlinewidth\":0,\"ticks\":\"\"}},\"type\":\"scatterpolargl\"}],\"scatterternary\":[{\"marker\":{\"colorbar\":{\"outlinewidth\":0,\"ticks\":\"\"}},\"type\":\"scatterternary\"}],\"surface\":[{\"colorbar\":{\"outlinewidth\":0,\"ticks\":\"\"},\"colorscale\":[[0.0,\"#0d0887\"],[0.1111111111111111,\"#46039f\"],[0.2222222222222222,\"#7201a8\"],[0.3333333333333333,\"#9c179e\"],[0.4444444444444444,\"#bd3786\"],[0.5555555555555556,\"#d8576b\"],[0.6666666666666666,\"#ed7953\"],[0.7777777777777778,\"#fb9f3a\"],[0.8888888888888888,\"#fdca26\"],[1.0,\"#f0f921\"]],\"type\":\"surface\"}],\"table\":[{\"cells\":{\"fill\":{\"color\":\"#EBF0F8\"},\"line\":{\"color\":\"white\"}},\"header\":{\"fill\":{\"color\":\"#C8D4E3\"},\"line\":{\"color\":\"white\"}},\"type\":\"table\"}]},\"layout\":{\"annotationdefaults\":{\"arrowcolor\":\"#2a3f5f\",\"arrowhead\":0,\"arrowwidth\":1},\"autotypenumbers\":\"strict\",\"coloraxis\":{\"colorbar\":{\"outlinewidth\":0,\"ticks\":\"\"}},\"colorscale\":{\"diverging\":[[0,\"#8e0152\"],[0.1,\"#c51b7d\"],[0.2,\"#de77ae\"],[0.3,\"#f1b6da\"],[0.4,\"#fde0ef\"],[0.5,\"#f7f7f7\"],[0.6,\"#e6f5d0\"],[0.7,\"#b8e186\"],[0.8,\"#7fbc41\"],[0.9,\"#4d9221\"],[1,\"#276419\"]],\"sequential\":[[0.0,\"#0d0887\"],[0.1111111111111111,\"#46039f\"],[0.2222222222222222,\"#7201a8\"],[0.3333333333333333,\"#9c179e\"],[0.4444444444444444,\"#bd3786\"],[0.5555555555555556,\"#d8576b\"],[0.6666666666666666,\"#ed7953\"],[0.7777777777777778,\"#fb9f3a\"],[0.8888888888888888,\"#fdca26\"],[1.0,\"#f0f921\"]],\"sequentialminus\":[[0.0,\"#0d0887\"],[0.1111111111111111,\"#46039f\"],[0.2222222222222222,\"#7201a8\"],[0.3333333333333333,\"#9c179e\"],[0.4444444444444444,\"#bd3786\"],[0.5555555555555556,\"#d8576b\"],[0.6666666666666666,\"#ed7953\"],[0.7777777777777778,\"#fb9f3a\"],[0.8888888888888888,\"#fdca26\"],[1.0,\"#f0f921\"]]},\"colorway\":[\"#636efa\",\"#EF553B\",\"#00cc96\",\"#ab63fa\",\"#FFA15A\",\"#19d3f3\",\"#FF6692\",\"#B6E880\",\"#FF97FF\",\"#FECB52\"],\"font\":{\"color\":\"#2a3f5f\"},\"geo\":{\"bgcolor\":\"white\",\"lakecolor\":\"white\",\"landcolor\":\"#E5ECF6\",\"showlakes\":true,\"showland\":true,\"subunitcolor\":\"white\"},\"hoverlabel\":{\"align\":\"left\"},\"hovermode\":\"closest\",\"mapbox\":{\"style\":\"light\"},\"paper_bgcolor\":\"white\",\"plot_bgcolor\":\"#E5ECF6\",\"polar\":{\"angularaxis\":{\"gridcolor\":\"white\",\"linecolor\":\"white\",\"ticks\":\"\"},\"bgcolor\":\"#E5ECF6\",\"radialaxis\":{\"gridcolor\":\"white\",\"linecolor\":\"white\",\"ticks\":\"\"}},\"scene\":{\"xaxis\":{\"backgroundcolor\":\"#E5ECF6\",\"gridcolor\":\"white\",\"gridwidth\":2,\"linecolor\":\"white\",\"showbackground\":true,\"ticks\":\"\",\"zerolinecolor\":\"white\"},\"yaxis\":{\"backgroundcolor\":\"#E5ECF6\",\"gridcolor\":\"white\",\"gridwidth\":2,\"linecolor\":\"white\",\"showbackground\":true,\"ticks\":\"\",\"zerolinecolor\":\"white\"},\"zaxis\":{\"backgroundcolor\":\"#E5ECF6\",\"gridcolor\":\"white\",\"gridwidth\":2,\"linecolor\":\"white\",\"showbackground\":true,\"ticks\":\"\",\"zerolinecolor\":\"white\"}},\"shapedefaults\":{\"line\":{\"color\":\"#2a3f5f\"}},\"ternary\":{\"aaxis\":{\"gridcolor\":\"white\",\"linecolor\":\"white\",\"ticks\":\"\"},\"baxis\":{\"gridcolor\":\"white\",\"linecolor\":\"white\",\"ticks\":\"\"},\"bgcolor\":\"#E5ECF6\",\"caxis\":{\"gridcolor\":\"white\",\"linecolor\":\"white\",\"ticks\":\"\"}},\"title\":{\"x\":0.05},\"xaxis\":{\"automargin\":true,\"gridcolor\":\"white\",\"linecolor\":\"white\",\"ticks\":\"\",\"title\":{\"standoff\":15},\"zerolinecolor\":\"white\",\"zerolinewidth\":2},\"yaxis\":{\"automargin\":true,\"gridcolor\":\"white\",\"linecolor\":\"white\",\"ticks\":\"\",\"title\":{\"standoff\":15},\"zerolinecolor\":\"white\",\"zerolinewidth\":2}}},\"shapes\":[{\"layer\":\"below\",\"line\":{\"color\":\"#DD4040\",\"dash\":\"dash\",\"width\":1},\"type\":\"line\",\"x0\":0,\"x1\":1,\"xref\":\"x domain\",\"y0\":0.7649438592270994,\"y1\":0.7649438592270994,\"yref\":\"y\"},{\"layer\":\"below\",\"line\":{\"color\":\"#DD4040\",\"dash\":\"dash\",\"width\":1},\"type\":\"line\",\"x0\":0,\"x1\":1,\"xref\":\"x domain\",\"y0\":0.741253919065521,\"y1\":0.741253919065521,\"yref\":\"y\"},{\"layer\":\"below\",\"line\":{\"color\":\"#3b0280\",\"dash\":\"dash\",\"width\":1},\"type\":\"line\",\"x0\":\"2020-09-01T03:10:01\",\"x1\":\"2020-09-01T03:10:01\",\"xref\":\"x\",\"y0\":0,\"y1\":1,\"yref\":\"y domain\"},{\"fillcolor\":\"#DD4040\",\"layer\":\"below\",\"line\":{\"width\":0},\"opacity\":0.2,\"type\":\"rect\",\"x0\":\"2020-11-01T22:04:59\",\"x1\":\"2020-11-14T03:55:33\",\"xref\":\"x\",\"y0\":0,\"y1\":1,\"yref\":\"y domain\"},{\"fillcolor\":\"#DD4040\",\"layer\":\"below\",\"line\":{\"width\":0},\"opacity\":0.2,\"type\":\"rect\",\"x0\":\"2020-11-14T03:55:49\",\"x1\":\"2020-11-26T09:19:06\",\"xref\":\"x\",\"y0\":0,\"y1\":1,\"yref\":\"y domain\"},{\"fillcolor\":\"#DD4040\",\"layer\":\"below\",\"line\":{\"width\":0},\"opacity\":0.2,\"type\":\"rect\",\"x0\":\"2020-11-26T09:19:22\",\"x1\":\"2020-12-08T14:33:56\",\"xref\":\"x\",\"y0\":0,\"y1\":1,\"yref\":\"y domain\"},{\"fillcolor\":\"#DD4040\",\"layer\":\"below\",\"line\":{\"width\":0},\"opacity\":0.2,\"type\":\"rect\",\"x0\":\"2020-12-08T14:34:25\",\"x1\":\"2020-12-20T18:30:30\",\"xref\":\"x\",\"y0\":0,\"y1\":1,\"yref\":\"y domain\"},{\"fillcolor\":\"#DD4040\",\"layer\":\"below\",\"line\":{\"width\":0},\"opacity\":0.2,\"type\":\"rect\",\"x0\":\"2020-12-20T18:31:09\",\"x1\":\"2021-01-01T22:57:55\",\"xref\":\"x\",\"y0\":0,\"y1\":1,\"yref\":\"y domain\"}],\"annotations\":[{\"font\":{\"color\":\"#DD4040\"},\"showarrow\":false,\"text\":\"0.76\",\"x\":1,\"xanchor\":\"right\",\"xref\":\"x domain\",\"y\":0.7649438592270994,\"yanchor\":\"bottom\",\"yref\":\"y\"},{\"font\":{\"color\":\"#DD4040\"},\"showarrow\":false,\"text\":\"0.74\",\"x\":1,\"xanchor\":\"right\",\"xref\":\"x domain\",\"y\":0.741253919065521,\"yanchor\":\"bottom\",\"yref\":\"y\"}]},                        {\"responsive\": true}                    ).then(function(){\n",
       "                            \n",
       "var gd = document.getElementById('951a7367-66d8-4661-b04e-51e3b3b9fb73');\n",
       "var x = new MutationObserver(function (mutations, observer) {{\n",
       "        var display = window.getComputedStyle(gd).display;\n",
       "        if (!display || display === 'none') {{\n",
       "            console.log([gd, 'removed!']);\n",
       "            Plotly.purge(gd);\n",
       "            observer.disconnect();\n",
       "        }}\n",
       "}});\n",
       "\n",
       "// Listen for the removal of the full notebook cells\n",
       "var notebookContainer = gd.closest('#notebook-container');\n",
       "if (notebookContainer) {{\n",
       "    x.observe(notebookContainer, {childList: true});\n",
       "}}\n",
       "\n",
       "// Listen for the clearing of the current output cell\n",
       "var outputEl = gd.closest('.output');\n",
       "if (outputEl) {{\n",
       "    x.observe(outputEl, {childList: true});\n",
       "}}\n",
       "\n",
       "                        })                };                });            </script>        </div>"
      ]
     },
     "metadata": {},
     "output_type": "display_data"
    },
    {
     "data": {
      "application/vnd.plotly.v1+json": {
       "config": {
        "plotlyServerURL": "https://plot.ly"
       },
       "data": [
        {
         "hoverinfo": "skip",
         "legendgroup": "1",
         "line": {
          "color": "#00c8e5",
          "shape": "hv",
          "width": 2
         },
         "mode": "lines",
         "name": "Reference period",
         "type": "scatter",
         "x": [
          "2020-05-02T02:01:30",
          "2020-05-14T12:29:25",
          "2020-05-26T18:31:06",
          "2020-06-07T19:58:39",
          "2020-06-19T19:44:14",
          "2020-07-02T02:06:56",
          "2020-07-14T08:14:08",
          "2020-07-26T12:57:37",
          "2020-08-07T16:33:44",
          "2020-08-20T00:07:58",
          "2020-09-01T03:03:23"
         ],
         "y": [
          0.9047604867815185,
          0.9059169458383876,
          0.9093288408003372,
          0.906731007520671,
          0.9105774459778013,
          0.9045772973310676,
          0.906673477964433,
          0.9087028273995331,
          0.9050723814398817,
          0.9097489570920305,
          0.9097489570920305
         ]
        },
        {
         "hoverinfo": "skip",
         "legendgroup": "1",
         "line": {
          "color": "#3b0280",
          "shape": "hv",
          "width": 2
         },
         "mode": "lines",
         "name": "Analysis period",
         "type": "scatter",
         "x": [
          "2020-09-01T03:10:01",
          "2020-09-13T16:15:32",
          "2020-09-25T19:50:04",
          "2020-10-08T02:57:34",
          "2020-10-20T15:49:06",
          "2020-11-01T22:04:59",
          "2020-11-14T03:55:49",
          "2020-11-26T09:19:22",
          "2020-12-08T14:34:25",
          "2020-12-20T18:31:09",
          "2021-01-01T22:57:55"
         ],
         "y": [
          0.9075949825507551,
          0.9105338078866886,
          0.9094139354389862,
          0.9115770759369158,
          0.9075329211230677,
          0.7485876652639005,
          0.7511366577551554,
          0.7563992252467017,
          0.7585606818895146,
          0.75393731620128,
          0.75393731620128
         ]
        },
        {
         "hoverinfo": "skip",
         "legendgroup": "1",
         "line": {
          "color": "#3b0280",
          "dash": "dot",
          "shape": "hv",
          "width": 2
         },
         "mode": "lines",
         "name": "Incomplete target data",
         "type": "scatter",
         "x": [
          "2020-09-01T03:10:01",
          "2020-09-13T16:15:32",
          "2020-09-25T19:50:04",
          "2020-10-08T02:57:34",
          "2020-10-20T15:49:06",
          "2020-11-01T22:04:59",
          "2020-11-14T03:55:49",
          "2020-11-26T09:19:22",
          "2020-12-08T14:34:25",
          "2020-12-20T18:31:09",
          "2021-01-01T22:57:55"
         ],
         "y": [
          0.9075949825507551,
          0.9105338078866886,
          0.9094139354389862,
          0.9115770759369158,
          0.9075329211230677,
          0.7485876652639005,
          0.7511366577551554,
          0.7563992252467017,
          0.7585606818895146,
          0.75393731620128,
          0.75393731620128
         ]
        },
        {
         "customdata": [
          [
           "[0:5999]",
           "May-02-2020",
           "May-14-2020",
           "0.9048",
           "<b style=\"color:#00c8e5;line-height:60px\">Reference</b>",
           "",
           "Data: <span ><b>0.00% missing</b></span>  &nbsp; &nbsp;"
          ],
          [
           "[6000:11999]",
           "May-14-2020",
           "May-26-2020",
           "0.9059",
           "<b style=\"color:#00c8e5;line-height:60px\">Reference</b>",
           "",
           "Data: <span ><b>0.00% missing</b></span>  &nbsp; &nbsp;"
          ],
          [
           "[12000:17999]",
           "May-26-2020",
           "Jun-07-2020",
           "0.9093",
           "<b style=\"color:#00c8e5;line-height:60px\">Reference</b>",
           "",
           "Data: <span ><b>0.00% missing</b></span>  &nbsp; &nbsp;"
          ],
          [
           "[18000:23999]",
           "Jun-07-2020",
           "Jun-19-2020",
           "0.9067",
           "<b style=\"color:#00c8e5;line-height:60px\">Reference</b>",
           "",
           "Data: <span ><b>0.00% missing</b></span>  &nbsp; &nbsp;"
          ],
          [
           "[24000:29999]",
           "Jun-19-2020",
           "Jul-02-2020",
           "0.9106",
           "<b style=\"color:#00c8e5;line-height:60px\">Reference</b>",
           "",
           "Data: <span ><b>0.00% missing</b></span>  &nbsp; &nbsp;"
          ],
          [
           "[30000:35999]",
           "Jul-02-2020",
           "Jul-14-2020",
           "0.9046",
           "<b style=\"color:#00c8e5;line-height:60px\">Reference</b>",
           "",
           "Data: <span ><b>0.00% missing</b></span>  &nbsp; &nbsp;"
          ],
          [
           "[36000:41999]",
           "Jul-14-2020",
           "Jul-26-2020",
           "0.9067",
           "<b style=\"color:#00c8e5;line-height:60px\">Reference</b>",
           "",
           "Data: <span ><b>0.00% missing</b></span>  &nbsp; &nbsp;"
          ],
          [
           "[42000:47999]",
           "Jul-26-2020",
           "Aug-07-2020",
           "0.9087",
           "<b style=\"color:#00c8e5;line-height:60px\">Reference</b>",
           "",
           "Data: <span ><b>0.00% missing</b></span>  &nbsp; &nbsp;"
          ],
          [
           "[48000:53999]",
           "Aug-07-2020",
           "Aug-20-2020",
           "0.9051",
           "<b style=\"color:#00c8e5;line-height:60px\">Reference</b>",
           "",
           "Data: <span ><b>0.00% missing</b></span>  &nbsp; &nbsp;"
          ],
          [
           "[54000:59999]",
           "Aug-20-2020",
           "Sep-01-2020",
           "0.9097",
           "<b style=\"color:#00c8e5;line-height:60px\">Reference</b>",
           "",
           "Data: <span ><b>0.00% missing</b></span>  &nbsp; &nbsp;"
          ]
         ],
         "hovertemplate": "%{customdata[4]} &nbsp; &nbsp; <span style=\"color:#AD0000\">%{customdata[5]}</span><br>Chunk: <b>%{customdata[0]}</b> &nbsp; &nbsp; From <b>%{customdata[1]}</b> to <b>%{customdata[2]}</b> &nbsp; &nbsp; <br>ROC AUC: <b>%{customdata[3]}</b>  &nbsp; &nbsp; %{customdata[6]} <extra></extra>",
         "marker": {
          "color": "#00c8e5",
          "size": 6,
          "symbol": "square"
         },
         "mode": "markers",
         "name": "Reference",
         "showlegend": false,
         "type": "scatter",
         "x": [
          "2020-05-08T07:13:32.500000",
          "2020-05-20T15:28:33.500000",
          "2020-06-01T19:13:25.500000",
          "2020-06-13T19:50:29.500000",
          "2020-06-25T22:51:09.500000",
          "2020-07-08T05:10:30",
          "2020-07-20T10:34:55",
          "2020-08-01T14:44:56",
          "2020-08-13T20:19:56",
          "2020-08-26T01:35:40.500000"
         ],
         "y": [
          0.9047604867815185,
          0.9059169458383876,
          0.9093288408003372,
          0.906731007520671,
          0.9105774459778013,
          0.9045772973310676,
          0.906673477964433,
          0.9087028273995331,
          0.9050723814398817,
          0.9097489570920305
         ]
        },
        {
         "customdata": [
          [
           "[0:5999]",
           "Sep-01-2020",
           "Sep-13-2020",
           "0.9076",
           "<b style=\"color:#3b0280;line-height:60px\">Analysis</b>",
           "",
           "Data: <span ><b>0.00% missing</b></span>  &nbsp; &nbsp;"
          ],
          [
           "[6000:11999]",
           "Sep-13-2020",
           "Sep-25-2020",
           "0.9105",
           "<b style=\"color:#3b0280;line-height:60px\">Analysis</b>",
           "",
           "Data: <span ><b>0.00% missing</b></span>  &nbsp; &nbsp;"
          ],
          [
           "[12000:17999]",
           "Sep-25-2020",
           "Oct-08-2020",
           "0.9094",
           "<b style=\"color:#3b0280;line-height:60px\">Analysis</b>",
           "",
           "Data: <span ><b>0.00% missing</b></span>  &nbsp; &nbsp;"
          ],
          [
           "[18000:23999]",
           "Oct-08-2020",
           "Oct-20-2020",
           "0.9116",
           "<b style=\"color:#3b0280;line-height:60px\">Analysis</b>",
           "",
           "Data: <span ><b>0.00% missing</b></span>  &nbsp; &nbsp;"
          ],
          [
           "[24000:29999]",
           "Oct-20-2020",
           "Nov-01-2020",
           "0.9075",
           "<b style=\"color:#3b0280;line-height:60px\">Analysis</b>",
           "",
           "Data: <span ><b>0.00% missing</b></span>  &nbsp; &nbsp;"
          ]
         ],
         "hovertemplate": "%{customdata[4]} &nbsp; &nbsp; <span style=\"color:#AD0000\">%{customdata[5]}</span><br>Chunk: <b>%{customdata[0]}</b> &nbsp; &nbsp; From <b>%{customdata[1]}</b> to <b>%{customdata[2]}</b> &nbsp; &nbsp; <br>ROC AUC: <b>%{customdata[3]}</b>  &nbsp; &nbsp; %{customdata[6]} <extra></extra>",
         "marker": {
          "color": "#3b0280",
          "size": 6,
          "symbol": "square"
         },
         "mode": "markers",
         "name": "No change",
         "showlegend": false,
         "type": "scatter",
         "x": [
          "2020-09-07T09:42:35.500000",
          "2020-09-19T18:02:07",
          "2020-10-01T23:21:55.500000",
          "2020-10-14T09:22:56.500000",
          "2020-10-26T18:56:53"
         ],
         "y": [
          0.9075949825507551,
          0.9105338078866886,
          0.9094139354389862,
          0.9115770759369158,
          0.9075329211230677
         ]
        },
        {
         "customdata": [
          [
           "[30000:35999]",
           "Nov-01-2020",
           "Nov-14-2020",
           "0.7486",
           "<b style=\"color:#3b0280;line-height:60px\">Analysis</b>",
           "⚠ <b>Drift detected</b>",
           "Data: <span ><b>0.00% missing</b></span>  &nbsp; &nbsp;"
          ],
          [
           "[36000:41999]",
           "Nov-14-2020",
           "Nov-26-2020",
           "0.7511",
           "<b style=\"color:#3b0280;line-height:60px\">Analysis</b>",
           "⚠ <b>Drift detected</b>",
           "Data: <span ><b>0.00% missing</b></span>  &nbsp; &nbsp;"
          ],
          [
           "[42000:47999]",
           "Nov-26-2020",
           "Dec-08-2020",
           "0.7564",
           "<b style=\"color:#3b0280;line-height:60px\">Analysis</b>",
           "⚠ <b>Drift detected</b>",
           "Data: <span ><b>0.00% missing</b></span>  &nbsp; &nbsp;"
          ],
          [
           "[48000:53999]",
           "Dec-08-2020",
           "Dec-20-2020",
           "0.7586",
           "<b style=\"color:#3b0280;line-height:60px\">Analysis</b>",
           "⚠ <b>Drift detected</b>",
           "Data: <span ><b>0.00% missing</b></span>  &nbsp; &nbsp;"
          ],
          [
           "[54000:59999]",
           "Dec-20-2020",
           "Jan-01-2021",
           "0.7539",
           "<b style=\"color:#3b0280;line-height:60px\">Analysis</b>",
           "⚠ <b>Drift detected</b>",
           "Data: <span ><b>0.00% missing</b></span>  &nbsp; &nbsp;"
          ]
         ],
         "hovertemplate": "%{customdata[4]} &nbsp; &nbsp; <span style=\"color:#AD0000\">%{customdata[5]}</span><br>Chunk: <b>%{customdata[0]}</b> &nbsp; &nbsp; From <b>%{customdata[1]}</b> to <b>%{customdata[2]}</b> &nbsp; &nbsp; <br>ROC AUC: <b>%{customdata[3]}</b>  &nbsp; &nbsp; %{customdata[6]} <extra></extra>",
         "marker": {
          "color": "#DD4040",
          "size": 6,
          "symbol": "diamond"
         },
         "mode": "markers",
         "name": "Change",
         "showlegend": false,
         "type": "scatter",
         "x": [
          "2020-11-08T01:00:16",
          "2020-11-20T06:37:27.500000",
          "2020-12-02T11:56:39",
          "2020-12-14T16:32:27.500000",
          "2020-12-26T20:44:32"
         ],
         "y": [
          0.7485876652639005,
          0.7511366577551554,
          0.7563992252467017,
          0.7585606818895146,
          0.75393731620128
         ]
        },
        {
         "legendgroup": "1",
         "line": {
          "color": "#DD4040",
          "dash": "dash",
          "width": 1
         },
         "mode": "lines",
         "name": "Performance threshold",
         "type": "scatter",
         "x": [
          [
           1588922012500000000
          ],
          [
           1609015472000000000
          ]
         ],
         "y": [
          null,
          null
         ]
        },
        {
         "line": {
          "color": "rgba(0,0,0,0)"
         },
         "mode": "lines",
         "showlegend": false,
         "type": "scatter",
         "x": [
          [
           1588922012500000000
          ],
          [
           1609015472000000000
          ]
         ],
         "y": [
          null,
          null
         ]
        },
        {
         "fill": "tonexty",
         "fillcolor": "rgba(0.8666666666666667, 0.25098039215686274, 0.25098039215686274, 0.2)",
         "legendgroup": "1",
         "line": {
          "color": "rgba(0,0,0,0)"
         },
         "marker": {
          "color": "#DD4040",
          "size": 6,
          "symbol": "diamond"
         },
         "mode": "lines+markers",
         "name": "Degraded performance",
         "type": "scatter",
         "x": [
          [
           1588922012500000000
          ],
          [
           1609015472000000000
          ]
         ],
         "y": [
          null,
          null
         ]
        }
       ],
       "layout": {
        "annotations": [
         {
          "font": {
           "color": "#DD4040"
          },
          "showarrow": false,
          "text": "0.91",
          "x": 1,
          "xanchor": "right",
          "xref": "x domain",
          "y": 0.9135156728918074,
          "yanchor": "bottom",
          "yref": "y"
         },
         {
          "font": {
           "color": "#DD4040"
          },
          "showarrow": false,
          "text": "0.90",
          "x": 1,
          "xanchor": "right",
          "xref": "x domain",
          "y": 0.900902260737325,
          "yanchor": "bottom",
          "yref": "y"
         }
        ],
        "hoverlabel": {
         "bgcolor": "white",
         "font": {
          "size": 14
         }
        },
        "legend": {
         "itemclick": false,
         "itemdoubleclick": false,
         "orientation": "h",
         "traceorder": "normal",
         "x": 0,
         "xanchor": "left",
         "y": -0.25,
         "yanchor": "top"
        },
        "paper_bgcolor": "rgba(255,255,255,1)",
        "plot_bgcolor": "rgba(255,255,255,1)",
        "shapes": [
         {
          "layer": "below",
          "line": {
           "color": "#DD4040",
           "dash": "dash",
           "width": 1
          },
          "type": "line",
          "x0": 0,
          "x1": 1,
          "xref": "x domain",
          "y0": 0.9135156728918074,
          "y1": 0.9135156728918074,
          "yref": "y"
         },
         {
          "layer": "below",
          "line": {
           "color": "#DD4040",
           "dash": "dash",
           "width": 1
          },
          "type": "line",
          "x0": 0,
          "x1": 1,
          "xref": "x domain",
          "y0": 0.900902260737325,
          "y1": 0.900902260737325,
          "yref": "y"
         },
         {
          "layer": "below",
          "line": {
           "color": "#3b0280",
           "dash": "dash",
           "width": 1
          },
          "type": "line",
          "x0": "2020-09-01T03:10:01",
          "x1": "2020-09-01T03:10:01",
          "xref": "x",
          "y0": 0,
          "y1": 1,
          "yref": "y domain"
         },
         {
          "fillcolor": "#DD4040",
          "layer": "below",
          "line": {
           "width": 0
          },
          "opacity": 0.2,
          "type": "rect",
          "x0": "2020-11-01T22:04:59",
          "x1": "2020-11-14T03:55:33",
          "xref": "x",
          "y0": 0,
          "y1": 1,
          "yref": "y domain"
         },
         {
          "fillcolor": "#DD4040",
          "layer": "below",
          "line": {
           "width": 0
          },
          "opacity": 0.2,
          "type": "rect",
          "x0": "2020-11-14T03:55:49",
          "x1": "2020-11-26T09:19:06",
          "xref": "x",
          "y0": 0,
          "y1": 1,
          "yref": "y domain"
         },
         {
          "fillcolor": "#DD4040",
          "layer": "below",
          "line": {
           "width": 0
          },
          "opacity": 0.2,
          "type": "rect",
          "x0": "2020-11-26T09:19:22",
          "x1": "2020-12-08T14:33:56",
          "xref": "x",
          "y0": 0,
          "y1": 1,
          "yref": "y domain"
         },
         {
          "fillcolor": "#DD4040",
          "layer": "below",
          "line": {
           "width": 0
          },
          "opacity": 0.2,
          "type": "rect",
          "x0": "2020-12-08T14:34:25",
          "x1": "2020-12-20T18:30:30",
          "xref": "x",
          "y0": 0,
          "y1": 1,
          "yref": "y domain"
         },
         {
          "fillcolor": "#DD4040",
          "layer": "below",
          "line": {
           "width": 0
          },
          "opacity": 0.2,
          "type": "rect",
          "x0": "2020-12-20T18:31:09",
          "x1": "2021-01-01T22:57:55",
          "xref": "x",
          "y0": 0,
          "y1": 1,
          "yref": "y domain"
         }
        ],
        "template": {
         "data": {
          "bar": [
           {
            "error_x": {
             "color": "#2a3f5f"
            },
            "error_y": {
             "color": "#2a3f5f"
            },
            "marker": {
             "line": {
              "color": "#E5ECF6",
              "width": 0.5
             },
             "pattern": {
              "fillmode": "overlay",
              "size": 10,
              "solidity": 0.2
             }
            },
            "type": "bar"
           }
          ],
          "barpolar": [
           {
            "marker": {
             "line": {
              "color": "#E5ECF6",
              "width": 0.5
             },
             "pattern": {
              "fillmode": "overlay",
              "size": 10,
              "solidity": 0.2
             }
            },
            "type": "barpolar"
           }
          ],
          "carpet": [
           {
            "aaxis": {
             "endlinecolor": "#2a3f5f",
             "gridcolor": "white",
             "linecolor": "white",
             "minorgridcolor": "white",
             "startlinecolor": "#2a3f5f"
            },
            "baxis": {
             "endlinecolor": "#2a3f5f",
             "gridcolor": "white",
             "linecolor": "white",
             "minorgridcolor": "white",
             "startlinecolor": "#2a3f5f"
            },
            "type": "carpet"
           }
          ],
          "choropleth": [
           {
            "colorbar": {
             "outlinewidth": 0,
             "ticks": ""
            },
            "type": "choropleth"
           }
          ],
          "contour": [
           {
            "colorbar": {
             "outlinewidth": 0,
             "ticks": ""
            },
            "colorscale": [
             [
              0,
              "#0d0887"
             ],
             [
              0.1111111111111111,
              "#46039f"
             ],
             [
              0.2222222222222222,
              "#7201a8"
             ],
             [
              0.3333333333333333,
              "#9c179e"
             ],
             [
              0.4444444444444444,
              "#bd3786"
             ],
             [
              0.5555555555555556,
              "#d8576b"
             ],
             [
              0.6666666666666666,
              "#ed7953"
             ],
             [
              0.7777777777777778,
              "#fb9f3a"
             ],
             [
              0.8888888888888888,
              "#fdca26"
             ],
             [
              1,
              "#f0f921"
             ]
            ],
            "type": "contour"
           }
          ],
          "contourcarpet": [
           {
            "colorbar": {
             "outlinewidth": 0,
             "ticks": ""
            },
            "type": "contourcarpet"
           }
          ],
          "heatmap": [
           {
            "colorbar": {
             "outlinewidth": 0,
             "ticks": ""
            },
            "colorscale": [
             [
              0,
              "#0d0887"
             ],
             [
              0.1111111111111111,
              "#46039f"
             ],
             [
              0.2222222222222222,
              "#7201a8"
             ],
             [
              0.3333333333333333,
              "#9c179e"
             ],
             [
              0.4444444444444444,
              "#bd3786"
             ],
             [
              0.5555555555555556,
              "#d8576b"
             ],
             [
              0.6666666666666666,
              "#ed7953"
             ],
             [
              0.7777777777777778,
              "#fb9f3a"
             ],
             [
              0.8888888888888888,
              "#fdca26"
             ],
             [
              1,
              "#f0f921"
             ]
            ],
            "type": "heatmap"
           }
          ],
          "heatmapgl": [
           {
            "colorbar": {
             "outlinewidth": 0,
             "ticks": ""
            },
            "colorscale": [
             [
              0,
              "#0d0887"
             ],
             [
              0.1111111111111111,
              "#46039f"
             ],
             [
              0.2222222222222222,
              "#7201a8"
             ],
             [
              0.3333333333333333,
              "#9c179e"
             ],
             [
              0.4444444444444444,
              "#bd3786"
             ],
             [
              0.5555555555555556,
              "#d8576b"
             ],
             [
              0.6666666666666666,
              "#ed7953"
             ],
             [
              0.7777777777777778,
              "#fb9f3a"
             ],
             [
              0.8888888888888888,
              "#fdca26"
             ],
             [
              1,
              "#f0f921"
             ]
            ],
            "type": "heatmapgl"
           }
          ],
          "histogram": [
           {
            "marker": {
             "pattern": {
              "fillmode": "overlay",
              "size": 10,
              "solidity": 0.2
             }
            },
            "type": "histogram"
           }
          ],
          "histogram2d": [
           {
            "colorbar": {
             "outlinewidth": 0,
             "ticks": ""
            },
            "colorscale": [
             [
              0,
              "#0d0887"
             ],
             [
              0.1111111111111111,
              "#46039f"
             ],
             [
              0.2222222222222222,
              "#7201a8"
             ],
             [
              0.3333333333333333,
              "#9c179e"
             ],
             [
              0.4444444444444444,
              "#bd3786"
             ],
             [
              0.5555555555555556,
              "#d8576b"
             ],
             [
              0.6666666666666666,
              "#ed7953"
             ],
             [
              0.7777777777777778,
              "#fb9f3a"
             ],
             [
              0.8888888888888888,
              "#fdca26"
             ],
             [
              1,
              "#f0f921"
             ]
            ],
            "type": "histogram2d"
           }
          ],
          "histogram2dcontour": [
           {
            "colorbar": {
             "outlinewidth": 0,
             "ticks": ""
            },
            "colorscale": [
             [
              0,
              "#0d0887"
             ],
             [
              0.1111111111111111,
              "#46039f"
             ],
             [
              0.2222222222222222,
              "#7201a8"
             ],
             [
              0.3333333333333333,
              "#9c179e"
             ],
             [
              0.4444444444444444,
              "#bd3786"
             ],
             [
              0.5555555555555556,
              "#d8576b"
             ],
             [
              0.6666666666666666,
              "#ed7953"
             ],
             [
              0.7777777777777778,
              "#fb9f3a"
             ],
             [
              0.8888888888888888,
              "#fdca26"
             ],
             [
              1,
              "#f0f921"
             ]
            ],
            "type": "histogram2dcontour"
           }
          ],
          "mesh3d": [
           {
            "colorbar": {
             "outlinewidth": 0,
             "ticks": ""
            },
            "type": "mesh3d"
           }
          ],
          "parcoords": [
           {
            "line": {
             "colorbar": {
              "outlinewidth": 0,
              "ticks": ""
             }
            },
            "type": "parcoords"
           }
          ],
          "pie": [
           {
            "automargin": true,
            "type": "pie"
           }
          ],
          "scatter": [
           {
            "marker": {
             "colorbar": {
              "outlinewidth": 0,
              "ticks": ""
             }
            },
            "type": "scatter"
           }
          ],
          "scatter3d": [
           {
            "line": {
             "colorbar": {
              "outlinewidth": 0,
              "ticks": ""
             }
            },
            "marker": {
             "colorbar": {
              "outlinewidth": 0,
              "ticks": ""
             }
            },
            "type": "scatter3d"
           }
          ],
          "scattercarpet": [
           {
            "marker": {
             "colorbar": {
              "outlinewidth": 0,
              "ticks": ""
             }
            },
            "type": "scattercarpet"
           }
          ],
          "scattergeo": [
           {
            "marker": {
             "colorbar": {
              "outlinewidth": 0,
              "ticks": ""
             }
            },
            "type": "scattergeo"
           }
          ],
          "scattergl": [
           {
            "marker": {
             "colorbar": {
              "outlinewidth": 0,
              "ticks": ""
             }
            },
            "type": "scattergl"
           }
          ],
          "scattermapbox": [
           {
            "marker": {
             "colorbar": {
              "outlinewidth": 0,
              "ticks": ""
             }
            },
            "type": "scattermapbox"
           }
          ],
          "scatterpolar": [
           {
            "marker": {
             "colorbar": {
              "outlinewidth": 0,
              "ticks": ""
             }
            },
            "type": "scatterpolar"
           }
          ],
          "scatterpolargl": [
           {
            "marker": {
             "colorbar": {
              "outlinewidth": 0,
              "ticks": ""
             }
            },
            "type": "scatterpolargl"
           }
          ],
          "scatterternary": [
           {
            "marker": {
             "colorbar": {
              "outlinewidth": 0,
              "ticks": ""
             }
            },
            "type": "scatterternary"
           }
          ],
          "surface": [
           {
            "colorbar": {
             "outlinewidth": 0,
             "ticks": ""
            },
            "colorscale": [
             [
              0,
              "#0d0887"
             ],
             [
              0.1111111111111111,
              "#46039f"
             ],
             [
              0.2222222222222222,
              "#7201a8"
             ],
             [
              0.3333333333333333,
              "#9c179e"
             ],
             [
              0.4444444444444444,
              "#bd3786"
             ],
             [
              0.5555555555555556,
              "#d8576b"
             ],
             [
              0.6666666666666666,
              "#ed7953"
             ],
             [
              0.7777777777777778,
              "#fb9f3a"
             ],
             [
              0.8888888888888888,
              "#fdca26"
             ],
             [
              1,
              "#f0f921"
             ]
            ],
            "type": "surface"
           }
          ],
          "table": [
           {
            "cells": {
             "fill": {
              "color": "#EBF0F8"
             },
             "line": {
              "color": "white"
             }
            },
            "header": {
             "fill": {
              "color": "#C8D4E3"
             },
             "line": {
              "color": "white"
             }
            },
            "type": "table"
           }
          ]
         },
         "layout": {
          "annotationdefaults": {
           "arrowcolor": "#2a3f5f",
           "arrowhead": 0,
           "arrowwidth": 1
          },
          "autotypenumbers": "strict",
          "coloraxis": {
           "colorbar": {
            "outlinewidth": 0,
            "ticks": ""
           }
          },
          "colorscale": {
           "diverging": [
            [
             0,
             "#8e0152"
            ],
            [
             0.1,
             "#c51b7d"
            ],
            [
             0.2,
             "#de77ae"
            ],
            [
             0.3,
             "#f1b6da"
            ],
            [
             0.4,
             "#fde0ef"
            ],
            [
             0.5,
             "#f7f7f7"
            ],
            [
             0.6,
             "#e6f5d0"
            ],
            [
             0.7,
             "#b8e186"
            ],
            [
             0.8,
             "#7fbc41"
            ],
            [
             0.9,
             "#4d9221"
            ],
            [
             1,
             "#276419"
            ]
           ],
           "sequential": [
            [
             0,
             "#0d0887"
            ],
            [
             0.1111111111111111,
             "#46039f"
            ],
            [
             0.2222222222222222,
             "#7201a8"
            ],
            [
             0.3333333333333333,
             "#9c179e"
            ],
            [
             0.4444444444444444,
             "#bd3786"
            ],
            [
             0.5555555555555556,
             "#d8576b"
            ],
            [
             0.6666666666666666,
             "#ed7953"
            ],
            [
             0.7777777777777778,
             "#fb9f3a"
            ],
            [
             0.8888888888888888,
             "#fdca26"
            ],
            [
             1,
             "#f0f921"
            ]
           ],
           "sequentialminus": [
            [
             0,
             "#0d0887"
            ],
            [
             0.1111111111111111,
             "#46039f"
            ],
            [
             0.2222222222222222,
             "#7201a8"
            ],
            [
             0.3333333333333333,
             "#9c179e"
            ],
            [
             0.4444444444444444,
             "#bd3786"
            ],
            [
             0.5555555555555556,
             "#d8576b"
            ],
            [
             0.6666666666666666,
             "#ed7953"
            ],
            [
             0.7777777777777778,
             "#fb9f3a"
            ],
            [
             0.8888888888888888,
             "#fdca26"
            ],
            [
             1,
             "#f0f921"
            ]
           ]
          },
          "colorway": [
           "#636efa",
           "#EF553B",
           "#00cc96",
           "#ab63fa",
           "#FFA15A",
           "#19d3f3",
           "#FF6692",
           "#B6E880",
           "#FF97FF",
           "#FECB52"
          ],
          "font": {
           "color": "#2a3f5f"
          },
          "geo": {
           "bgcolor": "white",
           "lakecolor": "white",
           "landcolor": "#E5ECF6",
           "showlakes": true,
           "showland": true,
           "subunitcolor": "white"
          },
          "hoverlabel": {
           "align": "left"
          },
          "hovermode": "closest",
          "mapbox": {
           "style": "light"
          },
          "paper_bgcolor": "white",
          "plot_bgcolor": "#E5ECF6",
          "polar": {
           "angularaxis": {
            "gridcolor": "white",
            "linecolor": "white",
            "ticks": ""
           },
           "bgcolor": "#E5ECF6",
           "radialaxis": {
            "gridcolor": "white",
            "linecolor": "white",
            "ticks": ""
           }
          },
          "scene": {
           "xaxis": {
            "backgroundcolor": "#E5ECF6",
            "gridcolor": "white",
            "gridwidth": 2,
            "linecolor": "white",
            "showbackground": true,
            "ticks": "",
            "zerolinecolor": "white"
           },
           "yaxis": {
            "backgroundcolor": "#E5ECF6",
            "gridcolor": "white",
            "gridwidth": 2,
            "linecolor": "white",
            "showbackground": true,
            "ticks": "",
            "zerolinecolor": "white"
           },
           "zaxis": {
            "backgroundcolor": "#E5ECF6",
            "gridcolor": "white",
            "gridwidth": 2,
            "linecolor": "white",
            "showbackground": true,
            "ticks": "",
            "zerolinecolor": "white"
           }
          },
          "shapedefaults": {
           "line": {
            "color": "#2a3f5f"
           }
          },
          "ternary": {
           "aaxis": {
            "gridcolor": "white",
            "linecolor": "white",
            "ticks": ""
           },
           "baxis": {
            "gridcolor": "white",
            "linecolor": "white",
            "ticks": ""
           },
           "bgcolor": "#E5ECF6",
           "caxis": {
            "gridcolor": "white",
            "linecolor": "white",
            "ticks": ""
           }
          },
          "title": {
           "x": 0.05
          },
          "xaxis": {
           "automargin": true,
           "gridcolor": "white",
           "linecolor": "white",
           "ticks": "",
           "title": {
            "standoff": 15
           },
           "zerolinecolor": "white",
           "zerolinewidth": 2
          },
          "yaxis": {
           "automargin": true,
           "gridcolor": "white",
           "linecolor": "white",
           "ticks": "",
           "title": {
            "standoff": 15
           },
           "zerolinecolor": "white",
           "zerolinewidth": 2
          }
         }
        },
        "title": {
         "text": "Realized performance: ROC AUC"
        },
        "xaxis": {
         "linecolor": "#666666",
         "mirror": true,
         "showgrid": false,
         "title": {
          "text": "Time"
         },
         "zeroline": false
        },
        "yaxis": {
         "linecolor": "#666666",
         "mirror": true,
         "showgrid": false,
         "title": {
          "text": "Realized performance"
         },
         "zeroline": false
        }
       }
      },
      "text/html": [
       "<div>                            <div id=\"7c4bc1c9-dd6a-4715-841d-c4185c5b176e\" class=\"plotly-graph-div\" style=\"height:525px; width:100%;\"></div>            <script type=\"text/javascript\">                require([\"plotly\"], function(Plotly) {                    window.PLOTLYENV=window.PLOTLYENV || {};                                    if (document.getElementById(\"7c4bc1c9-dd6a-4715-841d-c4185c5b176e\")) {                    Plotly.newPlot(                        \"7c4bc1c9-dd6a-4715-841d-c4185c5b176e\",                        [{\"hoverinfo\":\"skip\",\"legendgroup\":\"1\",\"line\":{\"color\":\"#00c8e5\",\"shape\":\"hv\",\"width\":2},\"mode\":\"lines\",\"name\":\"Reference period\",\"x\":[\"2020-05-02T02:01:30\",\"2020-05-14T12:29:25\",\"2020-05-26T18:31:06\",\"2020-06-07T19:58:39\",\"2020-06-19T19:44:14\",\"2020-07-02T02:06:56\",\"2020-07-14T08:14:08\",\"2020-07-26T12:57:37\",\"2020-08-07T16:33:44\",\"2020-08-20T00:07:58\",\"2020-09-01T03:03:23\"],\"y\":[0.9047604867815185,0.9059169458383876,0.9093288408003372,0.906731007520671,0.9105774459778013,0.9045772973310676,0.906673477964433,0.9087028273995331,0.9050723814398817,0.9097489570920305,0.9097489570920305],\"type\":\"scatter\"},{\"hoverinfo\":\"skip\",\"legendgroup\":\"1\",\"line\":{\"color\":\"#3b0280\",\"shape\":\"hv\",\"width\":2},\"mode\":\"lines\",\"name\":\"Analysis period\",\"x\":[\"2020-09-01T03:10:01\",\"2020-09-13T16:15:32\",\"2020-09-25T19:50:04\",\"2020-10-08T02:57:34\",\"2020-10-20T15:49:06\",\"2020-11-01T22:04:59\",\"2020-11-14T03:55:49\",\"2020-11-26T09:19:22\",\"2020-12-08T14:34:25\",\"2020-12-20T18:31:09\",\"2021-01-01T22:57:55\"],\"y\":[0.9075949825507551,0.9105338078866886,0.9094139354389862,0.9115770759369158,0.9075329211230677,0.7485876652639005,0.7511366577551554,0.7563992252467017,0.7585606818895146,0.75393731620128,0.75393731620128],\"type\":\"scatter\"},{\"hoverinfo\":\"skip\",\"legendgroup\":\"1\",\"line\":{\"color\":\"#3b0280\",\"dash\":\"dot\",\"shape\":\"hv\",\"width\":2},\"mode\":\"lines\",\"name\":\"Incomplete target data\",\"x\":[\"2020-09-01T03:10:01\",\"2020-09-13T16:15:32\",\"2020-09-25T19:50:04\",\"2020-10-08T02:57:34\",\"2020-10-20T15:49:06\",\"2020-11-01T22:04:59\",\"2020-11-14T03:55:49\",\"2020-11-26T09:19:22\",\"2020-12-08T14:34:25\",\"2020-12-20T18:31:09\",\"2021-01-01T22:57:55\"],\"y\":[0.9075949825507551,0.9105338078866886,0.9094139354389862,0.9115770759369158,0.9075329211230677,0.7485876652639005,0.7511366577551554,0.7563992252467017,0.7585606818895146,0.75393731620128,0.75393731620128],\"type\":\"scatter\"},{\"customdata\":[[\"[0:5999]\",\"May-02-2020\",\"May-14-2020\",\"0.9048\",\"<b style=\\\"color:#00c8e5;line-height:60px\\\">Reference</b>\",\"\",\"Data: <span ><b>0.00% missing</b></span>  &nbsp; &nbsp;\"],[\"[6000:11999]\",\"May-14-2020\",\"May-26-2020\",\"0.9059\",\"<b style=\\\"color:#00c8e5;line-height:60px\\\">Reference</b>\",\"\",\"Data: <span ><b>0.00% missing</b></span>  &nbsp; &nbsp;\"],[\"[12000:17999]\",\"May-26-2020\",\"Jun-07-2020\",\"0.9093\",\"<b style=\\\"color:#00c8e5;line-height:60px\\\">Reference</b>\",\"\",\"Data: <span ><b>0.00% missing</b></span>  &nbsp; &nbsp;\"],[\"[18000:23999]\",\"Jun-07-2020\",\"Jun-19-2020\",\"0.9067\",\"<b style=\\\"color:#00c8e5;line-height:60px\\\">Reference</b>\",\"\",\"Data: <span ><b>0.00% missing</b></span>  &nbsp; &nbsp;\"],[\"[24000:29999]\",\"Jun-19-2020\",\"Jul-02-2020\",\"0.9106\",\"<b style=\\\"color:#00c8e5;line-height:60px\\\">Reference</b>\",\"\",\"Data: <span ><b>0.00% missing</b></span>  &nbsp; &nbsp;\"],[\"[30000:35999]\",\"Jul-02-2020\",\"Jul-14-2020\",\"0.9046\",\"<b style=\\\"color:#00c8e5;line-height:60px\\\">Reference</b>\",\"\",\"Data: <span ><b>0.00% missing</b></span>  &nbsp; &nbsp;\"],[\"[36000:41999]\",\"Jul-14-2020\",\"Jul-26-2020\",\"0.9067\",\"<b style=\\\"color:#00c8e5;line-height:60px\\\">Reference</b>\",\"\",\"Data: <span ><b>0.00% missing</b></span>  &nbsp; &nbsp;\"],[\"[42000:47999]\",\"Jul-26-2020\",\"Aug-07-2020\",\"0.9087\",\"<b style=\\\"color:#00c8e5;line-height:60px\\\">Reference</b>\",\"\",\"Data: <span ><b>0.00% missing</b></span>  &nbsp; &nbsp;\"],[\"[48000:53999]\",\"Aug-07-2020\",\"Aug-20-2020\",\"0.9051\",\"<b style=\\\"color:#00c8e5;line-height:60px\\\">Reference</b>\",\"\",\"Data: <span ><b>0.00% missing</b></span>  &nbsp; &nbsp;\"],[\"[54000:59999]\",\"Aug-20-2020\",\"Sep-01-2020\",\"0.9097\",\"<b style=\\\"color:#00c8e5;line-height:60px\\\">Reference</b>\",\"\",\"Data: <span ><b>0.00% missing</b></span>  &nbsp; &nbsp;\"]],\"hovertemplate\":\"%{customdata[4]} &nbsp; &nbsp; <span style=\\\"color:#AD0000\\\">%{customdata[5]}</span><br>Chunk: <b>%{customdata[0]}</b> &nbsp; &nbsp; From <b>%{customdata[1]}</b> to <b>%{customdata[2]}</b> &nbsp; &nbsp; <br>ROC AUC: <b>%{customdata[3]}</b>  &nbsp; &nbsp; %{customdata[6]} <extra></extra>\",\"marker\":{\"color\":\"#00c8e5\",\"size\":6,\"symbol\":\"square\"},\"mode\":\"markers\",\"name\":\"Reference\",\"showlegend\":false,\"x\":[\"2020-05-08T07:13:32.500000\",\"2020-05-20T15:28:33.500000\",\"2020-06-01T19:13:25.500000\",\"2020-06-13T19:50:29.500000\",\"2020-06-25T22:51:09.500000\",\"2020-07-08T05:10:30\",\"2020-07-20T10:34:55\",\"2020-08-01T14:44:56\",\"2020-08-13T20:19:56\",\"2020-08-26T01:35:40.500000\"],\"y\":[0.9047604867815185,0.9059169458383876,0.9093288408003372,0.906731007520671,0.9105774459778013,0.9045772973310676,0.906673477964433,0.9087028273995331,0.9050723814398817,0.9097489570920305],\"type\":\"scatter\"},{\"customdata\":[[\"[0:5999]\",\"Sep-01-2020\",\"Sep-13-2020\",\"0.9076\",\"<b style=\\\"color:#3b0280;line-height:60px\\\">Analysis</b>\",\"\",\"Data: <span ><b>0.00% missing</b></span>  &nbsp; &nbsp;\"],[\"[6000:11999]\",\"Sep-13-2020\",\"Sep-25-2020\",\"0.9105\",\"<b style=\\\"color:#3b0280;line-height:60px\\\">Analysis</b>\",\"\",\"Data: <span ><b>0.00% missing</b></span>  &nbsp; &nbsp;\"],[\"[12000:17999]\",\"Sep-25-2020\",\"Oct-08-2020\",\"0.9094\",\"<b style=\\\"color:#3b0280;line-height:60px\\\">Analysis</b>\",\"\",\"Data: <span ><b>0.00% missing</b></span>  &nbsp; &nbsp;\"],[\"[18000:23999]\",\"Oct-08-2020\",\"Oct-20-2020\",\"0.9116\",\"<b style=\\\"color:#3b0280;line-height:60px\\\">Analysis</b>\",\"\",\"Data: <span ><b>0.00% missing</b></span>  &nbsp; &nbsp;\"],[\"[24000:29999]\",\"Oct-20-2020\",\"Nov-01-2020\",\"0.9075\",\"<b style=\\\"color:#3b0280;line-height:60px\\\">Analysis</b>\",\"\",\"Data: <span ><b>0.00% missing</b></span>  &nbsp; &nbsp;\"]],\"hovertemplate\":\"%{customdata[4]} &nbsp; &nbsp; <span style=\\\"color:#AD0000\\\">%{customdata[5]}</span><br>Chunk: <b>%{customdata[0]}</b> &nbsp; &nbsp; From <b>%{customdata[1]}</b> to <b>%{customdata[2]}</b> &nbsp; &nbsp; <br>ROC AUC: <b>%{customdata[3]}</b>  &nbsp; &nbsp; %{customdata[6]} <extra></extra>\",\"marker\":{\"color\":\"#3b0280\",\"size\":6,\"symbol\":\"square\"},\"mode\":\"markers\",\"name\":\"No change\",\"showlegend\":false,\"x\":[\"2020-09-07T09:42:35.500000\",\"2020-09-19T18:02:07\",\"2020-10-01T23:21:55.500000\",\"2020-10-14T09:22:56.500000\",\"2020-10-26T18:56:53\"],\"y\":[0.9075949825507551,0.9105338078866886,0.9094139354389862,0.9115770759369158,0.9075329211230677],\"type\":\"scatter\"},{\"customdata\":[[\"[30000:35999]\",\"Nov-01-2020\",\"Nov-14-2020\",\"0.7486\",\"<b style=\\\"color:#3b0280;line-height:60px\\\">Analysis</b>\",\"\\u26a0 <b>Drift detected</b>\",\"Data: <span ><b>0.00% missing</b></span>  &nbsp; &nbsp;\"],[\"[36000:41999]\",\"Nov-14-2020\",\"Nov-26-2020\",\"0.7511\",\"<b style=\\\"color:#3b0280;line-height:60px\\\">Analysis</b>\",\"\\u26a0 <b>Drift detected</b>\",\"Data: <span ><b>0.00% missing</b></span>  &nbsp; &nbsp;\"],[\"[42000:47999]\",\"Nov-26-2020\",\"Dec-08-2020\",\"0.7564\",\"<b style=\\\"color:#3b0280;line-height:60px\\\">Analysis</b>\",\"\\u26a0 <b>Drift detected</b>\",\"Data: <span ><b>0.00% missing</b></span>  &nbsp; &nbsp;\"],[\"[48000:53999]\",\"Dec-08-2020\",\"Dec-20-2020\",\"0.7586\",\"<b style=\\\"color:#3b0280;line-height:60px\\\">Analysis</b>\",\"\\u26a0 <b>Drift detected</b>\",\"Data: <span ><b>0.00% missing</b></span>  &nbsp; &nbsp;\"],[\"[54000:59999]\",\"Dec-20-2020\",\"Jan-01-2021\",\"0.7539\",\"<b style=\\\"color:#3b0280;line-height:60px\\\">Analysis</b>\",\"\\u26a0 <b>Drift detected</b>\",\"Data: <span ><b>0.00% missing</b></span>  &nbsp; &nbsp;\"]],\"hovertemplate\":\"%{customdata[4]} &nbsp; &nbsp; <span style=\\\"color:#AD0000\\\">%{customdata[5]}</span><br>Chunk: <b>%{customdata[0]}</b> &nbsp; &nbsp; From <b>%{customdata[1]}</b> to <b>%{customdata[2]}</b> &nbsp; &nbsp; <br>ROC AUC: <b>%{customdata[3]}</b>  &nbsp; &nbsp; %{customdata[6]} <extra></extra>\",\"marker\":{\"color\":\"#DD4040\",\"size\":6,\"symbol\":\"diamond\"},\"mode\":\"markers\",\"name\":\"Change\",\"showlegend\":false,\"x\":[\"2020-11-08T01:00:16\",\"2020-11-20T06:37:27.500000\",\"2020-12-02T11:56:39\",\"2020-12-14T16:32:27.500000\",\"2020-12-26T20:44:32\"],\"y\":[0.7485876652639005,0.7511366577551554,0.7563992252467017,0.7585606818895146,0.75393731620128],\"type\":\"scatter\"},{\"legendgroup\":\"1\",\"line\":{\"color\":\"#DD4040\",\"dash\":\"dash\",\"width\":1},\"mode\":\"lines\",\"name\":\"Performance threshold\",\"x\":[[1588922012500000000],[1609015472000000000]],\"y\":[null,null],\"type\":\"scatter\"},{\"line\":{\"color\":\"rgba(0,0,0,0)\"},\"mode\":\"lines\",\"showlegend\":false,\"x\":[[1588922012500000000],[1609015472000000000]],\"y\":[null,null],\"type\":\"scatter\"},{\"fill\":\"tonexty\",\"fillcolor\":\"rgba(0.8666666666666667, 0.25098039215686274, 0.25098039215686274, 0.2)\",\"legendgroup\":\"1\",\"line\":{\"color\":\"rgba(0,0,0,0)\"},\"marker\":{\"color\":\"#DD4040\",\"size\":6,\"symbol\":\"diamond\"},\"mode\":\"lines+markers\",\"name\":\"Degraded performance\",\"x\":[[1588922012500000000],[1609015472000000000]],\"y\":[null,null],\"type\":\"scatter\"}],                        {\"hoverlabel\":{\"bgcolor\":\"white\",\"font\":{\"size\":14}},\"legend\":{\"itemclick\":false,\"itemdoubleclick\":false,\"traceorder\":\"normal\",\"yanchor\":\"top\",\"y\":-0.25,\"xanchor\":\"left\",\"x\":0,\"orientation\":\"h\"},\"paper_bgcolor\":\"rgba(255,255,255,1)\",\"plot_bgcolor\":\"rgba(255,255,255,1)\",\"title\":{\"text\":\"Realized performance: ROC AUC\"},\"xaxis\":{\"linecolor\":\"#666666\",\"mirror\":true,\"showgrid\":false,\"title\":{\"text\":\"Time\"},\"zeroline\":false},\"yaxis\":{\"linecolor\":\"#666666\",\"mirror\":true,\"showgrid\":false,\"title\":{\"text\":\"Realized performance\"},\"zeroline\":false},\"template\":{\"data\":{\"bar\":[{\"error_x\":{\"color\":\"#2a3f5f\"},\"error_y\":{\"color\":\"#2a3f5f\"},\"marker\":{\"line\":{\"color\":\"#E5ECF6\",\"width\":0.5},\"pattern\":{\"fillmode\":\"overlay\",\"size\":10,\"solidity\":0.2}},\"type\":\"bar\"}],\"barpolar\":[{\"marker\":{\"line\":{\"color\":\"#E5ECF6\",\"width\":0.5},\"pattern\":{\"fillmode\":\"overlay\",\"size\":10,\"solidity\":0.2}},\"type\":\"barpolar\"}],\"carpet\":[{\"aaxis\":{\"endlinecolor\":\"#2a3f5f\",\"gridcolor\":\"white\",\"linecolor\":\"white\",\"minorgridcolor\":\"white\",\"startlinecolor\":\"#2a3f5f\"},\"baxis\":{\"endlinecolor\":\"#2a3f5f\",\"gridcolor\":\"white\",\"linecolor\":\"white\",\"minorgridcolor\":\"white\",\"startlinecolor\":\"#2a3f5f\"},\"type\":\"carpet\"}],\"choropleth\":[{\"colorbar\":{\"outlinewidth\":0,\"ticks\":\"\"},\"type\":\"choropleth\"}],\"contour\":[{\"colorbar\":{\"outlinewidth\":0,\"ticks\":\"\"},\"colorscale\":[[0.0,\"#0d0887\"],[0.1111111111111111,\"#46039f\"],[0.2222222222222222,\"#7201a8\"],[0.3333333333333333,\"#9c179e\"],[0.4444444444444444,\"#bd3786\"],[0.5555555555555556,\"#d8576b\"],[0.6666666666666666,\"#ed7953\"],[0.7777777777777778,\"#fb9f3a\"],[0.8888888888888888,\"#fdca26\"],[1.0,\"#f0f921\"]],\"type\":\"contour\"}],\"contourcarpet\":[{\"colorbar\":{\"outlinewidth\":0,\"ticks\":\"\"},\"type\":\"contourcarpet\"}],\"heatmap\":[{\"colorbar\":{\"outlinewidth\":0,\"ticks\":\"\"},\"colorscale\":[[0.0,\"#0d0887\"],[0.1111111111111111,\"#46039f\"],[0.2222222222222222,\"#7201a8\"],[0.3333333333333333,\"#9c179e\"],[0.4444444444444444,\"#bd3786\"],[0.5555555555555556,\"#d8576b\"],[0.6666666666666666,\"#ed7953\"],[0.7777777777777778,\"#fb9f3a\"],[0.8888888888888888,\"#fdca26\"],[1.0,\"#f0f921\"]],\"type\":\"heatmap\"}],\"heatmapgl\":[{\"colorbar\":{\"outlinewidth\":0,\"ticks\":\"\"},\"colorscale\":[[0.0,\"#0d0887\"],[0.1111111111111111,\"#46039f\"],[0.2222222222222222,\"#7201a8\"],[0.3333333333333333,\"#9c179e\"],[0.4444444444444444,\"#bd3786\"],[0.5555555555555556,\"#d8576b\"],[0.6666666666666666,\"#ed7953\"],[0.7777777777777778,\"#fb9f3a\"],[0.8888888888888888,\"#fdca26\"],[1.0,\"#f0f921\"]],\"type\":\"heatmapgl\"}],\"histogram\":[{\"marker\":{\"pattern\":{\"fillmode\":\"overlay\",\"size\":10,\"solidity\":0.2}},\"type\":\"histogram\"}],\"histogram2d\":[{\"colorbar\":{\"outlinewidth\":0,\"ticks\":\"\"},\"colorscale\":[[0.0,\"#0d0887\"],[0.1111111111111111,\"#46039f\"],[0.2222222222222222,\"#7201a8\"],[0.3333333333333333,\"#9c179e\"],[0.4444444444444444,\"#bd3786\"],[0.5555555555555556,\"#d8576b\"],[0.6666666666666666,\"#ed7953\"],[0.7777777777777778,\"#fb9f3a\"],[0.8888888888888888,\"#fdca26\"],[1.0,\"#f0f921\"]],\"type\":\"histogram2d\"}],\"histogram2dcontour\":[{\"colorbar\":{\"outlinewidth\":0,\"ticks\":\"\"},\"colorscale\":[[0.0,\"#0d0887\"],[0.1111111111111111,\"#46039f\"],[0.2222222222222222,\"#7201a8\"],[0.3333333333333333,\"#9c179e\"],[0.4444444444444444,\"#bd3786\"],[0.5555555555555556,\"#d8576b\"],[0.6666666666666666,\"#ed7953\"],[0.7777777777777778,\"#fb9f3a\"],[0.8888888888888888,\"#fdca26\"],[1.0,\"#f0f921\"]],\"type\":\"histogram2dcontour\"}],\"mesh3d\":[{\"colorbar\":{\"outlinewidth\":0,\"ticks\":\"\"},\"type\":\"mesh3d\"}],\"parcoords\":[{\"line\":{\"colorbar\":{\"outlinewidth\":0,\"ticks\":\"\"}},\"type\":\"parcoords\"}],\"pie\":[{\"automargin\":true,\"type\":\"pie\"}],\"scatter\":[{\"marker\":{\"colorbar\":{\"outlinewidth\":0,\"ticks\":\"\"}},\"type\":\"scatter\"}],\"scatter3d\":[{\"line\":{\"colorbar\":{\"outlinewidth\":0,\"ticks\":\"\"}},\"marker\":{\"colorbar\":{\"outlinewidth\":0,\"ticks\":\"\"}},\"type\":\"scatter3d\"}],\"scattercarpet\":[{\"marker\":{\"colorbar\":{\"outlinewidth\":0,\"ticks\":\"\"}},\"type\":\"scattercarpet\"}],\"scattergeo\":[{\"marker\":{\"colorbar\":{\"outlinewidth\":0,\"ticks\":\"\"}},\"type\":\"scattergeo\"}],\"scattergl\":[{\"marker\":{\"colorbar\":{\"outlinewidth\":0,\"ticks\":\"\"}},\"type\":\"scattergl\"}],\"scattermapbox\":[{\"marker\":{\"colorbar\":{\"outlinewidth\":0,\"ticks\":\"\"}},\"type\":\"scattermapbox\"}],\"scatterpolar\":[{\"marker\":{\"colorbar\":{\"outlinewidth\":0,\"ticks\":\"\"}},\"type\":\"scatterpolar\"}],\"scatterpolargl\":[{\"marker\":{\"colorbar\":{\"outlinewidth\":0,\"ticks\":\"\"}},\"type\":\"scatterpolargl\"}],\"scatterternary\":[{\"marker\":{\"colorbar\":{\"outlinewidth\":0,\"ticks\":\"\"}},\"type\":\"scatterternary\"}],\"surface\":[{\"colorbar\":{\"outlinewidth\":0,\"ticks\":\"\"},\"colorscale\":[[0.0,\"#0d0887\"],[0.1111111111111111,\"#46039f\"],[0.2222222222222222,\"#7201a8\"],[0.3333333333333333,\"#9c179e\"],[0.4444444444444444,\"#bd3786\"],[0.5555555555555556,\"#d8576b\"],[0.6666666666666666,\"#ed7953\"],[0.7777777777777778,\"#fb9f3a\"],[0.8888888888888888,\"#fdca26\"],[1.0,\"#f0f921\"]],\"type\":\"surface\"}],\"table\":[{\"cells\":{\"fill\":{\"color\":\"#EBF0F8\"},\"line\":{\"color\":\"white\"}},\"header\":{\"fill\":{\"color\":\"#C8D4E3\"},\"line\":{\"color\":\"white\"}},\"type\":\"table\"}]},\"layout\":{\"annotationdefaults\":{\"arrowcolor\":\"#2a3f5f\",\"arrowhead\":0,\"arrowwidth\":1},\"autotypenumbers\":\"strict\",\"coloraxis\":{\"colorbar\":{\"outlinewidth\":0,\"ticks\":\"\"}},\"colorscale\":{\"diverging\":[[0,\"#8e0152\"],[0.1,\"#c51b7d\"],[0.2,\"#de77ae\"],[0.3,\"#f1b6da\"],[0.4,\"#fde0ef\"],[0.5,\"#f7f7f7\"],[0.6,\"#e6f5d0\"],[0.7,\"#b8e186\"],[0.8,\"#7fbc41\"],[0.9,\"#4d9221\"],[1,\"#276419\"]],\"sequential\":[[0.0,\"#0d0887\"],[0.1111111111111111,\"#46039f\"],[0.2222222222222222,\"#7201a8\"],[0.3333333333333333,\"#9c179e\"],[0.4444444444444444,\"#bd3786\"],[0.5555555555555556,\"#d8576b\"],[0.6666666666666666,\"#ed7953\"],[0.7777777777777778,\"#fb9f3a\"],[0.8888888888888888,\"#fdca26\"],[1.0,\"#f0f921\"]],\"sequentialminus\":[[0.0,\"#0d0887\"],[0.1111111111111111,\"#46039f\"],[0.2222222222222222,\"#7201a8\"],[0.3333333333333333,\"#9c179e\"],[0.4444444444444444,\"#bd3786\"],[0.5555555555555556,\"#d8576b\"],[0.6666666666666666,\"#ed7953\"],[0.7777777777777778,\"#fb9f3a\"],[0.8888888888888888,\"#fdca26\"],[1.0,\"#f0f921\"]]},\"colorway\":[\"#636efa\",\"#EF553B\",\"#00cc96\",\"#ab63fa\",\"#FFA15A\",\"#19d3f3\",\"#FF6692\",\"#B6E880\",\"#FF97FF\",\"#FECB52\"],\"font\":{\"color\":\"#2a3f5f\"},\"geo\":{\"bgcolor\":\"white\",\"lakecolor\":\"white\",\"landcolor\":\"#E5ECF6\",\"showlakes\":true,\"showland\":true,\"subunitcolor\":\"white\"},\"hoverlabel\":{\"align\":\"left\"},\"hovermode\":\"closest\",\"mapbox\":{\"style\":\"light\"},\"paper_bgcolor\":\"white\",\"plot_bgcolor\":\"#E5ECF6\",\"polar\":{\"angularaxis\":{\"gridcolor\":\"white\",\"linecolor\":\"white\",\"ticks\":\"\"},\"bgcolor\":\"#E5ECF6\",\"radialaxis\":{\"gridcolor\":\"white\",\"linecolor\":\"white\",\"ticks\":\"\"}},\"scene\":{\"xaxis\":{\"backgroundcolor\":\"#E5ECF6\",\"gridcolor\":\"white\",\"gridwidth\":2,\"linecolor\":\"white\",\"showbackground\":true,\"ticks\":\"\",\"zerolinecolor\":\"white\"},\"yaxis\":{\"backgroundcolor\":\"#E5ECF6\",\"gridcolor\":\"white\",\"gridwidth\":2,\"linecolor\":\"white\",\"showbackground\":true,\"ticks\":\"\",\"zerolinecolor\":\"white\"},\"zaxis\":{\"backgroundcolor\":\"#E5ECF6\",\"gridcolor\":\"white\",\"gridwidth\":2,\"linecolor\":\"white\",\"showbackground\":true,\"ticks\":\"\",\"zerolinecolor\":\"white\"}},\"shapedefaults\":{\"line\":{\"color\":\"#2a3f5f\"}},\"ternary\":{\"aaxis\":{\"gridcolor\":\"white\",\"linecolor\":\"white\",\"ticks\":\"\"},\"baxis\":{\"gridcolor\":\"white\",\"linecolor\":\"white\",\"ticks\":\"\"},\"bgcolor\":\"#E5ECF6\",\"caxis\":{\"gridcolor\":\"white\",\"linecolor\":\"white\",\"ticks\":\"\"}},\"title\":{\"x\":0.05},\"xaxis\":{\"automargin\":true,\"gridcolor\":\"white\",\"linecolor\":\"white\",\"ticks\":\"\",\"title\":{\"standoff\":15},\"zerolinecolor\":\"white\",\"zerolinewidth\":2},\"yaxis\":{\"automargin\":true,\"gridcolor\":\"white\",\"linecolor\":\"white\",\"ticks\":\"\",\"title\":{\"standoff\":15},\"zerolinecolor\":\"white\",\"zerolinewidth\":2}}},\"shapes\":[{\"layer\":\"below\",\"line\":{\"color\":\"#DD4040\",\"dash\":\"dash\",\"width\":1},\"type\":\"line\",\"x0\":0,\"x1\":1,\"xref\":\"x domain\",\"y0\":0.9135156728918074,\"y1\":0.9135156728918074,\"yref\":\"y\"},{\"layer\":\"below\",\"line\":{\"color\":\"#DD4040\",\"dash\":\"dash\",\"width\":1},\"type\":\"line\",\"x0\":0,\"x1\":1,\"xref\":\"x domain\",\"y0\":0.900902260737325,\"y1\":0.900902260737325,\"yref\":\"y\"},{\"layer\":\"below\",\"line\":{\"color\":\"#3b0280\",\"dash\":\"dash\",\"width\":1},\"type\":\"line\",\"x0\":\"2020-09-01T03:10:01\",\"x1\":\"2020-09-01T03:10:01\",\"xref\":\"x\",\"y0\":0,\"y1\":1,\"yref\":\"y domain\"},{\"fillcolor\":\"#DD4040\",\"layer\":\"below\",\"line\":{\"width\":0},\"opacity\":0.2,\"type\":\"rect\",\"x0\":\"2020-11-01T22:04:59\",\"x1\":\"2020-11-14T03:55:33\",\"xref\":\"x\",\"y0\":0,\"y1\":1,\"yref\":\"y domain\"},{\"fillcolor\":\"#DD4040\",\"layer\":\"below\",\"line\":{\"width\":0},\"opacity\":0.2,\"type\":\"rect\",\"x0\":\"2020-11-14T03:55:49\",\"x1\":\"2020-11-26T09:19:06\",\"xref\":\"x\",\"y0\":0,\"y1\":1,\"yref\":\"y domain\"},{\"fillcolor\":\"#DD4040\",\"layer\":\"below\",\"line\":{\"width\":0},\"opacity\":0.2,\"type\":\"rect\",\"x0\":\"2020-11-26T09:19:22\",\"x1\":\"2020-12-08T14:33:56\",\"xref\":\"x\",\"y0\":0,\"y1\":1,\"yref\":\"y domain\"},{\"fillcolor\":\"#DD4040\",\"layer\":\"below\",\"line\":{\"width\":0},\"opacity\":0.2,\"type\":\"rect\",\"x0\":\"2020-12-08T14:34:25\",\"x1\":\"2020-12-20T18:30:30\",\"xref\":\"x\",\"y0\":0,\"y1\":1,\"yref\":\"y domain\"},{\"fillcolor\":\"#DD4040\",\"layer\":\"below\",\"line\":{\"width\":0},\"opacity\":0.2,\"type\":\"rect\",\"x0\":\"2020-12-20T18:31:09\",\"x1\":\"2021-01-01T22:57:55\",\"xref\":\"x\",\"y0\":0,\"y1\":1,\"yref\":\"y domain\"}],\"annotations\":[{\"font\":{\"color\":\"#DD4040\"},\"showarrow\":false,\"text\":\"0.91\",\"x\":1,\"xanchor\":\"right\",\"xref\":\"x domain\",\"y\":0.9135156728918074,\"yanchor\":\"bottom\",\"yref\":\"y\"},{\"font\":{\"color\":\"#DD4040\"},\"showarrow\":false,\"text\":\"0.90\",\"x\":1,\"xanchor\":\"right\",\"xref\":\"x domain\",\"y\":0.900902260737325,\"yanchor\":\"bottom\",\"yref\":\"y\"}]},                        {\"responsive\": true}                    ).then(function(){\n",
       "                            \n",
       "var gd = document.getElementById('7c4bc1c9-dd6a-4715-841d-c4185c5b176e');\n",
       "var x = new MutationObserver(function (mutations, observer) {{\n",
       "        var display = window.getComputedStyle(gd).display;\n",
       "        if (!display || display === 'none') {{\n",
       "            console.log([gd, 'removed!']);\n",
       "            Plotly.purge(gd);\n",
       "            observer.disconnect();\n",
       "        }}\n",
       "}});\n",
       "\n",
       "// Listen for the removal of the full notebook cells\n",
       "var notebookContainer = gd.closest('#notebook-container');\n",
       "if (notebookContainer) {{\n",
       "    x.observe(notebookContainer, {childList: true});\n",
       "}}\n",
       "\n",
       "// Listen for the clearing of the current output cell\n",
       "var outputEl = gd.closest('.output');\n",
       "if (outputEl) {{\n",
       "    x.observe(outputEl, {childList: true});\n",
       "}}\n",
       "\n",
       "                        })                };                });            </script>        </div>"
      ]
     },
     "metadata": {},
     "output_type": "display_data"
    }
   ],
   "source": [
    "engine='orca'\n",
    "for metric in calc.metrics:\n",
    "    figure = results.plot(kind='performance', plot_reference=True, metric=metric)\n",
    "    #     fig.write_image(file=f\"../_static/tutorial-perf-est-mc-guide-analysis-{metric}.svg\", engine=engine)\n",
    "    figure.show()"
   ]
  }
 ],
 "metadata": {
  "kernelspec": {
   "display_name": "p39all",
   "language": "python",
   "name": "p39all"
  },
  "language_info": {
   "codemirror_mode": {
    "name": "ipython",
    "version": 3
   },
   "file_extension": ".py",
   "mimetype": "text/x-python",
   "name": "python",
   "nbconvert_exporter": "python",
   "pygments_lexer": "ipython3",
   "version": "3.9.7"
  }
 },
 "nbformat": 4,
 "nbformat_minor": 5
}
