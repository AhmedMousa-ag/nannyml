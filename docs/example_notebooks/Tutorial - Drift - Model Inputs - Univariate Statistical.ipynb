{
 "cells": [
  {
   "cell_type": "code",
   "execution_count": null,
   "id": "38982d74-5064-4ea4-bd74-c22bc6b5139d",
   "metadata": {
    "pycharm": {
     "name": "#%%\n"
    }
   },
   "outputs": [],
   "source": [
    "import nannyml as nml\n",
    "from IPython.display import display\n",
    "\n",
    "reference_df = nml.load_synthetic_binary_classification_dataset()[0]\n",
    "analysis_df = nml.load_synthetic_binary_classification_dataset()[1]\n",
    "display(reference_df.head())"
   ]
  },
  {
   "cell_type": "code",
   "execution_count": null,
   "id": "ec4e0ab8-dc3b-42b4-ad20-06b7682756e0",
   "metadata": {
    "pycharm": {
     "name": "#%%\n"
    }
   },
   "outputs": [],
   "source": [
    "print(reference_df.head().to_markdown(tablefmt=\"grid\"))"
   ]
  },
  {
   "cell_type": "code",
   "execution_count": null,
   "id": "5e1bd987-f39e-4b92-aef1-565f2710444a",
   "metadata": {
    "pycharm": {
     "name": "#%%\n"
    }
   },
   "outputs": [],
   "source": [
    "feature_column_names = [\n",
    "    col for col in reference_df.columns if col not in [\n",
    "    'timestamp', 'y_pred_proba', 'period', 'y_pred', 'work_home_actual', 'identifier'\n",
    "]]\n",
    "calc = nml.UnivariateStatisticalDriftCalculator(\n",
    "    feature_column_names=feature_column_names,\n",
    "    timestamp_column_name='timestamp'\n",
    ")"
   ]
  },
  {
   "cell_type": "code",
   "execution_count": null,
   "outputs": [],
   "source": [
    "calc.fit(reference_df)\n",
    "results = calc.calculate(analysis_df)\n",
    "display(results.data.iloc[:, :9])"
   ],
   "metadata": {
    "collapsed": false,
    "pycharm": {
     "name": "#%%\n"
    }
   }
  },
  {
   "cell_type": "code",
   "execution_count": null,
   "outputs": [],
   "source": [
    "print(results.data.iloc[:, :9].to_markdown(tablefmt=\"grid\"))"
   ],
   "metadata": {
    "collapsed": false,
    "pycharm": {
     "name": "#%%\n"
    }
   }
  },
  {
   "cell_type": "code",
   "execution_count": null,
   "outputs": [],
   "source": [
    "display(calc.previous_reference_results.iloc[:, :9])"
   ],
   "metadata": {
    "collapsed": false,
    "pycharm": {
     "name": "#%%\n"
    }
   }
  },
  {
   "cell_type": "code",
   "execution_count": null,
   "outputs": [],
   "source": [
    "print(results.calculator.previous_reference_results.iloc[:, :9].to_markdown(tablefmt=\"grid\"))"
   ],
   "metadata": {
    "collapsed": false,
    "pycharm": {
     "name": "#%%\n"
    }
   }
  },
  {
   "cell_type": "code",
   "execution_count": null,
   "outputs": [],
   "source": [
    "for feature in calc.feature_column_names:\n",
    "    drift_fig = results.plot(\n",
    "        kind='feature_drift',\n",
    "        feature_column_name=feature,\n",
    "        plot_reference=True\n",
    "    )\n",
    "    drift_fig.show()"
   ],
   "metadata": {
    "collapsed": false,
    "pycharm": {
     "name": "#%%\n"
    }
   }
  },
  {
   "cell_type": "code",
   "execution_count": null,
   "outputs": [],
   "source": [
    "for feature in calc.feature_column_names:\n",
    "    drift_fig = results.plot(\n",
    "        kind='feature_drift',\n",
    "        feature_column_name=feature,\n",
    "        plot_reference=True\n",
    "    )\n",
    "    drift_fig.write_image(f'../_static/drift-guide-{feature}.svg')"
   ],
   "metadata": {
    "collapsed": false,
    "pycharm": {
     "name": "#%%\n"
    }
   }
  },
  {
   "cell_type": "code",
   "execution_count": null,
   "outputs": [],
   "source": [
    "for cont_feat in calc.continuous_column_names:\n",
    "    figure = results.plot(\n",
    "        kind='feature_distribution',\n",
    "        feature_column_name=cont_feat,\n",
    "        plot_reference=True\n",
    "    )\n",
    "    figure.show()"
   ],
   "metadata": {
    "collapsed": false,
    "pycharm": {
     "name": "#%%\n"
    }
   }
  },
  {
   "cell_type": "code",
   "execution_count": null,
   "outputs": [],
   "source": [
    "for cont_feat in calc.continuous_column_names:\n",
    "    figure = results.plot(\n",
    "        kind='feature_distribution',\n",
    "        feature_column_name=cont_feat,\n",
    "        plot_reference=True\n",
    "    )\n",
    "    figure.write_image(f'../_static/drift-guide-joyplot-{cont_feat}.svg')"
   ],
   "metadata": {
    "collapsed": false,
    "pycharm": {
     "name": "#%%\n"
    }
   }
  },
  {
   "cell_type": "code",
   "execution_count": null,
   "outputs": [],
   "source": [
    "for cat_feat in calc.categorical_column_names:\n",
    "    figure = results.plot(\n",
    "        kind='feature_distribution',\n",
    "        feature_column_name=cat_feat,\n",
    "        plot_reference=True)\n",
    "    figure.show()"
   ],
   "metadata": {
    "collapsed": false,
    "pycharm": {
     "name": "#%%\n"
    }
   }
  },
  {
   "cell_type": "code",
   "execution_count": null,
   "outputs": [],
   "source": [
    "for cat_feat in calc.categorical_column_names:\n",
    "    figure = results.plot(\n",
    "        kind='feature_distribution',\n",
    "        feature_column_name=cat_feat,\n",
    "        plot_reference=True)\n",
    "    figure.write_image(f'../_static/drift-guide-stacked-{cat_feat}.svg')"
   ],
   "metadata": {
    "collapsed": false,
    "pycharm": {
     "name": "#%%\n"
    }
   }
  },
  {
   "cell_type": "code",
   "execution_count": null,
   "outputs": [],
   "source": [
    "ranker = nml.Ranker.by('alert_count')\n",
    "ranked_features = ranker.rank(results, only_drifting = False)\n",
    "display(ranked_features)"
   ],
   "metadata": {
    "collapsed": false,
    "pycharm": {
     "name": "#%%\n"
    }
   }
  },
  {
   "cell_type": "code",
   "execution_count": null,
   "outputs": [],
   "source": [
    "print(ranked_features.to_markdown(tablefmt=\"grid\"))\n"
   ],
   "metadata": {
    "collapsed": false,
    "pycharm": {
     "name": "#%%\n"
    }
   }
  }
 ],
 "metadata": {
  "kernelspec": {
   "display_name": "Python 3 (ipykernel)",
   "language": "python",
   "name": "python3"
  },
  "language_info": {
   "codemirror_mode": {
    "name": "ipython",
    "version": 3
   },
   "file_extension": ".py",
   "mimetype": "text/x-python",
   "name": "python",
   "nbconvert_exporter": "python",
   "pygments_lexer": "ipython3",
   "version": "3.10.6"
  }
 },
 "nbformat": 4,
 "nbformat_minor": 5
}