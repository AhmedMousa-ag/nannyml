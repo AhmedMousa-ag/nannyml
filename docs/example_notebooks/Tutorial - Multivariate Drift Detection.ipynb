{
 "cells": [
  {
   "cell_type": "code",
   "execution_count": null,
   "id": "b738d305",
   "metadata": {
    "pycharm": {
     "name": "#%%\n"
    },
    "scrolled": false
   },
   "outputs": [],
   "source": [
    "import nannyml as nml\n",
    "import pandas as pd\n",
    "from IPython.display import display\n",
    "\n",
    "# Load synthetic data\n",
    "reference, analysis, analysis_target = nml.load_synthetic_binary_classification_dataset()\n",
    "\n",
    "display(reference.head())\n",
    "\n",
    "# Define feature columns\n",
    "feature_column_names = [\n",
    "    col for col in reference.columns if col not in [\n",
    "        'timestamp', 'y_pred_proba', 'period', 'y_pred', 'work_home_actual', 'identifier'\n",
    "    ]]\n",
    "\n",
    "calc = nml.DataReconstructionDriftCalculator(\n",
    "    feature_column_names=feature_column_names,\n",
    "    timestamp_column_name='timestamp',\n",
    "    chunk_size=5000\n",
    ")\n",
    "calc.fit(reference)\n",
    "results = calc.calculate(analysis)\n",
    "display(results.data)\n",
    "\n",
    "figure = results.plot(kind='drift', plot_reference=True)\n",
    "figure.show()"
   ]
  },
  {
   "cell_type": "code",
   "execution_count": null,
   "id": "ade46100",
   "metadata": {},
   "outputs": [],
   "source": [
    "results.calculator.previous_reference_results"
   ]
  },
  {
   "cell_type": "code",
   "execution_count": null,
   "id": "be6a2f32",
   "metadata": {},
   "outputs": [],
   "source": []
  },
  {
   "cell_type": "code",
   "execution_count": null,
   "id": "7f4a9a90",
   "metadata": {},
   "outputs": [],
   "source": []
  },
  {
   "cell_type": "code",
   "execution_count": null,
   "id": "75fe9801",
   "metadata": {},
   "outputs": [],
   "source": [
    "import nannyml as nml\n",
    "import pandas as pd\n",
    "from IPython.display import display\n",
    "\n",
    "# Load synthetic data\n",
    "reference, analysis, analysis_target = nml.load_synthetic_binary_classification_dataset()\n",
    "display(reference.head())"
   ]
  },
  {
   "cell_type": "code",
   "execution_count": null,
   "id": "0d8d5c0a",
   "metadata": {},
   "outputs": [],
   "source": [
    "# Define feature columns\n",
    "feature_column_names = [\n",
    "    col for col in reference.columns if col not in [\n",
    "        'timestamp', 'y_pred_proba', 'period', 'y_pred', 'work_home_actual', 'identifier'\n",
    "    ]]\n",
    "\n",
    "from sklearn.impute import SimpleImputer\n",
    "\n",
    "calc = nml.DataReconstructionDriftCalculator(\n",
    "    feature_column_names=feature_column_names,\n",
    "    timestamp_column_name='timestamp',\n",
    "    chunk_size=5000,\n",
    "    imputer_categorical=SimpleImputer(strategy='constant', fill_value='missing'),\n",
    "    imputer_continuous=SimpleImputer(strategy='median')\n",
    ")\n",
    "calc.fit(reference)\n",
    "results = calc.calculate(analysis)"
   ]
  },
  {
   "cell_type": "code",
   "execution_count": null,
   "id": "34fa12e1",
   "metadata": {},
   "outputs": [],
   "source": [
    "display(results.data)"
   ]
  },
  {
   "cell_type": "code",
   "execution_count": null,
   "id": "467fb037",
   "metadata": {},
   "outputs": [],
   "source": [
    "print(results.data.to_markdown(tablefmt=\"grid\"))"
   ]
  },
  {
   "cell_type": "code",
   "execution_count": null,
   "id": "9dd80854",
   "metadata": {},
   "outputs": [],
   "source": [
    "figure = results.plot(kind='drift', plot_reference=True)\n",
    "\n",
    "# figure.show()\n",
    "# save figure - not shown on guide:\n",
    "figure.write_image(file=\"../_static/drift-guide-multivariate.svg\", engine='orca')"
   ]
  },
  {
   "cell_type": "code",
   "execution_count": null,
   "id": "0a8c3218",
   "metadata": {},
   "outputs": [],
   "source": []
  },
  {
   "cell_type": "code",
   "execution_count": null,
   "id": "59b1ba0e",
   "metadata": {
    "pycharm": {
     "name": "#%%\n"
    }
   },
   "outputs": [],
   "source": []
  },
  {
   "cell_type": "code",
   "execution_count": null,
   "id": "24d4c791",
   "metadata": {
    "pycharm": {
     "name": "#%%\n"
    }
   },
   "outputs": [],
   "source": []
  }
 ],
 "metadata": {
  "kernelspec": {
   "display_name": "Python 3 (ipykernel)",
   "language": "python",
   "name": "python3"
  },
  "language_info": {
   "codemirror_mode": {
    "name": "ipython",
    "version": 3
   },
   "file_extension": ".py",
   "mimetype": "text/x-python",
   "name": "python",
   "nbconvert_exporter": "python",
   "pygments_lexer": "ipython3",
   "version": "3.9.7"
  }
 },
 "nbformat": 4,
 "nbformat_minor": 5
}
