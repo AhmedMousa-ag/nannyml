{
 "cells": [
  {
   "cell_type": "markdown",
   "id": "ba6d3336-e5c5-4204-8ac8-4edfd00ac465",
   "metadata": {},
   "source": [
    "# Binary Classification"
   ]
  },
  {
   "cell_type": "code",
   "execution_count": null,
   "id": "2efdfb0a",
   "metadata": {
    "pycharm": {
     "name": "#%%\n"
    }
   },
   "outputs": [],
   "source": [
    "import pandas as pd\n",
    "import nannyml as nml\n",
    "from IPython.display import display\n",
    "\n",
    "reference_df = nml.load_synthetic_binary_classification_dataset()[0]\n",
    "analysis_df = nml.load_synthetic_binary_classification_dataset()[1]\n",
    "analysis_target_df = nml.load_synthetic_binary_classification_dataset()[2]\n",
    "analysis_df = analysis_df.merge(analysis_target_df, on='identifier')\n",
    "\n",
    "display(reference_df.head(3))\n",
    "\n",
    "calc = nml.TargetDistributionCalculator(\n",
    "    y_true='work_home_actual',\n",
    "    timestamp_column_name='timestamp',\n",
    "    problem_type='classification_binary',\n",
    ")\n",
    "\n",
    "calc.fit(reference_df)\n",
    "results = calc.calculate(analysis_df)\n",
    "display(results.data.head(3))\n",
    "\n",
    "distribution_fig1 = results.plot(kind='distribution', distribution='metric', plot_reference=True)\n",
    "distribution_fig1.show()\n",
    "\n",
    "distribution_fig2 = results.plot(kind='distribution', distribution='statistical', plot_reference=True)\n",
    "distribution_fig2.show()"
   ]
  },
  {
   "cell_type": "markdown",
   "id": "3c169106-4fbc-42fb-bf3f-d27e73d798ca",
   "metadata": {},
   "source": [
    "# Multiclass Classification"
   ]
  },
  {
   "cell_type": "code",
   "execution_count": null,
   "id": "533b36a5-001a-4349-91fa-e27cb2d6c9f2",
   "metadata": {},
   "outputs": [],
   "source": [
    "import pandas as pd\n",
    "import nannyml as nml\n",
    "from IPython.display import display\n",
    "\n",
    "reference_df = nml.load_synthetic_multiclass_classification_dataset()[0]\n",
    "analysis_df = nml.load_synthetic_multiclass_classification_dataset()[1]\n",
    "analysis_target_df = nml.load_synthetic_multiclass_classification_dataset()[2]\n",
    "analysis_df = analysis_df.merge(analysis_target_df, on='identifier')\n",
    "\n",
    "display(reference_df.head(3))\n",
    "\n",
    "calc = nml.TargetDistributionCalculator(\n",
    "    y_true='y_true',\n",
    "    timestamp_column_name='timestamp',\n",
    "    problem_type='classification_multiclass',\n",
    ")\n",
    "\n",
    "calc.fit(reference_df)\n",
    "results = calc.calculate(analysis_df)\n",
    "display(results.data.head(3))\n",
    "\n",
    "distribution_fig1 = results.plot(kind='distribution', distribution='metric', plot_reference=True)\n",
    "distribution_fig1.show()\n",
    "\n",
    "distribution_fig2 = results.plot(kind='distribution', distribution='statistical', plot_reference=True)\n",
    "distribution_fig2.show()"
   ]
  },
  {
   "cell_type": "markdown",
   "id": "594abc93-d98e-4d2c-8d6d-f2c6677db01f",
   "metadata": {
    "pycharm": {
     "name": "#%%\n"
    }
   },
   "source": [
    "# Regression"
   ]
  },
  {
   "cell_type": "code",
   "execution_count": null,
   "id": "74fd6ab1-77b2-4a73-873f-6094d7a7282a",
   "metadata": {},
   "outputs": [],
   "source": [
    "import pandas as pd\n",
    "import nannyml as nml\n",
    "from IPython.display import display\n",
    "\n",
    "reference_df = nml.load_synthetic_car_price_dataset()[0]\n",
    "analysis_df = nml.load_synthetic_car_price_dataset()[1]\n",
    "analysis_target_df = nml.load_synthetic_car_price_dataset()[2]\n",
    "analysis_df = analysis_df.join(analysis_target_df)\n",
    "\n",
    "display(reference_df.head(3))\n",
    "\n",
    "calc = nml.TargetDistributionCalculator(\n",
    "    y_true='y_true',\n",
    "    timestamp_column_name='timestamp',\n",
    "    problem_type='regression',\n",
    ")\n",
    "\n",
    "calc.fit(reference_df)\n",
    "results = calc.calculate(analysis_df)\n",
    "display(results.data.head(3))\n",
    "\n",
    "distribution_fig1 = results.plot(kind='distribution', distribution='metric', plot_reference=True)\n",
    "distribution_fig1.show()\n",
    "\n",
    "distribution_fig2 = results.plot(kind='distribution', distribution='statistical', plot_reference=True)\n",
    "distribution_fig2.show()"
   ]
  },
  {
   "cell_type": "code",
   "execution_count": null,
   "id": "f2fa3e83-c6de-459c-a253-5d1211a48b70",
   "metadata": {},
   "outputs": [],
   "source": []
  }
 ],
 "metadata": {
  "kernelspec": {
   "display_name": "Python 3 (ipykernel)",
   "language": "python",
   "name": "python3"
  },
  "language_info": {
   "codemirror_mode": {
    "name": "ipython",
    "version": 3
   },
   "file_extension": ".py",
   "mimetype": "text/x-python",
   "name": "python",
   "nbconvert_exporter": "python",
   "pygments_lexer": "ipython3",
   "version": "3.10.6"
  }
 },
 "nbformat": 4,
 "nbformat_minor": 5
}
