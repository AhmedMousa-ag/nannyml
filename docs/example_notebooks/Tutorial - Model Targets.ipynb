{
 "cells": [
  {
   "cell_type": "markdown",
   "id": "ba6d3336-e5c5-4204-8ac8-4edfd00ac465",
   "metadata": {
    "pycharm": {
     "name": "#%% md\n"
    }
   },
   "source": [
    "# Binary Classification"
   ]
  },
  {
   "cell_type": "code",
   "execution_count": null,
   "id": "2efdfb0a",
   "metadata": {
    "pycharm": {
     "name": "#%%\n"
    }
   },
   "outputs": [],
   "source": [
    "import pandas as pd\n",
    "import nannyml as nml\n",
    "from IPython.display import display\n",
    "\n",
    "reference_df = nml.load_synthetic_car_price_dataset()[0]\n",
    "analysis_df = nml.load_synthetic_car_price_dataset()[1]\n",
    "analysis_target_df = nml.load_synthetic_car_price_dataset()[2]\n",
    "analysis_df = analysis_df.join(analysis_target_df)\n",
    "\n",
    "display(reference_df.head(3))\n",
    "\n",
    "calc = nml.TargetDistributionCalculator(\n",
    "    y_true='y_true',\n",
    "    timestamp_column_name='timestamp',\n",
    "    problem_type='regression',\n",
    ")\n",
    "\n",
    "calc.fit(reference_df)\n",
    "results = calc.calculate(analysis_df)\n",
    "display(results.data)\n",
    "display(results.calculator.previous_reference_results)\n",
    "\n",
    "\n",
    "target_drift_fig = results.plot(kind='target_drift', plot_reference=True)\n",
    "target_drift_fig.show()\n",
    "\n",
    "target_distribution_fig = results.plot(kind='target_distribution', plot_reference=True)\n",
    "target_distribution_fig.show()"
   ]
  },
  {
   "cell_type": "markdown",
   "id": "3c169106-4fbc-42fb-bf3f-d27e73d798ca",
   "metadata": {
    "pycharm": {
     "name": "#%% md\n"
    }
   },
   "source": [
    "# Multiclass Classification"
   ]
  },
  {
   "cell_type": "code",
   "execution_count": null,
   "id": "533b36a5-001a-4349-91fa-e27cb2d6c9f2",
   "metadata": {
    "pycharm": {
     "name": "#%%\n"
    }
   },
   "outputs": [],
   "source": [
    "import pandas as pd\n",
    "import nannyml as nml\n",
    "from IPython.display import display\n",
    "\n",
    "reference_df = nml.load_synthetic_multiclass_classification_dataset()[0]\n",
    "analysis_df = nml.load_synthetic_multiclass_classification_dataset()[1]\n",
    "analysis_target_df = nml.load_synthetic_multiclass_classification_dataset()[2]\n",
    "analysis_df = analysis_df.merge(analysis_target_df, on='identifier')\n",
    "\n",
    "display(reference_df.head(3))\n",
    "\n",
    "calc = nml.TargetDistributionCalculator(\n",
    "    y_true='y_true',\n",
    "    timestamp_column_name='timestamp',\n",
    "    problem_type='classification_multiclass',\n",
    ")\n",
    "\n",
    "calc.fit(reference_df)\n",
    "results = calc.calculate(analysis_df)\n",
    "display(results.data.head(3))\n",
    "\n",
    "target_drift_fig = results.plot(kind='target_drift', plot_reference=True)\n",
    "target_drift_fig.show()\n",
    "\n",
    "target_distribution_fig = results.plot(kind='target_distribution', plot_reference=True)\n",
    "target_distribution_fig.show()"
   ]
  },
  {
   "cell_type": "code",
   "execution_count": null,
   "id": "88423dcd-ae95-45b0-bcfa-7ddd73d36e91",
   "metadata": {
    "pycharm": {
     "name": "#%%\n"
    }
   },
   "outputs": [],
   "source": []
  }
 ],
 "metadata": {
  "kernelspec": {
   "display_name": "Python 3 (ipykernel)",
   "language": "python",
   "name": "python3"
  },
  "language_info": {
   "codemirror_mode": {
    "name": "ipython",
    "version": 3
   },
   "file_extension": ".py",
   "mimetype": "text/x-python",
   "name": "python",
   "nbconvert_exporter": "python",
   "pygments_lexer": "ipython3",
   "version": "3.10.6"
  }
 },
 "nbformat": 4,
 "nbformat_minor": 5
}