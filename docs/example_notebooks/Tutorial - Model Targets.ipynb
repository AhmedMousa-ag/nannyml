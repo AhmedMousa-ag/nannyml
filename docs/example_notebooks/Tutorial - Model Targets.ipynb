{
 "cells": [
  {
   "cell_type": "code",
   "execution_count": null,
   "id": "2efdfb0a",
   "metadata": {
    "pycharm": {
     "name": "#%%\n"
    },
    "scrolled": false
   },
   "outputs": [],
   "source": [
    "import nannyml as nml\n",
    "\n",
    "import pandas as pd\n",
    "\n",
    "from IPython.display import display\n",
    "\n",
    "reference, analysis, analysis_targets = nml.load_synthetic_binary_classification_dataset()\n",
    "\n",
    "metadata = nml.extract_metadata(data = reference, model_name='wfh_predictor', model_type='classification_binary', exclude_columns=['identifier'])\n",
    "\n",
    "metadata.target_column_name = 'work_home_actual'\n",
    "\n",
    "display(reference.head(3))\n",
    "\n",
    "data = pd.concat([reference, analysis.set_index('identifier').join(analysis_targets.set_index('identifier'), on='identifier', rsuffix='_r')], ignore_index=True).reset_index(drop=True)\n",
    "\n",
    "display(data.loc[data['partition'] == 'analysis'].head(3))\n",
    "\n",
    "target_distribution_calculator = nml.TargetDistributionCalculator(model_metadata=metadata, chunk_size=5000)\n",
    "\n",
    "target_distribution_calculator = target_distribution_calculator.fit(reference_data=reference)\n",
    "\n",
    "target_distribution = target_distribution_calculator.calculate(data)\n",
    "\n",
    "display(target_distribution.data.head(3))\n",
    "\n",
    "fig = target_distribution.plot(kind='distribution', distribution='metric')\n",
    "\n",
    "fig.show()\n",
    "\n",
    "fig = target_distribution.plot(kind='distribution', distribution='statistical')\n",
    "\n",
    "fig.show()"
   ]
  },
  {
   "cell_type": "code",
   "execution_count": null,
   "id": "18d496f8",
   "metadata": {
    "pycharm": {
     "name": "#%%\n"
    }
   },
   "outputs": [],
   "source": [
    "import nannyml as nml\n",
    "\n",
    "import pandas as pd\n",
    "\n",
    "from IPython.display import display\n",
    "\n",
    "reference, analysis, analysis_targets = nml.load_synthetic_binary_classification_dataset()\n",
    "\n",
    "metadata = nml.extract_metadata(data = reference, model_name='wfh_predictor', model_type='classification_binary', exclude_columns=['identifier'])\n",
    "\n",
    "metadata.target_column_name = 'work_home_actual'\n",
    "\n",
    "display(reference.head(3))"
   ]
  },
  {
   "cell_type": "code",
   "execution_count": null,
   "id": "844eea5d",
   "metadata": {
    "pycharm": {
     "name": "#%%\n"
    },
    "scrolled": true
   },
   "outputs": [],
   "source": [
    "print(reference.head(3).to_markdown(tablefmt=\"grid\"))"
   ]
  },
  {
   "cell_type": "code",
   "execution_count": null,
   "id": "fc6b800a",
   "metadata": {
    "pycharm": {
     "name": "#%%\n"
    }
   },
   "outputs": [],
   "source": [
    "data = pd.concat([reference, analysis.set_index('identifier').join(analysis_targets.set_index('identifier'), on='identifier', rsuffix='_r')], ignore_index=True).reset_index(drop=True)\n",
    "\n",
    "display(data.loc[data['partition'] == 'analysis'].head(3))"
   ]
  },
  {
   "cell_type": "code",
   "execution_count": null,
   "id": "2df1024c",
   "metadata": {
    "pycharm": {
     "name": "#%%\n"
    },
    "scrolled": true
   },
   "outputs": [],
   "source": [
    "print(data.loc[data['partition'] == 'analysis'].head(3).to_markdown(tablefmt=\"grid\"))"
   ]
  },
  {
   "cell_type": "code",
   "execution_count": null,
   "id": "26cdc870",
   "metadata": {
    "pycharm": {
     "name": "#%%\n"
    }
   },
   "outputs": [],
   "source": [
    "target_distribution_calculator = nml.TargetDistributionCalculator(model_metadata=metadata, chunk_size=5000)\n",
    "\n",
    "target_distribution_calculator = target_distribution_calculator.fit(reference_data=reference)\n",
    "\n",
    "target_distribution = target_distribution_calculator.calculate(data)\n",
    "\n",
    "display(target_distribution.data.head(3))"
   ]
  },
  {
   "cell_type": "code",
   "execution_count": null,
   "id": "b07477c0",
   "metadata": {
    "pycharm": {
     "name": "#%%\n"
    },
    "scrolled": true
   },
   "outputs": [],
   "source": [
    "print(target_distribution.data.head(3).to_markdown(tablefmt=\"grid\"))"
   ]
  },
  {
   "cell_type": "code",
   "execution_count": null,
   "id": "a798c71a",
   "metadata": {
    "pycharm": {
     "name": "#%%\n"
    }
   },
   "outputs": [],
   "source": [
    "fig = target_distribution.plot(kind='distribution', distribution='metric')\n",
    "\n",
    "fig.show()\n",
    "# save figure - not shown on guide:\n",
    "fig.write_image(file=f\"../_static/target_distribution_metric.svg\")"
   ]
  },
  {
   "cell_type": "code",
   "execution_count": null,
   "id": "c59c11c1",
   "metadata": {
    "pycharm": {
     "name": "#%%\n"
    }
   },
   "outputs": [],
   "source": [
    "fig = target_distribution.plot(kind='distribution', distribution='statistical')\n",
    "\n",
    "fig.show()\n",
    "# save figure - not shown on guide:\n",
    "fig.write_image(file=f\"../_static/target_distribution_statistical.svg\")"
   ]
  },
  {
   "cell_type": "code",
   "execution_count": null,
   "id": "60f24f90",
   "metadata": {
    "pycharm": {
     "name": "#%%\n"
    }
   },
   "outputs": [],
   "source": []
  }
 ],
 "metadata": {
  "kernelspec": {
   "display_name": "Python 3 (ipykernel)",
   "language": "python",
   "name": "python3"
  },
  "language_info": {
   "codemirror_mode": {
    "name": "ipython",
    "version": 3
   },
   "file_extension": ".py",
   "mimetype": "text/x-python",
   "name": "python",
   "nbconvert_exporter": "python",
   "pygments_lexer": "ipython3",
   "version": "3.10.4"
  }
 },
 "nbformat": 4,
 "nbformat_minor": 5
}
