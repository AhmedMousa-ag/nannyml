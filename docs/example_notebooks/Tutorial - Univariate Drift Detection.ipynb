{
 "cells": [
  {
   "cell_type": "code",
   "execution_count": null,
   "id": "c7b3b670",
   "metadata": {
    "pycharm": {
     "name": "#%%\n"
    },
    "scrolled": true
   },
   "outputs": [],
   "source": [
    "import nannyml as nml\n",
    "\n",
    "import pandas as pd\n",
    "\n",
    "from IPython.display import display\n",
    "\n",
    "reference, analysis, analysis_target = nml.load_synthetic_binary_classification_dataset()\n",
    "\n",
    "metadata = nml.extract_metadata(data = reference, model_name='wfh_predictor', model_type='classification_binary', exclude_columns=['identifier'])\n",
    "\n",
    "metadata.target_column_name = 'work_home_actual'\n",
    "\n",
    "display(reference.head())\n",
    "\n",
    "# Let's initialize the object that will perform the Univariate Drift calculations\n",
    "\n",
    "# Let's use a chunk size of 5000 data points to create our drift statistics\n",
    "\n",
    "univariate_calculator = nml.UnivariateStatisticalDriftCalculator(model_metadata=metadata, chunk_size=5000)\n",
    "\n",
    "univariate_calculator = univariate_calculator.fit(reference_data=reference)\n",
    "\n",
    "# let's see drift statistics for all available data\n",
    "\n",
    "data = pd.concat([reference, analysis], ignore_index=True)\n",
    "\n",
    "univariate_results = univariate_calculator.calculate(data=data)\n",
    "\n",
    "# let's view a small subset of our results:\n",
    "\n",
    "# We use the data property of the results class to view the relevant data.\n",
    "\n",
    "display(univariate_results.data.iloc[:5, :9])\n",
    "\n",
    "display(univariate_results.data.iloc[-5:, :9])\n",
    "\n",
    "# let's plot drift results for all model inputs\n",
    "\n",
    "for feature in metadata.features:\n",
    "\n",
    "    figure = univariate_results.plot(kind='feature_drift', metric='statistic', feature_label=feature.label)\n",
    "\n",
    "    figure.show()\n",
    "\n",
    "# let's plot distribution drift results for continuous model inputs\n",
    "\n",
    "for feature in metadata.continuous_features:\n",
    "\n",
    "    figure = univariate_results.plot(\n",
    "\n",
    "        kind='feature_distribution',\n",
    "\n",
    "        feature_label=feature.label\n",
    "\n",
    "    )\n",
    "\n",
    "    figure.show()\n",
    "\n",
    "# let's plot distribution drift results for categorical model inputs\n",
    "\n",
    "for feature in metadata.categorical_features:\n",
    "\n",
    "    figure = univariate_results.plot(\n",
    "\n",
    "        kind='feature_distribution',\n",
    "\n",
    "        feature_label=feature.label\n",
    "\n",
    "    )\n",
    "\n",
    "    figure.show()\n",
    "\n",
    "ranker = nml.Ranker.by('alert_count')\n",
    "\n",
    "ranked_features = ranker.rank(univariate_results, model_metadata=metadata, only_drifting = False)\n",
    "\n",
    "display(ranked_features)"
   ]
  },
  {
   "cell_type": "code",
   "execution_count": null,
   "id": "5d5dfa56",
   "metadata": {
    "pycharm": {
     "name": "#%%\n"
    }
   },
   "outputs": [],
   "source": [
    "import nannyml as nml\n",
    "\n",
    "import pandas as pd\n",
    "\n",
    "from IPython.display import display\n",
    "\n",
    "reference, analysis, analysis_target = nml.load_synthetic_binary_classification_dataset()\n",
    "\n",
    "metadata = nml.extract_metadata(data = reference, model_name='wfh_predictor', model_type='classification_binary', exclude_columns=['identifier'])\n",
    "\n",
    "metadata.target_column_name = 'work_home_actual'\n",
    "\n",
    "display(reference.head())"
   ]
  },
  {
   "cell_type": "code",
   "execution_count": null,
   "id": "ab71c40b",
   "metadata": {
    "pycharm": {
     "name": "#%%\n"
    }
   },
   "outputs": [],
   "source": [
    "print(reference.head().to_markdown(tablefmt=\"grid\"))"
   ]
  },
  {
   "cell_type": "code",
   "execution_count": null,
   "id": "d2411c35",
   "metadata": {
    "pycharm": {
     "name": "#%%\n"
    }
   },
   "outputs": [],
   "source": [
    "# Let's initialize the object that will perform the Univariate Drift calculations\n",
    "\n",
    "# Let's use a chunk size of 5000 data points to create our drift statistics\n",
    "\n",
    "univariate_calculator = nml.UnivariateStatisticalDriftCalculator(model_metadata=metadata, chunk_size=5000)\n",
    "\n",
    "univariate_calculator = univariate_calculator.fit(reference_data=reference)\n",
    "\n",
    "# let's see drift statistics for all available data\n",
    "\n",
    "data = pd.concat([reference, analysis], ignore_index=True)\n",
    "\n",
    "univariate_results = univariate_calculator.calculate(data=data)\n",
    "\n",
    "# let's view a small subset of our results:\n",
    "\n",
    "# We use the data property of the results class to view the relevant data.\n",
    "\n",
    "display(univariate_results.data.iloc[:5, :9])"
   ]
  },
  {
   "cell_type": "code",
   "execution_count": null,
   "id": "9a2cf881",
   "metadata": {
    "pycharm": {
     "name": "#%%\n"
    }
   },
   "outputs": [],
   "source": [
    "print(univariate_results.data.iloc[:5, :9].to_markdown(tablefmt=\"grid\"))"
   ]
  },
  {
   "cell_type": "code",
   "execution_count": null,
   "id": "8a62201b",
   "metadata": {
    "pycharm": {
     "name": "#%%\n"
    }
   },
   "outputs": [],
   "source": [
    "display(univariate_results.data.iloc[-5:, :9])"
   ]
  },
  {
   "cell_type": "code",
   "execution_count": null,
   "id": "e7048b37",
   "metadata": {
    "pycharm": {
     "name": "#%%\n"
    }
   },
   "outputs": [],
   "source": [
    "print(univariate_results.data.iloc[-5:, :9].to_markdown(tablefmt=\"grid\"))"
   ]
  },
  {
   "cell_type": "code",
   "execution_count": null,
   "id": "c3319d84",
   "metadata": {
    "pycharm": {
     "name": "#%%\n"
    }
   },
   "outputs": [],
   "source": [
    "# let's plot drift results for all model inputs\n",
    "\n",
    "for feature in metadata.features:\n",
    "\n",
    "    figure = univariate_results.plot(kind='feature_drift', metric='statistic', feature_label=feature.label)\n",
    "\n",
    "    figure.show()\n",
    "    # save figure - not shown on guide:\n",
    "    figure.write_image(file=f\"../_static/drift-guide-{feature.label}.svg\")"
   ]
  },
  {
   "cell_type": "code",
   "execution_count": null,
   "id": "e0d03718",
   "metadata": {
    "pycharm": {
     "name": "#%%\n"
    },
    "scrolled": true
   },
   "outputs": [],
   "source": [
    "# let's plot distribution drift results for continuous model inputs\n",
    "\n",
    "for feature in metadata.continuous_features:\n",
    "\n",
    "    figure = univariate_results.plot(\n",
    "\n",
    "        kind='feature_distribution',\n",
    "\n",
    "        feature_label=feature.label\n",
    "\n",
    "    )\n",
    "\n",
    "    figure.show()\n",
    "    # save figure - not shown on guide:\n",
    "    figure.write_image(file=f\"../_static/drift-guide-joyplot-{feature.label}.svg\")"
   ]
  },
  {
   "cell_type": "code",
   "execution_count": null,
   "id": "87608847",
   "metadata": {
    "pycharm": {
     "name": "#%%\n"
    }
   },
   "outputs": [],
   "source": [
    "# let's plot distribution drift results for categorical model inputs\n",
    "\n",
    "for feature in metadata.categorical_features:\n",
    "\n",
    "    figure = univariate_results.plot(\n",
    "\n",
    "        kind='feature_distribution',\n",
    "\n",
    "        feature_label=feature.label\n",
    "\n",
    "    )\n",
    "\n",
    "    figure.show()\n",
    "    # save figure - not shown on guide:\n",
    "    figure.write_image(file=f\"../_static/drift-guide-stacked-{feature.label}.svg\")"
   ]
  },
  {
   "cell_type": "code",
   "execution_count": null,
   "id": "8e646124",
   "metadata": {
    "pycharm": {
     "name": "#%%\n"
    }
   },
   "outputs": [],
   "source": [
    "ranker = nml.Ranker.by('alert_count')\n",
    "\n",
    "ranked_features = ranker.rank(univariate_results, model_metadata=metadata, only_drifting = False)\n",
    "\n",
    "ranked_features"
   ]
  },
  {
   "cell_type": "code",
   "execution_count": null,
   "id": "65628d11",
   "metadata": {
    "pycharm": {
     "name": "#%%\n"
    }
   },
   "outputs": [],
   "source": [
    "print(ranked_features.to_markdown(tablefmt=\"grid\"))"
   ]
  },
  {
   "cell_type": "code",
   "execution_count": null,
   "id": "cd3f2691",
   "metadata": {
    "pycharm": {
     "name": "#%%\n"
    }
   },
   "outputs": [],
   "source": []
  }
 ],
 "metadata": {
  "kernelspec": {
   "display_name": "Python 3 (ipykernel)",
   "language": "python",
   "name": "python3"
  },
  "language_info": {
   "codemirror_mode": {
    "name": "ipython",
    "version": 3
   },
   "file_extension": ".py",
   "mimetype": "text/x-python",
   "name": "python",
   "nbconvert_exporter": "python",
   "pygments_lexer": "ipython3",
   "version": "3.10.4"
  }
 },
 "nbformat": 4,
 "nbformat_minor": 5
}
