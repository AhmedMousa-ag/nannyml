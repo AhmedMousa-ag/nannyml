{
 "cells": [
  {
   "cell_type": "raw",
   "id": "eb59b0a8-c583-4404-92e5-b803c5bd6b69",
   "metadata": {
    "pycharm": {
     "name": "#%% raw\n"
    }
   },
   "source": [
    "# figure.write_image(f\"../_static/drift-guide-joyplot-{cont_feat}.svg\")\n",
    "# figure.show()\n",
    "\n",
    "# print(df.to_markdown(tablefmt=\"grid\"))"
   ]
  },
  {
   "cell_type": "code",
   "execution_count": null,
   "id": "082d3940-314d-40f5-8639-e75aa23ab59a",
   "metadata": {
    "tags": [],
    "pycharm": {
     "name": "#%%\n"
    }
   },
   "outputs": [],
   "source": [
    "import nannyml as nml\n",
    "import pandas as pd\n",
    "from IPython.display import display\n",
    "\n",
    "reference_df = nml.load_synthetic_binary_classification_dataset()[0]\n",
    "analysis_df = nml.load_synthetic_binary_classification_dataset()[1]\n",
    "display(reference_df.head())\n",
    "\n",
    "feature_column_names = [\n",
    "    col for col in reference_df.columns if col not in [\n",
    "    'timestamp', 'y_pred_proba', 'period', 'y_pred', 'work_home_actual', 'identifier'\n",
    "]]\n",
    "calc = nml.UnivariateStatisticalDriftCalculator(\n",
    "    feature_column_names=feature_column_names,\n",
    "    timestamp_column_name='timestamp'\n",
    ")\n",
    "\n",
    "calc.fit(reference_df)\n",
    "results = calc.calculate(analysis_df)\n",
    "display(results.data.iloc[:, :9])\n",
    "display(calc.previous_reference_results.iloc[:, :9])\n",
    "\n",
    "for feature in calc.feature_column_names:\n",
    "    drift_fig = results.plot(\n",
    "        kind='feature_drift',\n",
    "        feature_column_name=feature,\n",
    "        plot_reference=True\n",
    "    )\n",
    "    drift_fig.show()\n",
    "\n",
    "for cont_feat in calc.continuous_column_names:\n",
    "    figure = results.plot(\n",
    "        kind='feature_distribution',\n",
    "        feature_column_name=cont_feat,\n",
    "        plot_reference=True\n",
    "    )\n",
    "    figure.show()\n",
    "\n",
    "for cat_feat in calc.categorical_column_names:\n",
    "    results.plot(\n",
    "        kind='feature_distribution',\n",
    "        feature_column_name=cat_feat,\n",
    "        plot_reference=True).show()\n",
    "\n",
    "ranker = nml.Ranker.by('alert_count')\n",
    "ranked_features = ranker.rank(results, only_drifting = False)\n",
    "display(ranked_features)"
   ]
  },
  {
   "cell_type": "code",
   "execution_count": null,
   "id": "38982d74-5064-4ea4-bd74-c22bc6b5139d",
   "metadata": {
    "pycharm": {
     "name": "#%%\n"
    }
   },
   "outputs": [],
   "source": []
  },
  {
   "cell_type": "code",
   "execution_count": null,
   "id": "ec4e0ab8-dc3b-42b4-ad20-06b7682756e0",
   "metadata": {
    "pycharm": {
     "name": "#%%\n"
    }
   },
   "outputs": [],
   "source": []
  },
  {
   "cell_type": "code",
   "execution_count": null,
   "id": "5e1bd987-f39e-4b92-aef1-565f2710444a",
   "metadata": {
    "pycharm": {
     "name": "#%%\n"
    }
   },
   "outputs": [],
   "source": []
  }
 ],
 "metadata": {
  "kernelspec": {
   "display_name": "Python 3 (ipykernel)",
   "language": "python",
   "name": "python3"
  },
  "language_info": {
   "codemirror_mode": {
    "name": "ipython",
    "version": 3
   },
   "file_extension": ".py",
   "mimetype": "text/x-python",
   "name": "python",
   "nbconvert_exporter": "python",
   "pygments_lexer": "ipython3",
   "version": "3.10.6"
  }
 },
 "nbformat": 4,
 "nbformat_minor": 5
}