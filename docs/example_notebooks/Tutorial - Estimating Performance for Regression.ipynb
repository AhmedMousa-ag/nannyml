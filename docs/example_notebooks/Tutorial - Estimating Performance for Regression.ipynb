{
 "cells": [
  {
   "cell_type": "code",
   "execution_count": null,
   "id": "135fcae1",
   "metadata": {},
   "outputs": [],
   "source": [
    "import pandas as pd\n",
    "import nannyml as nml\n",
    "from IPython.display import display\n",
    "\n",
    "reference_df = nml.load_synthetic_car_price_dataset()[0]\n",
    "analysis_df = nml.load_synthetic_car_price_dataset()[1]\n",
    "display(reference_df.head(3))\n",
    "\n",
    "estimator = nml.DEE(\n",
    "    feature_column_names=['car_age', 'km_driven', 'price_new', 'accident_count', 'door_count', 'fuel', 'transmission'],\n",
    "    y_pred='y_pred',\n",
    "    y_true='y_true',\n",
    "    timestamp_column_name='timestamp',\n",
    "    metrics=['rmse', 'rmsle'],\n",
    "    chunk_size=6000,\n",
    "    tune_hyperparameters=False\n",
    ")\n",
    "estimator.fit(reference_df)\n",
    "\n",
    "results = estimator.estimate(analysis_df)\n",
    "display(results.data)\n",
    "display(results.estimator.previous_reference_results)\n",
    "\n",
    "for metric in estimator.metrics:\n",
    "    fig1 = results.plot(kind='performance', metric=metric, plot_reference=True)\n",
    "    fig1.show()\n",
    "    # fig1.show()\n",
    "    # fig1.write_image(f\"../_static/tutorial-perf-est-regression-{metric}.svg\")"
   ]
  },
  {
   "cell_type": "code",
   "execution_count": null,
   "id": "f61c0d55-19eb-4a2c-8ea6-77505fa4aac1",
   "metadata": {},
   "outputs": [],
   "source": [
    "print(reference_df.head(3).to_markdown(tablefmt=\"grid\"))"
   ]
  },
  {
   "cell_type": "code",
   "execution_count": null,
   "id": "46456bd9-e251-4a5e-9a4f-7d202dba6a01",
   "metadata": {
    "tags": []
   },
   "outputs": [],
   "source": [
    "print(results.data.to_markdown(tablefmt=\"grid\"))"
   ]
  },
  {
   "cell_type": "code",
   "execution_count": null,
   "id": "46326c0d-7c78-4cfa-83ce-4b2132c12e03",
   "metadata": {
    "tags": []
   },
   "outputs": [],
   "source": [
    "print(results.estimator.previous_reference_results.to_markdown(tablefmt=\"grid\"))"
   ]
  },
  {
   "cell_type": "code",
   "execution_count": null,
   "id": "129f0c3e-6cf7-4228-ae02-58c4e9ef8774",
   "metadata": {},
   "outputs": [],
   "source": []
  },
  {
   "cell_type": "code",
   "execution_count": null,
   "id": "c5cc1216-9095-4e38-ae7a-d11579a29204",
   "metadata": {},
   "outputs": [],
   "source": []
  },
  {
   "cell_type": "code",
   "execution_count": null,
   "id": "0ccfaa41-d30c-4fde-9d51-a91ef066fef7",
   "metadata": {},
   "outputs": [],
   "source": [
    "import pandas as pd\n",
    "import nannyml as nml\n",
    "from IPython.display import display\n",
    "\n",
    "reference_df = nml.load_synthetic_car_price_dataset()[0]\n",
    "analysis_df = nml.load_synthetic_car_price_dataset()[1]\n",
    "display(reference_df.head(3))"
   ]
  },
  {
   "cell_type": "code",
   "execution_count": null,
   "id": "5a50e118-835b-4717-98eb-a4b8fd53bfd3",
   "metadata": {},
   "outputs": [],
   "source": [
    "estimator = nml.DEE(\n",
    "    feature_column_names=['car_age', 'km_driven', 'price_new', 'accident_count', 'door_count', 'fuel', 'transmission'],\n",
    "    y_pred='y_pred',\n",
    "    y_true='y_true',\n",
    "    timestamp_column_name='timestamp',\n",
    "    metrics=['rmse', 'rmsle'],\n",
    "    chunk_size=6000,\n",
    "    tune_hyperparameters=False\n",
    ")"
   ]
  },
  {
   "cell_type": "code",
   "execution_count": null,
   "id": "f826dce1-cd48-4335-bb44-57460b082077",
   "metadata": {},
   "outputs": [],
   "source": [
    "estimator.fit(reference_df)\n",
    "results = estimator.estimate(analysis_df)\n",
    "display(results.data)"
   ]
  },
  {
   "cell_type": "code",
   "execution_count": null,
   "id": "632f0383-f61b-4352-bf14-15faf201c4cc",
   "metadata": {},
   "outputs": [],
   "source": [
    "display(results.estimator.previous_reference_results)"
   ]
  },
  {
   "cell_type": "code",
   "execution_count": null,
   "id": "707f3ba1-68d2-4299-bee5-df340668a970",
   "metadata": {},
   "outputs": [],
   "source": [
    "for metric in estimator.metrics:\n",
    "    fig1 = results.plot(kind='performance', metric=metric, plot_reference=True)\n",
    "    fig1.show()"
   ]
  },
  {
   "cell_type": "code",
   "execution_count": null,
   "id": "ba62d7a1-4676-476d-a3f3-885ef11131b8",
   "metadata": {},
   "outputs": [],
   "source": []
  }
 ],
 "metadata": {
  "kernelspec": {
   "display_name": "Python 3 (ipykernel)",
   "language": "python",
   "name": "python3"
  },
  "language_info": {
   "codemirror_mode": {
    "name": "ipython",
    "version": 3
   },
   "file_extension": ".py",
   "mimetype": "text/x-python",
   "name": "python",
   "nbconvert_exporter": "python",
   "pygments_lexer": "ipython3",
   "version": "3.10.6"
  }
 },
 "nbformat": 4,
 "nbformat_minor": 5
}
