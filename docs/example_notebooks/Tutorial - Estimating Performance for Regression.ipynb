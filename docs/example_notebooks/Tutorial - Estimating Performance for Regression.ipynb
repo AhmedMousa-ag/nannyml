{
 "cells": [
  {
   "cell_type": "code",
   "execution_count": 6,
   "id": "135fcae1",
   "metadata": {},
   "outputs": [
    {
     "data": {
      "text/html": [
       "<div>\n",
       "<style scoped>\n",
       "    .dataframe tbody tr th:only-of-type {\n",
       "        vertical-align: middle;\n",
       "    }\n",
       "\n",
       "    .dataframe tbody tr th {\n",
       "        vertical-align: top;\n",
       "    }\n",
       "\n",
       "    .dataframe thead th {\n",
       "        text-align: right;\n",
       "    }\n",
       "</style>\n",
       "<table border=\"1\" class=\"dataframe\">\n",
       "  <thead>\n",
       "    <tr style=\"text-align: right;\">\n",
       "      <th></th>\n",
       "      <th>car_age</th>\n",
       "      <th>km_driven</th>\n",
       "      <th>price_new</th>\n",
       "      <th>accident_count</th>\n",
       "      <th>door_count</th>\n",
       "      <th>fuel</th>\n",
       "      <th>transmission</th>\n",
       "      <th>y_true</th>\n",
       "      <th>y_pred</th>\n",
       "      <th>timestamp</th>\n",
       "    </tr>\n",
       "  </thead>\n",
       "  <tbody>\n",
       "    <tr>\n",
       "      <th>0</th>\n",
       "      <td>15.0</td>\n",
       "      <td>144020.0</td>\n",
       "      <td>42810.0</td>\n",
       "      <td>4.0</td>\n",
       "      <td>3.0</td>\n",
       "      <td>diesel</td>\n",
       "      <td>automatic</td>\n",
       "      <td>569.0</td>\n",
       "      <td>1246.0</td>\n",
       "      <td>2017-01-24 08:00:00.000</td>\n",
       "    </tr>\n",
       "    <tr>\n",
       "      <th>1</th>\n",
       "      <td>12.0</td>\n",
       "      <td>57078.0</td>\n",
       "      <td>31835.0</td>\n",
       "      <td>3.0</td>\n",
       "      <td>3.0</td>\n",
       "      <td>electric</td>\n",
       "      <td>automatic</td>\n",
       "      <td>4277.0</td>\n",
       "      <td>4924.0</td>\n",
       "      <td>2017-01-24 08:00:33.600</td>\n",
       "    </tr>\n",
       "    <tr>\n",
       "      <th>2</th>\n",
       "      <td>2.0</td>\n",
       "      <td>76288.0</td>\n",
       "      <td>31851.0</td>\n",
       "      <td>3.0</td>\n",
       "      <td>5.0</td>\n",
       "      <td>diesel</td>\n",
       "      <td>automatic</td>\n",
       "      <td>7011.0</td>\n",
       "      <td>5744.0</td>\n",
       "      <td>2017-01-24 08:01:07.200</td>\n",
       "    </tr>\n",
       "  </tbody>\n",
       "</table>\n",
       "</div>"
      ],
      "text/plain": [
       "   car_age  km_driven  price_new  accident_count  door_count      fuel  \\\n",
       "0     15.0   144020.0    42810.0             4.0         3.0    diesel   \n",
       "1     12.0    57078.0    31835.0             3.0         3.0  electric   \n",
       "2      2.0    76288.0    31851.0             3.0         5.0    diesel   \n",
       "\n",
       "  transmission  y_true  y_pred                timestamp  \n",
       "0    automatic   569.0  1246.0  2017-01-24 08:00:00.000  \n",
       "1    automatic  4277.0  4924.0  2017-01-24 08:00:33.600  \n",
       "2    automatic  7011.0  5744.0  2017-01-24 08:01:07.200  "
      ]
     },
     "metadata": {},
     "output_type": "display_data"
    },
    {
     "data": {
      "text/html": [
       "<div>\n",
       "<style scoped>\n",
       "    .dataframe tbody tr th:only-of-type {\n",
       "        vertical-align: middle;\n",
       "    }\n",
       "\n",
       "    .dataframe tbody tr th {\n",
       "        vertical-align: top;\n",
       "    }\n",
       "\n",
       "    .dataframe thead th {\n",
       "        text-align: right;\n",
       "    }\n",
       "</style>\n",
       "<table border=\"1\" class=\"dataframe\">\n",
       "  <thead>\n",
       "    <tr style=\"text-align: right;\">\n",
       "      <th></th>\n",
       "      <th>key</th>\n",
       "      <th>start_index</th>\n",
       "      <th>end_index</th>\n",
       "      <th>start_date</th>\n",
       "      <th>end_date</th>\n",
       "      <th>realized_rmse</th>\n",
       "      <th>estimated_rmse</th>\n",
       "      <th>upper_confidence_rmse</th>\n",
       "      <th>lower_confidence_rmse</th>\n",
       "      <th>sampling_error_rmse</th>\n",
       "      <th>...</th>\n",
       "      <th>lower_threshold_rmse</th>\n",
       "      <th>alert_rmse</th>\n",
       "      <th>realized_rmsle</th>\n",
       "      <th>estimated_rmsle</th>\n",
       "      <th>upper_confidence_rmsle</th>\n",
       "      <th>lower_confidence_rmsle</th>\n",
       "      <th>sampling_error_rmsle</th>\n",
       "      <th>upper_threshold_rmsle</th>\n",
       "      <th>lower_threshold_rmsle</th>\n",
       "      <th>alert_rmsle</th>\n",
       "    </tr>\n",
       "  </thead>\n",
       "  <tbody>\n",
       "    <tr>\n",
       "      <th>0</th>\n",
       "      <td>[0:5999]</td>\n",
       "      <td>0</td>\n",
       "      <td>5999</td>\n",
       "      <td>2017-02-16 16:00:00</td>\n",
       "      <td>2017-02-18 23:59:26.400</td>\n",
       "      <td>NaN</td>\n",
       "      <td>1067.416369</td>\n",
       "      <td>1098.460396</td>\n",
       "      <td>1036.372342</td>\n",
       "      <td>10.348009</td>\n",
       "      <td>...</td>\n",
       "      <td>1014.276167</td>\n",
       "      <td>False</td>\n",
       "      <td>NaN</td>\n",
       "      <td>0.265777</td>\n",
       "      <td>0.272494</td>\n",
       "      <td>0.259060</td>\n",
       "      <td>0.002239</td>\n",
       "      <td>0.271511</td>\n",
       "      <td>0.263948</td>\n",
       "      <td>False</td>\n",
       "    </tr>\n",
       "    <tr>\n",
       "      <th>1</th>\n",
       "      <td>[6000:11999]</td>\n",
       "      <td>6000</td>\n",
       "      <td>11999</td>\n",
       "      <td>2017-02-19 00:00:00</td>\n",
       "      <td>2017-02-21 07:59:26.400</td>\n",
       "      <td>NaN</td>\n",
       "      <td>1062.741369</td>\n",
       "      <td>1093.785396</td>\n",
       "      <td>1031.697342</td>\n",
       "      <td>10.348009</td>\n",
       "      <td>...</td>\n",
       "      <td>1014.276167</td>\n",
       "      <td>False</td>\n",
       "      <td>NaN</td>\n",
       "      <td>0.266766</td>\n",
       "      <td>0.273483</td>\n",
       "      <td>0.260049</td>\n",
       "      <td>0.002239</td>\n",
       "      <td>0.271511</td>\n",
       "      <td>0.263948</td>\n",
       "      <td>False</td>\n",
       "    </tr>\n",
       "    <tr>\n",
       "      <th>2</th>\n",
       "      <td>[12000:17999]</td>\n",
       "      <td>12000</td>\n",
       "      <td>17999</td>\n",
       "      <td>2017-02-21 08:00:00</td>\n",
       "      <td>2017-02-23 15:59:26.400</td>\n",
       "      <td>NaN</td>\n",
       "      <td>1054.533326</td>\n",
       "      <td>1085.577353</td>\n",
       "      <td>1023.489299</td>\n",
       "      <td>10.348009</td>\n",
       "      <td>...</td>\n",
       "      <td>1014.276167</td>\n",
       "      <td>False</td>\n",
       "      <td>NaN</td>\n",
       "      <td>0.267806</td>\n",
       "      <td>0.274523</td>\n",
       "      <td>0.261089</td>\n",
       "      <td>0.002239</td>\n",
       "      <td>0.271511</td>\n",
       "      <td>0.263948</td>\n",
       "      <td>False</td>\n",
       "    </tr>\n",
       "  </tbody>\n",
       "</table>\n",
       "<p>3 rows × 21 columns</p>\n",
       "</div>"
      ],
      "text/plain": [
       "             key  start_index  end_index          start_date  \\\n",
       "0       [0:5999]            0       5999 2017-02-16 16:00:00   \n",
       "1   [6000:11999]         6000      11999 2017-02-19 00:00:00   \n",
       "2  [12000:17999]        12000      17999 2017-02-21 08:00:00   \n",
       "\n",
       "                 end_date  realized_rmse  estimated_rmse  \\\n",
       "0 2017-02-18 23:59:26.400            NaN     1067.416369   \n",
       "1 2017-02-21 07:59:26.400            NaN     1062.741369   \n",
       "2 2017-02-23 15:59:26.400            NaN     1054.533326   \n",
       "\n",
       "   upper_confidence_rmse  lower_confidence_rmse  sampling_error_rmse  ...  \\\n",
       "0            1098.460396            1036.372342            10.348009  ...   \n",
       "1            1093.785396            1031.697342            10.348009  ...   \n",
       "2            1085.577353            1023.489299            10.348009  ...   \n",
       "\n",
       "   lower_threshold_rmse  alert_rmse  realized_rmsle  estimated_rmsle  \\\n",
       "0           1014.276167       False             NaN         0.265777   \n",
       "1           1014.276167       False             NaN         0.266766   \n",
       "2           1014.276167       False             NaN         0.267806   \n",
       "\n",
       "   upper_confidence_rmsle  lower_confidence_rmsle  sampling_error_rmsle  \\\n",
       "0                0.272494                0.259060              0.002239   \n",
       "1                0.273483                0.260049              0.002239   \n",
       "2                0.274523                0.261089              0.002239   \n",
       "\n",
       "   upper_threshold_rmsle  lower_threshold_rmsle  alert_rmsle  \n",
       "0               0.271511               0.263948        False  \n",
       "1               0.271511               0.263948        False  \n",
       "2               0.271511               0.263948        False  \n",
       "\n",
       "[3 rows x 21 columns]"
      ]
     },
     "metadata": {},
     "output_type": "display_data"
    },
    {
     "data": {
      "application/vnd.plotly.v1+json": {
       "config": {
        "plotlyServerURL": "https://plot.ly"
       },
       "data": [
        {
         "hoverinfo": "skip",
         "line": {
          "color": "rgba(0, 0, 0, 0)",
          "shape": "hv"
         },
         "mode": "lines",
         "showlegend": false,
         "type": "scatter",
         "x": [
          "2017-01-24T08:00:00",
          "2017-01-26T16:00:00",
          "2017-01-29T00:00:00",
          "2017-01-31T08:00:00",
          "2017-02-02T16:00:00",
          "2017-02-05T00:00:00",
          "2017-02-07T08:00:00",
          "2017-02-09T16:00:00",
          "2017-02-12T00:00:00",
          "2017-02-14T08:00:00",
          "2017-02-16T16:00:00",
          "2017-02-19T00:00:00",
          "2017-02-21T08:00:00",
          "2017-02-23T16:00:00",
          "2017-02-26T00:00:00",
          "2017-02-28T08:00:00",
          "2017-03-02T16:00:00",
          "2017-03-05T00:00:00",
          "2017-03-07T08:00:00",
          "2017-03-09T16:00:00",
          "2017-03-11T23:59:26.400000"
         ],
         "y": [
          1104.4400326807483,
          1087.2365324572506,
          1086.0069861519519,
          1086.09273523938,
          1097.611348697632,
          1095.6103577538572,
          1089.2101078755963,
          1085.7818191537624,
          1082.6795484267482,
          1084.5532092379265,
          1098.4603960556337,
          1093.7853957685404,
          1085.5773527806564,
          1093.5792517724099,
          1085.8294135823726,
          961.5414180194562,
          961.384151657207,
          959.6365813295889,
          963.2810582316208,
          952.7744654460575,
          952.7744654460575
         ]
        },
        {
         "fill": "tonexty",
         "fillcolor": "rgba(59, 2, 128, 0.2)",
         "hoverinfo": "skip",
         "line": {
          "color": "rgba(0, 0, 0, 0)",
          "shape": "hv"
         },
         "mode": "lines",
         "showlegend": false,
         "type": "scatter",
         "x": [
          "2017-01-24T08:00:00",
          "2017-01-26T16:00:00",
          "2017-01-29T00:00:00",
          "2017-01-31T08:00:00",
          "2017-02-02T16:00:00",
          "2017-02-05T00:00:00",
          "2017-02-07T08:00:00",
          "2017-02-09T16:00:00",
          "2017-02-12T00:00:00",
          "2017-02-14T08:00:00",
          "2017-02-16T16:00:00",
          "2017-02-19T00:00:00",
          "2017-02-21T08:00:00",
          "2017-02-23T16:00:00",
          "2017-02-26T00:00:00",
          "2017-02-28T08:00:00",
          "2017-03-02T16:00:00",
          "2017-03-05T00:00:00",
          "2017-03-07T08:00:00",
          "2017-03-09T16:00:00",
          "2017-03-11T23:59:26.400000"
         ],
         "y": [
          1042.3519790902217,
          1025.148478866724,
          1023.9189325614253,
          1024.0046816488534,
          1035.5232951071052,
          1033.5223041633305,
          1027.1220542850697,
          1023.6937655632358,
          1020.5914948362216,
          1022.4651556473999,
          1036.372342465107,
          1031.6973421780137,
          1023.4892991901298,
          1031.4911981818832,
          1023.741359991846,
          899.4533644289297,
          899.2960980666805,
          897.5485277390625,
          901.1930046410944,
          890.6864118555311,
          890.6864118555311
         ]
        },
        {
         "hoverinfo": "skip",
         "legendgroup": "1",
         "line": {
          "color": "#00c8e5",
          "shape": "hv",
          "width": 2
         },
         "mode": "lines",
         "name": "Reference period (realized RMSE)",
         "type": "scatter",
         "x": [
          "2017-01-24T08:00:00",
          "2017-01-26T16:00:00",
          "2017-01-29T00:00:00",
          "2017-01-31T08:00:00",
          "2017-02-02T16:00:00",
          "2017-02-05T00:00:00",
          "2017-02-07T08:00:00",
          "2017-02-09T16:00:00",
          "2017-02-12T00:00:00",
          "2017-02-14T08:00:00",
          "2017-02-16T15:59:26.400000"
         ],
         "y": [
          1086.309761992407,
          1060.2215384060069,
          1038.4193382251701,
          1038.3987142872113,
          1072.0212205611106,
          1074.9672323688135,
          1058.4759972085653,
          1050.695322473012,
          1048.3967740475614,
          1060.0436397463393,
          1060.0436397463393
         ]
        },
        {
         "hoverinfo": "skip",
         "legendgroup": "1",
         "line": {
          "color": "#3b0280",
          "dash": "dot",
          "shape": "hv",
          "width": 2
         },
         "mode": "lines",
         "name": "Analysis period (estimated RMSE)",
         "type": "scatter",
         "x": [
          "2017-02-16T16:00:00",
          "2017-02-19T00:00:00",
          "2017-02-21T08:00:00",
          "2017-02-23T16:00:00",
          "2017-02-26T00:00:00",
          "2017-02-28T08:00:00",
          "2017-03-02T16:00:00",
          "2017-03-05T00:00:00",
          "2017-03-07T08:00:00",
          "2017-03-09T16:00:00",
          "2017-03-11T23:59:26.400000"
         ],
         "y": [
          1067.4163692603704,
          1062.741368973277,
          1054.533325985393,
          1062.5352249771465,
          1054.7853867871092,
          930.4973912241929,
          930.3401248619438,
          928.5925545343257,
          932.2370314363576,
          921.7304386507943,
          921.7304386507943
         ]
        },
        {
         "customdata": [
          [
           "[0:5999]",
           "Jan-24-2017",
           "Jan-26-2017",
           "1086.3098",
           "<b style=\"color:#00c8e5;line-height:60px\">Reference</b>",
           "",
           "",
           31.044
          ],
          [
           "[6000:11999]",
           "Jan-26-2017",
           "Jan-28-2017",
           "1060.2215",
           "<b style=\"color:#00c8e5;line-height:60px\">Reference</b>",
           "",
           "",
           31.044
          ],
          [
           "[12000:17999]",
           "Jan-29-2017",
           "Jan-31-2017",
           "1038.4193",
           "<b style=\"color:#00c8e5;line-height:60px\">Reference</b>",
           "",
           "",
           31.044
          ],
          [
           "[18000:23999]",
           "Jan-31-2017",
           "Feb-02-2017",
           "1038.3987",
           "<b style=\"color:#00c8e5;line-height:60px\">Reference</b>",
           "",
           "",
           31.044
          ],
          [
           "[24000:29999]",
           "Feb-02-2017",
           "Feb-04-2017",
           "1072.0212",
           "<b style=\"color:#00c8e5;line-height:60px\">Reference</b>",
           "",
           "",
           31.044
          ],
          [
           "[30000:35999]",
           "Feb-05-2017",
           "Feb-07-2017",
           "1074.9672",
           "<b style=\"color:#00c8e5;line-height:60px\">Reference</b>",
           "",
           "",
           31.044
          ],
          [
           "[36000:41999]",
           "Feb-07-2017",
           "Feb-09-2017",
           "1058.4760",
           "<b style=\"color:#00c8e5;line-height:60px\">Reference</b>",
           "",
           "",
           31.044
          ],
          [
           "[42000:47999]",
           "Feb-09-2017",
           "Feb-11-2017",
           "1050.6953",
           "<b style=\"color:#00c8e5;line-height:60px\">Reference</b>",
           "",
           "",
           31.044
          ],
          [
           "[48000:53999]",
           "Feb-12-2017",
           "Feb-14-2017",
           "1048.3968",
           "<b style=\"color:#00c8e5;line-height:60px\">Reference</b>",
           "",
           "",
           31.044
          ],
          [
           "[54000:59999]",
           "Feb-14-2017",
           "Feb-16-2017",
           "1060.0436",
           "<b style=\"color:#00c8e5;line-height:60px\">Reference</b>",
           "",
           "",
           31.044
          ]
         ],
         "hovertemplate": "%{customdata[4]} &nbsp; &nbsp; <span style=\"color:#AD0000\">%{customdata[5]}</span><br>Chunk: <b>%{customdata[0]}</b> &nbsp; &nbsp; From <b>%{customdata[1]}</b> to <b>%{customdata[2]}</b> &nbsp; &nbsp; <br>RMSE: <b>%{customdata[3]}</b>  &nbsp; &nbsp; %{customdata[6]}</b>  &nbsp; &nbsp;<br>Sampling error range: +/-<b>%{customdata[7]}</b><extra></extra>",
         "marker": {
          "color": "#00c8e5",
          "size": 6,
          "symbol": "square"
         },
         "mode": "markers",
         "name": "Reference",
         "showlegend": false,
         "type": "scatter",
         "x": [
          "2017-01-25T11:59:43.200000",
          "2017-01-27T19:59:43.200000",
          "2017-01-30T03:59:43.200000",
          "2017-02-01T11:59:43.200000",
          "2017-02-03T19:59:43.200000",
          "2017-02-06T03:59:43.200000",
          "2017-02-08T11:59:43.200000",
          "2017-02-10T19:59:43.200000",
          "2017-02-13T03:59:43.200000",
          "2017-02-15T11:59:43.200000"
         ],
         "y": [
          1086.309761992407,
          1060.2215384060069,
          1038.4193382251701,
          1038.3987142872113,
          1072.0212205611106,
          1074.9672323688135,
          1058.4759972085653,
          1050.695322473012,
          1048.3967740475614,
          1060.0436397463393
         ]
        },
        {
         "customdata": [
          [
           "[0:5999]",
           "Feb-16-2017",
           "Feb-18-2017",
           "1067.4164",
           "<b style=\"color:#3b0280;line-height:60px\">Analysis</b>",
           "",
           "",
           31.044
          ],
          [
           "[6000:11999]",
           "Feb-19-2017",
           "Feb-21-2017",
           "1062.7414",
           "<b style=\"color:#3b0280;line-height:60px\">Analysis</b>",
           "",
           "",
           31.044
          ],
          [
           "[12000:17999]",
           "Feb-21-2017",
           "Feb-23-2017",
           "1054.5333",
           "<b style=\"color:#3b0280;line-height:60px\">Analysis</b>",
           "",
           "",
           31.044
          ],
          [
           "[18000:23999]",
           "Feb-23-2017",
           "Feb-25-2017",
           "1062.5352",
           "<b style=\"color:#3b0280;line-height:60px\">Analysis</b>",
           "",
           "",
           31.044
          ],
          [
           "[24000:29999]",
           "Feb-26-2017",
           "Feb-28-2017",
           "1054.7854",
           "<b style=\"color:#3b0280;line-height:60px\">Analysis</b>",
           "",
           "",
           31.044
          ]
         ],
         "hovertemplate": "%{customdata[4]} &nbsp; &nbsp; <span style=\"color:#AD0000\">%{customdata[5]}</span><br>Chunk: <b>%{customdata[0]}</b> &nbsp; &nbsp; From <b>%{customdata[1]}</b> to <b>%{customdata[2]}</b> &nbsp; &nbsp; <br>RMSE: <b>%{customdata[3]}</b>  &nbsp; &nbsp; %{customdata[6]}</b>  &nbsp; &nbsp;<br>Sampling error range: +/-<b>%{customdata[7]}</b><extra></extra>",
         "marker": {
          "color": "#3b0280",
          "size": 6,
          "symbol": "square"
         },
         "mode": "markers",
         "name": "No change",
         "showlegend": false,
         "type": "scatter",
         "x": [
          "2017-02-17T19:59:43.200000",
          "2017-02-20T03:59:43.200000",
          "2017-02-22T11:59:43.200000",
          "2017-02-24T19:59:43.200000",
          "2017-02-27T03:59:43.200000"
         ],
         "y": [
          1067.4163692603704,
          1062.741368973277,
          1054.533325985393,
          1062.5352249771465,
          1054.7853867871092
         ]
        },
        {
         "customdata": [
          [
           "[30000:35999]",
           "Feb-28-2017",
           "Mar-02-2017",
           "930.4974",
           "<b style=\"color:#3b0280;line-height:60px\">Analysis</b>",
           "⚠ <b>Drift detected</b>",
           "",
           31.044
          ],
          [
           "[36000:41999]",
           "Mar-02-2017",
           "Mar-04-2017",
           "930.3401",
           "<b style=\"color:#3b0280;line-height:60px\">Analysis</b>",
           "⚠ <b>Drift detected</b>",
           "",
           31.044
          ],
          [
           "[42000:47999]",
           "Mar-05-2017",
           "Mar-07-2017",
           "928.5926",
           "<b style=\"color:#3b0280;line-height:60px\">Analysis</b>",
           "⚠ <b>Drift detected</b>",
           "",
           31.044
          ],
          [
           "[48000:53999]",
           "Mar-07-2017",
           "Mar-09-2017",
           "932.2370",
           "<b style=\"color:#3b0280;line-height:60px\">Analysis</b>",
           "⚠ <b>Drift detected</b>",
           "",
           31.044
          ],
          [
           "[54000:59999]",
           "Mar-09-2017",
           "Mar-11-2017",
           "921.7304",
           "<b style=\"color:#3b0280;line-height:60px\">Analysis</b>",
           "⚠ <b>Drift detected</b>",
           "",
           31.044
          ]
         ],
         "hovertemplate": "%{customdata[4]} &nbsp; &nbsp; <span style=\"color:#AD0000\">%{customdata[5]}</span><br>Chunk: <b>%{customdata[0]}</b> &nbsp; &nbsp; From <b>%{customdata[1]}</b> to <b>%{customdata[2]}</b> &nbsp; &nbsp; <br>RMSE: <b>%{customdata[3]}</b>  &nbsp; &nbsp; %{customdata[6]}</b>  &nbsp; &nbsp;<br>Sampling error range: +/-<b>%{customdata[7]}</b><extra></extra>",
         "marker": {
          "color": "#DD4040",
          "size": 6,
          "symbol": "diamond"
         },
         "mode": "markers",
         "name": "Change",
         "showlegend": false,
         "type": "scatter",
         "x": [
          "2017-03-01T11:59:43.200000",
          "2017-03-03T19:59:43.200000",
          "2017-03-06T03:59:43.200000",
          "2017-03-08T11:59:43.200000",
          "2017-03-10T19:59:43.200000"
         ],
         "y": [
          930.4973912241929,
          930.3401248619438,
          928.5925545343257,
          932.2370314363576,
          921.7304386507943
         ]
        },
        {
         "line": {
          "color": "rgba(0, 0, 0, 0)"
         },
         "mode": "lines",
         "showlegend": false,
         "type": "scatter",
         "x": [
          [
           1485345583200000000
          ],
          [
           1489175983200000000
          ]
         ],
         "y": [
          null,
          null
         ]
        },
        {
         "fill": "tonexty",
         "fillcolor": "rgba(59, 2, 128, 0.2)",
         "legendgroup": "1",
         "line": {
          "color": "rgba(0, 0, 0, 0)"
         },
         "mode": "lines",
         "name": "Confidence band",
         "type": "scatter",
         "x": [
          [
           1485345583200000000
          ],
          [
           1489175983200000000
          ]
         ],
         "y": [
          null,
          null
         ]
        },
        {
         "legendgroup": "1",
         "line": {
          "color": "#DD4040",
          "dash": "dash",
          "width": 1
         },
         "mode": "lines",
         "name": "Performance threshold",
         "type": "scatter",
         "x": [
          [
           1485345583200000000
          ],
          [
           1489175983200000000
          ]
         ],
         "y": [
          null,
          null
         ]
        },
        {
         "line": {
          "color": "rgba(0, 0, 0, 0)"
         },
         "mode": "lines",
         "showlegend": false,
         "type": "scatter",
         "x": [
          [
           1485345583200000000
          ],
          [
           1489175983200000000
          ]
         ],
         "y": [
          null,
          null
         ]
        },
        {
         "fill": "tonexty",
         "fillcolor": "rgba(221, 64, 64, 0.2)",
         "legendgroup": "1",
         "line": {
          "color": "rgba(0, 0, 0, 0)"
         },
         "marker": {
          "color": "#DD4040",
          "size": 6,
          "symbol": "diamond"
         },
         "mode": "lines+markers",
         "name": "Degraded performance",
         "type": "scatter",
         "x": [
          [
           1485345583200000000
          ],
          [
           1489175983200000000
          ]
         ],
         "y": [
          null,
          null
         ]
        }
       ],
       "layout": {
        "annotations": [
         {
          "font": {
           "color": "#DD4040"
          },
          "showarrow": false,
          "text": "1103.31",
          "x": 1,
          "xanchor": "right",
          "xref": "x domain",
          "y": 1103.313740532938,
          "yanchor": "bottom",
          "yref": "y"
         },
         {
          "font": {
           "color": "#DD4040"
          },
          "showarrow": false,
          "text": "1014.28",
          "x": 1,
          "xanchor": "right",
          "xref": "x domain",
          "y": 1014.2761673303021,
          "yanchor": "bottom",
          "yref": "y"
         }
        ],
        "autosize": true,
        "hoverlabel": {
         "bgcolor": "white",
         "font": {
          "size": 14
         }
        },
        "legend": {
         "itemclick": false,
         "itemdoubleclick": false,
         "orientation": "h",
         "traceorder": "normal",
         "x": 0,
         "xanchor": "left",
         "y": -0.25,
         "yanchor": "top"
        },
        "paper_bgcolor": "rgba(255,255,255,1)",
        "plot_bgcolor": "rgba(255,255,255,1)",
        "shapes": [
         {
          "layer": "below",
          "line": {
           "color": "#DD4040",
           "dash": "dash",
           "width": 1
          },
          "type": "line",
          "x0": 0,
          "x1": 1,
          "xref": "x domain",
          "y0": 1103.313740532938,
          "y1": 1103.313740532938,
          "yref": "y"
         },
         {
          "layer": "below",
          "line": {
           "color": "#DD4040",
           "dash": "dash",
           "width": 1
          },
          "type": "line",
          "x0": 0,
          "x1": 1,
          "xref": "x domain",
          "y0": 1014.2761673303021,
          "y1": 1014.2761673303021,
          "yref": "y"
         },
         {
          "layer": "below",
          "line": {
           "color": "#3b0280",
           "dash": "dash",
           "width": 1
          },
          "type": "line",
          "x0": "2017-02-16T16:00:00",
          "x1": "2017-02-16T16:00:00",
          "xref": "x",
          "y0": 0,
          "y1": 1,
          "yref": "y domain"
         },
         {
          "fillcolor": "#DD4040",
          "layer": "below",
          "line": {
           "width": 0
          },
          "opacity": 0.2,
          "type": "rect",
          "x0": "2017-02-28T08:00:00",
          "x1": "2017-03-02T15:59:26.400000",
          "xref": "x",
          "y0": 0,
          "y1": 1,
          "yref": "y domain"
         },
         {
          "fillcolor": "#DD4040",
          "layer": "below",
          "line": {
           "width": 0
          },
          "opacity": 0.2,
          "type": "rect",
          "x0": "2017-03-02T16:00:00",
          "x1": "2017-03-04T23:59:26.400000",
          "xref": "x",
          "y0": 0,
          "y1": 1,
          "yref": "y domain"
         },
         {
          "fillcolor": "#DD4040",
          "layer": "below",
          "line": {
           "width": 0
          },
          "opacity": 0.2,
          "type": "rect",
          "x0": "2017-03-05T00:00:00",
          "x1": "2017-03-07T07:59:26.400000",
          "xref": "x",
          "y0": 0,
          "y1": 1,
          "yref": "y domain"
         },
         {
          "fillcolor": "#DD4040",
          "layer": "below",
          "line": {
           "width": 0
          },
          "opacity": 0.2,
          "type": "rect",
          "x0": "2017-03-07T08:00:00",
          "x1": "2017-03-09T15:59:26.400000",
          "xref": "x",
          "y0": 0,
          "y1": 1,
          "yref": "y domain"
         },
         {
          "fillcolor": "#DD4040",
          "layer": "below",
          "line": {
           "width": 0
          },
          "opacity": 0.2,
          "type": "rect",
          "x0": "2017-03-09T16:00:00",
          "x1": "2017-03-11T23:59:26.400000",
          "xref": "x",
          "y0": 0,
          "y1": 1,
          "yref": "y domain"
         }
        ],
        "template": {
         "data": {
          "bar": [
           {
            "error_x": {
             "color": "#2a3f5f"
            },
            "error_y": {
             "color": "#2a3f5f"
            },
            "marker": {
             "line": {
              "color": "#E5ECF6",
              "width": 0.5
             },
             "pattern": {
              "fillmode": "overlay",
              "size": 10,
              "solidity": 0.2
             }
            },
            "type": "bar"
           }
          ],
          "barpolar": [
           {
            "marker": {
             "line": {
              "color": "#E5ECF6",
              "width": 0.5
             },
             "pattern": {
              "fillmode": "overlay",
              "size": 10,
              "solidity": 0.2
             }
            },
            "type": "barpolar"
           }
          ],
          "carpet": [
           {
            "aaxis": {
             "endlinecolor": "#2a3f5f",
             "gridcolor": "white",
             "linecolor": "white",
             "minorgridcolor": "white",
             "startlinecolor": "#2a3f5f"
            },
            "baxis": {
             "endlinecolor": "#2a3f5f",
             "gridcolor": "white",
             "linecolor": "white",
             "minorgridcolor": "white",
             "startlinecolor": "#2a3f5f"
            },
            "type": "carpet"
           }
          ],
          "choropleth": [
           {
            "colorbar": {
             "outlinewidth": 0,
             "ticks": ""
            },
            "type": "choropleth"
           }
          ],
          "contour": [
           {
            "colorbar": {
             "outlinewidth": 0,
             "ticks": ""
            },
            "colorscale": [
             [
              0,
              "#0d0887"
             ],
             [
              0.1111111111111111,
              "#46039f"
             ],
             [
              0.2222222222222222,
              "#7201a8"
             ],
             [
              0.3333333333333333,
              "#9c179e"
             ],
             [
              0.4444444444444444,
              "#bd3786"
             ],
             [
              0.5555555555555556,
              "#d8576b"
             ],
             [
              0.6666666666666666,
              "#ed7953"
             ],
             [
              0.7777777777777778,
              "#fb9f3a"
             ],
             [
              0.8888888888888888,
              "#fdca26"
             ],
             [
              1,
              "#f0f921"
             ]
            ],
            "type": "contour"
           }
          ],
          "contourcarpet": [
           {
            "colorbar": {
             "outlinewidth": 0,
             "ticks": ""
            },
            "type": "contourcarpet"
           }
          ],
          "heatmap": [
           {
            "colorbar": {
             "outlinewidth": 0,
             "ticks": ""
            },
            "colorscale": [
             [
              0,
              "#0d0887"
             ],
             [
              0.1111111111111111,
              "#46039f"
             ],
             [
              0.2222222222222222,
              "#7201a8"
             ],
             [
              0.3333333333333333,
              "#9c179e"
             ],
             [
              0.4444444444444444,
              "#bd3786"
             ],
             [
              0.5555555555555556,
              "#d8576b"
             ],
             [
              0.6666666666666666,
              "#ed7953"
             ],
             [
              0.7777777777777778,
              "#fb9f3a"
             ],
             [
              0.8888888888888888,
              "#fdca26"
             ],
             [
              1,
              "#f0f921"
             ]
            ],
            "type": "heatmap"
           }
          ],
          "heatmapgl": [
           {
            "colorbar": {
             "outlinewidth": 0,
             "ticks": ""
            },
            "colorscale": [
             [
              0,
              "#0d0887"
             ],
             [
              0.1111111111111111,
              "#46039f"
             ],
             [
              0.2222222222222222,
              "#7201a8"
             ],
             [
              0.3333333333333333,
              "#9c179e"
             ],
             [
              0.4444444444444444,
              "#bd3786"
             ],
             [
              0.5555555555555556,
              "#d8576b"
             ],
             [
              0.6666666666666666,
              "#ed7953"
             ],
             [
              0.7777777777777778,
              "#fb9f3a"
             ],
             [
              0.8888888888888888,
              "#fdca26"
             ],
             [
              1,
              "#f0f921"
             ]
            ],
            "type": "heatmapgl"
           }
          ],
          "histogram": [
           {
            "marker": {
             "pattern": {
              "fillmode": "overlay",
              "size": 10,
              "solidity": 0.2
             }
            },
            "type": "histogram"
           }
          ],
          "histogram2d": [
           {
            "colorbar": {
             "outlinewidth": 0,
             "ticks": ""
            },
            "colorscale": [
             [
              0,
              "#0d0887"
             ],
             [
              0.1111111111111111,
              "#46039f"
             ],
             [
              0.2222222222222222,
              "#7201a8"
             ],
             [
              0.3333333333333333,
              "#9c179e"
             ],
             [
              0.4444444444444444,
              "#bd3786"
             ],
             [
              0.5555555555555556,
              "#d8576b"
             ],
             [
              0.6666666666666666,
              "#ed7953"
             ],
             [
              0.7777777777777778,
              "#fb9f3a"
             ],
             [
              0.8888888888888888,
              "#fdca26"
             ],
             [
              1,
              "#f0f921"
             ]
            ],
            "type": "histogram2d"
           }
          ],
          "histogram2dcontour": [
           {
            "colorbar": {
             "outlinewidth": 0,
             "ticks": ""
            },
            "colorscale": [
             [
              0,
              "#0d0887"
             ],
             [
              0.1111111111111111,
              "#46039f"
             ],
             [
              0.2222222222222222,
              "#7201a8"
             ],
             [
              0.3333333333333333,
              "#9c179e"
             ],
             [
              0.4444444444444444,
              "#bd3786"
             ],
             [
              0.5555555555555556,
              "#d8576b"
             ],
             [
              0.6666666666666666,
              "#ed7953"
             ],
             [
              0.7777777777777778,
              "#fb9f3a"
             ],
             [
              0.8888888888888888,
              "#fdca26"
             ],
             [
              1,
              "#f0f921"
             ]
            ],
            "type": "histogram2dcontour"
           }
          ],
          "mesh3d": [
           {
            "colorbar": {
             "outlinewidth": 0,
             "ticks": ""
            },
            "type": "mesh3d"
           }
          ],
          "parcoords": [
           {
            "line": {
             "colorbar": {
              "outlinewidth": 0,
              "ticks": ""
             }
            },
            "type": "parcoords"
           }
          ],
          "pie": [
           {
            "automargin": true,
            "type": "pie"
           }
          ],
          "scatter": [
           {
            "fillpattern": {
             "fillmode": "overlay",
             "size": 10,
             "solidity": 0.2
            },
            "type": "scatter"
           }
          ],
          "scatter3d": [
           {
            "line": {
             "colorbar": {
              "outlinewidth": 0,
              "ticks": ""
             }
            },
            "marker": {
             "colorbar": {
              "outlinewidth": 0,
              "ticks": ""
             }
            },
            "type": "scatter3d"
           }
          ],
          "scattercarpet": [
           {
            "marker": {
             "colorbar": {
              "outlinewidth": 0,
              "ticks": ""
             }
            },
            "type": "scattercarpet"
           }
          ],
          "scattergeo": [
           {
            "marker": {
             "colorbar": {
              "outlinewidth": 0,
              "ticks": ""
             }
            },
            "type": "scattergeo"
           }
          ],
          "scattergl": [
           {
            "marker": {
             "colorbar": {
              "outlinewidth": 0,
              "ticks": ""
             }
            },
            "type": "scattergl"
           }
          ],
          "scattermapbox": [
           {
            "marker": {
             "colorbar": {
              "outlinewidth": 0,
              "ticks": ""
             }
            },
            "type": "scattermapbox"
           }
          ],
          "scatterpolar": [
           {
            "marker": {
             "colorbar": {
              "outlinewidth": 0,
              "ticks": ""
             }
            },
            "type": "scatterpolar"
           }
          ],
          "scatterpolargl": [
           {
            "marker": {
             "colorbar": {
              "outlinewidth": 0,
              "ticks": ""
             }
            },
            "type": "scatterpolargl"
           }
          ],
          "scatterternary": [
           {
            "marker": {
             "colorbar": {
              "outlinewidth": 0,
              "ticks": ""
             }
            },
            "type": "scatterternary"
           }
          ],
          "surface": [
           {
            "colorbar": {
             "outlinewidth": 0,
             "ticks": ""
            },
            "colorscale": [
             [
              0,
              "#0d0887"
             ],
             [
              0.1111111111111111,
              "#46039f"
             ],
             [
              0.2222222222222222,
              "#7201a8"
             ],
             [
              0.3333333333333333,
              "#9c179e"
             ],
             [
              0.4444444444444444,
              "#bd3786"
             ],
             [
              0.5555555555555556,
              "#d8576b"
             ],
             [
              0.6666666666666666,
              "#ed7953"
             ],
             [
              0.7777777777777778,
              "#fb9f3a"
             ],
             [
              0.8888888888888888,
              "#fdca26"
             ],
             [
              1,
              "#f0f921"
             ]
            ],
            "type": "surface"
           }
          ],
          "table": [
           {
            "cells": {
             "fill": {
              "color": "#EBF0F8"
             },
             "line": {
              "color": "white"
             }
            },
            "header": {
             "fill": {
              "color": "#C8D4E3"
             },
             "line": {
              "color": "white"
             }
            },
            "type": "table"
           }
          ]
         },
         "layout": {
          "annotationdefaults": {
           "arrowcolor": "#2a3f5f",
           "arrowhead": 0,
           "arrowwidth": 1
          },
          "autotypenumbers": "strict",
          "coloraxis": {
           "colorbar": {
            "outlinewidth": 0,
            "ticks": ""
           }
          },
          "colorscale": {
           "diverging": [
            [
             0,
             "#8e0152"
            ],
            [
             0.1,
             "#c51b7d"
            ],
            [
             0.2,
             "#de77ae"
            ],
            [
             0.3,
             "#f1b6da"
            ],
            [
             0.4,
             "#fde0ef"
            ],
            [
             0.5,
             "#f7f7f7"
            ],
            [
             0.6,
             "#e6f5d0"
            ],
            [
             0.7,
             "#b8e186"
            ],
            [
             0.8,
             "#7fbc41"
            ],
            [
             0.9,
             "#4d9221"
            ],
            [
             1,
             "#276419"
            ]
           ],
           "sequential": [
            [
             0,
             "#0d0887"
            ],
            [
             0.1111111111111111,
             "#46039f"
            ],
            [
             0.2222222222222222,
             "#7201a8"
            ],
            [
             0.3333333333333333,
             "#9c179e"
            ],
            [
             0.4444444444444444,
             "#bd3786"
            ],
            [
             0.5555555555555556,
             "#d8576b"
            ],
            [
             0.6666666666666666,
             "#ed7953"
            ],
            [
             0.7777777777777778,
             "#fb9f3a"
            ],
            [
             0.8888888888888888,
             "#fdca26"
            ],
            [
             1,
             "#f0f921"
            ]
           ],
           "sequentialminus": [
            [
             0,
             "#0d0887"
            ],
            [
             0.1111111111111111,
             "#46039f"
            ],
            [
             0.2222222222222222,
             "#7201a8"
            ],
            [
             0.3333333333333333,
             "#9c179e"
            ],
            [
             0.4444444444444444,
             "#bd3786"
            ],
            [
             0.5555555555555556,
             "#d8576b"
            ],
            [
             0.6666666666666666,
             "#ed7953"
            ],
            [
             0.7777777777777778,
             "#fb9f3a"
            ],
            [
             0.8888888888888888,
             "#fdca26"
            ],
            [
             1,
             "#f0f921"
            ]
           ]
          },
          "colorway": [
           "#636efa",
           "#EF553B",
           "#00cc96",
           "#ab63fa",
           "#FFA15A",
           "#19d3f3",
           "#FF6692",
           "#B6E880",
           "#FF97FF",
           "#FECB52"
          ],
          "font": {
           "color": "#2a3f5f"
          },
          "geo": {
           "bgcolor": "white",
           "lakecolor": "white",
           "landcolor": "#E5ECF6",
           "showlakes": true,
           "showland": true,
           "subunitcolor": "white"
          },
          "hoverlabel": {
           "align": "left"
          },
          "hovermode": "closest",
          "mapbox": {
           "style": "light"
          },
          "paper_bgcolor": "white",
          "plot_bgcolor": "#E5ECF6",
          "polar": {
           "angularaxis": {
            "gridcolor": "white",
            "linecolor": "white",
            "ticks": ""
           },
           "bgcolor": "#E5ECF6",
           "radialaxis": {
            "gridcolor": "white",
            "linecolor": "white",
            "ticks": ""
           }
          },
          "scene": {
           "xaxis": {
            "backgroundcolor": "#E5ECF6",
            "gridcolor": "white",
            "gridwidth": 2,
            "linecolor": "white",
            "showbackground": true,
            "ticks": "",
            "zerolinecolor": "white"
           },
           "yaxis": {
            "backgroundcolor": "#E5ECF6",
            "gridcolor": "white",
            "gridwidth": 2,
            "linecolor": "white",
            "showbackground": true,
            "ticks": "",
            "zerolinecolor": "white"
           },
           "zaxis": {
            "backgroundcolor": "#E5ECF6",
            "gridcolor": "white",
            "gridwidth": 2,
            "linecolor": "white",
            "showbackground": true,
            "ticks": "",
            "zerolinecolor": "white"
           }
          },
          "shapedefaults": {
           "line": {
            "color": "#2a3f5f"
           }
          },
          "ternary": {
           "aaxis": {
            "gridcolor": "white",
            "linecolor": "white",
            "ticks": ""
           },
           "baxis": {
            "gridcolor": "white",
            "linecolor": "white",
            "ticks": ""
           },
           "bgcolor": "#E5ECF6",
           "caxis": {
            "gridcolor": "white",
            "linecolor": "white",
            "ticks": ""
           }
          },
          "title": {
           "x": 0.05
          },
          "xaxis": {
           "automargin": true,
           "gridcolor": "white",
           "linecolor": "white",
           "ticks": "",
           "title": {
            "standoff": 15
           },
           "zerolinecolor": "white",
           "zerolinewidth": 2
          },
          "yaxis": {
           "automargin": true,
           "gridcolor": "white",
           "linecolor": "white",
           "ticks": "",
           "title": {
            "standoff": 15
           },
           "zerolinecolor": "white",
           "zerolinewidth": 2
          }
         }
        },
        "title": {
         "text": "DEE - Estimated RMSE"
        },
        "xaxis": {
         "autorange": true,
         "linecolor": "#666666",
         "mirror": true,
         "range": [
          "2017-01-22 17:34:58.615",
          "2017-03-13 14:24:27.785"
         ],
         "showgrid": false,
         "title": {
          "text": "Time"
         },
         "type": "date",
         "zeroline": false
        },
        "yaxis": {
         "autorange": true,
         "linecolor": "#666666",
         "mirror": true,
         "range": [
          877.5947079666886,
          1139.428785743538
         ],
         "showgrid": false,
         "title": {
          "text": "RMSE"
         },
         "type": "linear",
         "zeroline": false
        }
       }
      },
      "image/png": "[encoded data removed]",
      "text/html": [
       "<div>                            <div id=\"7ddc3f4a-8c6d-457b-a35d-4fe9356c3cc9\" class=\"plotly-graph-div\" style=\"height:525px; width:100%;\"></div>            <script type=\"text/javascript\">                require([\"plotly\"], function(Plotly) {                    window.PLOTLYENV=window.PLOTLYENV || {};                                    if (document.getElementById(\"7ddc3f4a-8c6d-457b-a35d-4fe9356c3cc9\")) {                    Plotly.newPlot(                        \"7ddc3f4a-8c6d-457b-a35d-4fe9356c3cc9\",                        [{\"hoverinfo\":\"skip\",\"line\":{\"color\":\"rgba(0,0,0,0)\",\"shape\":\"hv\"},\"mode\":\"lines\",\"showlegend\":false,\"x\":[\"2017-01-24T08:00:00\",\"2017-01-26T16:00:00\",\"2017-01-29T00:00:00\",\"2017-01-31T08:00:00\",\"2017-02-02T16:00:00\",\"2017-02-05T00:00:00\",\"2017-02-07T08:00:00\",\"2017-02-09T16:00:00\",\"2017-02-12T00:00:00\",\"2017-02-14T08:00:00\",\"2017-02-16T16:00:00\",\"2017-02-19T00:00:00\",\"2017-02-21T08:00:00\",\"2017-02-23T16:00:00\",\"2017-02-26T00:00:00\",\"2017-02-28T08:00:00\",\"2017-03-02T16:00:00\",\"2017-03-05T00:00:00\",\"2017-03-07T08:00:00\",\"2017-03-09T16:00:00\",\"2017-03-11T23:59:26.400000\"],\"y\":[1104.4400326807483,1087.2365324572506,1086.0069861519519,1086.09273523938,1097.611348697632,1095.6103577538572,1089.2101078755963,1085.7818191537624,1082.6795484267482,1084.5532092379265,1098.4603960556337,1093.7853957685404,1085.5773527806564,1093.5792517724099,1085.8294135823726,961.5414180194562,961.384151657207,959.6365813295889,963.2810582316208,952.7744654460575,952.7744654460575],\"type\":\"scatter\"},{\"fill\":\"tonexty\",\"fillcolor\":\"rgba(0.23137254901960785, 0.00784313725490196, 0.5019607843137255, 0.2)\",\"hoverinfo\":\"skip\",\"line\":{\"color\":\"rgba(0,0,0,0)\",\"shape\":\"hv\"},\"mode\":\"lines\",\"showlegend\":false,\"x\":[\"2017-01-24T08:00:00\",\"2017-01-26T16:00:00\",\"2017-01-29T00:00:00\",\"2017-01-31T08:00:00\",\"2017-02-02T16:00:00\",\"2017-02-05T00:00:00\",\"2017-02-07T08:00:00\",\"2017-02-09T16:00:00\",\"2017-02-12T00:00:00\",\"2017-02-14T08:00:00\",\"2017-02-16T16:00:00\",\"2017-02-19T00:00:00\",\"2017-02-21T08:00:00\",\"2017-02-23T16:00:00\",\"2017-02-26T00:00:00\",\"2017-02-28T08:00:00\",\"2017-03-02T16:00:00\",\"2017-03-05T00:00:00\",\"2017-03-07T08:00:00\",\"2017-03-09T16:00:00\",\"2017-03-11T23:59:26.400000\"],\"y\":[1042.3519790902217,1025.148478866724,1023.9189325614253,1024.0046816488534,1035.5232951071052,1033.5223041633305,1027.1220542850697,1023.6937655632358,1020.5914948362216,1022.4651556473999,1036.372342465107,1031.6973421780137,1023.4892991901298,1031.4911981818832,1023.741359991846,899.4533644289297,899.2960980666805,897.5485277390625,901.1930046410944,890.6864118555311,890.6864118555311],\"type\":\"scatter\"},{\"hoverinfo\":\"skip\",\"legendgroup\":\"1\",\"line\":{\"color\":\"#00c8e5\",\"shape\":\"hv\",\"width\":2},\"mode\":\"lines\",\"name\":\"Reference period (realized RMSE)\",\"x\":[\"2017-01-24T08:00:00\",\"2017-01-26T16:00:00\",\"2017-01-29T00:00:00\",\"2017-01-31T08:00:00\",\"2017-02-02T16:00:00\",\"2017-02-05T00:00:00\",\"2017-02-07T08:00:00\",\"2017-02-09T16:00:00\",\"2017-02-12T00:00:00\",\"2017-02-14T08:00:00\",\"2017-02-16T15:59:26.400000\"],\"y\":[1086.309761992407,1060.2215384060069,1038.4193382251701,1038.3987142872113,1072.0212205611106,1074.9672323688135,1058.4759972085653,1050.695322473012,1048.3967740475614,1060.0436397463393,1060.0436397463393],\"type\":\"scatter\"},{\"hoverinfo\":\"skip\",\"legendgroup\":\"1\",\"line\":{\"color\":\"#3b0280\",\"dash\":\"dot\",\"shape\":\"hv\",\"width\":2},\"mode\":\"lines\",\"name\":\"Analysis period (estimated RMSE)\",\"x\":[\"2017-02-16T16:00:00\",\"2017-02-19T00:00:00\",\"2017-02-21T08:00:00\",\"2017-02-23T16:00:00\",\"2017-02-26T00:00:00\",\"2017-02-28T08:00:00\",\"2017-03-02T16:00:00\",\"2017-03-05T00:00:00\",\"2017-03-07T08:00:00\",\"2017-03-09T16:00:00\",\"2017-03-11T23:59:26.400000\"],\"y\":[1067.4163692603704,1062.741368973277,1054.533325985393,1062.5352249771465,1054.7853867871092,930.4973912241929,930.3401248619438,928.5925545343257,932.2370314363576,921.7304386507943,921.7304386507943],\"type\":\"scatter\"},{\"customdata\":[[\"[0:5999]\",\"Jan-24-2017\",\"Jan-26-2017\",\"1086.3098\",\"<b style=\\\"color:#00c8e5;line-height:60px\\\">Reference</b>\",\"\",\"\",31.044],[\"[6000:11999]\",\"Jan-26-2017\",\"Jan-28-2017\",\"1060.2215\",\"<b style=\\\"color:#00c8e5;line-height:60px\\\">Reference</b>\",\"\",\"\",31.044],[\"[12000:17999]\",\"Jan-29-2017\",\"Jan-31-2017\",\"1038.4193\",\"<b style=\\\"color:#00c8e5;line-height:60px\\\">Reference</b>\",\"\",\"\",31.044],[\"[18000:23999]\",\"Jan-31-2017\",\"Feb-02-2017\",\"1038.3987\",\"<b style=\\\"color:#00c8e5;line-height:60px\\\">Reference</b>\",\"\",\"\",31.044],[\"[24000:29999]\",\"Feb-02-2017\",\"Feb-04-2017\",\"1072.0212\",\"<b style=\\\"color:#00c8e5;line-height:60px\\\">Reference</b>\",\"\",\"\",31.044],[\"[30000:35999]\",\"Feb-05-2017\",\"Feb-07-2017\",\"1074.9672\",\"<b style=\\\"color:#00c8e5;line-height:60px\\\">Reference</b>\",\"\",\"\",31.044],[\"[36000:41999]\",\"Feb-07-2017\",\"Feb-09-2017\",\"1058.4760\",\"<b style=\\\"color:#00c8e5;line-height:60px\\\">Reference</b>\",\"\",\"\",31.044],[\"[42000:47999]\",\"Feb-09-2017\",\"Feb-11-2017\",\"1050.6953\",\"<b style=\\\"color:#00c8e5;line-height:60px\\\">Reference</b>\",\"\",\"\",31.044],[\"[48000:53999]\",\"Feb-12-2017\",\"Feb-14-2017\",\"1048.3968\",\"<b style=\\\"color:#00c8e5;line-height:60px\\\">Reference</b>\",\"\",\"\",31.044],[\"[54000:59999]\",\"Feb-14-2017\",\"Feb-16-2017\",\"1060.0436\",\"<b style=\\\"color:#00c8e5;line-height:60px\\\">Reference</b>\",\"\",\"\",31.044]],\"hovertemplate\":\"%{customdata[4]} &nbsp; &nbsp; <span style=\\\"color:#AD0000\\\">%{customdata[5]}</span><br>Chunk: <b>%{customdata[0]}</b> &nbsp; &nbsp; From <b>%{customdata[1]}</b> to <b>%{customdata[2]}</b> &nbsp; &nbsp; <br>RMSE: <b>%{customdata[3]}</b>  &nbsp; &nbsp; %{customdata[6]}</b>  &nbsp; &nbsp;<br>Sampling error range: +/-<b>%{customdata[7]}</b><extra></extra>\",\"marker\":{\"color\":\"#00c8e5\",\"size\":6,\"symbol\":\"square\"},\"mode\":\"markers\",\"name\":\"Reference\",\"showlegend\":false,\"x\":[\"2017-01-25T11:59:43.200000\",\"2017-01-27T19:59:43.200000\",\"2017-01-30T03:59:43.200000\",\"2017-02-01T11:59:43.200000\",\"2017-02-03T19:59:43.200000\",\"2017-02-06T03:59:43.200000\",\"2017-02-08T11:59:43.200000\",\"2017-02-10T19:59:43.200000\",\"2017-02-13T03:59:43.200000\",\"2017-02-15T11:59:43.200000\"],\"y\":[1086.309761992407,1060.2215384060069,1038.4193382251701,1038.3987142872113,1072.0212205611106,1074.9672323688135,1058.4759972085653,1050.695322473012,1048.3967740475614,1060.0436397463393],\"type\":\"scatter\"},{\"customdata\":[[\"[0:5999]\",\"Feb-16-2017\",\"Feb-18-2017\",\"1067.4164\",\"<b style=\\\"color:#3b0280;line-height:60px\\\">Analysis</b>\",\"\",\"\",31.044],[\"[6000:11999]\",\"Feb-19-2017\",\"Feb-21-2017\",\"1062.7414\",\"<b style=\\\"color:#3b0280;line-height:60px\\\">Analysis</b>\",\"\",\"\",31.044],[\"[12000:17999]\",\"Feb-21-2017\",\"Feb-23-2017\",\"1054.5333\",\"<b style=\\\"color:#3b0280;line-height:60px\\\">Analysis</b>\",\"\",\"\",31.044],[\"[18000:23999]\",\"Feb-23-2017\",\"Feb-25-2017\",\"1062.5352\",\"<b style=\\\"color:#3b0280;line-height:60px\\\">Analysis</b>\",\"\",\"\",31.044],[\"[24000:29999]\",\"Feb-26-2017\",\"Feb-28-2017\",\"1054.7854\",\"<b style=\\\"color:#3b0280;line-height:60px\\\">Analysis</b>\",\"\",\"\",31.044]],\"hovertemplate\":\"%{customdata[4]} &nbsp; &nbsp; <span style=\\\"color:#AD0000\\\">%{customdata[5]}</span><br>Chunk: <b>%{customdata[0]}</b> &nbsp; &nbsp; From <b>%{customdata[1]}</b> to <b>%{customdata[2]}</b> &nbsp; &nbsp; <br>RMSE: <b>%{customdata[3]}</b>  &nbsp; &nbsp; %{customdata[6]}</b>  &nbsp; &nbsp;<br>Sampling error range: +/-<b>%{customdata[7]}</b><extra></extra>\",\"marker\":{\"color\":\"#3b0280\",\"size\":6,\"symbol\":\"square\"},\"mode\":\"markers\",\"name\":\"No change\",\"showlegend\":false,\"x\":[\"2017-02-17T19:59:43.200000\",\"2017-02-20T03:59:43.200000\",\"2017-02-22T11:59:43.200000\",\"2017-02-24T19:59:43.200000\",\"2017-02-27T03:59:43.200000\"],\"y\":[1067.4163692603704,1062.741368973277,1054.533325985393,1062.5352249771465,1054.7853867871092],\"type\":\"scatter\"},{\"customdata\":[[\"[30000:35999]\",\"Feb-28-2017\",\"Mar-02-2017\",\"930.4974\",\"<b style=\\\"color:#3b0280;line-height:60px\\\">Analysis</b>\",\"\\u26a0 <b>Drift detected</b>\",\"\",31.044],[\"[36000:41999]\",\"Mar-02-2017\",\"Mar-04-2017\",\"930.3401\",\"<b style=\\\"color:#3b0280;line-height:60px\\\">Analysis</b>\",\"\\u26a0 <b>Drift detected</b>\",\"\",31.044],[\"[42000:47999]\",\"Mar-05-2017\",\"Mar-07-2017\",\"928.5926\",\"<b style=\\\"color:#3b0280;line-height:60px\\\">Analysis</b>\",\"\\u26a0 <b>Drift detected</b>\",\"\",31.044],[\"[48000:53999]\",\"Mar-07-2017\",\"Mar-09-2017\",\"932.2370\",\"<b style=\\\"color:#3b0280;line-height:60px\\\">Analysis</b>\",\"\\u26a0 <b>Drift detected</b>\",\"\",31.044],[\"[54000:59999]\",\"Mar-09-2017\",\"Mar-11-2017\",\"921.7304\",\"<b style=\\\"color:#3b0280;line-height:60px\\\">Analysis</b>\",\"\\u26a0 <b>Drift detected</b>\",\"\",31.044]],\"hovertemplate\":\"%{customdata[4]} &nbsp; &nbsp; <span style=\\\"color:#AD0000\\\">%{customdata[5]}</span><br>Chunk: <b>%{customdata[0]}</b> &nbsp; &nbsp; From <b>%{customdata[1]}</b> to <b>%{customdata[2]}</b> &nbsp; &nbsp; <br>RMSE: <b>%{customdata[3]}</b>  &nbsp; &nbsp; %{customdata[6]}</b>  &nbsp; &nbsp;<br>Sampling error range: +/-<b>%{customdata[7]}</b><extra></extra>\",\"marker\":{\"color\":\"#DD4040\",\"size\":6,\"symbol\":\"diamond\"},\"mode\":\"markers\",\"name\":\"Change\",\"showlegend\":false,\"x\":[\"2017-03-01T11:59:43.200000\",\"2017-03-03T19:59:43.200000\",\"2017-03-06T03:59:43.200000\",\"2017-03-08T11:59:43.200000\",\"2017-03-10T19:59:43.200000\"],\"y\":[930.4973912241929,930.3401248619438,928.5925545343257,932.2370314363576,921.7304386507943],\"type\":\"scatter\"},{\"line\":{\"color\":\"rgba(0,0,0,0)\"},\"mode\":\"lines\",\"showlegend\":false,\"x\":[[1485345583200000000],[1489175983200000000]],\"y\":[null,null],\"type\":\"scatter\"},{\"fill\":\"tonexty\",\"fillcolor\":\"rgba(0.23137254901960785, 0.00784313725490196, 0.5019607843137255, 0.2)\",\"legendgroup\":\"1\",\"line\":{\"color\":\"rgba(0,0,0,0)\"},\"mode\":\"lines\",\"name\":\"Confidence band\",\"x\":[[1485345583200000000],[1489175983200000000]],\"y\":[null,null],\"type\":\"scatter\"},{\"legendgroup\":\"1\",\"line\":{\"color\":\"#DD4040\",\"dash\":\"dash\",\"width\":1},\"mode\":\"lines\",\"name\":\"Performance threshold\",\"x\":[[1485345583200000000],[1489175983200000000]],\"y\":[null,null],\"type\":\"scatter\"},{\"line\":{\"color\":\"rgba(0,0,0,0)\"},\"mode\":\"lines\",\"showlegend\":false,\"x\":[[1485345583200000000],[1489175983200000000]],\"y\":[null,null],\"type\":\"scatter\"},{\"fill\":\"tonexty\",\"fillcolor\":\"rgba(0.8666666666666667, 0.25098039215686274, 0.25098039215686274, 0.2)\",\"legendgroup\":\"1\",\"line\":{\"color\":\"rgba(0,0,0,0)\"},\"marker\":{\"color\":\"#DD4040\",\"size\":6,\"symbol\":\"diamond\"},\"mode\":\"lines+markers\",\"name\":\"Degraded performance\",\"x\":[[1485345583200000000],[1489175983200000000]],\"y\":[null,null],\"type\":\"scatter\"}],                        {\"hoverlabel\":{\"bgcolor\":\"white\",\"font\":{\"size\":14}},\"legend\":{\"itemclick\":false,\"itemdoubleclick\":false,\"traceorder\":\"normal\",\"yanchor\":\"top\",\"y\":-0.25,\"xanchor\":\"left\",\"x\":0,\"orientation\":\"h\"},\"paper_bgcolor\":\"rgba(255,255,255,1)\",\"plot_bgcolor\":\"rgba(255,255,255,1)\",\"title\":{\"text\":\"DEE - Estimated RMSE\"},\"xaxis\":{\"linecolor\":\"#666666\",\"mirror\":true,\"showgrid\":false,\"title\":{\"text\":\"Time\"},\"zeroline\":false},\"yaxis\":{\"linecolor\":\"#666666\",\"mirror\":true,\"showgrid\":false,\"title\":{\"text\":\"RMSE\"},\"zeroline\":false},\"template\":{\"data\":{\"histogram2dcontour\":[{\"type\":\"histogram2dcontour\",\"colorbar\":{\"outlinewidth\":0,\"ticks\":\"\"},\"colorscale\":[[0.0,\"#0d0887\"],[0.1111111111111111,\"#46039f\"],[0.2222222222222222,\"#7201a8\"],[0.3333333333333333,\"#9c179e\"],[0.4444444444444444,\"#bd3786\"],[0.5555555555555556,\"#d8576b\"],[0.6666666666666666,\"#ed7953\"],[0.7777777777777778,\"#fb9f3a\"],[0.8888888888888888,\"#fdca26\"],[1.0,\"#f0f921\"]]}],\"choropleth\":[{\"type\":\"choropleth\",\"colorbar\":{\"outlinewidth\":0,\"ticks\":\"\"}}],\"histogram2d\":[{\"type\":\"histogram2d\",\"colorbar\":{\"outlinewidth\":0,\"ticks\":\"\"},\"colorscale\":[[0.0,\"#0d0887\"],[0.1111111111111111,\"#46039f\"],[0.2222222222222222,\"#7201a8\"],[0.3333333333333333,\"#9c179e\"],[0.4444444444444444,\"#bd3786\"],[0.5555555555555556,\"#d8576b\"],[0.6666666666666666,\"#ed7953\"],[0.7777777777777778,\"#fb9f3a\"],[0.8888888888888888,\"#fdca26\"],[1.0,\"#f0f921\"]]}],\"heatmap\":[{\"type\":\"heatmap\",\"colorbar\":{\"outlinewidth\":0,\"ticks\":\"\"},\"colorscale\":[[0.0,\"#0d0887\"],[0.1111111111111111,\"#46039f\"],[0.2222222222222222,\"#7201a8\"],[0.3333333333333333,\"#9c179e\"],[0.4444444444444444,\"#bd3786\"],[0.5555555555555556,\"#d8576b\"],[0.6666666666666666,\"#ed7953\"],[0.7777777777777778,\"#fb9f3a\"],[0.8888888888888888,\"#fdca26\"],[1.0,\"#f0f921\"]]}],\"heatmapgl\":[{\"type\":\"heatmapgl\",\"colorbar\":{\"outlinewidth\":0,\"ticks\":\"\"},\"colorscale\":[[0.0,\"#0d0887\"],[0.1111111111111111,\"#46039f\"],[0.2222222222222222,\"#7201a8\"],[0.3333333333333333,\"#9c179e\"],[0.4444444444444444,\"#bd3786\"],[0.5555555555555556,\"#d8576b\"],[0.6666666666666666,\"#ed7953\"],[0.7777777777777778,\"#fb9f3a\"],[0.8888888888888888,\"#fdca26\"],[1.0,\"#f0f921\"]]}],\"contourcarpet\":[{\"type\":\"contourcarpet\",\"colorbar\":{\"outlinewidth\":0,\"ticks\":\"\"}}],\"contour\":[{\"type\":\"contour\",\"colorbar\":{\"outlinewidth\":0,\"ticks\":\"\"},\"colorscale\":[[0.0,\"#0d0887\"],[0.1111111111111111,\"#46039f\"],[0.2222222222222222,\"#7201a8\"],[0.3333333333333333,\"#9c179e\"],[0.4444444444444444,\"#bd3786\"],[0.5555555555555556,\"#d8576b\"],[0.6666666666666666,\"#ed7953\"],[0.7777777777777778,\"#fb9f3a\"],[0.8888888888888888,\"#fdca26\"],[1.0,\"#f0f921\"]]}],\"surface\":[{\"type\":\"surface\",\"colorbar\":{\"outlinewidth\":0,\"ticks\":\"\"},\"colorscale\":[[0.0,\"#0d0887\"],[0.1111111111111111,\"#46039f\"],[0.2222222222222222,\"#7201a8\"],[0.3333333333333333,\"#9c179e\"],[0.4444444444444444,\"#bd3786\"],[0.5555555555555556,\"#d8576b\"],[0.6666666666666666,\"#ed7953\"],[0.7777777777777778,\"#fb9f3a\"],[0.8888888888888888,\"#fdca26\"],[1.0,\"#f0f921\"]]}],\"mesh3d\":[{\"type\":\"mesh3d\",\"colorbar\":{\"outlinewidth\":0,\"ticks\":\"\"}}],\"scatter\":[{\"fillpattern\":{\"fillmode\":\"overlay\",\"size\":10,\"solidity\":0.2},\"type\":\"scatter\"}],\"parcoords\":[{\"type\":\"parcoords\",\"line\":{\"colorbar\":{\"outlinewidth\":0,\"ticks\":\"\"}}}],\"scatterpolargl\":[{\"type\":\"scatterpolargl\",\"marker\":{\"colorbar\":{\"outlinewidth\":0,\"ticks\":\"\"}}}],\"bar\":[{\"error_x\":{\"color\":\"#2a3f5f\"},\"error_y\":{\"color\":\"#2a3f5f\"},\"marker\":{\"line\":{\"color\":\"#E5ECF6\",\"width\":0.5},\"pattern\":{\"fillmode\":\"overlay\",\"size\":10,\"solidity\":0.2}},\"type\":\"bar\"}],\"scattergeo\":[{\"type\":\"scattergeo\",\"marker\":{\"colorbar\":{\"outlinewidth\":0,\"ticks\":\"\"}}}],\"scatterpolar\":[{\"type\":\"scatterpolar\",\"marker\":{\"colorbar\":{\"outlinewidth\":0,\"ticks\":\"\"}}}],\"histogram\":[{\"marker\":{\"pattern\":{\"fillmode\":\"overlay\",\"size\":10,\"solidity\":0.2}},\"type\":\"histogram\"}],\"scattergl\":[{\"type\":\"scattergl\",\"marker\":{\"colorbar\":{\"outlinewidth\":0,\"ticks\":\"\"}}}],\"scatter3d\":[{\"type\":\"scatter3d\",\"line\":{\"colorbar\":{\"outlinewidth\":0,\"ticks\":\"\"}},\"marker\":{\"colorbar\":{\"outlinewidth\":0,\"ticks\":\"\"}}}],\"scattermapbox\":[{\"type\":\"scattermapbox\",\"marker\":{\"colorbar\":{\"outlinewidth\":0,\"ticks\":\"\"}}}],\"scatterternary\":[{\"type\":\"scatterternary\",\"marker\":{\"colorbar\":{\"outlinewidth\":0,\"ticks\":\"\"}}}],\"scattercarpet\":[{\"type\":\"scattercarpet\",\"marker\":{\"colorbar\":{\"outlinewidth\":0,\"ticks\":\"\"}}}],\"carpet\":[{\"aaxis\":{\"endlinecolor\":\"#2a3f5f\",\"gridcolor\":\"white\",\"linecolor\":\"white\",\"minorgridcolor\":\"white\",\"startlinecolor\":\"#2a3f5f\"},\"baxis\":{\"endlinecolor\":\"#2a3f5f\",\"gridcolor\":\"white\",\"linecolor\":\"white\",\"minorgridcolor\":\"white\",\"startlinecolor\":\"#2a3f5f\"},\"type\":\"carpet\"}],\"table\":[{\"cells\":{\"fill\":{\"color\":\"#EBF0F8\"},\"line\":{\"color\":\"white\"}},\"header\":{\"fill\":{\"color\":\"#C8D4E3\"},\"line\":{\"color\":\"white\"}},\"type\":\"table\"}],\"barpolar\":[{\"marker\":{\"line\":{\"color\":\"#E5ECF6\",\"width\":0.5},\"pattern\":{\"fillmode\":\"overlay\",\"size\":10,\"solidity\":0.2}},\"type\":\"barpolar\"}],\"pie\":[{\"automargin\":true,\"type\":\"pie\"}]},\"layout\":{\"autotypenumbers\":\"strict\",\"colorway\":[\"#636efa\",\"#EF553B\",\"#00cc96\",\"#ab63fa\",\"#FFA15A\",\"#19d3f3\",\"#FF6692\",\"#B6E880\",\"#FF97FF\",\"#FECB52\"],\"font\":{\"color\":\"#2a3f5f\"},\"hovermode\":\"closest\",\"hoverlabel\":{\"align\":\"left\"},\"paper_bgcolor\":\"white\",\"plot_bgcolor\":\"#E5ECF6\",\"polar\":{\"bgcolor\":\"#E5ECF6\",\"angularaxis\":{\"gridcolor\":\"white\",\"linecolor\":\"white\",\"ticks\":\"\"},\"radialaxis\":{\"gridcolor\":\"white\",\"linecolor\":\"white\",\"ticks\":\"\"}},\"ternary\":{\"bgcolor\":\"#E5ECF6\",\"aaxis\":{\"gridcolor\":\"white\",\"linecolor\":\"white\",\"ticks\":\"\"},\"baxis\":{\"gridcolor\":\"white\",\"linecolor\":\"white\",\"ticks\":\"\"},\"caxis\":{\"gridcolor\":\"white\",\"linecolor\":\"white\",\"ticks\":\"\"}},\"coloraxis\":{\"colorbar\":{\"outlinewidth\":0,\"ticks\":\"\"}},\"colorscale\":{\"sequential\":[[0.0,\"#0d0887\"],[0.1111111111111111,\"#46039f\"],[0.2222222222222222,\"#7201a8\"],[0.3333333333333333,\"#9c179e\"],[0.4444444444444444,\"#bd3786\"],[0.5555555555555556,\"#d8576b\"],[0.6666666666666666,\"#ed7953\"],[0.7777777777777778,\"#fb9f3a\"],[0.8888888888888888,\"#fdca26\"],[1.0,\"#f0f921\"]],\"sequentialminus\":[[0.0,\"#0d0887\"],[0.1111111111111111,\"#46039f\"],[0.2222222222222222,\"#7201a8\"],[0.3333333333333333,\"#9c179e\"],[0.4444444444444444,\"#bd3786\"],[0.5555555555555556,\"#d8576b\"],[0.6666666666666666,\"#ed7953\"],[0.7777777777777778,\"#fb9f3a\"],[0.8888888888888888,\"#fdca26\"],[1.0,\"#f0f921\"]],\"diverging\":[[0,\"#8e0152\"],[0.1,\"#c51b7d\"],[0.2,\"#de77ae\"],[0.3,\"#f1b6da\"],[0.4,\"#fde0ef\"],[0.5,\"#f7f7f7\"],[0.6,\"#e6f5d0\"],[0.7,\"#b8e186\"],[0.8,\"#7fbc41\"],[0.9,\"#4d9221\"],[1,\"#276419\"]]},\"xaxis\":{\"gridcolor\":\"white\",\"linecolor\":\"white\",\"ticks\":\"\",\"title\":{\"standoff\":15},\"zerolinecolor\":\"white\",\"automargin\":true,\"zerolinewidth\":2},\"yaxis\":{\"gridcolor\":\"white\",\"linecolor\":\"white\",\"ticks\":\"\",\"title\":{\"standoff\":15},\"zerolinecolor\":\"white\",\"automargin\":true,\"zerolinewidth\":2},\"scene\":{\"xaxis\":{\"backgroundcolor\":\"#E5ECF6\",\"gridcolor\":\"white\",\"linecolor\":\"white\",\"showbackground\":true,\"ticks\":\"\",\"zerolinecolor\":\"white\",\"gridwidth\":2},\"yaxis\":{\"backgroundcolor\":\"#E5ECF6\",\"gridcolor\":\"white\",\"linecolor\":\"white\",\"showbackground\":true,\"ticks\":\"\",\"zerolinecolor\":\"white\",\"gridwidth\":2},\"zaxis\":{\"backgroundcolor\":\"#E5ECF6\",\"gridcolor\":\"white\",\"linecolor\":\"white\",\"showbackground\":true,\"ticks\":\"\",\"zerolinecolor\":\"white\",\"gridwidth\":2}},\"shapedefaults\":{\"line\":{\"color\":\"#2a3f5f\"}},\"annotationdefaults\":{\"arrowcolor\":\"#2a3f5f\",\"arrowhead\":0,\"arrowwidth\":1},\"geo\":{\"bgcolor\":\"white\",\"landcolor\":\"#E5ECF6\",\"subunitcolor\":\"white\",\"showland\":true,\"showlakes\":true,\"lakecolor\":\"white\"},\"title\":{\"x\":0.05},\"mapbox\":{\"style\":\"light\"}}},\"shapes\":[{\"layer\":\"below\",\"line\":{\"color\":\"#DD4040\",\"dash\":\"dash\",\"width\":1},\"type\":\"line\",\"x0\":0,\"x1\":1,\"xref\":\"x domain\",\"y0\":1103.313740532938,\"y1\":1103.313740532938,\"yref\":\"y\"},{\"layer\":\"below\",\"line\":{\"color\":\"#DD4040\",\"dash\":\"dash\",\"width\":1},\"type\":\"line\",\"x0\":0,\"x1\":1,\"xref\":\"x domain\",\"y0\":1014.2761673303021,\"y1\":1014.2761673303021,\"yref\":\"y\"},{\"layer\":\"below\",\"line\":{\"color\":\"#3b0280\",\"dash\":\"dash\",\"width\":1},\"type\":\"line\",\"x0\":\"2017-02-16T16:00:00\",\"x1\":\"2017-02-16T16:00:00\",\"xref\":\"x\",\"y0\":0,\"y1\":1,\"yref\":\"y domain\"},{\"fillcolor\":\"#DD4040\",\"layer\":\"below\",\"line\":{\"width\":0},\"opacity\":0.2,\"type\":\"rect\",\"x0\":\"2017-02-28T08:00:00\",\"x1\":\"2017-03-02T15:59:26.400000\",\"xref\":\"x\",\"y0\":0,\"y1\":1,\"yref\":\"y domain\"},{\"fillcolor\":\"#DD4040\",\"layer\":\"below\",\"line\":{\"width\":0},\"opacity\":0.2,\"type\":\"rect\",\"x0\":\"2017-03-02T16:00:00\",\"x1\":\"2017-03-04T23:59:26.400000\",\"xref\":\"x\",\"y0\":0,\"y1\":1,\"yref\":\"y domain\"},{\"fillcolor\":\"#DD4040\",\"layer\":\"below\",\"line\":{\"width\":0},\"opacity\":0.2,\"type\":\"rect\",\"x0\":\"2017-03-05T00:00:00\",\"x1\":\"2017-03-07T07:59:26.400000\",\"xref\":\"x\",\"y0\":0,\"y1\":1,\"yref\":\"y domain\"},{\"fillcolor\":\"#DD4040\",\"layer\":\"below\",\"line\":{\"width\":0},\"opacity\":0.2,\"type\":\"rect\",\"x0\":\"2017-03-07T08:00:00\",\"x1\":\"2017-03-09T15:59:26.400000\",\"xref\":\"x\",\"y0\":0,\"y1\":1,\"yref\":\"y domain\"},{\"fillcolor\":\"#DD4040\",\"layer\":\"below\",\"line\":{\"width\":0},\"opacity\":0.2,\"type\":\"rect\",\"x0\":\"2017-03-09T16:00:00\",\"x1\":\"2017-03-11T23:59:26.400000\",\"xref\":\"x\",\"y0\":0,\"y1\":1,\"yref\":\"y domain\"}],\"annotations\":[{\"font\":{\"color\":\"#DD4040\"},\"showarrow\":false,\"text\":\"1103.31\",\"x\":1,\"xanchor\":\"right\",\"xref\":\"x domain\",\"y\":1103.313740532938,\"yanchor\":\"bottom\",\"yref\":\"y\"},{\"font\":{\"color\":\"#DD4040\"},\"showarrow\":false,\"text\":\"1014.28\",\"x\":1,\"xanchor\":\"right\",\"xref\":\"x domain\",\"y\":1014.2761673303021,\"yanchor\":\"bottom\",\"yref\":\"y\"}]},                        {\"responsive\": true}                    ).then(function(){\n",
       "                            \n",
       "var gd = document.getElementById('7ddc3f4a-8c6d-457b-a35d-4fe9356c3cc9');\n",
       "var x = new MutationObserver(function (mutations, observer) {{\n",
       "        var display = window.getComputedStyle(gd).display;\n",
       "        if (!display || display === 'none') {{\n",
       "            console.log([gd, 'removed!']);\n",
       "            Plotly.purge(gd);\n",
       "            observer.disconnect();\n",
       "        }}\n",
       "}});\n",
       "\n",
       "// Listen for the removal of the full notebook cells\n",
       "var notebookContainer = gd.closest('#notebook-container');\n",
       "if (notebookContainer) {{\n",
       "    x.observe(notebookContainer, {childList: true});\n",
       "}}\n",
       "\n",
       "// Listen for the clearing of the current output cell\n",
       "var outputEl = gd.closest('.output');\n",
       "if (outputEl) {{\n",
       "    x.observe(outputEl, {childList: true});\n",
       "}}\n",
       "\n",
       "                        })                };                });            </script>        </div>"
      ]
     },
     "metadata": {},
     "output_type": "display_data"
    },
    {
     "data": {
      "application/vnd.plotly.v1+json": {
       "config": {
        "plotlyServerURL": "https://plot.ly"
       },
       "data": [
        {
         "hoverinfo": "skip",
         "line": {
          "color": "rgba(0, 0, 0, 0)",
          "shape": "hv"
         },
         "mode": "lines",
         "showlegend": false,
         "type": "scatter",
         "x": [
          "2017-01-24T08:00:00",
          "2017-01-26T16:00:00",
          "2017-01-29T00:00:00",
          "2017-01-31T08:00:00",
          "2017-02-02T16:00:00",
          "2017-02-05T00:00:00",
          "2017-02-07T08:00:00",
          "2017-02-09T16:00:00",
          "2017-02-12T00:00:00",
          "2017-02-14T08:00:00",
          "2017-02-16T16:00:00",
          "2017-02-19T00:00:00",
          "2017-02-21T08:00:00",
          "2017-02-23T16:00:00",
          "2017-02-26T00:00:00",
          "2017-02-28T08:00:00",
          "2017-03-02T16:00:00",
          "2017-03-05T00:00:00",
          "2017-03-07T08:00:00",
          "2017-03-09T16:00:00",
          "2017-03-11T23:59:26.400000"
         ],
         "y": [
          0.27334323087411944,
          0.27563540148971766,
          0.275522678382898,
          0.27387177220062847,
          0.273586616441656,
          0.2730119453804939,
          0.2741732432628216,
          0.2754719669977338,
          0.2745494124029681,
          0.27530994568790734,
          0.2724936786754884,
          0.2734833796796403,
          0.2745227765252465,
          0.27235106195362746,
          0.2750645195751851,
          0.31186491399928096,
          0.3134892440114657,
          0.31334574019934275,
          0.31282745989444666,
          0.31554190095148643,
          0.31554190095148643
         ]
        },
        {
         "fill": "tonexty",
         "fillcolor": "rgba(59, 2, 128, 0.2)",
         "hoverinfo": "skip",
         "line": {
          "color": "rgba(0, 0, 0, 0)",
          "shape": "hv"
         },
         "mode": "lines",
         "showlegend": false,
         "type": "scatter",
         "x": [
          "2017-01-24T08:00:00",
          "2017-01-26T16:00:00",
          "2017-01-29T00:00:00",
          "2017-01-31T08:00:00",
          "2017-02-02T16:00:00",
          "2017-02-05T00:00:00",
          "2017-02-07T08:00:00",
          "2017-02-09T16:00:00",
          "2017-02-12T00:00:00",
          "2017-02-14T08:00:00",
          "2017-02-16T16:00:00",
          "2017-02-19T00:00:00",
          "2017-02-21T08:00:00",
          "2017-02-23T16:00:00",
          "2017-02-26T00:00:00",
          "2017-02-28T08:00:00",
          "2017-03-02T16:00:00",
          "2017-03-05T00:00:00",
          "2017-03-07T08:00:00",
          "2017-03-09T16:00:00",
          "2017-03-11T23:59:26.400000"
         ],
         "y": [
          0.25990924088878015,
          0.26220141150437837,
          0.2620886883975587,
          0.2604377822152892,
          0.2601526264563167,
          0.2595779553951546,
          0.2607392532774823,
          0.2620379770123945,
          0.2611154224176288,
          0.26187595570256805,
          0.2590596886901491,
          0.260049389694301,
          0.2610887865399072,
          0.25891707196828817,
          0.2616305295898458,
          0.29843092401394167,
          0.30005525402612643,
          0.29991175021400346,
          0.29939346990910737,
          0.30210791096614714,
          0.30210791096614714
         ]
        },
        {
         "hoverinfo": "skip",
         "legendgroup": "1",
         "line": {
          "color": "#00c8e5",
          "shape": "hv",
          "width": 2
         },
         "mode": "lines",
         "name": "Reference period (realized RMSLE)",
         "type": "scatter",
         "x": [
          "2017-01-24T08:00:00",
          "2017-01-26T16:00:00",
          "2017-01-29T00:00:00",
          "2017-01-31T08:00:00",
          "2017-02-02T16:00:00",
          "2017-02-05T00:00:00",
          "2017-02-07T08:00:00",
          "2017-02-09T16:00:00",
          "2017-02-12T00:00:00",
          "2017-02-14T08:00:00",
          "2017-02-16T15:59:26.400000"
         ],
         "y": [
          0.2674746899886044,
          0.26857328359134486,
          0.2663431452644287,
          0.2663622873650678,
          0.2698117941687938,
          0.2669371413455222,
          0.2675169487032057,
          0.27003585824213083,
          0.26676726368887027,
          0.26747060837499503,
          0.26747060837499503
         ]
        },
        {
         "hoverinfo": "skip",
         "legendgroup": "1",
         "line": {
          "color": "#3b0280",
          "dash": "dot",
          "shape": "hv",
          "width": 2
         },
         "mode": "lines",
         "name": "Analysis period (estimated RMSLE)",
         "type": "scatter",
         "x": [
          "2017-02-16T16:00:00",
          "2017-02-19T00:00:00",
          "2017-02-21T08:00:00",
          "2017-02-23T16:00:00",
          "2017-02-26T00:00:00",
          "2017-02-28T08:00:00",
          "2017-03-02T16:00:00",
          "2017-03-05T00:00:00",
          "2017-03-07T08:00:00",
          "2017-03-09T16:00:00",
          "2017-03-11T23:59:26.400000"
         ],
         "y": [
          0.26577668368281876,
          0.26676638468697067,
          0.26780578153257684,
          0.2656340669609578,
          0.26834752458251543,
          0.3051479190066113,
          0.3067722490187961,
          0.3066287452066731,
          0.306110464901777,
          0.3088249059588168,
          0.3088249059588168
         ]
        },
        {
         "customdata": [
          [
           "[0:5999]",
           "Jan-24-2017",
           "Jan-26-2017",
           "0.2675",
           "<b style=\"color:#00c8e5;line-height:60px\">Reference</b>",
           "",
           "",
           0.0067
          ],
          [
           "[6000:11999]",
           "Jan-26-2017",
           "Jan-28-2017",
           "0.2686",
           "<b style=\"color:#00c8e5;line-height:60px\">Reference</b>",
           "",
           "",
           0.0067
          ],
          [
           "[12000:17999]",
           "Jan-29-2017",
           "Jan-31-2017",
           "0.2663",
           "<b style=\"color:#00c8e5;line-height:60px\">Reference</b>",
           "",
           "",
           0.0067
          ],
          [
           "[18000:23999]",
           "Jan-31-2017",
           "Feb-02-2017",
           "0.2664",
           "<b style=\"color:#00c8e5;line-height:60px\">Reference</b>",
           "",
           "",
           0.0067
          ],
          [
           "[24000:29999]",
           "Feb-02-2017",
           "Feb-04-2017",
           "0.2698",
           "<b style=\"color:#00c8e5;line-height:60px\">Reference</b>",
           "",
           "",
           0.0067
          ],
          [
           "[30000:35999]",
           "Feb-05-2017",
           "Feb-07-2017",
           "0.2669",
           "<b style=\"color:#00c8e5;line-height:60px\">Reference</b>",
           "",
           "",
           0.0067
          ],
          [
           "[36000:41999]",
           "Feb-07-2017",
           "Feb-09-2017",
           "0.2675",
           "<b style=\"color:#00c8e5;line-height:60px\">Reference</b>",
           "",
           "",
           0.0067
          ],
          [
           "[42000:47999]",
           "Feb-09-2017",
           "Feb-11-2017",
           "0.2700",
           "<b style=\"color:#00c8e5;line-height:60px\">Reference</b>",
           "",
           "",
           0.0067
          ],
          [
           "[48000:53999]",
           "Feb-12-2017",
           "Feb-14-2017",
           "0.2668",
           "<b style=\"color:#00c8e5;line-height:60px\">Reference</b>",
           "",
           "",
           0.0067
          ],
          [
           "[54000:59999]",
           "Feb-14-2017",
           "Feb-16-2017",
           "0.2675",
           "<b style=\"color:#00c8e5;line-height:60px\">Reference</b>",
           "",
           "",
           0.0067
          ]
         ],
         "hovertemplate": "%{customdata[4]} &nbsp; &nbsp; <span style=\"color:#AD0000\">%{customdata[5]}</span><br>Chunk: <b>%{customdata[0]}</b> &nbsp; &nbsp; From <b>%{customdata[1]}</b> to <b>%{customdata[2]}</b> &nbsp; &nbsp; <br>RMSLE: <b>%{customdata[3]}</b>  &nbsp; &nbsp; %{customdata[6]}</b>  &nbsp; &nbsp;<br>Sampling error range: +/-<b>%{customdata[7]}</b><extra></extra>",
         "marker": {
          "color": "#00c8e5",
          "size": 6,
          "symbol": "square"
         },
         "mode": "markers",
         "name": "Reference",
         "showlegend": false,
         "type": "scatter",
         "x": [
          "2017-01-25T11:59:43.200000",
          "2017-01-27T19:59:43.200000",
          "2017-01-30T03:59:43.200000",
          "2017-02-01T11:59:43.200000",
          "2017-02-03T19:59:43.200000",
          "2017-02-06T03:59:43.200000",
          "2017-02-08T11:59:43.200000",
          "2017-02-10T19:59:43.200000",
          "2017-02-13T03:59:43.200000",
          "2017-02-15T11:59:43.200000"
         ],
         "y": [
          0.2674746899886044,
          0.26857328359134486,
          0.2663431452644287,
          0.2663622873650678,
          0.2698117941687938,
          0.2669371413455222,
          0.2675169487032057,
          0.27003585824213083,
          0.26676726368887027,
          0.26747060837499503
         ]
        },
        {
         "customdata": [
          [
           "[0:5999]",
           "Feb-16-2017",
           "Feb-18-2017",
           "0.2658",
           "<b style=\"color:#3b0280;line-height:60px\">Analysis</b>",
           "",
           "",
           0.0067
          ],
          [
           "[6000:11999]",
           "Feb-19-2017",
           "Feb-21-2017",
           "0.2668",
           "<b style=\"color:#3b0280;line-height:60px\">Analysis</b>",
           "",
           "",
           0.0067
          ],
          [
           "[12000:17999]",
           "Feb-21-2017",
           "Feb-23-2017",
           "0.2678",
           "<b style=\"color:#3b0280;line-height:60px\">Analysis</b>",
           "",
           "",
           0.0067
          ],
          [
           "[18000:23999]",
           "Feb-23-2017",
           "Feb-25-2017",
           "0.2656",
           "<b style=\"color:#3b0280;line-height:60px\">Analysis</b>",
           "",
           "",
           0.0067
          ],
          [
           "[24000:29999]",
           "Feb-26-2017",
           "Feb-28-2017",
           "0.2683",
           "<b style=\"color:#3b0280;line-height:60px\">Analysis</b>",
           "",
           "",
           0.0067
          ]
         ],
         "hovertemplate": "%{customdata[4]} &nbsp; &nbsp; <span style=\"color:#AD0000\">%{customdata[5]}</span><br>Chunk: <b>%{customdata[0]}</b> &nbsp; &nbsp; From <b>%{customdata[1]}</b> to <b>%{customdata[2]}</b> &nbsp; &nbsp; <br>RMSLE: <b>%{customdata[3]}</b>  &nbsp; &nbsp; %{customdata[6]}</b>  &nbsp; &nbsp;<br>Sampling error range: +/-<b>%{customdata[7]}</b><extra></extra>",
         "marker": {
          "color": "#3b0280",
          "size": 6,
          "symbol": "square"
         },
         "mode": "markers",
         "name": "No change",
         "showlegend": false,
         "type": "scatter",
         "x": [
          "2017-02-17T19:59:43.200000",
          "2017-02-20T03:59:43.200000",
          "2017-02-22T11:59:43.200000",
          "2017-02-24T19:59:43.200000",
          "2017-02-27T03:59:43.200000"
         ],
         "y": [
          0.26577668368281876,
          0.26676638468697067,
          0.26780578153257684,
          0.2656340669609578,
          0.26834752458251543
         ]
        },
        {
         "customdata": [
          [
           "[30000:35999]",
           "Feb-28-2017",
           "Mar-02-2017",
           "0.3051",
           "<b style=\"color:#3b0280;line-height:60px\">Analysis</b>",
           "⚠ <b>Drift detected</b>",
           "",
           0.0067
          ],
          [
           "[36000:41999]",
           "Mar-02-2017",
           "Mar-04-2017",
           "0.3068",
           "<b style=\"color:#3b0280;line-height:60px\">Analysis</b>",
           "⚠ <b>Drift detected</b>",
           "",
           0.0067
          ],
          [
           "[42000:47999]",
           "Mar-05-2017",
           "Mar-07-2017",
           "0.3066",
           "<b style=\"color:#3b0280;line-height:60px\">Analysis</b>",
           "⚠ <b>Drift detected</b>",
           "",
           0.0067
          ],
          [
           "[48000:53999]",
           "Mar-07-2017",
           "Mar-09-2017",
           "0.3061",
           "<b style=\"color:#3b0280;line-height:60px\">Analysis</b>",
           "⚠ <b>Drift detected</b>",
           "",
           0.0067
          ],
          [
           "[54000:59999]",
           "Mar-09-2017",
           "Mar-11-2017",
           "0.3088",
           "<b style=\"color:#3b0280;line-height:60px\">Analysis</b>",
           "⚠ <b>Drift detected</b>",
           "",
           0.0067
          ]
         ],
         "hovertemplate": "%{customdata[4]} &nbsp; &nbsp; <span style=\"color:#AD0000\">%{customdata[5]}</span><br>Chunk: <b>%{customdata[0]}</b> &nbsp; &nbsp; From <b>%{customdata[1]}</b> to <b>%{customdata[2]}</b> &nbsp; &nbsp; <br>RMSLE: <b>%{customdata[3]}</b>  &nbsp; &nbsp; %{customdata[6]}</b>  &nbsp; &nbsp;<br>Sampling error range: +/-<b>%{customdata[7]}</b><extra></extra>",
         "marker": {
          "color": "#DD4040",
          "size": 6,
          "symbol": "diamond"
         },
         "mode": "markers",
         "name": "Change",
         "showlegend": false,
         "type": "scatter",
         "x": [
          "2017-03-01T11:59:43.200000",
          "2017-03-03T19:59:43.200000",
          "2017-03-06T03:59:43.200000",
          "2017-03-08T11:59:43.200000",
          "2017-03-10T19:59:43.200000"
         ],
         "y": [
          0.3051479190066113,
          0.3067722490187961,
          0.3066287452066731,
          0.306110464901777,
          0.3088249059588168
         ]
        },
        {
         "line": {
          "color": "rgba(0, 0, 0, 0)"
         },
         "mode": "lines",
         "showlegend": false,
         "type": "scatter",
         "x": [
          [
           1485345583200000000
          ],
          [
           1489175983200000000
          ]
         ],
         "y": [
          null,
          null
         ]
        },
        {
         "fill": "tonexty",
         "fillcolor": "rgba(59, 2, 128, 0.2)",
         "legendgroup": "1",
         "line": {
          "color": "rgba(0, 0, 0, 0)"
         },
         "mode": "lines",
         "name": "Confidence band",
         "type": "scatter",
         "x": [
          [
           1485345583200000000
          ],
          [
           1489175983200000000
          ]
         ],
         "y": [
          null,
          null
         ]
        },
        {
         "legendgroup": "1",
         "line": {
          "color": "#DD4040",
          "dash": "dash",
          "width": 1
         },
         "mode": "lines",
         "name": "Performance threshold",
         "type": "scatter",
         "x": [
          [
           1485345583200000000
          ],
          [
           1489175983200000000
          ]
         ],
         "y": [
          null,
          null
         ]
        },
        {
         "line": {
          "color": "rgba(0, 0, 0, 0)"
         },
         "mode": "lines",
         "showlegend": false,
         "type": "scatter",
         "x": [
          [
           1485345583200000000
          ],
          [
           1489175983200000000
          ]
         ],
         "y": [
          null,
          null
         ]
        },
        {
         "fill": "tonexty",
         "fillcolor": "rgba(221, 64, 64, 0.2)",
         "legendgroup": "1",
         "line": {
          "color": "rgba(0, 0, 0, 0)"
         },
         "marker": {
          "color": "#DD4040",
          "size": 6,
          "symbol": "diamond"
         },
         "mode": "lines+markers",
         "name": "Degraded performance",
         "type": "scatter",
         "x": [
          [
           1485345583200000000
          ],
          [
           1489175983200000000
          ]
         ],
         "y": [
          null,
          null
         ]
        }
       ],
       "layout": {
        "annotations": [
         {
          "font": {
           "color": "#DD4040"
          },
          "showarrow": false,
          "text": "0.27",
          "x": 1,
          "xanchor": "right",
          "xref": "x domain",
          "y": 0.27151088740402257,
          "yanchor": "bottom",
          "yref": "y"
         },
         {
          "font": {
           "color": "#DD4040"
          },
          "showarrow": false,
          "text": "0.26",
          "x": 1,
          "xanchor": "right",
          "xref": "x domain",
          "y": 0.26394771674257017,
          "yanchor": "bottom",
          "yref": "y"
         }
        ],
        "autosize": true,
        "hoverlabel": {
         "bgcolor": "white",
         "font": {
          "size": 14
         }
        },
        "legend": {
         "itemclick": false,
         "itemdoubleclick": false,
         "orientation": "h",
         "traceorder": "normal",
         "x": 0,
         "xanchor": "left",
         "y": -0.25,
         "yanchor": "top"
        },
        "paper_bgcolor": "rgba(255,255,255,1)",
        "plot_bgcolor": "rgba(255,255,255,1)",
        "shapes": [
         {
          "layer": "below",
          "line": {
           "color": "#DD4040",
           "dash": "dash",
           "width": 1
          },
          "type": "line",
          "x0": 0,
          "x1": 1,
          "xref": "x domain",
          "y0": 0.27151088740402257,
          "y1": 0.27151088740402257,
          "yref": "y"
         },
         {
          "layer": "below",
          "line": {
           "color": "#DD4040",
           "dash": "dash",
           "width": 1
          },
          "type": "line",
          "x0": 0,
          "x1": 1,
          "xref": "x domain",
          "y0": 0.26394771674257017,
          "y1": 0.26394771674257017,
          "yref": "y"
         },
         {
          "layer": "below",
          "line": {
           "color": "#3b0280",
           "dash": "dash",
           "width": 1
          },
          "type": "line",
          "x0": "2017-02-16T16:00:00",
          "x1": "2017-02-16T16:00:00",
          "xref": "x",
          "y0": 0,
          "y1": 1,
          "yref": "y domain"
         },
         {
          "fillcolor": "#DD4040",
          "layer": "below",
          "line": {
           "width": 0
          },
          "opacity": 0.2,
          "type": "rect",
          "x0": "2017-02-28T08:00:00",
          "x1": "2017-03-02T15:59:26.400000",
          "xref": "x",
          "y0": 0,
          "y1": 1,
          "yref": "y domain"
         },
         {
          "fillcolor": "#DD4040",
          "layer": "below",
          "line": {
           "width": 0
          },
          "opacity": 0.2,
          "type": "rect",
          "x0": "2017-03-02T16:00:00",
          "x1": "2017-03-04T23:59:26.400000",
          "xref": "x",
          "y0": 0,
          "y1": 1,
          "yref": "y domain"
         },
         {
          "fillcolor": "#DD4040",
          "layer": "below",
          "line": {
           "width": 0
          },
          "opacity": 0.2,
          "type": "rect",
          "x0": "2017-03-05T00:00:00",
          "x1": "2017-03-07T07:59:26.400000",
          "xref": "x",
          "y0": 0,
          "y1": 1,
          "yref": "y domain"
         },
         {
          "fillcolor": "#DD4040",
          "layer": "below",
          "line": {
           "width": 0
          },
          "opacity": 0.2,
          "type": "rect",
          "x0": "2017-03-07T08:00:00",
          "x1": "2017-03-09T15:59:26.400000",
          "xref": "x",
          "y0": 0,
          "y1": 1,
          "yref": "y domain"
         },
         {
          "fillcolor": "#DD4040",
          "layer": "below",
          "line": {
           "width": 0
          },
          "opacity": 0.2,
          "type": "rect",
          "x0": "2017-03-09T16:00:00",
          "x1": "2017-03-11T23:59:26.400000",
          "xref": "x",
          "y0": 0,
          "y1": 1,
          "yref": "y domain"
         }
        ],
        "template": {
         "data": {
          "bar": [
           {
            "error_x": {
             "color": "#2a3f5f"
            },
            "error_y": {
             "color": "#2a3f5f"
            },
            "marker": {
             "line": {
              "color": "#E5ECF6",
              "width": 0.5
             },
             "pattern": {
              "fillmode": "overlay",
              "size": 10,
              "solidity": 0.2
             }
            },
            "type": "bar"
           }
          ],
          "barpolar": [
           {
            "marker": {
             "line": {
              "color": "#E5ECF6",
              "width": 0.5
             },
             "pattern": {
              "fillmode": "overlay",
              "size": 10,
              "solidity": 0.2
             }
            },
            "type": "barpolar"
           }
          ],
          "carpet": [
           {
            "aaxis": {
             "endlinecolor": "#2a3f5f",
             "gridcolor": "white",
             "linecolor": "white",
             "minorgridcolor": "white",
             "startlinecolor": "#2a3f5f"
            },
            "baxis": {
             "endlinecolor": "#2a3f5f",
             "gridcolor": "white",
             "linecolor": "white",
             "minorgridcolor": "white",
             "startlinecolor": "#2a3f5f"
            },
            "type": "carpet"
           }
          ],
          "choropleth": [
           {
            "colorbar": {
             "outlinewidth": 0,
             "ticks": ""
            },
            "type": "choropleth"
           }
          ],
          "contour": [
           {
            "colorbar": {
             "outlinewidth": 0,
             "ticks": ""
            },
            "colorscale": [
             [
              0,
              "#0d0887"
             ],
             [
              0.1111111111111111,
              "#46039f"
             ],
             [
              0.2222222222222222,
              "#7201a8"
             ],
             [
              0.3333333333333333,
              "#9c179e"
             ],
             [
              0.4444444444444444,
              "#bd3786"
             ],
             [
              0.5555555555555556,
              "#d8576b"
             ],
             [
              0.6666666666666666,
              "#ed7953"
             ],
             [
              0.7777777777777778,
              "#fb9f3a"
             ],
             [
              0.8888888888888888,
              "#fdca26"
             ],
             [
              1,
              "#f0f921"
             ]
            ],
            "type": "contour"
           }
          ],
          "contourcarpet": [
           {
            "colorbar": {
             "outlinewidth": 0,
             "ticks": ""
            },
            "type": "contourcarpet"
           }
          ],
          "heatmap": [
           {
            "colorbar": {
             "outlinewidth": 0,
             "ticks": ""
            },
            "colorscale": [
             [
              0,
              "#0d0887"
             ],
             [
              0.1111111111111111,
              "#46039f"
             ],
             [
              0.2222222222222222,
              "#7201a8"
             ],
             [
              0.3333333333333333,
              "#9c179e"
             ],
             [
              0.4444444444444444,
              "#bd3786"
             ],
             [
              0.5555555555555556,
              "#d8576b"
             ],
             [
              0.6666666666666666,
              "#ed7953"
             ],
             [
              0.7777777777777778,
              "#fb9f3a"
             ],
             [
              0.8888888888888888,
              "#fdca26"
             ],
             [
              1,
              "#f0f921"
             ]
            ],
            "type": "heatmap"
           }
          ],
          "heatmapgl": [
           {
            "colorbar": {
             "outlinewidth": 0,
             "ticks": ""
            },
            "colorscale": [
             [
              0,
              "#0d0887"
             ],
             [
              0.1111111111111111,
              "#46039f"
             ],
             [
              0.2222222222222222,
              "#7201a8"
             ],
             [
              0.3333333333333333,
              "#9c179e"
             ],
             [
              0.4444444444444444,
              "#bd3786"
             ],
             [
              0.5555555555555556,
              "#d8576b"
             ],
             [
              0.6666666666666666,
              "#ed7953"
             ],
             [
              0.7777777777777778,
              "#fb9f3a"
             ],
             [
              0.8888888888888888,
              "#fdca26"
             ],
             [
              1,
              "#f0f921"
             ]
            ],
            "type": "heatmapgl"
           }
          ],
          "histogram": [
           {
            "marker": {
             "pattern": {
              "fillmode": "overlay",
              "size": 10,
              "solidity": 0.2
             }
            },
            "type": "histogram"
           }
          ],
          "histogram2d": [
           {
            "colorbar": {
             "outlinewidth": 0,
             "ticks": ""
            },
            "colorscale": [
             [
              0,
              "#0d0887"
             ],
             [
              0.1111111111111111,
              "#46039f"
             ],
             [
              0.2222222222222222,
              "#7201a8"
             ],
             [
              0.3333333333333333,
              "#9c179e"
             ],
             [
              0.4444444444444444,
              "#bd3786"
             ],
             [
              0.5555555555555556,
              "#d8576b"
             ],
             [
              0.6666666666666666,
              "#ed7953"
             ],
             [
              0.7777777777777778,
              "#fb9f3a"
             ],
             [
              0.8888888888888888,
              "#fdca26"
             ],
             [
              1,
              "#f0f921"
             ]
            ],
            "type": "histogram2d"
           }
          ],
          "histogram2dcontour": [
           {
            "colorbar": {
             "outlinewidth": 0,
             "ticks": ""
            },
            "colorscale": [
             [
              0,
              "#0d0887"
             ],
             [
              0.1111111111111111,
              "#46039f"
             ],
             [
              0.2222222222222222,
              "#7201a8"
             ],
             [
              0.3333333333333333,
              "#9c179e"
             ],
             [
              0.4444444444444444,
              "#bd3786"
             ],
             [
              0.5555555555555556,
              "#d8576b"
             ],
             [
              0.6666666666666666,
              "#ed7953"
             ],
             [
              0.7777777777777778,
              "#fb9f3a"
             ],
             [
              0.8888888888888888,
              "#fdca26"
             ],
             [
              1,
              "#f0f921"
             ]
            ],
            "type": "histogram2dcontour"
           }
          ],
          "mesh3d": [
           {
            "colorbar": {
             "outlinewidth": 0,
             "ticks": ""
            },
            "type": "mesh3d"
           }
          ],
          "parcoords": [
           {
            "line": {
             "colorbar": {
              "outlinewidth": 0,
              "ticks": ""
             }
            },
            "type": "parcoords"
           }
          ],
          "pie": [
           {
            "automargin": true,
            "type": "pie"
           }
          ],
          "scatter": [
           {
            "fillpattern": {
             "fillmode": "overlay",
             "size": 10,
             "solidity": 0.2
            },
            "type": "scatter"
           }
          ],
          "scatter3d": [
           {
            "line": {
             "colorbar": {
              "outlinewidth": 0,
              "ticks": ""
             }
            },
            "marker": {
             "colorbar": {
              "outlinewidth": 0,
              "ticks": ""
             }
            },
            "type": "scatter3d"
           }
          ],
          "scattercarpet": [
           {
            "marker": {
             "colorbar": {
              "outlinewidth": 0,
              "ticks": ""
             }
            },
            "type": "scattercarpet"
           }
          ],
          "scattergeo": [
           {
            "marker": {
             "colorbar": {
              "outlinewidth": 0,
              "ticks": ""
             }
            },
            "type": "scattergeo"
           }
          ],
          "scattergl": [
           {
            "marker": {
             "colorbar": {
              "outlinewidth": 0,
              "ticks": ""
             }
            },
            "type": "scattergl"
           }
          ],
          "scattermapbox": [
           {
            "marker": {
             "colorbar": {
              "outlinewidth": 0,
              "ticks": ""
             }
            },
            "type": "scattermapbox"
           }
          ],
          "scatterpolar": [
           {
            "marker": {
             "colorbar": {
              "outlinewidth": 0,
              "ticks": ""
             }
            },
            "type": "scatterpolar"
           }
          ],
          "scatterpolargl": [
           {
            "marker": {
             "colorbar": {
              "outlinewidth": 0,
              "ticks": ""
             }
            },
            "type": "scatterpolargl"
           }
          ],
          "scatterternary": [
           {
            "marker": {
             "colorbar": {
              "outlinewidth": 0,
              "ticks": ""
             }
            },
            "type": "scatterternary"
           }
          ],
          "surface": [
           {
            "colorbar": {
             "outlinewidth": 0,
             "ticks": ""
            },
            "colorscale": [
             [
              0,
              "#0d0887"
             ],
             [
              0.1111111111111111,
              "#46039f"
             ],
             [
              0.2222222222222222,
              "#7201a8"
             ],
             [
              0.3333333333333333,
              "#9c179e"
             ],
             [
              0.4444444444444444,
              "#bd3786"
             ],
             [
              0.5555555555555556,
              "#d8576b"
             ],
             [
              0.6666666666666666,
              "#ed7953"
             ],
             [
              0.7777777777777778,
              "#fb9f3a"
             ],
             [
              0.8888888888888888,
              "#fdca26"
             ],
             [
              1,
              "#f0f921"
             ]
            ],
            "type": "surface"
           }
          ],
          "table": [
           {
            "cells": {
             "fill": {
              "color": "#EBF0F8"
             },
             "line": {
              "color": "white"
             }
            },
            "header": {
             "fill": {
              "color": "#C8D4E3"
             },
             "line": {
              "color": "white"
             }
            },
            "type": "table"
           }
          ]
         },
         "layout": {
          "annotationdefaults": {
           "arrowcolor": "#2a3f5f",
           "arrowhead": 0,
           "arrowwidth": 1
          },
          "autotypenumbers": "strict",
          "coloraxis": {
           "colorbar": {
            "outlinewidth": 0,
            "ticks": ""
           }
          },
          "colorscale": {
           "diverging": [
            [
             0,
             "#8e0152"
            ],
            [
             0.1,
             "#c51b7d"
            ],
            [
             0.2,
             "#de77ae"
            ],
            [
             0.3,
             "#f1b6da"
            ],
            [
             0.4,
             "#fde0ef"
            ],
            [
             0.5,
             "#f7f7f7"
            ],
            [
             0.6,
             "#e6f5d0"
            ],
            [
             0.7,
             "#b8e186"
            ],
            [
             0.8,
             "#7fbc41"
            ],
            [
             0.9,
             "#4d9221"
            ],
            [
             1,
             "#276419"
            ]
           ],
           "sequential": [
            [
             0,
             "#0d0887"
            ],
            [
             0.1111111111111111,
             "#46039f"
            ],
            [
             0.2222222222222222,
             "#7201a8"
            ],
            [
             0.3333333333333333,
             "#9c179e"
            ],
            [
             0.4444444444444444,
             "#bd3786"
            ],
            [
             0.5555555555555556,
             "#d8576b"
            ],
            [
             0.6666666666666666,
             "#ed7953"
            ],
            [
             0.7777777777777778,
             "#fb9f3a"
            ],
            [
             0.8888888888888888,
             "#fdca26"
            ],
            [
             1,
             "#f0f921"
            ]
           ],
           "sequentialminus": [
            [
             0,
             "#0d0887"
            ],
            [
             0.1111111111111111,
             "#46039f"
            ],
            [
             0.2222222222222222,
             "#7201a8"
            ],
            [
             0.3333333333333333,
             "#9c179e"
            ],
            [
             0.4444444444444444,
             "#bd3786"
            ],
            [
             0.5555555555555556,
             "#d8576b"
            ],
            [
             0.6666666666666666,
             "#ed7953"
            ],
            [
             0.7777777777777778,
             "#fb9f3a"
            ],
            [
             0.8888888888888888,
             "#fdca26"
            ],
            [
             1,
             "#f0f921"
            ]
           ]
          },
          "colorway": [
           "#636efa",
           "#EF553B",
           "#00cc96",
           "#ab63fa",
           "#FFA15A",
           "#19d3f3",
           "#FF6692",
           "#B6E880",
           "#FF97FF",
           "#FECB52"
          ],
          "font": {
           "color": "#2a3f5f"
          },
          "geo": {
           "bgcolor": "white",
           "lakecolor": "white",
           "landcolor": "#E5ECF6",
           "showlakes": true,
           "showland": true,
           "subunitcolor": "white"
          },
          "hoverlabel": {
           "align": "left"
          },
          "hovermode": "closest",
          "mapbox": {
           "style": "light"
          },
          "paper_bgcolor": "white",
          "plot_bgcolor": "#E5ECF6",
          "polar": {
           "angularaxis": {
            "gridcolor": "white",
            "linecolor": "white",
            "ticks": ""
           },
           "bgcolor": "#E5ECF6",
           "radialaxis": {
            "gridcolor": "white",
            "linecolor": "white",
            "ticks": ""
           }
          },
          "scene": {
           "xaxis": {
            "backgroundcolor": "#E5ECF6",
            "gridcolor": "white",
            "gridwidth": 2,
            "linecolor": "white",
            "showbackground": true,
            "ticks": "",
            "zerolinecolor": "white"
           },
           "yaxis": {
            "backgroundcolor": "#E5ECF6",
            "gridcolor": "white",
            "gridwidth": 2,
            "linecolor": "white",
            "showbackground": true,
            "ticks": "",
            "zerolinecolor": "white"
           },
           "zaxis": {
            "backgroundcolor": "#E5ECF6",
            "gridcolor": "white",
            "gridwidth": 2,
            "linecolor": "white",
            "showbackground": true,
            "ticks": "",
            "zerolinecolor": "white"
           }
          },
          "shapedefaults": {
           "line": {
            "color": "#2a3f5f"
           }
          },
          "ternary": {
           "aaxis": {
            "gridcolor": "white",
            "linecolor": "white",
            "ticks": ""
           },
           "baxis": {
            "gridcolor": "white",
            "linecolor": "white",
            "ticks": ""
           },
           "bgcolor": "#E5ECF6",
           "caxis": {
            "gridcolor": "white",
            "linecolor": "white",
            "ticks": ""
           }
          },
          "title": {
           "x": 0.05
          },
          "xaxis": {
           "automargin": true,
           "gridcolor": "white",
           "linecolor": "white",
           "ticks": "",
           "title": {
            "standoff": 15
           },
           "zerolinecolor": "white",
           "zerolinewidth": 2
          },
          "yaxis": {
           "automargin": true,
           "gridcolor": "white",
           "linecolor": "white",
           "ticks": "",
           "title": {
            "standoff": 15
           },
           "zerolinecolor": "white",
           "zerolinewidth": 2
          }
         }
        },
        "title": {
         "text": "DEE - Estimated RMSLE"
        },
        "xaxis": {
         "autorange": true,
         "linecolor": "#666666",
         "mirror": true,
         "range": [
          "2017-01-22 17:34:58.615",
          "2017-03-13 14:24:27.785"
         ],
         "showgrid": false,
         "title": {
          "text": "Time"
         },
         "type": "date",
         "zeroline": false
        },
        "yaxis": {
         "autorange": true,
         "linecolor": "#666666",
         "mirror": true,
         "range": [
          0.25577124813588825,
          0.31868772478388635
         ],
         "showgrid": false,
         "title": {
          "text": "RMSLE"
         },
         "type": "linear",
         "zeroline": false
        }
       }
      },
      "image/png": "[encoded data removed]",
      "text/html": [
       "<div>                            <div id=\"10a74ea5-f73f-4e41-b8f3-fa04f841250c\" class=\"plotly-graph-div\" style=\"height:525px; width:100%;\"></div>            <script type=\"text/javascript\">                require([\"plotly\"], function(Plotly) {                    window.PLOTLYENV=window.PLOTLYENV || {};                                    if (document.getElementById(\"10a74ea5-f73f-4e41-b8f3-fa04f841250c\")) {                    Plotly.newPlot(                        \"10a74ea5-f73f-4e41-b8f3-fa04f841250c\",                        [{\"hoverinfo\":\"skip\",\"line\":{\"color\":\"rgba(0,0,0,0)\",\"shape\":\"hv\"},\"mode\":\"lines\",\"showlegend\":false,\"x\":[\"2017-01-24T08:00:00\",\"2017-01-26T16:00:00\",\"2017-01-29T00:00:00\",\"2017-01-31T08:00:00\",\"2017-02-02T16:00:00\",\"2017-02-05T00:00:00\",\"2017-02-07T08:00:00\",\"2017-02-09T16:00:00\",\"2017-02-12T00:00:00\",\"2017-02-14T08:00:00\",\"2017-02-16T16:00:00\",\"2017-02-19T00:00:00\",\"2017-02-21T08:00:00\",\"2017-02-23T16:00:00\",\"2017-02-26T00:00:00\",\"2017-02-28T08:00:00\",\"2017-03-02T16:00:00\",\"2017-03-05T00:00:00\",\"2017-03-07T08:00:00\",\"2017-03-09T16:00:00\",\"2017-03-11T23:59:26.400000\"],\"y\":[0.27334323087411944,0.27563540148971766,0.275522678382898,0.27387177220062847,0.273586616441656,0.2730119453804939,0.2741732432628216,0.2754719669977338,0.2745494124029681,0.27530994568790734,0.2724936786754884,0.2734833796796403,0.2745227765252465,0.27235106195362746,0.2750645195751851,0.31186491399928096,0.3134892440114657,0.31334574019934275,0.31282745989444666,0.31554190095148643,0.31554190095148643],\"type\":\"scatter\"},{\"fill\":\"tonexty\",\"fillcolor\":\"rgba(0.23137254901960785, 0.00784313725490196, 0.5019607843137255, 0.2)\",\"hoverinfo\":\"skip\",\"line\":{\"color\":\"rgba(0,0,0,0)\",\"shape\":\"hv\"},\"mode\":\"lines\",\"showlegend\":false,\"x\":[\"2017-01-24T08:00:00\",\"2017-01-26T16:00:00\",\"2017-01-29T00:00:00\",\"2017-01-31T08:00:00\",\"2017-02-02T16:00:00\",\"2017-02-05T00:00:00\",\"2017-02-07T08:00:00\",\"2017-02-09T16:00:00\",\"2017-02-12T00:00:00\",\"2017-02-14T08:00:00\",\"2017-02-16T16:00:00\",\"2017-02-19T00:00:00\",\"2017-02-21T08:00:00\",\"2017-02-23T16:00:00\",\"2017-02-26T00:00:00\",\"2017-02-28T08:00:00\",\"2017-03-02T16:00:00\",\"2017-03-05T00:00:00\",\"2017-03-07T08:00:00\",\"2017-03-09T16:00:00\",\"2017-03-11T23:59:26.400000\"],\"y\":[0.25990924088878015,0.26220141150437837,0.2620886883975587,0.2604377822152892,0.2601526264563167,0.2595779553951546,0.2607392532774823,0.2620379770123945,0.2611154224176288,0.26187595570256805,0.2590596886901491,0.260049389694301,0.2610887865399072,0.25891707196828817,0.2616305295898458,0.29843092401394167,0.30005525402612643,0.29991175021400346,0.29939346990910737,0.30210791096614714,0.30210791096614714],\"type\":\"scatter\"},{\"hoverinfo\":\"skip\",\"legendgroup\":\"1\",\"line\":{\"color\":\"#00c8e5\",\"shape\":\"hv\",\"width\":2},\"mode\":\"lines\",\"name\":\"Reference period (realized RMSLE)\",\"x\":[\"2017-01-24T08:00:00\",\"2017-01-26T16:00:00\",\"2017-01-29T00:00:00\",\"2017-01-31T08:00:00\",\"2017-02-02T16:00:00\",\"2017-02-05T00:00:00\",\"2017-02-07T08:00:00\",\"2017-02-09T16:00:00\",\"2017-02-12T00:00:00\",\"2017-02-14T08:00:00\",\"2017-02-16T15:59:26.400000\"],\"y\":[0.2674746899886044,0.26857328359134486,0.2663431452644287,0.2663622873650678,0.2698117941687938,0.2669371413455222,0.2675169487032057,0.27003585824213083,0.26676726368887027,0.26747060837499503,0.26747060837499503],\"type\":\"scatter\"},{\"hoverinfo\":\"skip\",\"legendgroup\":\"1\",\"line\":{\"color\":\"#3b0280\",\"dash\":\"dot\",\"shape\":\"hv\",\"width\":2},\"mode\":\"lines\",\"name\":\"Analysis period (estimated RMSLE)\",\"x\":[\"2017-02-16T16:00:00\",\"2017-02-19T00:00:00\",\"2017-02-21T08:00:00\",\"2017-02-23T16:00:00\",\"2017-02-26T00:00:00\",\"2017-02-28T08:00:00\",\"2017-03-02T16:00:00\",\"2017-03-05T00:00:00\",\"2017-03-07T08:00:00\",\"2017-03-09T16:00:00\",\"2017-03-11T23:59:26.400000\"],\"y\":[0.26577668368281876,0.26676638468697067,0.26780578153257684,0.2656340669609578,0.26834752458251543,0.3051479190066113,0.3067722490187961,0.3066287452066731,0.306110464901777,0.3088249059588168,0.3088249059588168],\"type\":\"scatter\"},{\"customdata\":[[\"[0:5999]\",\"Jan-24-2017\",\"Jan-26-2017\",\"0.2675\",\"<b style=\\\"color:#00c8e5;line-height:60px\\\">Reference</b>\",\"\",\"\",0.0067],[\"[6000:11999]\",\"Jan-26-2017\",\"Jan-28-2017\",\"0.2686\",\"<b style=\\\"color:#00c8e5;line-height:60px\\\">Reference</b>\",\"\",\"\",0.0067],[\"[12000:17999]\",\"Jan-29-2017\",\"Jan-31-2017\",\"0.2663\",\"<b style=\\\"color:#00c8e5;line-height:60px\\\">Reference</b>\",\"\",\"\",0.0067],[\"[18000:23999]\",\"Jan-31-2017\",\"Feb-02-2017\",\"0.2664\",\"<b style=\\\"color:#00c8e5;line-height:60px\\\">Reference</b>\",\"\",\"\",0.0067],[\"[24000:29999]\",\"Feb-02-2017\",\"Feb-04-2017\",\"0.2698\",\"<b style=\\\"color:#00c8e5;line-height:60px\\\">Reference</b>\",\"\",\"\",0.0067],[\"[30000:35999]\",\"Feb-05-2017\",\"Feb-07-2017\",\"0.2669\",\"<b style=\\\"color:#00c8e5;line-height:60px\\\">Reference</b>\",\"\",\"\",0.0067],[\"[36000:41999]\",\"Feb-07-2017\",\"Feb-09-2017\",\"0.2675\",\"<b style=\\\"color:#00c8e5;line-height:60px\\\">Reference</b>\",\"\",\"\",0.0067],[\"[42000:47999]\",\"Feb-09-2017\",\"Feb-11-2017\",\"0.2700\",\"<b style=\\\"color:#00c8e5;line-height:60px\\\">Reference</b>\",\"\",\"\",0.0067],[\"[48000:53999]\",\"Feb-12-2017\",\"Feb-14-2017\",\"0.2668\",\"<b style=\\\"color:#00c8e5;line-height:60px\\\">Reference</b>\",\"\",\"\",0.0067],[\"[54000:59999]\",\"Feb-14-2017\",\"Feb-16-2017\",\"0.2675\",\"<b style=\\\"color:#00c8e5;line-height:60px\\\">Reference</b>\",\"\",\"\",0.0067]],\"hovertemplate\":\"%{customdata[4]} &nbsp; &nbsp; <span style=\\\"color:#AD0000\\\">%{customdata[5]}</span><br>Chunk: <b>%{customdata[0]}</b> &nbsp; &nbsp; From <b>%{customdata[1]}</b> to <b>%{customdata[2]}</b> &nbsp; &nbsp; <br>RMSLE: <b>%{customdata[3]}</b>  &nbsp; &nbsp; %{customdata[6]}</b>  &nbsp; &nbsp;<br>Sampling error range: +/-<b>%{customdata[7]}</b><extra></extra>\",\"marker\":{\"color\":\"#00c8e5\",\"size\":6,\"symbol\":\"square\"},\"mode\":\"markers\",\"name\":\"Reference\",\"showlegend\":false,\"x\":[\"2017-01-25T11:59:43.200000\",\"2017-01-27T19:59:43.200000\",\"2017-01-30T03:59:43.200000\",\"2017-02-01T11:59:43.200000\",\"2017-02-03T19:59:43.200000\",\"2017-02-06T03:59:43.200000\",\"2017-02-08T11:59:43.200000\",\"2017-02-10T19:59:43.200000\",\"2017-02-13T03:59:43.200000\",\"2017-02-15T11:59:43.200000\"],\"y\":[0.2674746899886044,0.26857328359134486,0.2663431452644287,0.2663622873650678,0.2698117941687938,0.2669371413455222,0.2675169487032057,0.27003585824213083,0.26676726368887027,0.26747060837499503],\"type\":\"scatter\"},{\"customdata\":[[\"[0:5999]\",\"Feb-16-2017\",\"Feb-18-2017\",\"0.2658\",\"<b style=\\\"color:#3b0280;line-height:60px\\\">Analysis</b>\",\"\",\"\",0.0067],[\"[6000:11999]\",\"Feb-19-2017\",\"Feb-21-2017\",\"0.2668\",\"<b style=\\\"color:#3b0280;line-height:60px\\\">Analysis</b>\",\"\",\"\",0.0067],[\"[12000:17999]\",\"Feb-21-2017\",\"Feb-23-2017\",\"0.2678\",\"<b style=\\\"color:#3b0280;line-height:60px\\\">Analysis</b>\",\"\",\"\",0.0067],[\"[18000:23999]\",\"Feb-23-2017\",\"Feb-25-2017\",\"0.2656\",\"<b style=\\\"color:#3b0280;line-height:60px\\\">Analysis</b>\",\"\",\"\",0.0067],[\"[24000:29999]\",\"Feb-26-2017\",\"Feb-28-2017\",\"0.2683\",\"<b style=\\\"color:#3b0280;line-height:60px\\\">Analysis</b>\",\"\",\"\",0.0067]],\"hovertemplate\":\"%{customdata[4]} &nbsp; &nbsp; <span style=\\\"color:#AD0000\\\">%{customdata[5]}</span><br>Chunk: <b>%{customdata[0]}</b> &nbsp; &nbsp; From <b>%{customdata[1]}</b> to <b>%{customdata[2]}</b> &nbsp; &nbsp; <br>RMSLE: <b>%{customdata[3]}</b>  &nbsp; &nbsp; %{customdata[6]}</b>  &nbsp; &nbsp;<br>Sampling error range: +/-<b>%{customdata[7]}</b><extra></extra>\",\"marker\":{\"color\":\"#3b0280\",\"size\":6,\"symbol\":\"square\"},\"mode\":\"markers\",\"name\":\"No change\",\"showlegend\":false,\"x\":[\"2017-02-17T19:59:43.200000\",\"2017-02-20T03:59:43.200000\",\"2017-02-22T11:59:43.200000\",\"2017-02-24T19:59:43.200000\",\"2017-02-27T03:59:43.200000\"],\"y\":[0.26577668368281876,0.26676638468697067,0.26780578153257684,0.2656340669609578,0.26834752458251543],\"type\":\"scatter\"},{\"customdata\":[[\"[30000:35999]\",\"Feb-28-2017\",\"Mar-02-2017\",\"0.3051\",\"<b style=\\\"color:#3b0280;line-height:60px\\\">Analysis</b>\",\"\\u26a0 <b>Drift detected</b>\",\"\",0.0067],[\"[36000:41999]\",\"Mar-02-2017\",\"Mar-04-2017\",\"0.3068\",\"<b style=\\\"color:#3b0280;line-height:60px\\\">Analysis</b>\",\"\\u26a0 <b>Drift detected</b>\",\"\",0.0067],[\"[42000:47999]\",\"Mar-05-2017\",\"Mar-07-2017\",\"0.3066\",\"<b style=\\\"color:#3b0280;line-height:60px\\\">Analysis</b>\",\"\\u26a0 <b>Drift detected</b>\",\"\",0.0067],[\"[48000:53999]\",\"Mar-07-2017\",\"Mar-09-2017\",\"0.3061\",\"<b style=\\\"color:#3b0280;line-height:60px\\\">Analysis</b>\",\"\\u26a0 <b>Drift detected</b>\",\"\",0.0067],[\"[54000:59999]\",\"Mar-09-2017\",\"Mar-11-2017\",\"0.3088\",\"<b style=\\\"color:#3b0280;line-height:60px\\\">Analysis</b>\",\"\\u26a0 <b>Drift detected</b>\",\"\",0.0067]],\"hovertemplate\":\"%{customdata[4]} &nbsp; &nbsp; <span style=\\\"color:#AD0000\\\">%{customdata[5]}</span><br>Chunk: <b>%{customdata[0]}</b> &nbsp; &nbsp; From <b>%{customdata[1]}</b> to <b>%{customdata[2]}</b> &nbsp; &nbsp; <br>RMSLE: <b>%{customdata[3]}</b>  &nbsp; &nbsp; %{customdata[6]}</b>  &nbsp; &nbsp;<br>Sampling error range: +/-<b>%{customdata[7]}</b><extra></extra>\",\"marker\":{\"color\":\"#DD4040\",\"size\":6,\"symbol\":\"diamond\"},\"mode\":\"markers\",\"name\":\"Change\",\"showlegend\":false,\"x\":[\"2017-03-01T11:59:43.200000\",\"2017-03-03T19:59:43.200000\",\"2017-03-06T03:59:43.200000\",\"2017-03-08T11:59:43.200000\",\"2017-03-10T19:59:43.200000\"],\"y\":[0.3051479190066113,0.3067722490187961,0.3066287452066731,0.306110464901777,0.3088249059588168],\"type\":\"scatter\"},{\"line\":{\"color\":\"rgba(0,0,0,0)\"},\"mode\":\"lines\",\"showlegend\":false,\"x\":[[1485345583200000000],[1489175983200000000]],\"y\":[null,null],\"type\":\"scatter\"},{\"fill\":\"tonexty\",\"fillcolor\":\"rgba(0.23137254901960785, 0.00784313725490196, 0.5019607843137255, 0.2)\",\"legendgroup\":\"1\",\"line\":{\"color\":\"rgba(0,0,0,0)\"},\"mode\":\"lines\",\"name\":\"Confidence band\",\"x\":[[1485345583200000000],[1489175983200000000]],\"y\":[null,null],\"type\":\"scatter\"},{\"legendgroup\":\"1\",\"line\":{\"color\":\"#DD4040\",\"dash\":\"dash\",\"width\":1},\"mode\":\"lines\",\"name\":\"Performance threshold\",\"x\":[[1485345583200000000],[1489175983200000000]],\"y\":[null,null],\"type\":\"scatter\"},{\"line\":{\"color\":\"rgba(0,0,0,0)\"},\"mode\":\"lines\",\"showlegend\":false,\"x\":[[1485345583200000000],[1489175983200000000]],\"y\":[null,null],\"type\":\"scatter\"},{\"fill\":\"tonexty\",\"fillcolor\":\"rgba(0.8666666666666667, 0.25098039215686274, 0.25098039215686274, 0.2)\",\"legendgroup\":\"1\",\"line\":{\"color\":\"rgba(0,0,0,0)\"},\"marker\":{\"color\":\"#DD4040\",\"size\":6,\"symbol\":\"diamond\"},\"mode\":\"lines+markers\",\"name\":\"Degraded performance\",\"x\":[[1485345583200000000],[1489175983200000000]],\"y\":[null,null],\"type\":\"scatter\"}],                        {\"hoverlabel\":{\"bgcolor\":\"white\",\"font\":{\"size\":14}},\"legend\":{\"itemclick\":false,\"itemdoubleclick\":false,\"traceorder\":\"normal\",\"yanchor\":\"top\",\"y\":-0.25,\"xanchor\":\"left\",\"x\":0,\"orientation\":\"h\"},\"paper_bgcolor\":\"rgba(255,255,255,1)\",\"plot_bgcolor\":\"rgba(255,255,255,1)\",\"title\":{\"text\":\"DEE - Estimated RMSLE\"},\"xaxis\":{\"linecolor\":\"#666666\",\"mirror\":true,\"showgrid\":false,\"title\":{\"text\":\"Time\"},\"zeroline\":false},\"yaxis\":{\"linecolor\":\"#666666\",\"mirror\":true,\"showgrid\":false,\"title\":{\"text\":\"RMSLE\"},\"zeroline\":false},\"template\":{\"data\":{\"histogram2dcontour\":[{\"type\":\"histogram2dcontour\",\"colorbar\":{\"outlinewidth\":0,\"ticks\":\"\"},\"colorscale\":[[0.0,\"#0d0887\"],[0.1111111111111111,\"#46039f\"],[0.2222222222222222,\"#7201a8\"],[0.3333333333333333,\"#9c179e\"],[0.4444444444444444,\"#bd3786\"],[0.5555555555555556,\"#d8576b\"],[0.6666666666666666,\"#ed7953\"],[0.7777777777777778,\"#fb9f3a\"],[0.8888888888888888,\"#fdca26\"],[1.0,\"#f0f921\"]]}],\"choropleth\":[{\"type\":\"choropleth\",\"colorbar\":{\"outlinewidth\":0,\"ticks\":\"\"}}],\"histogram2d\":[{\"type\":\"histogram2d\",\"colorbar\":{\"outlinewidth\":0,\"ticks\":\"\"},\"colorscale\":[[0.0,\"#0d0887\"],[0.1111111111111111,\"#46039f\"],[0.2222222222222222,\"#7201a8\"],[0.3333333333333333,\"#9c179e\"],[0.4444444444444444,\"#bd3786\"],[0.5555555555555556,\"#d8576b\"],[0.6666666666666666,\"#ed7953\"],[0.7777777777777778,\"#fb9f3a\"],[0.8888888888888888,\"#fdca26\"],[1.0,\"#f0f921\"]]}],\"heatmap\":[{\"type\":\"heatmap\",\"colorbar\":{\"outlinewidth\":0,\"ticks\":\"\"},\"colorscale\":[[0.0,\"#0d0887\"],[0.1111111111111111,\"#46039f\"],[0.2222222222222222,\"#7201a8\"],[0.3333333333333333,\"#9c179e\"],[0.4444444444444444,\"#bd3786\"],[0.5555555555555556,\"#d8576b\"],[0.6666666666666666,\"#ed7953\"],[0.7777777777777778,\"#fb9f3a\"],[0.8888888888888888,\"#fdca26\"],[1.0,\"#f0f921\"]]}],\"heatmapgl\":[{\"type\":\"heatmapgl\",\"colorbar\":{\"outlinewidth\":0,\"ticks\":\"\"},\"colorscale\":[[0.0,\"#0d0887\"],[0.1111111111111111,\"#46039f\"],[0.2222222222222222,\"#7201a8\"],[0.3333333333333333,\"#9c179e\"],[0.4444444444444444,\"#bd3786\"],[0.5555555555555556,\"#d8576b\"],[0.6666666666666666,\"#ed7953\"],[0.7777777777777778,\"#fb9f3a\"],[0.8888888888888888,\"#fdca26\"],[1.0,\"#f0f921\"]]}],\"contourcarpet\":[{\"type\":\"contourcarpet\",\"colorbar\":{\"outlinewidth\":0,\"ticks\":\"\"}}],\"contour\":[{\"type\":\"contour\",\"colorbar\":{\"outlinewidth\":0,\"ticks\":\"\"},\"colorscale\":[[0.0,\"#0d0887\"],[0.1111111111111111,\"#46039f\"],[0.2222222222222222,\"#7201a8\"],[0.3333333333333333,\"#9c179e\"],[0.4444444444444444,\"#bd3786\"],[0.5555555555555556,\"#d8576b\"],[0.6666666666666666,\"#ed7953\"],[0.7777777777777778,\"#fb9f3a\"],[0.8888888888888888,\"#fdca26\"],[1.0,\"#f0f921\"]]}],\"surface\":[{\"type\":\"surface\",\"colorbar\":{\"outlinewidth\":0,\"ticks\":\"\"},\"colorscale\":[[0.0,\"#0d0887\"],[0.1111111111111111,\"#46039f\"],[0.2222222222222222,\"#7201a8\"],[0.3333333333333333,\"#9c179e\"],[0.4444444444444444,\"#bd3786\"],[0.5555555555555556,\"#d8576b\"],[0.6666666666666666,\"#ed7953\"],[0.7777777777777778,\"#fb9f3a\"],[0.8888888888888888,\"#fdca26\"],[1.0,\"#f0f921\"]]}],\"mesh3d\":[{\"type\":\"mesh3d\",\"colorbar\":{\"outlinewidth\":0,\"ticks\":\"\"}}],\"scatter\":[{\"fillpattern\":{\"fillmode\":\"overlay\",\"size\":10,\"solidity\":0.2},\"type\":\"scatter\"}],\"parcoords\":[{\"type\":\"parcoords\",\"line\":{\"colorbar\":{\"outlinewidth\":0,\"ticks\":\"\"}}}],\"scatterpolargl\":[{\"type\":\"scatterpolargl\",\"marker\":{\"colorbar\":{\"outlinewidth\":0,\"ticks\":\"\"}}}],\"bar\":[{\"error_x\":{\"color\":\"#2a3f5f\"},\"error_y\":{\"color\":\"#2a3f5f\"},\"marker\":{\"line\":{\"color\":\"#E5ECF6\",\"width\":0.5},\"pattern\":{\"fillmode\":\"overlay\",\"size\":10,\"solidity\":0.2}},\"type\":\"bar\"}],\"scattergeo\":[{\"type\":\"scattergeo\",\"marker\":{\"colorbar\":{\"outlinewidth\":0,\"ticks\":\"\"}}}],\"scatterpolar\":[{\"type\":\"scatterpolar\",\"marker\":{\"colorbar\":{\"outlinewidth\":0,\"ticks\":\"\"}}}],\"histogram\":[{\"marker\":{\"pattern\":{\"fillmode\":\"overlay\",\"size\":10,\"solidity\":0.2}},\"type\":\"histogram\"}],\"scattergl\":[{\"type\":\"scattergl\",\"marker\":{\"colorbar\":{\"outlinewidth\":0,\"ticks\":\"\"}}}],\"scatter3d\":[{\"type\":\"scatter3d\",\"line\":{\"colorbar\":{\"outlinewidth\":0,\"ticks\":\"\"}},\"marker\":{\"colorbar\":{\"outlinewidth\":0,\"ticks\":\"\"}}}],\"scattermapbox\":[{\"type\":\"scattermapbox\",\"marker\":{\"colorbar\":{\"outlinewidth\":0,\"ticks\":\"\"}}}],\"scatterternary\":[{\"type\":\"scatterternary\",\"marker\":{\"colorbar\":{\"outlinewidth\":0,\"ticks\":\"\"}}}],\"scattercarpet\":[{\"type\":\"scattercarpet\",\"marker\":{\"colorbar\":{\"outlinewidth\":0,\"ticks\":\"\"}}}],\"carpet\":[{\"aaxis\":{\"endlinecolor\":\"#2a3f5f\",\"gridcolor\":\"white\",\"linecolor\":\"white\",\"minorgridcolor\":\"white\",\"startlinecolor\":\"#2a3f5f\"},\"baxis\":{\"endlinecolor\":\"#2a3f5f\",\"gridcolor\":\"white\",\"linecolor\":\"white\",\"minorgridcolor\":\"white\",\"startlinecolor\":\"#2a3f5f\"},\"type\":\"carpet\"}],\"table\":[{\"cells\":{\"fill\":{\"color\":\"#EBF0F8\"},\"line\":{\"color\":\"white\"}},\"header\":{\"fill\":{\"color\":\"#C8D4E3\"},\"line\":{\"color\":\"white\"}},\"type\":\"table\"}],\"barpolar\":[{\"marker\":{\"line\":{\"color\":\"#E5ECF6\",\"width\":0.5},\"pattern\":{\"fillmode\":\"overlay\",\"size\":10,\"solidity\":0.2}},\"type\":\"barpolar\"}],\"pie\":[{\"automargin\":true,\"type\":\"pie\"}]},\"layout\":{\"autotypenumbers\":\"strict\",\"colorway\":[\"#636efa\",\"#EF553B\",\"#00cc96\",\"#ab63fa\",\"#FFA15A\",\"#19d3f3\",\"#FF6692\",\"#B6E880\",\"#FF97FF\",\"#FECB52\"],\"font\":{\"color\":\"#2a3f5f\"},\"hovermode\":\"closest\",\"hoverlabel\":{\"align\":\"left\"},\"paper_bgcolor\":\"white\",\"plot_bgcolor\":\"#E5ECF6\",\"polar\":{\"bgcolor\":\"#E5ECF6\",\"angularaxis\":{\"gridcolor\":\"white\",\"linecolor\":\"white\",\"ticks\":\"\"},\"radialaxis\":{\"gridcolor\":\"white\",\"linecolor\":\"white\",\"ticks\":\"\"}},\"ternary\":{\"bgcolor\":\"#E5ECF6\",\"aaxis\":{\"gridcolor\":\"white\",\"linecolor\":\"white\",\"ticks\":\"\"},\"baxis\":{\"gridcolor\":\"white\",\"linecolor\":\"white\",\"ticks\":\"\"},\"caxis\":{\"gridcolor\":\"white\",\"linecolor\":\"white\",\"ticks\":\"\"}},\"coloraxis\":{\"colorbar\":{\"outlinewidth\":0,\"ticks\":\"\"}},\"colorscale\":{\"sequential\":[[0.0,\"#0d0887\"],[0.1111111111111111,\"#46039f\"],[0.2222222222222222,\"#7201a8\"],[0.3333333333333333,\"#9c179e\"],[0.4444444444444444,\"#bd3786\"],[0.5555555555555556,\"#d8576b\"],[0.6666666666666666,\"#ed7953\"],[0.7777777777777778,\"#fb9f3a\"],[0.8888888888888888,\"#fdca26\"],[1.0,\"#f0f921\"]],\"sequentialminus\":[[0.0,\"#0d0887\"],[0.1111111111111111,\"#46039f\"],[0.2222222222222222,\"#7201a8\"],[0.3333333333333333,\"#9c179e\"],[0.4444444444444444,\"#bd3786\"],[0.5555555555555556,\"#d8576b\"],[0.6666666666666666,\"#ed7953\"],[0.7777777777777778,\"#fb9f3a\"],[0.8888888888888888,\"#fdca26\"],[1.0,\"#f0f921\"]],\"diverging\":[[0,\"#8e0152\"],[0.1,\"#c51b7d\"],[0.2,\"#de77ae\"],[0.3,\"#f1b6da\"],[0.4,\"#fde0ef\"],[0.5,\"#f7f7f7\"],[0.6,\"#e6f5d0\"],[0.7,\"#b8e186\"],[0.8,\"#7fbc41\"],[0.9,\"#4d9221\"],[1,\"#276419\"]]},\"xaxis\":{\"gridcolor\":\"white\",\"linecolor\":\"white\",\"ticks\":\"\",\"title\":{\"standoff\":15},\"zerolinecolor\":\"white\",\"automargin\":true,\"zerolinewidth\":2},\"yaxis\":{\"gridcolor\":\"white\",\"linecolor\":\"white\",\"ticks\":\"\",\"title\":{\"standoff\":15},\"zerolinecolor\":\"white\",\"automargin\":true,\"zerolinewidth\":2},\"scene\":{\"xaxis\":{\"backgroundcolor\":\"#E5ECF6\",\"gridcolor\":\"white\",\"linecolor\":\"white\",\"showbackground\":true,\"ticks\":\"\",\"zerolinecolor\":\"white\",\"gridwidth\":2},\"yaxis\":{\"backgroundcolor\":\"#E5ECF6\",\"gridcolor\":\"white\",\"linecolor\":\"white\",\"showbackground\":true,\"ticks\":\"\",\"zerolinecolor\":\"white\",\"gridwidth\":2},\"zaxis\":{\"backgroundcolor\":\"#E5ECF6\",\"gridcolor\":\"white\",\"linecolor\":\"white\",\"showbackground\":true,\"ticks\":\"\",\"zerolinecolor\":\"white\",\"gridwidth\":2}},\"shapedefaults\":{\"line\":{\"color\":\"#2a3f5f\"}},\"annotationdefaults\":{\"arrowcolor\":\"#2a3f5f\",\"arrowhead\":0,\"arrowwidth\":1},\"geo\":{\"bgcolor\":\"white\",\"landcolor\":\"#E5ECF6\",\"subunitcolor\":\"white\",\"showland\":true,\"showlakes\":true,\"lakecolor\":\"white\"},\"title\":{\"x\":0.05},\"mapbox\":{\"style\":\"light\"}}},\"shapes\":[{\"layer\":\"below\",\"line\":{\"color\":\"#DD4040\",\"dash\":\"dash\",\"width\":1},\"type\":\"line\",\"x0\":0,\"x1\":1,\"xref\":\"x domain\",\"y0\":0.27151088740402257,\"y1\":0.27151088740402257,\"yref\":\"y\"},{\"layer\":\"below\",\"line\":{\"color\":\"#DD4040\",\"dash\":\"dash\",\"width\":1},\"type\":\"line\",\"x0\":0,\"x1\":1,\"xref\":\"x domain\",\"y0\":0.26394771674257017,\"y1\":0.26394771674257017,\"yref\":\"y\"},{\"layer\":\"below\",\"line\":{\"color\":\"#3b0280\",\"dash\":\"dash\",\"width\":1},\"type\":\"line\",\"x0\":\"2017-02-16T16:00:00\",\"x1\":\"2017-02-16T16:00:00\",\"xref\":\"x\",\"y0\":0,\"y1\":1,\"yref\":\"y domain\"},{\"fillcolor\":\"#DD4040\",\"layer\":\"below\",\"line\":{\"width\":0},\"opacity\":0.2,\"type\":\"rect\",\"x0\":\"2017-02-28T08:00:00\",\"x1\":\"2017-03-02T15:59:26.400000\",\"xref\":\"x\",\"y0\":0,\"y1\":1,\"yref\":\"y domain\"},{\"fillcolor\":\"#DD4040\",\"layer\":\"below\",\"line\":{\"width\":0},\"opacity\":0.2,\"type\":\"rect\",\"x0\":\"2017-03-02T16:00:00\",\"x1\":\"2017-03-04T23:59:26.400000\",\"xref\":\"x\",\"y0\":0,\"y1\":1,\"yref\":\"y domain\"},{\"fillcolor\":\"#DD4040\",\"layer\":\"below\",\"line\":{\"width\":0},\"opacity\":0.2,\"type\":\"rect\",\"x0\":\"2017-03-05T00:00:00\",\"x1\":\"2017-03-07T07:59:26.400000\",\"xref\":\"x\",\"y0\":0,\"y1\":1,\"yref\":\"y domain\"},{\"fillcolor\":\"#DD4040\",\"layer\":\"below\",\"line\":{\"width\":0},\"opacity\":0.2,\"type\":\"rect\",\"x0\":\"2017-03-07T08:00:00\",\"x1\":\"2017-03-09T15:59:26.400000\",\"xref\":\"x\",\"y0\":0,\"y1\":1,\"yref\":\"y domain\"},{\"fillcolor\":\"#DD4040\",\"layer\":\"below\",\"line\":{\"width\":0},\"opacity\":0.2,\"type\":\"rect\",\"x0\":\"2017-03-09T16:00:00\",\"x1\":\"2017-03-11T23:59:26.400000\",\"xref\":\"x\",\"y0\":0,\"y1\":1,\"yref\":\"y domain\"}],\"annotations\":[{\"font\":{\"color\":\"#DD4040\"},\"showarrow\":false,\"text\":\"0.27\",\"x\":1,\"xanchor\":\"right\",\"xref\":\"x domain\",\"y\":0.27151088740402257,\"yanchor\":\"bottom\",\"yref\":\"y\"},{\"font\":{\"color\":\"#DD4040\"},\"showarrow\":false,\"text\":\"0.26\",\"x\":1,\"xanchor\":\"right\",\"xref\":\"x domain\",\"y\":0.26394771674257017,\"yanchor\":\"bottom\",\"yref\":\"y\"}]},                        {\"responsive\": true}                    ).then(function(){\n",
       "                            \n",
       "var gd = document.getElementById('10a74ea5-f73f-4e41-b8f3-fa04f841250c');\n",
       "var x = new MutationObserver(function (mutations, observer) {{\n",
       "        var display = window.getComputedStyle(gd).display;\n",
       "        if (!display || display === 'none') {{\n",
       "            console.log([gd, 'removed!']);\n",
       "            Plotly.purge(gd);\n",
       "            observer.disconnect();\n",
       "        }}\n",
       "}});\n",
       "\n",
       "// Listen for the removal of the full notebook cells\n",
       "var notebookContainer = gd.closest('#notebook-container');\n",
       "if (notebookContainer) {{\n",
       "    x.observe(notebookContainer, {childList: true});\n",
       "}}\n",
       "\n",
       "// Listen for the clearing of the current output cell\n",
       "var outputEl = gd.closest('.output');\n",
       "if (outputEl) {{\n",
       "    x.observe(outputEl, {childList: true});\n",
       "}}\n",
       "\n",
       "                        })                };                });            </script>        </div>"
      ]
     },
     "metadata": {},
     "output_type": "display_data"
    }
   ],
   "source": [
    "import pandas as pd\n",
    "import nannyml as nml\n",
    "from IPython.display import display\n",
    "\n",
    "reference, analysis, analysis_target = nml.load_synthetic_car_price_dataset()\n",
    "display(reference.head(3))\n",
    "\n",
    "estimator = nml.DEE(\n",
    "    feature_column_names=['car_age', 'km_driven', 'price_new', 'accident_count', 'door_count', 'fuel', 'transmission'],\n",
    "    y_pred='y_pred',\n",
    "    y_true='y_true',\n",
    "    timestamp_column_name='timestamp',\n",
    "    metrics=['rmse', 'rmsle'],\n",
    "    chunk_size=6000,\n",
    ")\n",
    "estimator.fit(reference)\n",
    "\n",
    "results = estimator.estimate(analysis)\n",
    "display(results.data.head(3))\n",
    "\n",
    "for metric in estimator.metrics:\n",
    "    fig1 = results.plot(kind='performance', metric=metric, plot_reference=True)\n",
    "    fig1.show()\n",
    "    fig1.write_image(f\"../_static/tutorial-perf-est-regression-{metric}.svg\")"
   ]
  },
  {
   "cell_type": "raw",
   "id": "30496cb6-0bde-41fc-84ad-e632c54d8498",
   "metadata": {},
   "source": [
    "print(reference.head(3).to_markdown(tablefmt=\"grid\"))"
   ]
  },
  {
   "cell_type": "raw",
   "id": "6af4776d-617b-40af-9f09-b6da512fa88a",
   "metadata": {},
   "source": [
    "print(results.data.head(3).to_markdown(tablefmt=\"grid\"))"
   ]
  },
  {
   "cell_type": "code",
   "execution_count": null,
   "id": "46456bd9-e251-4a5e-9a4f-7d202dba6a01",
   "metadata": {},
   "outputs": [],
   "source": []
  }
 ],
 "metadata": {
  "kernelspec": {
   "display_name": "Python 3 (ipykernel)",
   "language": "python",
   "name": "python3"
  },
  "language_info": {
   "codemirror_mode": {
    "name": "ipython",
    "version": 3
   },
   "file_extension": ".py",
   "mimetype": "text/x-python",
   "name": "python",
   "nbconvert_exporter": "python",
   "pygments_lexer": "ipython3",
   "version": "3.10.6"
  }
 },
 "nbformat": 4,
 "nbformat_minor": 5
}
