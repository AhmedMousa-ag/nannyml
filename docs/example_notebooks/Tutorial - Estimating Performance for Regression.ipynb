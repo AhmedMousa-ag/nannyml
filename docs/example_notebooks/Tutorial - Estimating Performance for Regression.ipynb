{
 "cells": [
  {
   "cell_type": "code",
   "execution_count": null,
   "id": "135fcae1",
   "metadata": {},
   "outputs": [],
   "source": [
    "import pandas as pd\n",
    "import nannyml as nml\n",
    "from IPython.display import display\n",
    "\n",
    "reference, analysis, analysis_target = nml.load_synthetic_car_price_dataset()\n",
    "display(reference.head(3))\n",
    "\n",
    "estimator = nml.DEE(\n",
    "    feature_column_names=['car_age', 'km_driven', 'price_new', 'accident_count', 'door_count', 'fuel', 'transmission'],\n",
    "    y_pred='y_pred',\n",
    "    y_true='y_true',\n",
    "    timestamp_column_name='timestamp',\n",
    "    metrics=['rmse', 'rmsle'],\n",
    "    chunk_size=6000,\n",
    ")\n",
    "estimator.fit(reference)\n",
    "\n",
    "results = estimator.estimate(analysis)\n",
    "display(results.data.head(3))\n",
    "\n",
    "for metric in estimator.metrics:\n",
    "    fig1 = results.plot(kind='performance', metric=metric, plot_reference=True)\n",
    "    fig1.show()\n",
    "    fig1.write_image(f\"../_static/tutorial-perf-est-regression-{metric}.svg\")"
   ]
  },
  {
   "cell_type": "raw",
   "id": "30496cb6-0bde-41fc-84ad-e632c54d8498",
   "metadata": {},
   "source": [
    "print(reference.head(3).to_markdown(tablefmt=\"grid\"))"
   ]
  },
  {
   "cell_type": "raw",
   "id": "6af4776d-617b-40af-9f09-b6da512fa88a",
   "metadata": {},
   "source": [
    "print(results.data.head(3).to_markdown(tablefmt=\"grid\"))"
   ]
  },
  {
   "cell_type": "code",
   "execution_count": null,
   "id": "46456bd9-e251-4a5e-9a4f-7d202dba6a01",
   "metadata": {},
   "outputs": [],
   "source": []
  }
 ],
 "metadata": {
  "kernelspec": {
   "display_name": "Python 3 (ipykernel)",
   "language": "python",
   "name": "python3"
  },
  "language_info": {
   "codemirror_mode": {
    "name": "ipython",
    "version": 3
   },
   "file_extension": ".py",
   "mimetype": "text/x-python",
   "name": "python",
   "nbconvert_exporter": "python",
   "pygments_lexer": "ipython3",
   "version": "3.10.6"
  }
 },
 "nbformat": 4,
 "nbformat_minor": 5
}
