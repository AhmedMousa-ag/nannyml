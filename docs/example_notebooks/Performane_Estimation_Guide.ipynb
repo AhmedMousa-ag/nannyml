{
 "cells": [
  {
   "cell_type": "code",
   "execution_count": null,
   "id": "d11ed3df",
   "metadata": {
    "pycharm": {
     "name": "#%%\n"
    }
   },
   "outputs": [],
   "source": [
    "def showrst(df):\n",
    "    print(df.to_markdown(tablefmt=\"grid\"))"
   ]
  },
  {
   "cell_type": "code",
   "execution_count": null,
   "id": "387a0568",
   "metadata": {
    "pycharm": {
     "name": "#%%\n"
    }
   },
   "outputs": [],
   "source": [
    "import pandas as pd\n",
    "import nannyml as nml\n",
    "reference, analysis, analysis_gt = nml.datasets.load_synthetic_binary_classification_dataset()\n",
    "reference.head(3)"
   ]
  },
  {
   "cell_type": "code",
   "execution_count": null,
   "id": "f9b3ad09",
   "metadata": {
    "pycharm": {
     "name": "#%%\n"
    }
   },
   "outputs": [],
   "source": [
    "analysis.head(3)"
   ]
  },
  {
   "cell_type": "code",
   "execution_count": null,
   "id": "388e342f",
   "metadata": {
    "pycharm": {
     "name": "#%%\n"
    }
   },
   "outputs": [],
   "source": [
    "analysis.head(3)\n",
    "metadata = nml.extract_metadata(\n",
    "    reference,\n",
    "    model_type=nml.ModelType.CLASSIFICATION_BINARY,\n",
    "    exclude_columns=['identifier']\n",
    ")\n",
    "metadata.target_column_name = 'work_home_actual'"
   ]
  },
  {
   "cell_type": "code",
   "execution_count": null,
   "id": "a1690006",
   "metadata": {
    "pycharm": {
     "name": "#%%\n"
    }
   },
   "outputs": [],
   "source": [
    "cbpe = nml.CBPE(model_metadata=metadata, chunk_size=5000, metrics=['roc_auc', 'f1'])\n",
    "cbpe.fit(reference_data=reference)"
   ]
  },
  {
   "cell_type": "code",
   "execution_count": null,
   "id": "bda191d5",
   "metadata": {},
   "outputs": [],
   "source": [
    "est_perf_analysis = cbpe.estimate(analysis)\n",
    "est_perf_analysis.data.head(3)\n",
    "showrst(est_perf_analysis.data.head(3))"
   ]
  },
  {
   "cell_type": "code",
   "execution_count": null,
   "id": "edc34f8e",
   "metadata": {},
   "outputs": [],
   "source": [
    "for metric in cbpe.metrics:\n",
    "    est_perf_analysis.plot(kind='performance', metric=metric).show()"
   ]
  },
  {
   "cell_type": "code",
   "execution_count": null,
   "id": "4ee2e3be",
   "metadata": {
    "pycharm": {
     "name": "#%%\n"
    }
   },
   "outputs": [],
   "source": [
    "est_perf_with_ref = cbpe.estimate(pd.concat([reference, analysis], ignore_index=True))"
   ]
  },
  {
   "cell_type": "code",
   "execution_count": null,
   "id": "4e233376",
   "metadata": {
    "pycharm": {
     "name": "#%%\n"
    }
   },
   "outputs": [],
   "source": [
    "est_perf_with_ref.data.head(3)"
   ]
  },
  {
   "cell_type": "code",
   "execution_count": null,
   "id": "a675db67",
   "metadata": {},
   "outputs": [],
   "source": [
    "showrst(est_perf_with_ref.data.head(3))"
   ]
  },
  {
   "cell_type": "code",
   "execution_count": null,
   "id": "1ffff96a",
   "metadata": {
    "pycharm": {
     "is_executing": true,
     "name": "#%%\n"
    }
   },
   "outputs": [],
   "source": [
    "for metric in cbpe.metrics:\n",
    "    est_perf_with_ref.plot(kind='performance', metric=metric).show()"
   ]
  },
  {
   "cell_type": "code",
   "execution_count": null,
   "id": "83aa32b6",
   "metadata": {
    "pycharm": {
     "name": "#%%\n"
    }
   },
   "outputs": [],
   "source": [
    "engine='orca'\n",
    "for metric in cbpe.metrics:\n",
    "    fig = est_perf_analysis.plot(kind='performance', metric=metric)\n",
    "    fig.write_image(file=f\"../_static/tutorial-perf-est-guide-analysis-{metric}.svg\", engine=engine)"
   ]
  },
  {
   "cell_type": "code",
   "execution_count": null,
   "id": "738e5c19",
   "metadata": {},
   "outputs": [],
   "source": [
    "for metric in cbpe.metrics:\n",
    "    fig = est_perf_with_ref.plot(kind='performance', metric=metric)\n",
    "    fig.write_image(file=f\"../_static/tutorial-perf-est-guide-with-ref-{metric}.svg\", engine=engine)"
   ]
  },
  {
   "cell_type": "code",
   "execution_count": null,
   "id": "d339ca57",
   "metadata": {
    "pycharm": {
     "name": "#%%\n"
    }
   },
   "outputs": [],
   "source": [
    "analysis_gt.head(3)"
   ]
  },
  {
   "cell_type": "code",
   "execution_count": null,
   "id": "9978ce5c",
   "metadata": {
    "pycharm": {
     "name": "#%%\n"
    }
   },
   "outputs": [],
   "source": [
    "from sklearn.metrics import roc_auc_score\n",
    "import matplotlib.pyplot as plt\n",
    "# merge gt to analysis\n",
    "analysis_full = pd.merge(analysis, analysis_gt, on = 'identifier')\n",
    "df_all = pd.concat([reference, analysis_full]).reset_index(drop=True)\n",
    "target_col = 'work_home_actual'\n",
    "pred_score_col = 'y_pred_proba'\n",
    "actual_performance = []\n",
    "for idx in est_perf.data.index:\n",
    "    start_index, end_index = est_perf.data.loc[idx, 'start_index'], est_perf.data.loc[idx, 'end_index']\n",
    "    sub = df_all.loc[start_index:end_index]\n",
    "    actual_perf = roc_auc_score(sub[target_col], sub[pred_score_col])\n",
    "    est_perf.data.loc[idx, 'actual_roc_auc'] = actual_perf\n",
    "# plot\n",
    "est_perf.data[['estimated_roc_auc', 'actual_roc_auc']].plot()\n",
    "plt.xlabel('chunk')\n",
    "plt.ylabel('ROC AUC')\n",
    "plt.show()"
   ]
  },
  {
   "cell_type": "code",
   "execution_count": null,
   "id": "ed977073",
   "metadata": {
    "pycharm": {
     "name": "#%%\n"
    }
   },
   "outputs": [],
   "source": []
  }
 ],
 "metadata": {
  "kernelspec": {
   "display_name": "Python 3 (ipykernel)",
   "language": "python",
   "name": "python3"
  },
  "language_info": {
   "codemirror_mode": {
    "name": "ipython",
    "version": 3
   },
   "file_extension": ".py",
   "mimetype": "text/x-python",
   "name": "python",
   "nbconvert_exporter": "python",
   "pygments_lexer": "ipython3",
   "version": "3.9.7"
  }
 },
 "nbformat": 4,
 "nbformat_minor": 5
}
