{
 "cells": [
  {
   "cell_type": "code",
   "execution_count": null,
   "id": "faccf1c4-ba6d-4b9c-99cb-0436a834cdc4",
   "metadata": {},
   "outputs": [],
   "source": []
  },
  {
   "cell_type": "code",
   "execution_count": null,
   "id": "49744fb2-6597-41c1-b826-ffb56bab4339",
   "metadata": {},
   "outputs": [],
   "source": []
  },
  {
   "cell_type": "code",
   "execution_count": null,
   "id": "0ef63efd-2d4e-406c-ba48-42bba0ecbcd2",
   "metadata": {},
   "outputs": [],
   "source": []
  },
  {
   "cell_type": "code",
   "execution_count": null,
   "id": "91e41285-d056-495d-a5a8-18d4bcb778a3",
   "metadata": {},
   "outputs": [],
   "source": []
  },
  {
   "cell_type": "markdown",
   "id": "8522fe44-c95a-4784-b8ee-0c3bc22f5975",
   "metadata": {},
   "source": [
    "# Regression"
   ]
  },
  {
   "cell_type": "code",
   "execution_count": null,
   "id": "9bb754c4-a2a7-4308-a362-be322adb7498",
   "metadata": {},
   "outputs": [],
   "source": [
    "import pandas as pd\n",
    "import nannyml as nml\n",
    "from IPython.display import display\n",
    "\n",
    "reference_df = nml.load_synthetic_car_price_dataset()[0]\n",
    "analysis_df = nml.load_synthetic_car_price_dataset()[1]\n",
    "analysis_target_df = nml.load_synthetic_car_price_dataset()[2]\n",
    "analysis_df = analysis_df.join(analysis_target_df)\n",
    "\n",
    "display(reference_df.head(3))\n",
    "\n",
    "calc = nml.PerformanceCalculator(\n",
    "    y_pred='y_pred',\n",
    "    y_true='y_true',\n",
    "    timestamp_column_name='timestamp',\n",
    "    problem_type='regression',\n",
    "    metrics=['mae', 'mape', 'mse', 'msle', 'rmse', 'rmsle'],\n",
    "    chunk_size=6000)\n",
    "\n",
    "calc.fit(reference_df)\n",
    "\n",
    "results = calc.calculate(analysis_df)\n",
    "\n",
    "display(results.data.head(3))\n",
    "\n",
    "for metric in [\"rmse\", \"rmsle\"]:\n",
    "    figure = results.plot(kind='performance', plot_reference=True, metric=metric)\n",
    "    figure.show()"
   ]
  },
  {
   "cell_type": "code",
   "execution_count": null,
   "id": "aacf065e-544e-4a99-94af-7a6ec654e5f7",
   "metadata": {},
   "outputs": [],
   "source": [
    "results.plot(kind='performance', plot_reference=True, metric='rmsle').write_image(\n",
    "    \"../_static/tutorial-perf-guide-regression-rmsle.svg\"\n",
    ")"
   ]
  },
  {
   "cell_type": "code",
   "execution_count": null,
   "id": "2839ddbf-3e0e-4ab3-a6b8-94dd7740cbb4",
   "metadata": {},
   "outputs": [],
   "source": [
    "results.plot(kind='performance', plot_reference=True, metric='rmse').write_image(\n",
    "    \"../_static/tutorial-perf-guide-regression-rmse.svg\"\n",
    ")"
   ]
  }
 ],
 "metadata": {
  "kernelspec": {
   "display_name": "Python 3 (ipykernel)",
   "language": "python",
   "name": "python3"
  },
  "language_info": {
   "codemirror_mode": {
    "name": "ipython",
    "version": 3
   },
   "file_extension": ".py",
   "mimetype": "text/x-python",
   "name": "python",
   "nbconvert_exporter": "python",
   "pygments_lexer": "ipython3",
   "version": "3.10.6"
  }
 },
 "nbformat": 4,
 "nbformat_minor": 5
}
