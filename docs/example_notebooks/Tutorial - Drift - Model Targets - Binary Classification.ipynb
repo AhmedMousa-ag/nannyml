{
 "cells": [
  {
   "cell_type": "code",
   "execution_count": null,
   "outputs": [],
   "source": [
    "import nannyml as nml\n",
    "from IPython.display import display\n",
    "\n",
    "reference_df = nml.load_synthetic_binary_classification_dataset()[0]\n",
    "analysis_df = nml.load_synthetic_binary_classification_dataset()[1]\n",
    "analysis_target_df = nml.load_synthetic_binary_classification_dataset()[2]\n",
    "analysis_df = analysis_df.merge(analysis_target_df, on='identifier')\n",
    "\n",
    "display(reference_df.head(3))"
   ],
   "metadata": {
    "collapsed": false,
    "pycharm": {
     "name": "#%%\n"
    }
   }
  },
  {
   "cell_type": "code",
   "execution_count": null,
   "outputs": [],
   "source": [
    "print(reference_df.head(3).to_markdown(tablefmt=\"grid\"))"
   ],
   "metadata": {
    "collapsed": false,
    "pycharm": {
     "name": "#%%\n"
    }
   }
  },
  {
   "cell_type": "code",
   "execution_count": null,
   "outputs": [],
   "source": [
    "calc = nml.TargetDistributionCalculator(\n",
    "    y_true='work_home_actual',\n",
    "    timestamp_column_name='timestamp',\n",
    "    problem_type='classification_binary'\n",
    ")"
   ],
   "metadata": {
    "collapsed": false,
    "pycharm": {
     "name": "#%%\n"
    }
   }
  },
  {
   "cell_type": "code",
   "execution_count": null,
   "outputs": [],
   "source": [
    "calc.fit(reference_df)\n",
    "results = calc.calculate(analysis_df)\n",
    "display(results.data.head(3))"
   ],
   "metadata": {
    "collapsed": false,
    "pycharm": {
     "name": "#%%\n"
    }
   }
  },
  {
   "cell_type": "code",
   "execution_count": null,
   "outputs": [],
   "source": [
    "print(results.data.head(3).to_markdown(tablefmt=\"grid\"))"
   ],
   "metadata": {
    "collapsed": false,
    "pycharm": {
     "name": "#%%\n"
    }
   }
  },
  {
   "cell_type": "code",
   "execution_count": null,
   "outputs": [],
   "source": [
    "target_drift_fig = results.plot(kind='target_drift', plot_reference=True)\n",
    "target_drift_fig.show()"
   ],
   "metadata": {
    "collapsed": false,
    "pycharm": {
     "name": "#%%\n"
    }
   }
  },
  {
   "cell_type": "code",
   "execution_count": null,
   "outputs": [],
   "source": [
    "target_drift_fig.write_image('../_static/target_distribution_metric.svg')"
   ],
   "metadata": {
    "collapsed": false,
    "pycharm": {
     "name": "#%%\n"
    }
   }
  },
  {
   "cell_type": "code",
   "execution_count": null,
   "outputs": [],
   "source": [
    "target_distribution_fig = results.plot(kind='target_distribution', plot_reference=True)\n",
    "target_distribution_fig.show()"
   ],
   "metadata": {
    "collapsed": false,
    "pycharm": {
     "name": "#%%\n"
    }
   }
  },
  {
   "cell_type": "code",
   "execution_count": null,
   "outputs": [],
   "source": [
    "target_distribution_fig.write_image('../_static/target_distribution_statistical.svg')\n"
   ],
   "metadata": {
    "collapsed": false,
    "pycharm": {
     "name": "#%%\n"
    }
   }
  }
 ],
 "metadata": {
  "kernelspec": {
   "display_name": "Python 3",
   "language": "python",
   "name": "python3"
  },
  "language_info": {
   "codemirror_mode": {
    "name": "ipython",
    "version": 2
   },
   "file_extension": ".py",
   "mimetype": "text/x-python",
   "name": "python",
   "nbconvert_exporter": "python",
   "pygments_lexer": "ipython2",
   "version": "2.7.6"
  }
 },
 "nbformat": 4,
 "nbformat_minor": 0
}
