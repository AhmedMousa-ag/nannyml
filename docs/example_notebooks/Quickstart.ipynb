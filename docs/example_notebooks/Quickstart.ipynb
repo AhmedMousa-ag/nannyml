{
 "cells": [
  {
   "cell_type": "code",
   "execution_count": null,
   "id": "4bfc3e10",
   "metadata": {
    "pycharm": {
     "name": "#%%\n"
    },
    "scrolled": true
   },
   "outputs": [],
   "source": [
    "import pandas as pd\n",
    "\n",
    "import nannyml as nml\n",
    "\n",
    "from IPython.display import display\n",
    "\n",
    "reference, analysis, analysis_target = nml.load_synthetic_binary_classification_dataset()\n",
    "\n",
    "display(analysis.head())\n",
    "\n",
    "display(reference.head())\n",
    "\n",
    "metadata = nml.extract_metadata(data = reference, model_name='wfh_predictor', model_type='classification_binary', exclude_columns=['identifier'])\n",
    "\n",
    "metadata.target_column_name = 'work_home_actual'\n",
    "\n",
    "data = pd.concat([reference, analysis], ignore_index=True)\n",
    "\n",
    "# Let's use a chunk size of 5000 data points to create our drift statistics\n",
    "\n",
    "chunk_size = 5000\n",
    "\n",
    "# fit estimator and estimate\n",
    "\n",
    "estimator = nml.CBPE(model_metadata=metadata, chunk_size=chunk_size, metrics=['roc_auc']).fit(reference)\n",
    "\n",
    "estimated_performance = estimator.estimate(data=data)\n",
    "\n",
    "# show results\n",
    "\n",
    "figure = estimated_performance.plot(kind='performance', metric='roc_auc')\n",
    "\n",
    "figure.show()\n",
    "\n",
    "# Let's initialize the object that will perform the Univariate Drift calculations\n",
    "\n",
    "univariate_calculator = nml.UnivariateStatisticalDriftCalculator(model_metadata=metadata, chunk_size=chunk_size).fit(reference_data=reference)\n",
    "\n",
    "univariate_results = univariate_calculator.calculate(data=data)\n",
    "\n",
    "# let's plot drift results for all model inputs\n",
    "\n",
    "for feature in metadata.features:\n",
    "\n",
    "    figure = univariate_results.plot(kind='feature_drift', metric='statistic', feature_label=feature.label)\n",
    "\n",
    "    figure.show()\n",
    "\n",
    "ranker = nml.Ranker.by('alert_count')\n",
    "\n",
    "ranked_features = ranker.rank(univariate_results, model_metadata=metadata, only_drifting = False)\n",
    "\n",
    "display(ranked_features)\n",
    "\n",
    "figure = univariate_results.plot(kind='prediction_drift', metric='statistic')\n",
    "\n",
    "figure.show()\n",
    "\n",
    "# Let's initialize the object that will perform Data Reconstruction with PCA\n",
    "\n",
    "rcerror_calculator = nml.DataReconstructionDriftCalculator(model_metadata=metadata, chunk_size=chunk_size).fit(reference_data=reference)\n",
    "\n",
    "# let's see Reconstruction error statistics for all available data\n",
    "\n",
    "rcerror_results = rcerror_calculator.calculate(data=data)\n",
    "\n",
    "figure = rcerror_results.plot(kind='drift')\n",
    "\n",
    "figure.show()"
   ]
  },
  {
   "cell_type": "code",
   "execution_count": null,
   "id": "8d193e87",
   "metadata": {
    "pycharm": {
     "name": "#%%\n"
    }
   },
   "outputs": [],
   "source": [
    "import pandas as pd\n",
    "import nannyml as nml\n",
    "from IPython.display import display\n",
    "reference, analysis, analysis_target = nml.load_synthetic_binary_classification_dataset()\n",
    "display(analysis.head())\n",
    "display(reference.head())"
   ]
  },
  {
   "cell_type": "code",
   "execution_count": null,
   "id": "a1f7d99b",
   "metadata": {
    "pycharm": {
     "name": "#%%\n"
    }
   },
   "outputs": [],
   "source": [
    "metadata = nml.extract_metadata(data = reference, model_name='wfh_predictor', model_type='classification_binary', exclude_columns=['identifier'])\n",
    "metadata.target_column_name = 'work_home_actual'\n",
    "data = pd.concat([reference, analysis], ignore_index=True)\n",
    "# Let's use a chunk size of 5000 data points to create our drift statistics\n",
    "chunk_size = 5000"
   ]
  },
  {
   "cell_type": "code",
   "execution_count": null,
   "id": "25d31e63",
   "metadata": {
    "pycharm": {
     "name": "#%%\n"
    }
   },
   "outputs": [],
   "source": [
    "# fit estimator and estimate\n",
    "estimator = estimator = nml.CBPE(model_metadata=metadata, chunk_size=chunk_size, metrics=['roc_auc']).fit(reference)\n",
    "estimated_performance = estimator.estimate(data=data)\n",
    "# show results\n",
    "figure = estimated_performance.plot(kind='performance', metric='roc_auc')\n",
    "figure.show()"
   ]
  },
  {
   "cell_type": "code",
   "execution_count": null,
   "id": "7ca0f769",
   "metadata": {},
   "outputs": [],
   "source": [
    "# engine='orca'\n",
    "# figure.write_image(file=f\"../_static/quick_start_perf_est.svg\", engine=engine)"
   ]
  },
  {
   "cell_type": "code",
   "execution_count": null,
   "id": "4971b352",
   "metadata": {
    "pycharm": {
     "name": "#%%\n"
    },
    "scrolled": false
   },
   "outputs": [],
   "source": [
    "# Let's initialize the object that will perform the Univariate Drift calculations\n",
    "univariate_calculator = nml.UnivariateStatisticalDriftCalculator(model_metadata=metadata, chunk_size=chunk_size).fit(reference_data=reference)\n",
    "univariate_results = univariate_calculator.calculate(data=data)\n",
    "# let's plot drift results for all model inputs\n",
    "for feature in metadata.features:\n",
    "    figure = univariate_results.plot(kind='feature_drift', metric='statistic', feature_label=feature.label)\n",
    "    figure.show()"
   ]
  },
  {
   "cell_type": "code",
   "execution_count": null,
   "id": "35f8806c",
   "metadata": {
    "pycharm": {
     "name": "#%%\n"
    }
   },
   "outputs": [],
   "source": [
    "ranker = nml.Ranker.by('alert_count')\n",
    "ranked_features = ranker.rank(univariate_results, model_metadata=metadata, only_drifting = False)\n",
    "display(ranked_features)"
   ]
  },
  {
   "cell_type": "code",
   "execution_count": null,
   "id": "99308e8e",
   "metadata": {
    "pycharm": {
     "name": "#%%\n"
    }
   },
   "outputs": [],
   "source": [
    "figure = univariate_results.plot(kind='prediction_drift', metric='statistic')\n",
    "figure.show()"
   ]
  },
  {
   "cell_type": "code",
   "execution_count": null,
   "id": "ebc9b0a3",
   "metadata": {
    "pycharm": {
     "name": "#%%\n"
    }
   },
   "outputs": [],
   "source": [
    "# Let's initialize the object that will perform Data Reconstruction with PCA\n",
    "rcerror_calculator = nml.DataReconstructionDriftCalculator(model_metadata=metadata, chunk_size=chunk_size).fit(reference_data=reference)\n",
    "# let's see Reconstruction error statistics for all available data\n",
    "rcerror_results = rcerror_calculator.calculate(data=data)\n",
    "figure = rcerror_results.plot(kind='drift')\n",
    "figure.show()"
   ]
  },
  {
   "cell_type": "code",
   "execution_count": null,
   "id": "36d7440e",
   "metadata": {},
   "outputs": [],
   "source": []
  },
  {
   "cell_type": "code",
   "execution_count": null,
   "id": "26074672",
   "metadata": {},
   "outputs": [],
   "source": []
  },
  {
   "cell_type": "code",
   "execution_count": null,
   "id": "d28fcee7",
   "metadata": {},
   "outputs": [],
   "source": []
  }
 ],
 "metadata": {
  "kernelspec": {
   "display_name": "Python 3 (ipykernel)",
   "language": "python",
   "name": "python3"
  },
  "language_info": {
   "codemirror_mode": {
    "name": "ipython",
    "version": 3
   },
   "file_extension": ".py",
   "mimetype": "text/x-python",
   "name": "python",
   "nbconvert_exporter": "python",
   "pygments_lexer": "ipython3",
   "version": "3.9.7"
  }
 },
 "nbformat": 4,
 "nbformat_minor": 5
}
