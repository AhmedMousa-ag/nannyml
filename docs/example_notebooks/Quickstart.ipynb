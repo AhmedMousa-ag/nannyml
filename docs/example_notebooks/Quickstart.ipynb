{
 "cells": [
  {
   "cell_type": "code",
   "execution_count": null,
   "id": "4bfc3e10",
   "metadata": {
    "pycharm": {
     "name": "#%%\n"
    },
    "scrolled": false
   },
   "outputs": [],
   "source": [
    "import pandas as pd\n",
    "import nannyml as nml\n",
    "from IPython.display import display\n",
    "\n",
    "# Load synthetic data\n",
    "reference, analysis, analysis_target = nml.load_synthetic_binary_classification_dataset()\n",
    "display(reference.head())\n",
    "display(analysis.head())\n",
    "\n",
    "# Choose a chunker or set a chunk size\n",
    "chunk_size = 5000\n",
    "\n",
    "# initialize, specify required data columns, fit estimator and estimate\n",
    "estimator = nml.CBPE(\n",
    "   y_pred_proba='y_pred_proba',\n",
    "   y_pred='y_pred',\n",
    "   y_true='work_home_actual',\n",
    "   timestamp_column_name='timestamp',\n",
    "   metrics=['roc_auc'],\n",
    "   chunk_size=chunk_size,\n",
    ")\n",
    "estimator = estimator.fit(reference)\n",
    "estimated_performance = estimator.estimate(analysis)\n",
    "\n",
    "# Show results\n",
    "figure = estimated_performance.plot(kind='performance', metric='roc_auc', plot_reference=True)\n",
    "figure.show()\n",
    "\n",
    "# Define feature columns\n",
    "feature_column_names = [\n",
    "    col for col in reference.columns if col not in [\n",
    "        'timestamp', 'y_pred_proba', 'period', 'y_pred', 'work_home_actual', 'identifier'\n",
    "    ]]\n",
    "\n",
    "# Let's initialize the object that will perform the Univariate Drift calculations\n",
    "univariate_calculator = nml.UnivariateStatisticalDriftCalculator(\n",
    "    feature_column_names=feature_column_names,\n",
    "    timestamp_column_name='timestamp',\n",
    "    chunk_size=chunk_size\n",
    ")\n",
    "univariate_calculator = univariate_calculator.fit(reference)\n",
    "univariate_results = univariate_calculator.calculate(analysis)\n",
    "# Plot drift results for all model inputs\n",
    "for feature in univariate_calculator.feature_column_names:\n",
    "    figure = univariate_results.plot(\n",
    "        kind='feature_drift',\n",
    "        metric='statistic',\n",
    "        feature=feature,\n",
    "        plot_reference=True\n",
    "    )\n",
    "    figure.show()\n",
    "\n",
    "# Rank features based on number of alerts\n",
    "ranker = nml.Ranker.by('alert_count')\n",
    "ranked_features = ranker.rank(univariate_results, only_drifting = False)\n",
    "display(ranked_features)\n",
    "\n",
    "calc = nml.StatisticalOutputDriftCalculator(\n",
    "    y_pred='y_pred',\n",
    "    y_pred_proba='y_pred_proba',\n",
    "    timestamp_column_name='timestamp'\n",
    ")\n",
    "calc.fit(reference)\n",
    "results = calc.calculate(analysis)\n",
    "\n",
    "figure = results.plot(kind='prediction_drift', plot_reference=True)\n",
    "figure.show()\n",
    "\n",
    "# Let's initialize the object that will perform Data Reconstruction with PCA\n",
    "rcerror_calculator = nml.DataReconstructionDriftCalculator(feature_column_names=feature_column_names, timestamp_column_name='timestamp', chunk_size=chunk_size).fit(reference_data=reference)\n",
    "# let's see Reconstruction error statistics for all available data\n",
    "rcerror_results = rcerror_calculator.calculate(analysis)\n",
    "figure = rcerror_results.plot(kind='drift', plot_reference=True)\n",
    "figure.show()"
   ]
  },
  {
   "cell_type": "code",
   "execution_count": null,
   "id": "7e10dcff",
   "metadata": {},
   "outputs": [],
   "source": []
  },
  {
   "cell_type": "code",
   "execution_count": null,
   "id": "e0530a3a",
   "metadata": {},
   "outputs": [],
   "source": []
  },
  {
   "cell_type": "code",
   "execution_count": null,
   "id": "8d193e87",
   "metadata": {
    "pycharm": {
     "name": "#%%\n"
    },
    "scrolled": true
   },
   "outputs": [],
   "source": [
    "import pandas as pd\n",
    "import nannyml as nml\n",
    "from IPython.display import display\n",
    "\n",
    "# Load synthetic data\n",
    "reference, analysis, analysis_target = nml.load_synthetic_binary_classification_dataset()\n",
    "display(reference.head())\n",
    "display(analysis.head())"
   ]
  },
  {
   "cell_type": "code",
   "execution_count": null,
   "id": "9c31391c",
   "metadata": {},
   "outputs": [],
   "source": [
    "# Choose a chunker or set a chunk size\n",
    "chunk_size = 5000"
   ]
  },
  {
   "cell_type": "code",
   "execution_count": null,
   "id": "a1f7d99b",
   "metadata": {
    "pycharm": {
     "name": "#%%\n"
    }
   },
   "outputs": [],
   "source": [
    "# initialize, specify required data columns, fit estimator and estimate\n",
    "estimator = nml.CBPE(\n",
    "   y_pred_proba='y_pred_proba',\n",
    "   y_pred='y_pred',\n",
    "   y_true='work_home_actual',\n",
    "   timestamp_column_name='timestamp',\n",
    "   metrics=['roc_auc'],\n",
    "   chunk_size=chunk_size,\n",
    ")\n",
    "estimator = estimator.fit(reference)\n",
    "estimated_performance = estimator.estimate(analysis)\n",
    "\n",
    "# Show results\n",
    "figure = estimated_performance.plot(kind='performance', metric='roc_auc', plot_reference=True)\n",
    "figure.show()"
   ]
  },
  {
   "cell_type": "code",
   "execution_count": null,
   "id": "36d7440e",
   "metadata": {
    "scrolled": true
   },
   "outputs": [],
   "source": [
    "# Define feature columns\n",
    "feature_column_names = [\n",
    "    col for col in reference.columns if col not in [\n",
    "        'timestamp', 'y_pred_proba', 'period', 'y_pred', 'work_home_actual', 'identifier'\n",
    "    ]]\n",
    "# Let's initialize the object that will perform the Univariate Drift calculations\n",
    "univariate_calculator = nml.UnivariateStatisticalDriftCalculator(\n",
    "    feature_column_names=feature_column_names,\n",
    "    timestamp_column_name='timestamp',\n",
    "    chunk_size=chunk_size\n",
    ")\n",
    "univariate_calculator = univariate_calculator.fit(reference)\n",
    "univariate_results = univariate_calculator.calculate(analysis)\n",
    "# Plot drift results for all model inputs\n",
    "for feature in univariate_calculator.feature_column_names:\n",
    "    figure = univariate_results.plot(\n",
    "        kind='feature_drift',\n",
    "        metric='statistic',\n",
    "        feature=feature,\n",
    "        plot_reference=True\n",
    "    )\n",
    "    figure.show()"
   ]
  },
  {
   "cell_type": "code",
   "execution_count": null,
   "id": "b610d543",
   "metadata": {},
   "outputs": [],
   "source": [
    "ranker = nml.Ranker.by('alert_count')\n",
    "ranked_features = ranker.rank(univariate_results, only_drifting = False)\n",
    "display(ranked_features)"
   ]
  },
  {
   "cell_type": "code",
   "execution_count": null,
   "id": "e6c83bf4",
   "metadata": {},
   "outputs": [],
   "source": [
    "calc = nml.StatisticalOutputDriftCalculator(\n",
    "    y_pred='y_pred',\n",
    "    y_pred_proba='y_pred_proba',\n",
    "    timestamp_column_name='timestamp'\n",
    ")\n",
    "calc.fit(reference)\n",
    "results = calc.calculate(analysis)\n",
    "\n",
    "figure = results.plot(kind='prediction_drift', plot_reference=True)\n",
    "figure.show()"
   ]
  },
  {
   "cell_type": "code",
   "execution_count": null,
   "id": "f3670f4c",
   "metadata": {},
   "outputs": [],
   "source": [
    "# Let's initialize the object that will perform Data Reconstruction with PCA\n",
    "rcerror_calculator = nml.DataReconstructionDriftCalculator(feature_column_names=feature_column_names, timestamp_column_name='timestamp', chunk_size=chunk_size).fit(reference_data=reference)\n",
    "# let's see Reconstruction error statistics for all available data\n",
    "rcerror_results = rcerror_calculator.calculate(analysis)\n",
    "figure = rcerror_results.plot(kind='drift', plot_reference=True)\n",
    "figure.show()"
   ]
  },
  {
   "cell_type": "code",
   "execution_count": null,
   "id": "26074672",
   "metadata": {},
   "outputs": [],
   "source": []
  },
  {
   "cell_type": "code",
   "execution_count": null,
   "id": "d28fcee7",
   "metadata": {},
   "outputs": [],
   "source": []
  }
 ],
 "metadata": {
  "kernelspec": {
   "display_name": "Python 3 (ipykernel)",
   "language": "python",
   "name": "python3"
  },
  "language_info": {
   "codemirror_mode": {
    "name": "ipython",
    "version": 3
   },
   "file_extension": ".py",
   "mimetype": "text/x-python",
   "name": "python",
   "nbconvert_exporter": "python",
   "pygments_lexer": "ipython3",
   "version": "3.10.5"
  }
 },
 "nbformat": 4,
 "nbformat_minor": 5
}
