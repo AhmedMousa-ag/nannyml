{
 "cells": [
  {
   "cell_type": "code",
   "execution_count": null,
   "id": "b7dcad0a",
   "metadata": {
    "vscode": {
     "languageId": "plaintext"
    }
   },
   "outputs": [],
   "source": [
    "import pandas as pd\n",
    "import nannyml as nml\n",
    "from IPython.display import display\n",
    "\n",
    "reference_df = nml.load_synthetic_car_price_dataset()[0]\n",
    "analysis_df = nml.load_synthetic_car_price_dataset()[1]\n",
    "analysis_target_df = nml.load_synthetic_car_price_dataset()[2]\n",
    "analysis_df = analysis_df.join(analysis_target_df)\n",
    "\n",
    "display(reference_df.head(3))"
   ]
  },
  {
   "cell_type": "code",
   "execution_count": null,
   "id": "49d0f2ee",
   "metadata": {
    "vscode": {
     "languageId": "plaintext"
    }
   },
   "outputs": [],
   "source": [
    "print(reference_df.head(3).to_markdown(tablefmt=\"grid\"))"
   ]
  },
  {
   "cell_type": "code",
   "execution_count": null,
   "id": "a5ac2f71",
   "metadata": {
    "vscode": {
     "languageId": "plaintext"
    }
   },
   "outputs": [],
   "source": [
    "calc = nml.PerformanceCalculator(\n",
    "    y_pred='y_pred',\n",
    "    y_true='y_true',\n",
    "    timestamp_column_name='timestamp',\n",
    "    problem_type='regression',\n",
    "    metrics=['mae', 'mape', 'mse', 'msle', 'rmse', 'rmsle'],\n",
    "    chunk_size=6000)\n",
    "\n",
    "calc.fit(reference_df)"
   ]
  },
  {
   "cell_type": "code",
   "execution_count": null,
   "id": "002ac354",
   "metadata": {
    "vscode": {
     "languageId": "plaintext"
    }
   },
   "outputs": [],
   "source": [
    "results = calc.calculate(analysis_df)\n",
    "display(results.data)"
   ]
  },
  {
   "cell_type": "code",
   "execution_count": null,
   "id": "892263db",
   "metadata": {
    "vscode": {
     "languageId": "plaintext"
    }
   },
   "outputs": [],
   "source": [
    "print(results.data.to_markdown(tablefmt=\"grid\"))"
   ]
  },
  {
   "cell_type": "code",
   "execution_count": null,
   "id": "51750721",
   "metadata": {
    "vscode": {
     "languageId": "plaintext"
    }
   },
   "outputs": [],
   "source": [
    "display(results.calculator.previous_reference_results)"
   ]
  },
  {
   "cell_type": "code",
   "execution_count": null,
   "id": "d33cab6b",
   "metadata": {
    "vscode": {
     "languageId": "plaintext"
    }
   },
   "outputs": [],
   "source": [
    "print(results.calculator.previous_reference_results.to_markdown(tablefmt=\"grid\"))"
   ]
  },
  {
   "cell_type": "code",
   "execution_count": null,
   "id": "2fca630d",
   "metadata": {
    "vscode": {
     "languageId": "plaintext"
    }
   },
   "outputs": [],
   "source": [
    "for metric in [\"rmse\", \"rmsle\"]:\n",
    "    figure = results.plot(kind='performance', plot_reference=True, metric=metric)\n",
    "    figure.show()"
   ]
  },
  {
   "cell_type": "code",
   "execution_count": null,
   "id": "7812a530",
   "metadata": {
    "vscode": {
     "languageId": "plaintext"
    }
   },
   "outputs": [],
   "source": [
    "# re-run to save images\n",
    "for metric in [\"rmse\", \"rmsle\"]:\n",
    "    figure = results.plot(kind='performance', plot_reference=True, metric=metric)\n",
    "    figure.write_image(f\"../_static/tutorial-perf-guide-regression-{metric}.svg\")"
   ]
  }
 ],
 "metadata": {
  "kernelspec": {
   "display_name": "Python 3 (ipykernel)",
   "language": "python",
   "name": "python3"
  },
  "language_info": {
   "codemirror_mode": {
    "name": "ipython",
    "version": 3
   },
   "file_extension": ".py",
   "mimetype": "text/x-python",
   "name": "python",
   "nbconvert_exporter": "python",
   "pygments_lexer": "ipython3",
   "version": "3.10.6"
  }
 },
 "nbformat": 4,
 "nbformat_minor": 5
}
