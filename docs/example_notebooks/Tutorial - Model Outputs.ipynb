{
 "cells": [
  {
   "cell_type": "markdown",
   "id": "bfcd5cd7-8e97-4446-9dfc-a937457f1e9f",
   "metadata": {},
   "source": [
    "# Binary Classification"
   ]
  },
  {
   "cell_type": "code",
   "execution_count": null,
   "id": "29518c93",
   "metadata": {
    "pycharm": {
     "name": "#%%\n"
    }
   },
   "outputs": [],
   "source": [
    "import nannyml as nml\n",
    "import pandas as pd\n",
    "from IPython.display import display\n",
    "\n",
    "reference_df = nml.load_synthetic_binary_classification_dataset()[0]\n",
    "analysis_df = nml.load_synthetic_binary_classification_dataset()[1]\n",
    "\n",
    "display(reference_df.head())\n",
    "\n",
    "calc = nml.StatisticalOutputDriftCalculator(y_pred='y_pred', y_pred_proba='y_pred_proba',\n",
    "                                            timestamp_column_name='timestamp', problem_type='classification_binary')\n",
    "\n",
    "calc.fit(reference_df)\n",
    "\n",
    "results = calc.calculate(analysis_df)\n",
    "\n",
    "display(results.data)\n",
    "\n",
    "predicted_labels_drift_fig = results.plot(kind='prediction_drift', plot_reference=True)\n",
    "predicted_labels_drift_fig.show()\n",
    "# # save figure - not shown on guide:\n",
    "# figure.write_image(file=f\"../_static/drift-guide-predictions.svg\")\n",
    "\n",
    "predicted_labels_distribution_fig = results.plot(kind='prediction_distribution', plot_reference=True)\n",
    "predicted_labels_distribution_fig.show()\n",
    "# # save figure - not shown on guide:\n",
    "# figure.write_image(file=f\"../_static/drift-guide-predictions-joyplot.svg\")\n",
    "\n",
    "prediction_drift_fig = results.plot(kind='score_drift', plot_reference=True)\n",
    "prediction_drift_fig.show()\n",
    "# # save figure - not shown on guide:\n",
    "# figure.write_image(file=f\"../_static/drift-guide-predicted-labels.svg\")\n",
    "\n",
    "prediction_distribution_fig = results.plot(kind='score_distribution', plot_reference=True)\n",
    "prediction_distribution_fig.show()\n",
    "# # save figure - not shown on guide:\n",
    "# figure.write_image(file=f\"../_static/drift-guide-predicted-labels-barchart.svg\")"
   ]
  },
  {
   "cell_type": "markdown",
   "id": "dd5644a9-6046-4b5d-ad27-85a8412fb42b",
   "metadata": {
    "pycharm": {
     "name": "#%%\n"
    }
   },
   "source": [
    "# Multiclass Classification"
   ]
  },
  {
   "cell_type": "code",
   "execution_count": null,
   "id": "13b061a4",
   "metadata": {},
   "outputs": [],
   "source": [
    "import nannyml as nml\n",
    "import pandas as pd\n",
    "from IPython.display import display\n",
    "\n",
    "reference_df = nml.load_synthetic_multiclass_classification_dataset()[0]\n",
    "analysis_df = nml.load_synthetic_multiclass_classification_dataset()[1]\n",
    "\n",
    "display(reference_df.head())\n",
    "\n",
    "calc = nml.StatisticalOutputDriftCalculator(\n",
    "    y_pred='y_pred',\n",
    "    y_pred_proba={\n",
    "        'prepaid_card': 'y_pred_proba_prepaid_card',\n",
    "        'upmarket_card': 'y_pred_proba_upmarket_card',\n",
    "        'highstreet_card': 'y_pred_proba_highstreet_card'\n",
    "    },\n",
    "    timestamp_column_name='timestamp',\n",
    "    problem_type='classification_multiclass')\n",
    "\n",
    "calc.fit(reference_df)\n",
    "\n",
    "results = calc.calculate(analysis_df)\n",
    "\n",
    "display(results.data)\n",
    "\n",
    "figure = results.plot(kind='prediction_drift', plot_reference=True)\n",
    "figure.show()\n",
    "\n",
    "figure = results.plot(kind='prediction_distribution', plot_reference=True)\n",
    "figure.show()\n",
    "\n",
    "for label in calc.y_pred_proba.keys():\n",
    "    figure = results.plot(kind='score_drift', class_label=label, plot_reference=True)\n",
    "    figure.show()\n",
    "\n",
    "for label in calc.y_pred_proba.keys():\n",
    "    figure = results.plot(kind='score_distribution', class_label=label, plot_reference=True)\n",
    "    figure.show()"
   ]
  },
  {
   "cell_type": "markdown",
   "id": "345589c7-e26a-490f-b76e-5b31fe938f74",
   "metadata": {},
   "source": [
    "# Regression"
   ]
  },
  {
   "cell_type": "code",
   "execution_count": null,
   "id": "b5d35b52-136c-4b36-8437-7ca3e0a2fb73",
   "metadata": {},
   "outputs": [],
   "source": [
    "import nannyml as nml\n",
    "import pandas as pd\n",
    "from IPython.display import display\n",
    "\n",
    "reference_df = nml.load_synthetic_car_price_dataset()[0]\n",
    "analysis_df = nml.load_synthetic_car_price_dataset()[1]\n",
    "\n",
    "display(reference_df.head())\n",
    "\n",
    "calc = nml.StatisticalOutputDriftCalculator(\n",
    "    y_pred='y_pred',\n",
    "    timestamp_column_name='timestamp',\n",
    "    problem_type='regression'\n",
    ")\n",
    "\n",
    "calc.fit(reference_df)\n",
    "results = calc.calculate(analysis_df)\n",
    "display(results.data)\n",
    "\n",
    "prediction_drift_fig = results.plot(kind='prediction_drift', plot_reference=True)\n",
    "prediction_drift_fig.show()\n",
    "\n",
    "prediction_distribution_fig = results.plot(kind='prediction_distribution', plot_reference=True)\n",
    "prediction_distribution_fig.show()"
   ]
  },
  {
   "cell_type": "code",
   "execution_count": null,
   "id": "ad3b2c0d-5288-4086-876f-52c4b5d94ada",
   "metadata": {},
   "outputs": [],
   "source": []
  },
  {
   "cell_type": "code",
   "execution_count": null,
   "id": "b2bbea43-d42e-4917-8bc2-83f3949c0412",
   "metadata": {},
   "outputs": [],
   "source": []
  }
 ],
 "metadata": {
  "kernelspec": {
   "display_name": "Python 3 (ipykernel)",
   "language": "python",
   "name": "python3"
  },
  "language_info": {
   "codemirror_mode": {
    "name": "ipython",
    "version": 3
   },
   "file_extension": ".py",
   "mimetype": "text/x-python",
   "name": "python",
   "nbconvert_exporter": "python",
   "pygments_lexer": "ipython3",
   "version": "3.10.6"
  }
 },
 "nbformat": 4,
 "nbformat_minor": 5
}
