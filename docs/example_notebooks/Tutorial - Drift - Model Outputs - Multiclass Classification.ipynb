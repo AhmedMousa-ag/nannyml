{
 "cells": [
  {
   "cell_type": "code",
   "execution_count": null,
   "metadata": {
    "collapsed": true,
    "pycharm": {
     "name": "#%%\n"
    }
   },
   "outputs": [],
   "source": [
    "import nannyml as nml\n",
    "from IPython.display import display\n",
    "\n",
    "reference_df = nml.load_synthetic_multiclass_classification_dataset()[0]\n",
    "analysis_df = nml.load_synthetic_multiclass_classification_dataset()[1]\n",
    "\n",
    "display(reference_df.head())"
   ]
  },
  {
   "cell_type": "code",
   "execution_count": null,
   "outputs": [],
   "source": [
    "print(reference_df.head().to_markdown(tablefmt=\"grid\"))"
   ],
   "metadata": {
    "collapsed": false,
    "pycharm": {
     "name": "#%%\n"
    }
   }
  },
  {
   "cell_type": "code",
   "execution_count": null,
   "outputs": [],
   "source": [
    "calc = nml.StatisticalOutputDriftCalculator(\n",
    "    y_pred='y_pred',\n",
    "    y_pred_proba={\n",
    "        'prepaid_card': 'y_pred_proba_prepaid_card',\n",
    "        'upmarket_card': 'y_pred_proba_upmarket_card',\n",
    "        'highstreet_card': 'y_pred_proba_highstreet_card'\n",
    "    },\n",
    "    timestamp_column_name='timestamp',\n",
    "    problem_type='classification_multiclass')\n",
    "\n",
    "calc.fit(reference_df)\n",
    "results = calc.calculate(analysis_df)"
   ],
   "metadata": {
    "collapsed": false,
    "pycharm": {
     "name": "#%%\n"
    }
   }
  },
  {
   "cell_type": "code",
   "execution_count": null,
   "outputs": [],
   "source": [
    "display(results.data)"
   ],
   "metadata": {
    "collapsed": false,
    "pycharm": {
     "name": "#%%\n"
    }
   }
  },
  {
   "cell_type": "code",
   "execution_count": null,
   "outputs": [],
   "source": [
    "print(results.data.to_markdown(tablefmt=\"grid\"))"
   ],
   "metadata": {
    "collapsed": false,
    "pycharm": {
     "name": "#%%\n"
    }
   }
  },
  {
   "cell_type": "code",
   "execution_count": null,
   "outputs": [],
   "source": [
    "for label in calc.y_pred_proba.keys():\n",
    "    figure = results.plot(kind='score_drift', class_label=label, plot_reference=True)\n",
    "    figure.show()"
   ],
   "metadata": {
    "collapsed": false,
    "pycharm": {
     "name": "#%%\n"
    }
   }
  },
  {
   "cell_type": "code",
   "execution_count": null,
   "outputs": [],
   "source": [
    "for label in calc.y_pred_proba.keys():\n",
    "    figure = results.plot(kind='score_drift', class_label=label, plot_reference=True)\n",
    "    figure.write_image(f'../_static/tutorials/detecting_data_drift/model_outputs/multiclass/drift-guide-score-drift-{label}.svg')"
   ],
   "metadata": {
    "collapsed": false,
    "pycharm": {
     "name": "#%%\n"
    }
   }
  },
  {
   "cell_type": "code",
   "execution_count": null,
   "outputs": [],
   "source": [
    "for label in calc.y_pred_proba.keys():\n",
    "    figure = results.plot(kind='score_distribution', class_label=label, plot_reference=True)\n",
    "    figure.show()"
   ],
   "metadata": {
    "collapsed": false,
    "pycharm": {
     "name": "#%%\n"
    }
   }
  },
  {
   "cell_type": "code",
   "execution_count": null,
   "outputs": [],
   "source": [
    "for label in calc.y_pred_proba.keys():\n",
    "    figure = results.plot(kind='score_distribution', class_label=label, plot_reference=True)\n",
    "    figure.write_image(f'../_static/tutorials/detecting_data_drift/model_outputs/multiclass/drift-guide-score-distribution-{label}.svg')"
   ],
   "metadata": {
    "collapsed": false,
    "pycharm": {
     "name": "#%%\n"
    }
   }
  },
  {
   "cell_type": "code",
   "execution_count": null,
   "outputs": [],
   "source": [
    "figure = results.plot(kind='prediction_drift', plot_reference=True)\n",
    "figure.show()"
   ],
   "metadata": {
    "collapsed": false,
    "pycharm": {
     "name": "#%%\n"
    }
   }
  },
  {
   "cell_type": "code",
   "execution_count": null,
   "outputs": [],
   "source": [
    "for label in calc.y_pred_proba.keys():\n",
    "    figure = results.plot(kind='prediction_drift', class_label=label, plot_reference=True)\n",
    "    figure.write_image(f'../_static/tutorials/detecting_data_drift/model_outputs/multiclass/drift-guide-prediction_drift-{label}.svg')"
   ],
   "metadata": {
    "collapsed": false,
    "pycharm": {
     "name": "#%%\n"
    }
   }
  },
  {
   "cell_type": "code",
   "execution_count": null,
   "outputs": [],
   "source": [
    "figure = results.plot(kind='prediction_distribution', plot_reference=True)\n",
    "figure.show()"
   ],
   "metadata": {
    "collapsed": false,
    "pycharm": {
     "name": "#%%\n"
    }
   }
  },
  {
   "cell_type": "code",
   "execution_count": null,
   "outputs": [],
   "source": [
    "for label in calc.y_pred_proba.keys():\n",
    "    figure = results.plot(kind='prediction_distribution', class_label=label, plot_reference=True)\n",
    "    figure.write_image(f'../_static/tutorials/detecting_data_drift/model_outputs/multiclass/drift-guide-prediction-distribution-{label}.svg')\n"
   ],
   "metadata": {
    "collapsed": false,
    "pycharm": {
     "name": "#%%\n"
    }
   }
  }
 ],
 "metadata": {
  "kernelspec": {
   "display_name": "Python 3",
   "language": "python",
   "name": "python3"
  },
  "language_info": {
   "codemirror_mode": {
    "name": "ipython",
    "version": 2
   },
   "file_extension": ".py",
   "mimetype": "text/x-python",
   "name": "python",
   "nbconvert_exporter": "python",
   "pygments_lexer": "ipython2",
   "version": "2.7.6"
  }
 },
 "nbformat": 4,
 "nbformat_minor": 0
}