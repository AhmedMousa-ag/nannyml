{
 "cells": [
  {
   "cell_type": "code",
   "execution_count": null,
   "id": "f8ddfd4c",
   "metadata": {},
   "outputs": [],
   "source": [
    "import nannyml as nml\n",
    "import pandas as pd\n",
    "\n",
    "reference, analysis, analysis_gt = nml.datasets.load_synthetic_multiclass_classification_dataset()\n",
    "display(reference.head(3))"
   ]
  },
  {
   "cell_type": "code",
   "execution_count": null,
   "id": "cc224bcc",
   "metadata": {},
   "outputs": [],
   "source": [
    "print(reference.head(3).to_markdown(tablefmt=\"grid\"))"
   ]
  },
  {
   "cell_type": "code",
   "execution_count": null,
   "id": "f3640dad",
   "metadata": {},
   "outputs": [],
   "source": [
    "reference.acq_channel.value_counts()"
   ]
  },
  {
   "cell_type": "code",
   "execution_count": null,
   "id": "4c9a0efa",
   "metadata": {},
   "outputs": [],
   "source": [
    "reference.app_channel.value_counts()"
   ]
  },
  {
   "cell_type": "code",
   "execution_count": null,
   "id": "e6c8b217",
   "metadata": {},
   "outputs": [],
   "source": [
    "metadata = nml.extract_metadata(\n",
    "    data = reference,\n",
    "    model_name='credit_card_segment',\n",
    "    model_type='classification_binary',\n",
    "    exclude_columns=['identifier']\n",
    ")\n",
    "metadata.is_complete()"
   ]
  },
  {
   "cell_type": "code",
   "execution_count": null,
   "id": "934a184a",
   "metadata": {},
   "outputs": [],
   "source": [
    "metadata.to_df()"
   ]
  },
  {
   "cell_type": "code",
   "execution_count": null,
   "id": "ff7a75ec",
   "metadata": {},
   "outputs": [],
   "source": [
    "print(metadata.to_df().to_markdown(tablefmt=\"grid\"))"
   ]
  },
  {
   "cell_type": "code",
   "execution_count": null,
   "id": "7793f3d9",
   "metadata": {},
   "outputs": [],
   "source": []
  }
 ],
 "metadata": {
  "kernelspec": {
   "display_name": "Python 3 (ipykernel)",
   "language": "python",
   "name": "python3"
  },
  "language_info": {
   "codemirror_mode": {
    "name": "ipython",
    "version": 3
   },
   "file_extension": ".py",
   "mimetype": "text/x-python",
   "name": "python",
   "nbconvert_exporter": "python",
   "pygments_lexer": "ipython3",
   "version": "3.10.4"
  }
 },
 "nbformat": 4,
 "nbformat_minor": 5
}
