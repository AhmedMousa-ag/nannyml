{
 "cells": [
  {
   "cell_type": "code",
   "execution_count": null,
   "id": "d21471f7",
   "metadata": {},
   "outputs": [],
   "source": [
    "import pandas as pd\n",
    "import nannyml as nml\n",
    "reference, analysis, _ = nml.datasets.load_synthetic_binary_classification_dataset()\n",
    "# metadata = nml.extract_metadata(reference, model_type='classification_binary', exclude_columns=['identifier'])\n",
    "# metadata.target_column_name = 'work_home_actual'\n",
    "cbpe = nml.CBPE(\n",
    "    y_pred_proba='y_pred_proba',\n",
    "    y_pred='y_pred',\n",
    "    y_true='work_home_actual',\n",
    "    timestamp_column_name='timestamp',\n",
    "    chunk_number=8,\n",
    "    metrics=['roc_auc']\n",
    ").fit(reference_data=reference)\n",
    "# Estimate on concatenated reference and analysis\n",
    "est_perf = cbpe.estimate(pd.concat([reference, analysis], ignore_index=True))\n",
    "# est_perf = cbpe.estimate(analysis)\n",
    "est_perf.data#.iloc[3:5,:7]"
   ]
  },
  {
   "cell_type": "code",
   "execution_count": null,
   "id": "a05a4c7f",
   "metadata": {},
   "outputs": [],
   "source": [
    "import pandas as pd\n",
    "import nannyml as nml\n",
    "reference, analysis, _ = nml.datasets.load_synthetic_binary_classification_dataset()\n",
    "\n",
    "cbpe = nml.CBPE(\n",
    "    y_pred_proba='y_pred_proba',\n",
    "    y_pred='y_pred',\n",
    "    y_true='work_home_actual',\n",
    "    timestamp_column_name='timestamp',\n",
    "    chunk_period=\"Q\",\n",
    "    metrics=['roc_auc']\n",
    ").fit(reference_data=reference)\n",
    "est_perf = cbpe.estimate(analysis)"
   ]
  },
  {
   "cell_type": "code",
   "execution_count": null,
   "id": "8ea3ff54",
   "metadata": {},
   "outputs": [],
   "source": [
    "cbpe = nml.CBPE(\n",
    "    y_pred_proba='y_pred_proba',\n",
    "    y_pred='y_pred',\n",
    "    y_true='work_home_actual',\n",
    "    timestamp_column_name='timestamp',\n",
    "    chunk_number=5,\n",
    "    metrics=['roc_auc']\n",
    ").fit(reference_data=reference)\n",
    "est_perf = cbpe.estimate(analysis)"
   ]
  },
  {
   "cell_type": "code",
   "execution_count": null,
   "id": "7b688d95",
   "metadata": {},
   "outputs": [],
   "source": []
  },
  {
   "cell_type": "code",
   "execution_count": null,
   "id": "411e313a",
   "metadata": {},
   "outputs": [],
   "source": []
  },
  {
   "cell_type": "code",
   "execution_count": null,
   "id": "9c0cf0e4",
   "metadata": {},
   "outputs": [],
   "source": []
  },
  {
   "cell_type": "code",
   "execution_count": null,
   "id": "398728f9",
   "metadata": {},
   "outputs": [],
   "source": []
  },
  {
   "cell_type": "code",
   "execution_count": null,
   "id": "31fc0a02",
   "metadata": {},
   "outputs": [],
   "source": []
  }
 ],
 "metadata": {
  "kernelspec": {
   "display_name": "Python 3 (ipykernel)",
   "language": "python",
   "name": "python3"
  },
  "language_info": {
   "codemirror_mode": {
    "name": "ipython",
    "version": 3
   },
   "file_extension": ".py",
   "mimetype": "text/x-python",
   "name": "python",
   "nbconvert_exporter": "python",
   "pygments_lexer": "ipython3",
   "version": "3.10.5"
  }
 },
 "nbformat": 4,
 "nbformat_minor": 5
}
