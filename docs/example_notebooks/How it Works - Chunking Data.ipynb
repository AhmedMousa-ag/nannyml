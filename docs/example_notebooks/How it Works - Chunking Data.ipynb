{
 "cells": [
  {
   "cell_type": "code",
   "execution_count": null,
   "id": "e06b4aae",
   "metadata": {
    "pycharm": {
     "name": "#%%\n"
    }
   },
   "outputs": [],
   "source": [
    "save_figs = True"
   ]
  },
  {
   "cell_type": "markdown",
   "id": "12450ecc",
   "metadata": {
    "pycharm": {
     "name": "#%% md\n"
    }
   },
   "source": [
    "# Not enough chunks"
   ]
  },
  {
   "cell_type": "code",
   "execution_count": null,
   "id": "d21471f7",
   "metadata": {
    "pycharm": {
     "name": "#%%\n"
    }
   },
   "outputs": [],
   "source": [
    "import pandas as pd\n",
    "import nannyml as nml\n",
    "reference, analysis, _ = nml.datasets.load_synthetic_binary_classification_dataset()\n",
    "# metadata = nml.extract_metadata(reference, model_type='classification_binary', exclude_columns=['identifier'])\n",
    "# metadata.target_column_name = 'work_home_actual'\n",
    "cbpe = nml.CBPE(\n",
    "    y_pred_proba='y_pred_proba',\n",
    "    y_pred='y_pred',\n",
    "    y_true='work_home_actual',\n",
    "    timestamp_column_name='timestamp',\n",
    "    chunk_number=8,\n",
    "    metrics=['roc_auc'],\n",
    "    problem_type='classification_binary',\n",
    ").fit(reference_data=reference)\n",
    "# Estimate on concatenated reference and analysis\n",
    "est_perf = cbpe.estimate(pd.concat([reference, analysis], ignore_index=True))\n",
    "# est_perf = cbpe.estimate(analysis)\n",
    "est_perf.data#.iloc[3:5,:7]"
   ]
  },
  {
   "cell_type": "code",
   "execution_count": null,
   "id": "a05a4c7f",
   "metadata": {
    "pycharm": {
     "name": "#%%\n"
    }
   },
   "outputs": [],
   "source": [
    "import pandas as pd\n",
    "import nannyml as nml\n",
    "reference, analysis, _ = nml.datasets.load_synthetic_binary_classification_dataset()\n",
    "\n",
    "cbpe = nml.CBPE(\n",
    "    y_pred_proba='y_pred_proba',\n",
    "    y_pred='y_pred',\n",
    "    y_true='work_home_actual',\n",
    "    timestamp_column_name='timestamp',\n",
    "    chunk_period=\"Q\",\n",
    "    metrics=['roc_auc'],\n",
    "    problem_type='classification_binary',\n",
    ").fit(reference_data=reference)\n",
    "est_perf = cbpe.estimate(analysis)"
   ]
  },
  {
   "cell_type": "code",
   "execution_count": null,
   "id": "8ea3ff54",
   "metadata": {
    "pycharm": {
     "name": "#%%\n"
    }
   },
   "outputs": [],
   "source": [
    "cbpe = nml.CBPE(\n",
    "    y_pred_proba='y_pred_proba',\n",
    "    y_pred='y_pred',\n",
    "    y_true='work_home_actual',\n",
    "    timestamp_column_name='timestamp',\n",
    "    chunk_number=5,\n",
    "    metrics=['roc_auc'],\n",
    "    problem_type='classification_binary',\n",
    ").fit(reference_data=reference)\n",
    "est_perf = cbpe.estimate(analysis)"
   ]
  },
  {
   "cell_type": "markdown",
   "id": "02e3e631",
   "metadata": {
    "pycharm": {
     "name": "#%% md\n"
    }
   },
   "source": [
    "# Not enough observations in chunk"
   ]
  },
  {
   "cell_type": "code",
   "execution_count": null,
   "id": "7b688d95",
   "metadata": {
    "pycharm": {
     "name": "#%%\n"
    }
   },
   "outputs": [],
   "source": [
    "calc = nml.PerformanceCalculator(\n",
    "    y_pred_proba='y_pred_proba',\n",
    "    y_pred='y_pred',\n",
    "    y_true='work_home_actual',\n",
    "    timestamp_column_name='timestamp',\n",
    "    metrics=[\"roc_auc\"],\n",
    "    chunk_size=1,\n",
    "    problem_type='classification_binary',\n",
    ")\n",
    "\n",
    "calc.fit(reference)\n",
    "results = calc.calculate(reference)\n",
    "results.data.head()"
   ]
  },
  {
   "cell_type": "markdown",
   "id": "39f26177",
   "metadata": {
    "pycharm": {
     "name": "#%% md\n"
    }
   },
   "source": [
    "# Sampling error"
   ]
  },
  {
   "cell_type": "code",
   "execution_count": null,
   "id": "411e313a",
   "metadata": {
    "pycharm": {
     "name": "#%%\n"
    }
   },
   "outputs": [],
   "source": [
    "import numpy as np\n",
    "import matplotlib.pyplot as plt\n",
    "from sklearn.metrics import accuracy_score\n",
    "\n",
    "sample_size = 100\n",
    "dataset_size = 10_000\n",
    "# random model\n",
    "np.random.seed(23)\n",
    "y_true = np.random.binomial(1, 0.5, dataset_size)\n",
    "y_pred = np.random.binomial(1, 0.5, dataset_size)\n",
    "accuracy_scores = []\n",
    "\n",
    "for experiment in range(10_000):\n",
    "    subset_indexes = np.random.choice(dataset_size, sample_size, replace=False) # get random indexes\n",
    "    y_true_subset = y_true[subset_indexes]\n",
    "    y_pred_subset = y_pred[subset_indexes]\n",
    "    accuracy_scores.append(accuracy_score(y_true_subset, y_pred_subset))\n",
    "\n",
    "plt.hist(accuracy_scores, bins=20, density=True)\n",
    "plt.title(\"Accuracy of random classifier\\n for randomly selected samples of 100 observations.\");\n",
    "if save_figs:\n",
    "    plt.savefig(\"../_static/deep_dive_data_chunks_stability_of_accuracy.svg\", format=\"svg\")"
   ]
  },
  {
   "cell_type": "code",
   "execution_count": null,
   "id": "9c0cf0e4",
   "metadata": {
    "pycharm": {
     "name": "#%%\n"
    }
   },
   "outputs": [],
   "source": [
    "obs_level_accuracy = y_true == y_pred\n",
    "np.mean(obs_level_accuracy), accuracy_score(y_true, y_pred)\n"
   ]
  },
  {
   "cell_type": "code",
   "execution_count": null,
   "id": "f935c674",
   "metadata": {
    "pycharm": {
     "name": "#%%\n"
    }
   },
   "outputs": [],
   "source": [
    "SEM_std = np.std(obs_level_accuracy)/np.sqrt(sample_size)\n",
    "np.round(SEM_std, 3), np.round(np.std(accuracy_scores), 3)\n"
   ]
  }
 ],
 "metadata": {
  "kernelspec": {
   "display_name": "Python 3 (ipykernel)",
   "language": "python",
   "name": "python3"
  },
  "language_info": {
   "codemirror_mode": {
    "name": "ipython",
    "version": 3
   },
   "file_extension": ".py",
   "mimetype": "text/x-python",
   "name": "python",
   "nbconvert_exporter": "python",
   "pygments_lexer": "ipython3",
   "version": "3.9.7"
  }
 },
 "nbformat": 4,
 "nbformat_minor": 5
}