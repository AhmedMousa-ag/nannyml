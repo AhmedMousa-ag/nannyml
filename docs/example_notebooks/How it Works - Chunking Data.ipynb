{
 "cells": [
  {
   "cell_type": "markdown",
   "id": "57cf3948-890d-4688-ab78-ee219c198c9e",
   "metadata": {
    "pycharm": {
     "name": "#%% md\n"
    }
   },
   "source": [
    "# Not enough chunks"
   ]
  },
  {
   "cell_type": "code",
   "execution_count": null,
   "id": "8abf412c-b18d-4269-8f1c-3c771356cc82",
   "metadata": {
    "pycharm": {
     "name": "#%%\n"
    }
   },
   "outputs": [],
   "source": [
    "import pandas as pd\n",
    "import nannyml as nml\n",
    "reference, analysis, _ = nml.datasets.load_synthetic_binary_classification_dataset()\n",
    "# metadata = nml.extract_metadata(reference, model_type='classification_binary', exclude_columns=['identifier'])\n",
    "# metadata.target_column_name = 'work_home_actual'\n",
    "cbpe = nml.CBPE(\n",
    "    y_pred_proba='y_pred_proba',\n",
    "    y_pred='y_pred',\n",
    "    y_true='work_home_actual',\n",
    "    timestamp_column_name='timestamp',\n",
    "    chunk_number=8,\n",
    "    metrics=['roc_auc'],\n",
    "    problem_type='classification_binary',\n",
    ").fit(reference_data=reference)\n",
    "# Estimate on concatenated reference and analysis\n",
    "est_perf = cbpe.estimate(pd.concat([reference, analysis], ignore_index=True))\n",
    "# est_perf = cbpe.estimate(analysis)\n",
    "est_perf.data#.iloc[3:5,:7]"
   ]
  },
  {
   "cell_type": "code",
   "execution_count": null,
   "id": "475d238a-210d-49d4-989d-ee1e564dc93c",
   "metadata": {
    "pycharm": {
     "name": "#%%\n"
    }
   },
   "outputs": [],
   "source": [
    "import pandas as pd\n",
    "import nannyml as nml\n",
    "reference, analysis, _ = nml.datasets.load_synthetic_binary_classification_dataset()\n",
    "\n",
    "cbpe = nml.CBPE(\n",
    "    y_pred_proba='y_pred_proba',\n",
    "    y_pred='y_pred',\n",
    "    y_true='work_home_actual',\n",
    "    timestamp_column_name='timestamp',\n",
    "    chunk_period=\"Q\",\n",
    "    metrics=['roc_auc'],\n",
    "    problem_type='classification_binary',\n",
    ").fit(reference_data=reference)\n",
    "est_perf = cbpe.estimate(analysis)"
   ]
  },
  {
   "cell_type": "code",
   "execution_count": null,
   "id": "52446b5c-f009-446c-83df-69b4c2f65ae6",
   "metadata": {
    "pycharm": {
     "name": "#%%\n"
    }
   },
   "outputs": [],
   "source": [
    "cbpe = nml.CBPE(\n",
    "    y_pred_proba='y_pred_proba',\n",
    "    y_pred='y_pred',\n",
    "    y_true='work_home_actual',\n",
    "    timestamp_column_name='timestamp',\n",
    "    chunk_number=5,\n",
    "    metrics=['roc_auc'],\n",
    "    problem_type='classification_binary',\n",
    ").fit(reference_data=reference)\n",
    "est_perf = cbpe.estimate(analysis)"
   ]
  },
  {
   "cell_type": "markdown",
   "id": "c35a75c8-34e8-4cd2-b206-799e7c361565",
   "metadata": {
    "pycharm": {
     "name": "#%% md\n"
    }
   },
   "source": [
    "# Not enough observations in chunk"
   ]
  },
  {
   "cell_type": "markdown",
   "id": "aa2986bd-7e2d-47ea-8161-23ba8ba648c4",
   "metadata": {
    "pycharm": {
     "name": "#%% md\n"
    }
   },
   "source": [
    "# Sampling error"
   ]
  },
  {
   "cell_type": "code",
   "execution_count": null,
   "id": "e896fcf6-d79a-4587-a5f5-a836e9d87d8c",
   "metadata": {
    "pycharm": {
     "name": "#%%\n"
    }
   },
   "outputs": [],
   "source": [
    "save_figs = False"
   ]
  },
  {
   "cell_type": "code",
   "execution_count": null,
   "id": "181ddd49-e709-4d45-9ce6-5d61f99a65c5",
   "metadata": {
    "pycharm": {
     "name": "#%%\n"
    }
   },
   "outputs": [],
   "source": [
    "import numpy as np\n",
    "import matplotlib.pyplot as plt\n",
    "from sklearn.metrics import accuracy_score\n",
    "\n",
    "sample_size = 100\n",
    "dataset_size = 10_000\n",
    "# random model\n",
    "np.random.seed(23)\n",
    "y_true = np.random.binomial(1, 0.5, dataset_size)\n",
    "y_pred = np.random.binomial(1, 0.5, dataset_size)\n",
    "accuracy_scores = []\n",
    "\n",
    "for experiment in range(1000):\n",
    "    subset_indexes = np.random.choice(dataset_size, sample_size, replace=False) # get random indexes\n",
    "    y_true_subset = y_true[subset_indexes]\n",
    "    y_pred_subset = y_pred[subset_indexes]\n",
    "    accuracy_scores.append(accuracy_score(y_true_subset, y_pred_subset))\n",
    "\n",
    "plt.hist(accuracy_scores, bins=20, density=True)\n",
    "plt.title(\"Accuracy of random classifier\\n for randomly selected samples of 100 observations.\");\n",
    "if save_figs:\n",
    "    plt.savefig(\"../_static/deep_dive_data_chunks_stability_of_accuracy.svg\", format=\"svg\")"
   ]
  },
  {
   "cell_type": "code",
   "execution_count": null,
   "id": "67032f9b-d04c-490b-91a3-b77094473213",
   "metadata": {
    "pycharm": {
     "name": "#%%\n"
    }
   },
   "outputs": [],
   "source": [
    "obs_level_accuracy = y_true == y_pred\n",
    "np.mean(obs_level_accuracy), accuracy_score(y_true, y_pred)"
   ]
  },
  {
   "cell_type": "code",
   "execution_count": null,
   "id": "fbb3292f-4f8a-4f8a-80f9-d363cdde1cf5",
   "metadata": {
    "pycharm": {
     "name": "#%%\n"
    }
   },
   "outputs": [],
   "source": [
    "SEM_std = np.std(obs_level_accuracy)/np.sqrt(sample_size)\n",
    "np.round(SEM_std, 3), np.round(np.std(accuracy_scores), 3)"
   ]
  }
 ],
 "metadata": {
  "kernelspec": {
   "display_name": "Python 3 (ipykernel)",
   "language": "python",
   "name": "python3"
  },
  "language_info": {
   "codemirror_mode": {
    "name": "ipython",
    "version": 3
   },
   "file_extension": ".py",
   "mimetype": "text/x-python",
   "name": "python",
   "nbconvert_exporter": "python",
   "pygments_lexer": "ipython3",
   "version": "3.10.6"
  }
 },
 "nbformat": 4,
 "nbformat_minor": 5
}
