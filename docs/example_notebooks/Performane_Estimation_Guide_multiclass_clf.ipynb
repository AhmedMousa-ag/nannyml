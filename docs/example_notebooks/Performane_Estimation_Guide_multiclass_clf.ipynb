{
 "cells": [
  {
   "cell_type": "code",
   "execution_count": null,
   "id": "d11ed3df",
   "metadata": {
    "pycharm": {
     "name": "#%%\n"
    }
   },
   "outputs": [],
   "source": [
    "def showrst(df):\n",
    "    print(df.to_markdown(tablefmt=\"grid\"))"
   ]
  },
  {
   "cell_type": "code",
   "execution_count": null,
   "id": "06433b86",
   "metadata": {},
   "outputs": [],
   "source": [
    "import pandas as pd\n",
    "import nannyml as nml\n",
    "from IPython.display import display\n",
    "\n",
    "reference, analysis, analysis_gt = nml.datasets.load_synthetic_multiclass_classification_dataset()\n",
    "display(reference.head(3))"
   ]
  },
  {
   "cell_type": "code",
   "execution_count": null,
   "id": "881da4d8",
   "metadata": {},
   "outputs": [],
   "source": [
    "metadata = nml.extract_metadata(\n",
    "    reference,\n",
    "    model_name='credit_card_segment',\n",
    "    model_type=\"classification_multiclass\",\n",
    "    exclude_columns=['identifier']\n",
    ")\n",
    "metadata.target_column_name = 'y_true'\n",
    "display(metadata.is_complete())"
   ]
  },
  {
   "cell_type": "code",
   "execution_count": null,
   "id": "61c67b1f",
   "metadata": {},
   "outputs": [],
   "source": [
    "cbpe = nml.CBPE(\n",
    "    model_metadata=metadata,\n",
    "    chunk_size=6000,\n",
    "    metrics=['roc_auc', 'f1']\n",
    ")\n",
    "cbpe = cbpe.fit(reference_data=reference)"
   ]
  },
  {
   "cell_type": "code",
   "execution_count": null,
   "id": "274e8318",
   "metadata": {},
   "outputs": [],
   "source": [
    "est_perf_analysis = cbpe.estimate(analysis)"
   ]
  },
  {
   "cell_type": "code",
   "execution_count": null,
   "id": "4f466cb8",
   "metadata": {},
   "outputs": [],
   "source": [
    "display(est_perf_analysis.data.head(3))"
   ]
  },
  {
   "cell_type": "code",
   "execution_count": null,
   "id": "f140edf1",
   "metadata": {},
   "outputs": [],
   "source": [
    "showrst(est_perf_analysis.data.head(3))"
   ]
  },
  {
   "cell_type": "code",
   "execution_count": null,
   "id": "f67a51f3",
   "metadata": {},
   "outputs": [],
   "source": [
    "for metric in cbpe.metrics:\n",
    "    est_perf_analysis.plot(kind='performance', metric=metric).show()"
   ]
  },
  {
   "cell_type": "code",
   "execution_count": null,
   "id": "613369ee",
   "metadata": {},
   "outputs": [],
   "source": [
    "est_perf_with_ref = cbpe.estimate(pd.concat([reference, analysis], ignore_index=True))"
   ]
  },
  {
   "cell_type": "code",
   "execution_count": null,
   "id": "c3935b2d",
   "metadata": {},
   "outputs": [],
   "source": [
    "for metric in cbpe.metrics:\n",
    "    figure = est_perf_with_ref.plot(kind='performance', metric=metric)\n",
    "    figure.show()"
   ]
  },
  {
   "cell_type": "code",
   "execution_count": null,
   "id": "ec5e7f9f",
   "metadata": {},
   "outputs": [],
   "source": [
    "engine='orca'\n",
    "for metric in cbpe.metrics:\n",
    "    fig = est_perf_analysis.plot(kind='performance', metric=metric)\n",
    "    fig.write_image(file=f\"../_static/tutorial-perf-est-mc-guide-analysis-{metric}.svg\", engine=engine)"
   ]
  },
  {
   "cell_type": "code",
   "execution_count": null,
   "id": "c3ca6d83",
   "metadata": {},
   "outputs": [],
   "source": [
    "for metric in cbpe.metrics:\n",
    "    fig = est_perf_with_ref.plot(kind='performance', metric=metric)\n",
    "    fig.write_image(file=f\"../_static/tutorial-perf-est-mc-guide-with-ref-{metric}.svg\", engine=engine)"
   ]
  },
  {
   "cell_type": "code",
   "execution_count": null,
   "id": "adf93718",
   "metadata": {},
   "outputs": [],
   "source": []
  }
 ],
 "metadata": {
  "kernelspec": {
   "display_name": "p39all",
   "language": "python",
   "name": "p39all"
  },
  "language_info": {
   "codemirror_mode": {
    "name": "ipython",
    "version": 3
   },
   "file_extension": ".py",
   "mimetype": "text/x-python",
   "name": "python",
   "nbconvert_exporter": "python",
   "pygments_lexer": "ipython3",
   "version": "3.9.7"
  }
 },
 "nbformat": 4,
 "nbformat_minor": 5
}
