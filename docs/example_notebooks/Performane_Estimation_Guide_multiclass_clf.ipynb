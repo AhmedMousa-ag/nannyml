{
 "cells": [
  {
   "cell_type": "code",
   "execution_count": null,
   "id": "d11ed3df",
   "metadata": {
    "pycharm": {
     "name": "#%%\n"
    }
   },
   "outputs": [],
   "source": [
    "def showrst(df):\n",
    "    print(df.to_markdown(tablefmt=\"grid\"))"
   ]
  },
  {
   "cell_type": "code",
   "execution_count": null,
   "id": "104b2784",
   "metadata": {},
   "outputs": [],
   "source": [
    "import pandas as pd\n",
    "import nannyml as nml\n",
    "from IPython.display import display\n",
    "reference, analysis, analysis_gt = nml.datasets.load_synthetic_binary_classification_dataset()\n",
    "display(reference.head(3))\n",
    "\n",
    "metadata = nml.extract_metadata(reference, model_type=nml.ModelType.CLASSIFICATION_BINARY, exclude_columns=['identifier'])\n",
    "metadata.target_column_name = 'work_home_actual'\n",
    "display(metadata.is_complete())\n",
    "\n",
    "cbpe = nml.CBPE(\n",
    "    model_metadata=metadata,\n",
    "    chunk_size=5000,\n",
    "    metrics=['roc_auc', 'f1', 'precision', 'recall', 'specificity', 'accuracy']\n",
    ").fit(reference_data=reference)\n",
    "est_perf = cbpe.estimate(pd.concat([reference, analysis], ignore_index=True))\n",
    "display(est_perf.data.head(3))\n",
    "\n",
    "for metric in cbpe.metrics:\n",
    "    figure = est_perf.plot(kind='performance', metric=metric)\n",
    "    figure.show()"
   ]
  },
  {
   "cell_type": "markdown",
   "id": "595bebb1",
   "metadata": {},
   "source": [
    "# Temporary data fetching"
   ]
  },
  {
   "cell_type": "code",
   "execution_count": null,
   "id": "52a5d7b6",
   "metadata": {},
   "outputs": [],
   "source": [
    "nml.__version__"
   ]
  },
  {
   "cell_type": "code",
   "execution_count": null,
   "id": "c5f987d7",
   "metadata": {},
   "outputs": [],
   "source": [
    "df = pd.read_parquet(\"s3://datasets-performance-prediction-eval/P005/multiclass_classification_complex_data_drift_v1.pq\")"
   ]
  },
  {
   "cell_type": "code",
   "execution_count": null,
   "id": "c34a7805",
   "metadata": {},
   "outputs": [],
   "source": [
    "df['partition'].value_counts()"
   ]
  },
  {
   "cell_type": "code",
   "execution_count": null,
   "id": "a989c1d4",
   "metadata": {},
   "outputs": [],
   "source": [
    "df.columns"
   ]
  },
  {
   "cell_type": "code",
   "execution_count": null,
   "id": "1a83032c",
   "metadata": {},
   "outputs": [],
   "source": [
    "reference = df[df['partition']=='reference'].copy()\n",
    "analysis = df[df['partition']=='analysis'].copy()"
   ]
  },
  {
   "cell_type": "code",
   "execution_count": null,
   "id": "8c7012d2",
   "metadata": {},
   "outputs": [],
   "source": [
    "import pandas as pd\n",
    "import nannyml as nml\n",
    "from IPython.display import display\n",
    "\n",
    "metadata = nml.extract_metadata(reference, model_type=nml.ModelType.CLASSIFICATION_MULTICLASS, exclude_columns=['identifier'])\n",
    "metadata.target_column_name = 'y_true'\n",
    "metadata.predicted_probabilities_column_names = {\n",
    "    0: 'y_pred_proba_0',\n",
    "    1: 'y_pred_proba_1',\n",
    "    2: 'y_pred_proba_2',\n",
    "    3: 'y_pred_proba_3',\n",
    "    4: 'y_pred_proba_4',\n",
    "}\n",
    "display(metadata.is_complete())\n",
    "\n",
    "\n",
    "\n",
    "cbpe = nml.CBPE(model_metadata=metadata, chunk_size=3000, metrics=['roc_auc', 'f1'])\n",
    "cbpe.fit(reference)\n",
    "est_perf = cbpe.estimate(pd.concat([reference, analysis]))\n",
    "\n",
    "for metric in cbpe.metrics:\n",
    "    figure = est_perf.plot(kind=\"performance\", metric=metric)\n",
    "    figure.show()\n",
    "#     figure.write_image(f'tutorial-perf-est-multiclass-{metric}.svg', engine='orca')"
   ]
  },
  {
   "cell_type": "code",
   "execution_count": null,
   "id": "73130ad2",
   "metadata": {},
   "outputs": [],
   "source": [
    "display(est_perf.data.head(3))"
   ]
  },
  {
   "cell_type": "code",
   "execution_count": null,
   "id": "6ad9cd71",
   "metadata": {},
   "outputs": [],
   "source": [
    "showrst(est_perf.data.head(3))"
   ]
  },
  {
   "cell_type": "code",
   "execution_count": null,
   "id": "85ad23af",
   "metadata": {},
   "outputs": [],
   "source": []
  },
  {
   "cell_type": "code",
   "execution_count": null,
   "id": "bfc94e84",
   "metadata": {},
   "outputs": [],
   "source": []
  }
 ],
 "metadata": {
  "kernelspec": {
   "display_name": "p39all",
   "language": "python",
   "name": "p39all"
  },
  "language_info": {
   "codemirror_mode": {
    "name": "ipython",
    "version": 3
   },
   "file_extension": ".py",
   "mimetype": "text/x-python",
   "name": "python",
   "nbconvert_exporter": "python",
   "pygments_lexer": "ipython3",
   "version": "3.9.7"
  }
 },
 "nbformat": 4,
 "nbformat_minor": 5
}
