{
 "cells": [
  {
   "cell_type": "code",
   "execution_count": 1,
   "id": "d11ed3df",
   "metadata": {
    "pycharm": {
     "name": "#%%\n"
    }
   },
   "outputs": [],
   "source": [
    "def showrst(df):\n",
    "    print(df.to_markdown(tablefmt=\"grid\"))"
   ]
  },
  {
   "cell_type": "code",
   "execution_count": 2,
   "id": "06433b86",
   "metadata": {},
   "outputs": [
    {
     "data": {
      "text/html": [
       "<div>\n",
       "<style scoped>\n",
       "    .dataframe tbody tr th:only-of-type {\n",
       "        vertical-align: middle;\n",
       "    }\n",
       "\n",
       "    .dataframe tbody tr th {\n",
       "        vertical-align: top;\n",
       "    }\n",
       "\n",
       "    .dataframe thead th {\n",
       "        text-align: right;\n",
       "    }\n",
       "</style>\n",
       "<table border=\"1\" class=\"dataframe\">\n",
       "  <thead>\n",
       "    <tr style=\"text-align: right;\">\n",
       "      <th></th>\n",
       "      <th>acq_channel</th>\n",
       "      <th>app_behavioral_score</th>\n",
       "      <th>requested_credit_limit</th>\n",
       "      <th>app_channel</th>\n",
       "      <th>credit_bureau_score</th>\n",
       "      <th>stated_income</th>\n",
       "      <th>is_customer</th>\n",
       "      <th>partition</th>\n",
       "      <th>identifier</th>\n",
       "      <th>timestamp</th>\n",
       "      <th>y_pred_proba_prepaid_card</th>\n",
       "      <th>y_pred_proba_highstreet_card</th>\n",
       "      <th>y_pred_proba_upmarket_card</th>\n",
       "      <th>y_pred</th>\n",
       "      <th>y_true</th>\n",
       "    </tr>\n",
       "  </thead>\n",
       "  <tbody>\n",
       "    <tr>\n",
       "      <th>0</th>\n",
       "      <td>Partner3</td>\n",
       "      <td>1.808232</td>\n",
       "      <td>350</td>\n",
       "      <td>web</td>\n",
       "      <td>309</td>\n",
       "      <td>15000</td>\n",
       "      <td>True</td>\n",
       "      <td>reference</td>\n",
       "      <td>60000</td>\n",
       "      <td>2020-05-02 02:01:30</td>\n",
       "      <td>0.97</td>\n",
       "      <td>0.03</td>\n",
       "      <td>0.00</td>\n",
       "      <td>prepaid_card</td>\n",
       "      <td>prepaid_card</td>\n",
       "    </tr>\n",
       "    <tr>\n",
       "      <th>1</th>\n",
       "      <td>Partner2</td>\n",
       "      <td>4.382568</td>\n",
       "      <td>500</td>\n",
       "      <td>mobile</td>\n",
       "      <td>418</td>\n",
       "      <td>23000</td>\n",
       "      <td>True</td>\n",
       "      <td>reference</td>\n",
       "      <td>60001</td>\n",
       "      <td>2020-05-02 02:03:33</td>\n",
       "      <td>0.87</td>\n",
       "      <td>0.13</td>\n",
       "      <td>0.00</td>\n",
       "      <td>prepaid_card</td>\n",
       "      <td>prepaid_card</td>\n",
       "    </tr>\n",
       "    <tr>\n",
       "      <th>2</th>\n",
       "      <td>Partner2</td>\n",
       "      <td>-0.787575</td>\n",
       "      <td>400</td>\n",
       "      <td>web</td>\n",
       "      <td>507</td>\n",
       "      <td>24000</td>\n",
       "      <td>False</td>\n",
       "      <td>reference</td>\n",
       "      <td>60002</td>\n",
       "      <td>2020-05-02 02:04:49</td>\n",
       "      <td>0.47</td>\n",
       "      <td>0.35</td>\n",
       "      <td>0.18</td>\n",
       "      <td>prepaid_card</td>\n",
       "      <td>upmarket_card</td>\n",
       "    </tr>\n",
       "  </tbody>\n",
       "</table>\n",
       "</div>"
      ],
      "text/plain": [
       "  acq_channel  app_behavioral_score  requested_credit_limit app_channel  \\\n",
       "0    Partner3              1.808232                     350         web   \n",
       "1    Partner2              4.382568                     500      mobile   \n",
       "2    Partner2             -0.787575                     400         web   \n",
       "\n",
       "   credit_bureau_score  stated_income  is_customer  partition  identifier  \\\n",
       "0                  309          15000         True  reference       60000   \n",
       "1                  418          23000         True  reference       60001   \n",
       "2                  507          24000        False  reference       60002   \n",
       "\n",
       "             timestamp  y_pred_proba_prepaid_card  \\\n",
       "0  2020-05-02 02:01:30                       0.97   \n",
       "1  2020-05-02 02:03:33                       0.87   \n",
       "2  2020-05-02 02:04:49                       0.47   \n",
       "\n",
       "   y_pred_proba_highstreet_card  y_pred_proba_upmarket_card        y_pred  \\\n",
       "0                          0.03                        0.00  prepaid_card   \n",
       "1                          0.13                        0.00  prepaid_card   \n",
       "2                          0.35                        0.18  prepaid_card   \n",
       "\n",
       "          y_true  \n",
       "0   prepaid_card  \n",
       "1   prepaid_card  \n",
       "2  upmarket_card  "
      ]
     },
     "metadata": {},
     "output_type": "display_data"
    }
   ],
   "source": [
    "import pandas as pd\n",
    "import nannyml as nml\n",
    "from IPython.display import display\n",
    "\n",
    "reference, analysis, analysis_gt = nml.datasets.load_synthetic_multiclass_classification_dataset()\n",
    "display(reference.head(3))"
   ]
  },
  {
   "cell_type": "code",
   "execution_count": 3,
   "id": "881da4d8",
   "metadata": {},
   "outputs": [
    {
     "data": {
      "text/plain": [
       "(True, [])"
      ]
     },
     "metadata": {},
     "output_type": "display_data"
    }
   ],
   "source": [
    "metadata = nml.extract_metadata(\n",
    "    reference,\n",
    "    model_name='credit_card_segment',\n",
    "    model_type=nml.ModelType.CLASSIFICATION_MULTICLASS,\n",
    "    exclude_columns=['identifier']\n",
    ")\n",
    "metadata.target_column_name = 'y_true'\n",
    "display(metadata.is_complete())"
   ]
  },
  {
   "cell_type": "code",
   "execution_count": 4,
   "id": "61c67b1f",
   "metadata": {},
   "outputs": [],
   "source": [
    "cbpe = nml.CBPE(\n",
    "    model_metadata=metadata,\n",
    "    chunk_size=6000,\n",
    "    metrics=['roc_auc', 'f1']\n",
    ")\n",
    "cbpe = cbpe.fit(reference_data=reference)"
   ]
  },
  {
   "cell_type": "code",
   "execution_count": 9,
   "id": "274e8318",
   "metadata": {},
   "outputs": [],
   "source": [
    "est_perf_analysis = cbpe.estimate(analysis)"
   ]
  },
  {
   "cell_type": "code",
   "execution_count": 10,
   "id": "4f466cb8",
   "metadata": {},
   "outputs": [
    {
     "data": {
      "text/html": [
       "<div>\n",
       "<style scoped>\n",
       "    .dataframe tbody tr th:only-of-type {\n",
       "        vertical-align: middle;\n",
       "    }\n",
       "\n",
       "    .dataframe tbody tr th {\n",
       "        vertical-align: top;\n",
       "    }\n",
       "\n",
       "    .dataframe thead th {\n",
       "        text-align: right;\n",
       "    }\n",
       "</style>\n",
       "<table border=\"1\" class=\"dataframe\">\n",
       "  <thead>\n",
       "    <tr style=\"text-align: right;\">\n",
       "      <th></th>\n",
       "      <th>key</th>\n",
       "      <th>start_index</th>\n",
       "      <th>end_index</th>\n",
       "      <th>start_date</th>\n",
       "      <th>end_date</th>\n",
       "      <th>partition</th>\n",
       "      <th>confidence_roc_auc</th>\n",
       "      <th>realized_roc_auc</th>\n",
       "      <th>estimated_roc_auc</th>\n",
       "      <th>upper_threshold_roc_auc</th>\n",
       "      <th>lower_threshold_roc_auc</th>\n",
       "      <th>alert_roc_auc</th>\n",
       "      <th>confidence_f1</th>\n",
       "      <th>realized_f1</th>\n",
       "      <th>estimated_f1</th>\n",
       "      <th>upper_threshold_f1</th>\n",
       "      <th>lower_threshold_f1</th>\n",
       "      <th>alert_f1</th>\n",
       "    </tr>\n",
       "  </thead>\n",
       "  <tbody>\n",
       "    <tr>\n",
       "      <th>0</th>\n",
       "      <td>[0:5999]</td>\n",
       "      <td>0</td>\n",
       "      <td>5999</td>\n",
       "      <td>2020-09-01 03:10:01</td>\n",
       "      <td>2020-09-13 16:15:10</td>\n",
       "      <td>analysis</td>\n",
       "      <td>0.000827</td>\n",
       "      <td>NaN</td>\n",
       "      <td>0.909210</td>\n",
       "      <td>0.900902</td>\n",
       "      <td>0.913516</td>\n",
       "      <td>False</td>\n",
       "      <td>0.001752</td>\n",
       "      <td>NaN</td>\n",
       "      <td>0.755324</td>\n",
       "      <td>0.741254</td>\n",
       "      <td>0.764944</td>\n",
       "      <td>False</td>\n",
       "    </tr>\n",
       "    <tr>\n",
       "      <th>1</th>\n",
       "      <td>[6000:11999]</td>\n",
       "      <td>6000</td>\n",
       "      <td>11999</td>\n",
       "      <td>2020-09-13 16:15:32</td>\n",
       "      <td>2020-09-25 19:48:42</td>\n",
       "      <td>analysis</td>\n",
       "      <td>0.000827</td>\n",
       "      <td>NaN</td>\n",
       "      <td>0.912072</td>\n",
       "      <td>0.900902</td>\n",
       "      <td>0.913516</td>\n",
       "      <td>False</td>\n",
       "      <td>0.001752</td>\n",
       "      <td>NaN</td>\n",
       "      <td>0.758419</td>\n",
       "      <td>0.741254</td>\n",
       "      <td>0.764944</td>\n",
       "      <td>False</td>\n",
       "    </tr>\n",
       "    <tr>\n",
       "      <th>2</th>\n",
       "      <td>[12000:17999]</td>\n",
       "      <td>12000</td>\n",
       "      <td>17999</td>\n",
       "      <td>2020-09-25 19:50:04</td>\n",
       "      <td>2020-10-08 02:53:47</td>\n",
       "      <td>analysis</td>\n",
       "      <td>0.000827</td>\n",
       "      <td>NaN</td>\n",
       "      <td>0.912201</td>\n",
       "      <td>0.900902</td>\n",
       "      <td>0.913516</td>\n",
       "      <td>False</td>\n",
       "      <td>0.001752</td>\n",
       "      <td>NaN</td>\n",
       "      <td>0.760262</td>\n",
       "      <td>0.741254</td>\n",
       "      <td>0.764944</td>\n",
       "      <td>False</td>\n",
       "    </tr>\n",
       "  </tbody>\n",
       "</table>\n",
       "</div>"
      ],
      "text/plain": [
       "             key  start_index  end_index          start_date  \\\n",
       "0       [0:5999]            0       5999 2020-09-01 03:10:01   \n",
       "1   [6000:11999]         6000      11999 2020-09-13 16:15:32   \n",
       "2  [12000:17999]        12000      17999 2020-09-25 19:50:04   \n",
       "\n",
       "             end_date partition  confidence_roc_auc  realized_roc_auc  \\\n",
       "0 2020-09-13 16:15:10  analysis            0.000827               NaN   \n",
       "1 2020-09-25 19:48:42  analysis            0.000827               NaN   \n",
       "2 2020-10-08 02:53:47  analysis            0.000827               NaN   \n",
       "\n",
       "   estimated_roc_auc  upper_threshold_roc_auc  lower_threshold_roc_auc  \\\n",
       "0           0.909210                 0.900902                 0.913516   \n",
       "1           0.912072                 0.900902                 0.913516   \n",
       "2           0.912201                 0.900902                 0.913516   \n",
       "\n",
       "   alert_roc_auc  confidence_f1  realized_f1  estimated_f1  \\\n",
       "0          False       0.001752          NaN      0.755324   \n",
       "1          False       0.001752          NaN      0.758419   \n",
       "2          False       0.001752          NaN      0.760262   \n",
       "\n",
       "   upper_threshold_f1  lower_threshold_f1  alert_f1  \n",
       "0            0.741254            0.764944     False  \n",
       "1            0.741254            0.764944     False  \n",
       "2            0.741254            0.764944     False  "
      ]
     },
     "metadata": {},
     "output_type": "display_data"
    }
   ],
   "source": [
    "display(est_perf_analysis.data.head(3))"
   ]
  },
  {
   "cell_type": "code",
   "execution_count": 11,
   "id": "f140edf1",
   "metadata": {},
   "outputs": [
    {
     "name": "stdout",
     "output_type": "stream",
     "text": [
      "+----+---------------+---------------+-------------+---------------------+---------------------+-------------+----------------------+--------------------+---------------------+---------------------------+---------------------------+-----------------+-----------------+---------------+----------------+----------------------+----------------------+------------+\n",
      "|    | key           |   start_index |   end_index | start_date          | end_date            | partition   |   confidence_roc_auc |   realized_roc_auc |   estimated_roc_auc |   upper_threshold_roc_auc |   lower_threshold_roc_auc | alert_roc_auc   |   confidence_f1 |   realized_f1 |   estimated_f1 |   upper_threshold_f1 |   lower_threshold_f1 | alert_f1   |\n",
      "+====+===============+===============+=============+=====================+=====================+=============+======================+====================+=====================+===========================+===========================+=================+=================+===============+================+======================+======================+============+\n",
      "|  0 | [0:5999]      |             0 |        5999 | 2020-09-01 03:10:01 | 2020-09-13 16:15:10 | analysis    |          0.000827459 |                nan |            0.90921  |                  0.900902 |                  0.913516 | False           |      0.00175158 |           nan |       0.755324 |             0.741254 |             0.764944 | False      |\n",
      "+----+---------------+---------------+-------------+---------------------+---------------------+-------------+----------------------+--------------------+---------------------+---------------------------+---------------------------+-----------------+-----------------+---------------+----------------+----------------------+----------------------+------------+\n",
      "|  1 | [6000:11999]  |          6000 |       11999 | 2020-09-13 16:15:32 | 2020-09-25 19:48:42 | analysis    |          0.000827459 |                nan |            0.912072 |                  0.900902 |                  0.913516 | False           |      0.00175158 |           nan |       0.758419 |             0.741254 |             0.764944 | False      |\n",
      "+----+---------------+---------------+-------------+---------------------+---------------------+-------------+----------------------+--------------------+---------------------+---------------------------+---------------------------+-----------------+-----------------+---------------+----------------+----------------------+----------------------+------------+\n",
      "|  2 | [12000:17999] |         12000 |       17999 | 2020-09-25 19:50:04 | 2020-10-08 02:53:47 | analysis    |          0.000827459 |                nan |            0.912201 |                  0.900902 |                  0.913516 | False           |      0.00175158 |           nan |       0.760262 |             0.741254 |             0.764944 | False      |\n",
      "+----+---------------+---------------+-------------+---------------------+---------------------+-------------+----------------------+--------------------+---------------------+---------------------------+---------------------------+-----------------+-----------------+---------------+----------------+----------------------+----------------------+------------+\n"
     ]
    }
   ],
   "source": [
    "showrst(est_perf_analysis.data.head(3))"
   ]
  },
  {
   "cell_type": "code",
   "execution_count": 12,
   "id": "f67a51f3",
   "metadata": {},
   "outputs": [
    {
     "data": {
      "application/vnd.plotly.v1+json": {
       "config": {
        "plotlyServerURL": "https://plot.ly"
       },
       "data": [
        {
         "hoverinfo": "skip",
         "line": {
          "color": "rgba(0,0,0,0)",
          "shape": "hv"
         },
         "mode": "lines",
         "showlegend": false,
         "type": "scatter",
         "x": [
          "2020-09-01T03:10:01",
          "2020-09-13T16:15:32",
          "2020-09-25T19:50:04",
          "2020-10-08T02:57:34",
          "2020-10-20T15:49:06",
          "2020-11-01T22:04:59",
          "2020-11-14T03:55:49",
          "2020-11-26T09:19:22",
          "2020-12-08T14:34:25",
          "2020-12-20T18:31:09",
          "2021-01-01T22:57:55"
         ],
         "y": [
          0.9100375398555589,
          0.9128990704703352,
          0.9130281191498286,
          0.912057933875222,
          0.9103245011989631,
          0.8209460011196681,
          0.8217654257592911,
          0.8206088626557924,
          0.8208810774848387,
          0.8230917621969486,
          0.8230917621969486
         ]
        },
        {
         "fill": "tonexty",
         "fillcolor": "rgba(0.23137254901960785, 0.00784313725490196, 0.5019607843137255, 0.2)",
         "hoverinfo": "skip",
         "line": {
          "color": "rgba(0,0,0,0)",
          "shape": "hv"
         },
         "mode": "lines",
         "showlegend": false,
         "type": "scatter",
         "x": [
          "2020-09-01T03:10:01",
          "2020-09-13T16:15:32",
          "2020-09-25T19:50:04",
          "2020-10-08T02:57:34",
          "2020-10-20T15:49:06",
          "2020-11-01T22:04:59",
          "2020-11-14T03:55:49",
          "2020-11-26T09:19:22",
          "2020-12-08T14:34:25",
          "2020-12-20T18:31:09",
          "2021-01-01T22:57:55"
         ],
         "y": [
          0.9083826217041706,
          0.911244152318947,
          0.9113732009984403,
          0.9104030157238338,
          0.9086695830475748,
          0.8192910829682798,
          0.8201105076079028,
          0.8189539445044041,
          0.8192261593334504,
          0.8214368440455603,
          0.8214368440455603
         ]
        },
        {
         "hoverinfo": "skip",
         "legendgroup": "1",
         "line": {
          "color": "#00c8e5",
          "shape": "hv",
          "width": 2
         },
         "mode": "lines",
         "name": "Reference period",
         "type": "scatter",
         "x": [],
         "y": []
        },
        {
         "hoverinfo": "skip",
         "legendgroup": "1",
         "line": {
          "color": "#3b0280",
          "dash": "dot",
          "shape": "hv",
          "width": 2
         },
         "mode": "lines",
         "name": "Analysis period",
         "type": "scatter",
         "x": [
          "2020-09-01T03:10:01",
          "2020-09-13T16:15:32",
          "2020-09-25T19:50:04",
          "2020-10-08T02:57:34",
          "2020-10-20T15:49:06",
          "2020-11-01T22:04:59",
          "2020-11-14T03:55:49",
          "2020-11-26T09:19:22",
          "2020-12-08T14:34:25",
          "2020-12-20T18:31:09",
          "2021-01-01T22:57:55"
         ],
         "y": [
          0.9092100807798648,
          0.9120716113946411,
          0.9122006600741345,
          0.9112304747995279,
          0.909497042123269,
          0.8201185420439739,
          0.820937966683597,
          0.8197814035800982,
          0.8200536184091446,
          0.8222643031212544,
          0.8222643031212544
         ]
        },
        {
         "customdata": [],
         "hovertemplate": "%{customdata[4]} &nbsp; &nbsp; <span style=\"color:#AD0000\">%{customdata[5]}</span><br>Chunk: <b>%{customdata[0]}</b> &nbsp; &nbsp; From <b>%{customdata[1]}</b> to <b>%{customdata[2]}</b> &nbsp; &nbsp; <br>Estimated ROC AUC: <b>%{customdata[3]}</b>  &nbsp; &nbsp; %{customdata[6]} <extra></extra>",
         "marker": {
          "color": "#00c8e5",
          "size": 6,
          "symbol": "square"
         },
         "mode": "markers",
         "name": "Reference",
         "showlegend": false,
         "type": "scatter",
         "x": [],
         "y": []
        },
        {
         "customdata": [
          [
           "[0:5999]",
           "Sep-01-2020",
           "Sep-13-2020",
           "0.9092",
           "<b style=\"color:#3b0280;line-height:60px\">Analysis</b>",
           "",
           ""
          ],
          [
           "[6000:11999]",
           "Sep-13-2020",
           "Sep-25-2020",
           "0.9121",
           "<b style=\"color:#3b0280;line-height:60px\">Analysis</b>",
           "",
           ""
          ],
          [
           "[12000:17999]",
           "Sep-25-2020",
           "Oct-08-2020",
           "0.9122",
           "<b style=\"color:#3b0280;line-height:60px\">Analysis</b>",
           "",
           ""
          ],
          [
           "[18000:23999]",
           "Oct-08-2020",
           "Oct-20-2020",
           "0.9112",
           "<b style=\"color:#3b0280;line-height:60px\">Analysis</b>",
           "",
           ""
          ],
          [
           "[24000:29999]",
           "Oct-20-2020",
           "Nov-01-2020",
           "0.9095",
           "<b style=\"color:#3b0280;line-height:60px\">Analysis</b>",
           "",
           ""
          ]
         ],
         "hovertemplate": "%{customdata[4]} &nbsp; &nbsp; <span style=\"color:#AD0000\">%{customdata[5]}</span><br>Chunk: <b>%{customdata[0]}</b> &nbsp; &nbsp; From <b>%{customdata[1]}</b> to <b>%{customdata[2]}</b> &nbsp; &nbsp; <br>Estimated ROC AUC: <b>%{customdata[3]}</b>  &nbsp; &nbsp; %{customdata[6]} <extra></extra>",
         "marker": {
          "color": "#3b0280",
          "size": 6,
          "symbol": "square"
         },
         "mode": "markers",
         "name": "No change",
         "showlegend": false,
         "type": "scatter",
         "x": [
          "2020-09-07T09:42:35.500000",
          "2020-09-19T18:02:07",
          "2020-10-01T23:21:55.500000",
          "2020-10-14T09:22:56.500000",
          "2020-10-26T18:56:53"
         ],
         "y": [
          0.9092100807798648,
          0.9120716113946411,
          0.9122006600741345,
          0.9112304747995279,
          0.909497042123269
         ]
        },
        {
         "customdata": [
          [
           "[30000:35999]",
           "Nov-01-2020",
           "Nov-14-2020",
           "0.8201",
           "<b style=\"color:#3b0280;line-height:60px\">Analysis</b>",
           "⚠ <b>Drift detected</b>",
           ""
          ],
          [
           "[36000:41999]",
           "Nov-14-2020",
           "Nov-26-2020",
           "0.8209",
           "<b style=\"color:#3b0280;line-height:60px\">Analysis</b>",
           "⚠ <b>Drift detected</b>",
           ""
          ],
          [
           "[42000:47999]",
           "Nov-26-2020",
           "Dec-08-2020",
           "0.8198",
           "<b style=\"color:#3b0280;line-height:60px\">Analysis</b>",
           "⚠ <b>Drift detected</b>",
           ""
          ],
          [
           "[48000:53999]",
           "Dec-08-2020",
           "Dec-20-2020",
           "0.8201",
           "<b style=\"color:#3b0280;line-height:60px\">Analysis</b>",
           "⚠ <b>Drift detected</b>",
           ""
          ],
          [
           "[54000:59999]",
           "Dec-20-2020",
           "Jan-01-2021",
           "0.8223",
           "<b style=\"color:#3b0280;line-height:60px\">Analysis</b>",
           "⚠ <b>Drift detected</b>",
           ""
          ]
         ],
         "hovertemplate": "%{customdata[4]} &nbsp; &nbsp; <span style=\"color:#AD0000\">%{customdata[5]}</span><br>Chunk: <b>%{customdata[0]}</b> &nbsp; &nbsp; From <b>%{customdata[1]}</b> to <b>%{customdata[2]}</b> &nbsp; &nbsp; <br>Estimated ROC AUC: <b>%{customdata[3]}</b>  &nbsp; &nbsp; %{customdata[6]} <extra></extra>",
         "marker": {
          "color": "#DD4040",
          "size": 6,
          "symbol": "diamond"
         },
         "mode": "markers",
         "name": "Change",
         "showlegend": false,
         "type": "scatter",
         "x": [
          "2020-11-08T01:00:16",
          "2020-11-20T06:37:27.500000",
          "2020-12-02T11:56:39",
          "2020-12-14T16:32:27.500000",
          "2020-12-26T20:44:32"
         ],
         "y": [
          0.8201185420439739,
          0.820937966683597,
          0.8197814035800982,
          0.8200536184091446,
          0.8222643031212544
         ]
        },
        {
         "line": {
          "color": "rgba(0,0,0,0)"
         },
         "mode": "lines",
         "showlegend": false,
         "type": "scatter",
         "x": [
          [
           1599471755500000000
          ],
          [
           1609015472000000000
          ]
         ],
         "y": [
          null,
          null
         ]
        },
        {
         "fill": "tonexty",
         "fillcolor": "rgba(0.23137254901960785, 0.00784313725490196, 0.5019607843137255, 0.2)",
         "legendgroup": "1",
         "line": {
          "color": "rgba(0,0,0,0)"
         },
         "mode": "lines",
         "name": "Confidence band",
         "type": "scatter",
         "x": [
          [
           1599471755500000000
          ],
          [
           1609015472000000000
          ]
         ],
         "y": [
          null,
          null
         ]
        },
        {
         "legendgroup": "1",
         "line": {
          "color": "#DD4040",
          "dash": "dash",
          "width": 1
         },
         "mode": "lines",
         "name": "Performance threshold",
         "type": "scatter",
         "x": [
          [
           1599471755500000000
          ],
          [
           1609015472000000000
          ]
         ],
         "y": [
          null,
          null
         ]
        },
        {
         "line": {
          "color": "rgba(0,0,0,0)"
         },
         "mode": "lines",
         "showlegend": false,
         "type": "scatter",
         "x": [
          [
           1599471755500000000
          ],
          [
           1609015472000000000
          ]
         ],
         "y": [
          null,
          null
         ]
        },
        {
         "fill": "tonexty",
         "fillcolor": "rgba(0.8666666666666667, 0.25098039215686274, 0.25098039215686274, 0.2)",
         "legendgroup": "1",
         "line": {
          "color": "rgba(0,0,0,0)"
         },
         "marker": {
          "color": "#DD4040",
          "size": 6,
          "symbol": "diamond"
         },
         "mode": "lines+markers",
         "name": "Degraded performance",
         "type": "scatter",
         "x": [
          [
           1599471755500000000
          ],
          [
           1609015472000000000
          ]
         ],
         "y": [
          null,
          null
         ]
        }
       ],
       "layout": {
        "annotations": [
         {
          "font": {
           "color": "#DD4040"
          },
          "showarrow": false,
          "text": "0.91",
          "x": 1,
          "xanchor": "right",
          "xref": "x domain",
          "y": 0.9135156728918074,
          "yanchor": "bottom",
          "yref": "y"
         },
         {
          "font": {
           "color": "#DD4040"
          },
          "showarrow": false,
          "text": "0.90",
          "x": 1,
          "xanchor": "right",
          "xref": "x domain",
          "y": 0.900902260737325,
          "yanchor": "bottom",
          "yref": "y"
         }
        ],
        "hoverlabel": {
         "bgcolor": "white",
         "font": {
          "size": 14
         }
        },
        "legend": {
         "itemclick": false,
         "itemdoubleclick": false,
         "orientation": "h",
         "traceorder": "normal",
         "x": 0,
         "xanchor": "left",
         "y": -0.25,
         "yanchor": "top"
        },
        "paper_bgcolor": "rgba(255,255,255,1)",
        "plot_bgcolor": "rgba(255,255,255,1)",
        "shapes": [
         {
          "layer": "below",
          "line": {
           "color": "#DD4040",
           "dash": "dash",
           "width": 1
          },
          "type": "line",
          "x0": 0,
          "x1": 1,
          "xref": "x domain",
          "y0": 0.9135156728918074,
          "y1": 0.9135156728918074,
          "yref": "y"
         },
         {
          "layer": "below",
          "line": {
           "color": "#DD4040",
           "dash": "dash",
           "width": 1
          },
          "type": "line",
          "x0": 0,
          "x1": 1,
          "xref": "x domain",
          "y0": 0.900902260737325,
          "y1": 0.900902260737325,
          "yref": "y"
         },
         {
          "fillcolor": "#DD4040",
          "layer": "below",
          "line": {
           "width": 0
          },
          "opacity": 0.2,
          "type": "rect",
          "x0": "2020-11-01T22:04:59",
          "x1": "2020-11-14T03:55:33",
          "xref": "x",
          "y0": 0,
          "y1": 1,
          "yref": "y domain"
         },
         {
          "fillcolor": "#DD4040",
          "layer": "below",
          "line": {
           "width": 0
          },
          "opacity": 0.2,
          "type": "rect",
          "x0": "2020-11-14T03:55:49",
          "x1": "2020-11-26T09:19:06",
          "xref": "x",
          "y0": 0,
          "y1": 1,
          "yref": "y domain"
         },
         {
          "fillcolor": "#DD4040",
          "layer": "below",
          "line": {
           "width": 0
          },
          "opacity": 0.2,
          "type": "rect",
          "x0": "2020-11-26T09:19:22",
          "x1": "2020-12-08T14:33:56",
          "xref": "x",
          "y0": 0,
          "y1": 1,
          "yref": "y domain"
         },
         {
          "fillcolor": "#DD4040",
          "layer": "below",
          "line": {
           "width": 0
          },
          "opacity": 0.2,
          "type": "rect",
          "x0": "2020-12-08T14:34:25",
          "x1": "2020-12-20T18:30:30",
          "xref": "x",
          "y0": 0,
          "y1": 1,
          "yref": "y domain"
         },
         {
          "fillcolor": "#DD4040",
          "layer": "below",
          "line": {
           "width": 0
          },
          "opacity": 0.2,
          "type": "rect",
          "x0": "2020-12-20T18:31:09",
          "x1": "2021-01-01T22:57:55",
          "xref": "x",
          "y0": 0,
          "y1": 1,
          "yref": "y domain"
         }
        ],
        "template": {
         "data": {
          "bar": [
           {
            "error_x": {
             "color": "#2a3f5f"
            },
            "error_y": {
             "color": "#2a3f5f"
            },
            "marker": {
             "line": {
              "color": "#E5ECF6",
              "width": 0.5
             },
             "pattern": {
              "fillmode": "overlay",
              "size": 10,
              "solidity": 0.2
             }
            },
            "type": "bar"
           }
          ],
          "barpolar": [
           {
            "marker": {
             "line": {
              "color": "#E5ECF6",
              "width": 0.5
             },
             "pattern": {
              "fillmode": "overlay",
              "size": 10,
              "solidity": 0.2
             }
            },
            "type": "barpolar"
           }
          ],
          "carpet": [
           {
            "aaxis": {
             "endlinecolor": "#2a3f5f",
             "gridcolor": "white",
             "linecolor": "white",
             "minorgridcolor": "white",
             "startlinecolor": "#2a3f5f"
            },
            "baxis": {
             "endlinecolor": "#2a3f5f",
             "gridcolor": "white",
             "linecolor": "white",
             "minorgridcolor": "white",
             "startlinecolor": "#2a3f5f"
            },
            "type": "carpet"
           }
          ],
          "choropleth": [
           {
            "colorbar": {
             "outlinewidth": 0,
             "ticks": ""
            },
            "type": "choropleth"
           }
          ],
          "contour": [
           {
            "colorbar": {
             "outlinewidth": 0,
             "ticks": ""
            },
            "colorscale": [
             [
              0,
              "#0d0887"
             ],
             [
              0.1111111111111111,
              "#46039f"
             ],
             [
              0.2222222222222222,
              "#7201a8"
             ],
             [
              0.3333333333333333,
              "#9c179e"
             ],
             [
              0.4444444444444444,
              "#bd3786"
             ],
             [
              0.5555555555555556,
              "#d8576b"
             ],
             [
              0.6666666666666666,
              "#ed7953"
             ],
             [
              0.7777777777777778,
              "#fb9f3a"
             ],
             [
              0.8888888888888888,
              "#fdca26"
             ],
             [
              1,
              "#f0f921"
             ]
            ],
            "type": "contour"
           }
          ],
          "contourcarpet": [
           {
            "colorbar": {
             "outlinewidth": 0,
             "ticks": ""
            },
            "type": "contourcarpet"
           }
          ],
          "heatmap": [
           {
            "colorbar": {
             "outlinewidth": 0,
             "ticks": ""
            },
            "colorscale": [
             [
              0,
              "#0d0887"
             ],
             [
              0.1111111111111111,
              "#46039f"
             ],
             [
              0.2222222222222222,
              "#7201a8"
             ],
             [
              0.3333333333333333,
              "#9c179e"
             ],
             [
              0.4444444444444444,
              "#bd3786"
             ],
             [
              0.5555555555555556,
              "#d8576b"
             ],
             [
              0.6666666666666666,
              "#ed7953"
             ],
             [
              0.7777777777777778,
              "#fb9f3a"
             ],
             [
              0.8888888888888888,
              "#fdca26"
             ],
             [
              1,
              "#f0f921"
             ]
            ],
            "type": "heatmap"
           }
          ],
          "heatmapgl": [
           {
            "colorbar": {
             "outlinewidth": 0,
             "ticks": ""
            },
            "colorscale": [
             [
              0,
              "#0d0887"
             ],
             [
              0.1111111111111111,
              "#46039f"
             ],
             [
              0.2222222222222222,
              "#7201a8"
             ],
             [
              0.3333333333333333,
              "#9c179e"
             ],
             [
              0.4444444444444444,
              "#bd3786"
             ],
             [
              0.5555555555555556,
              "#d8576b"
             ],
             [
              0.6666666666666666,
              "#ed7953"
             ],
             [
              0.7777777777777778,
              "#fb9f3a"
             ],
             [
              0.8888888888888888,
              "#fdca26"
             ],
             [
              1,
              "#f0f921"
             ]
            ],
            "type": "heatmapgl"
           }
          ],
          "histogram": [
           {
            "marker": {
             "pattern": {
              "fillmode": "overlay",
              "size": 10,
              "solidity": 0.2
             }
            },
            "type": "histogram"
           }
          ],
          "histogram2d": [
           {
            "colorbar": {
             "outlinewidth": 0,
             "ticks": ""
            },
            "colorscale": [
             [
              0,
              "#0d0887"
             ],
             [
              0.1111111111111111,
              "#46039f"
             ],
             [
              0.2222222222222222,
              "#7201a8"
             ],
             [
              0.3333333333333333,
              "#9c179e"
             ],
             [
              0.4444444444444444,
              "#bd3786"
             ],
             [
              0.5555555555555556,
              "#d8576b"
             ],
             [
              0.6666666666666666,
              "#ed7953"
             ],
             [
              0.7777777777777778,
              "#fb9f3a"
             ],
             [
              0.8888888888888888,
              "#fdca26"
             ],
             [
              1,
              "#f0f921"
             ]
            ],
            "type": "histogram2d"
           }
          ],
          "histogram2dcontour": [
           {
            "colorbar": {
             "outlinewidth": 0,
             "ticks": ""
            },
            "colorscale": [
             [
              0,
              "#0d0887"
             ],
             [
              0.1111111111111111,
              "#46039f"
             ],
             [
              0.2222222222222222,
              "#7201a8"
             ],
             [
              0.3333333333333333,
              "#9c179e"
             ],
             [
              0.4444444444444444,
              "#bd3786"
             ],
             [
              0.5555555555555556,
              "#d8576b"
             ],
             [
              0.6666666666666666,
              "#ed7953"
             ],
             [
              0.7777777777777778,
              "#fb9f3a"
             ],
             [
              0.8888888888888888,
              "#fdca26"
             ],
             [
              1,
              "#f0f921"
             ]
            ],
            "type": "histogram2dcontour"
           }
          ],
          "mesh3d": [
           {
            "colorbar": {
             "outlinewidth": 0,
             "ticks": ""
            },
            "type": "mesh3d"
           }
          ],
          "parcoords": [
           {
            "line": {
             "colorbar": {
              "outlinewidth": 0,
              "ticks": ""
             }
            },
            "type": "parcoords"
           }
          ],
          "pie": [
           {
            "automargin": true,
            "type": "pie"
           }
          ],
          "scatter": [
           {
            "marker": {
             "colorbar": {
              "outlinewidth": 0,
              "ticks": ""
             }
            },
            "type": "scatter"
           }
          ],
          "scatter3d": [
           {
            "line": {
             "colorbar": {
              "outlinewidth": 0,
              "ticks": ""
             }
            },
            "marker": {
             "colorbar": {
              "outlinewidth": 0,
              "ticks": ""
             }
            },
            "type": "scatter3d"
           }
          ],
          "scattercarpet": [
           {
            "marker": {
             "colorbar": {
              "outlinewidth": 0,
              "ticks": ""
             }
            },
            "type": "scattercarpet"
           }
          ],
          "scattergeo": [
           {
            "marker": {
             "colorbar": {
              "outlinewidth": 0,
              "ticks": ""
             }
            },
            "type": "scattergeo"
           }
          ],
          "scattergl": [
           {
            "marker": {
             "colorbar": {
              "outlinewidth": 0,
              "ticks": ""
             }
            },
            "type": "scattergl"
           }
          ],
          "scattermapbox": [
           {
            "marker": {
             "colorbar": {
              "outlinewidth": 0,
              "ticks": ""
             }
            },
            "type": "scattermapbox"
           }
          ],
          "scatterpolar": [
           {
            "marker": {
             "colorbar": {
              "outlinewidth": 0,
              "ticks": ""
             }
            },
            "type": "scatterpolar"
           }
          ],
          "scatterpolargl": [
           {
            "marker": {
             "colorbar": {
              "outlinewidth": 0,
              "ticks": ""
             }
            },
            "type": "scatterpolargl"
           }
          ],
          "scatterternary": [
           {
            "marker": {
             "colorbar": {
              "outlinewidth": 0,
              "ticks": ""
             }
            },
            "type": "scatterternary"
           }
          ],
          "surface": [
           {
            "colorbar": {
             "outlinewidth": 0,
             "ticks": ""
            },
            "colorscale": [
             [
              0,
              "#0d0887"
             ],
             [
              0.1111111111111111,
              "#46039f"
             ],
             [
              0.2222222222222222,
              "#7201a8"
             ],
             [
              0.3333333333333333,
              "#9c179e"
             ],
             [
              0.4444444444444444,
              "#bd3786"
             ],
             [
              0.5555555555555556,
              "#d8576b"
             ],
             [
              0.6666666666666666,
              "#ed7953"
             ],
             [
              0.7777777777777778,
              "#fb9f3a"
             ],
             [
              0.8888888888888888,
              "#fdca26"
             ],
             [
              1,
              "#f0f921"
             ]
            ],
            "type": "surface"
           }
          ],
          "table": [
           {
            "cells": {
             "fill": {
              "color": "#EBF0F8"
             },
             "line": {
              "color": "white"
             }
            },
            "header": {
             "fill": {
              "color": "#C8D4E3"
             },
             "line": {
              "color": "white"
             }
            },
            "type": "table"
           }
          ]
         },
         "layout": {
          "annotationdefaults": {
           "arrowcolor": "#2a3f5f",
           "arrowhead": 0,
           "arrowwidth": 1
          },
          "autotypenumbers": "strict",
          "coloraxis": {
           "colorbar": {
            "outlinewidth": 0,
            "ticks": ""
           }
          },
          "colorscale": {
           "diverging": [
            [
             0,
             "#8e0152"
            ],
            [
             0.1,
             "#c51b7d"
            ],
            [
             0.2,
             "#de77ae"
            ],
            [
             0.3,
             "#f1b6da"
            ],
            [
             0.4,
             "#fde0ef"
            ],
            [
             0.5,
             "#f7f7f7"
            ],
            [
             0.6,
             "#e6f5d0"
            ],
            [
             0.7,
             "#b8e186"
            ],
            [
             0.8,
             "#7fbc41"
            ],
            [
             0.9,
             "#4d9221"
            ],
            [
             1,
             "#276419"
            ]
           ],
           "sequential": [
            [
             0,
             "#0d0887"
            ],
            [
             0.1111111111111111,
             "#46039f"
            ],
            [
             0.2222222222222222,
             "#7201a8"
            ],
            [
             0.3333333333333333,
             "#9c179e"
            ],
            [
             0.4444444444444444,
             "#bd3786"
            ],
            [
             0.5555555555555556,
             "#d8576b"
            ],
            [
             0.6666666666666666,
             "#ed7953"
            ],
            [
             0.7777777777777778,
             "#fb9f3a"
            ],
            [
             0.8888888888888888,
             "#fdca26"
            ],
            [
             1,
             "#f0f921"
            ]
           ],
           "sequentialminus": [
            [
             0,
             "#0d0887"
            ],
            [
             0.1111111111111111,
             "#46039f"
            ],
            [
             0.2222222222222222,
             "#7201a8"
            ],
            [
             0.3333333333333333,
             "#9c179e"
            ],
            [
             0.4444444444444444,
             "#bd3786"
            ],
            [
             0.5555555555555556,
             "#d8576b"
            ],
            [
             0.6666666666666666,
             "#ed7953"
            ],
            [
             0.7777777777777778,
             "#fb9f3a"
            ],
            [
             0.8888888888888888,
             "#fdca26"
            ],
            [
             1,
             "#f0f921"
            ]
           ]
          },
          "colorway": [
           "#636efa",
           "#EF553B",
           "#00cc96",
           "#ab63fa",
           "#FFA15A",
           "#19d3f3",
           "#FF6692",
           "#B6E880",
           "#FF97FF",
           "#FECB52"
          ],
          "font": {
           "color": "#2a3f5f"
          },
          "geo": {
           "bgcolor": "white",
           "lakecolor": "white",
           "landcolor": "#E5ECF6",
           "showlakes": true,
           "showland": true,
           "subunitcolor": "white"
          },
          "hoverlabel": {
           "align": "left"
          },
          "hovermode": "closest",
          "mapbox": {
           "style": "light"
          },
          "paper_bgcolor": "white",
          "plot_bgcolor": "#E5ECF6",
          "polar": {
           "angularaxis": {
            "gridcolor": "white",
            "linecolor": "white",
            "ticks": ""
           },
           "bgcolor": "#E5ECF6",
           "radialaxis": {
            "gridcolor": "white",
            "linecolor": "white",
            "ticks": ""
           }
          },
          "scene": {
           "xaxis": {
            "backgroundcolor": "#E5ECF6",
            "gridcolor": "white",
            "gridwidth": 2,
            "linecolor": "white",
            "showbackground": true,
            "ticks": "",
            "zerolinecolor": "white"
           },
           "yaxis": {
            "backgroundcolor": "#E5ECF6",
            "gridcolor": "white",
            "gridwidth": 2,
            "linecolor": "white",
            "showbackground": true,
            "ticks": "",
            "zerolinecolor": "white"
           },
           "zaxis": {
            "backgroundcolor": "#E5ECF6",
            "gridcolor": "white",
            "gridwidth": 2,
            "linecolor": "white",
            "showbackground": true,
            "ticks": "",
            "zerolinecolor": "white"
           }
          },
          "shapedefaults": {
           "line": {
            "color": "#2a3f5f"
           }
          },
          "ternary": {
           "aaxis": {
            "gridcolor": "white",
            "linecolor": "white",
            "ticks": ""
           },
           "baxis": {
            "gridcolor": "white",
            "linecolor": "white",
            "ticks": ""
           },
           "bgcolor": "#E5ECF6",
           "caxis": {
            "gridcolor": "white",
            "linecolor": "white",
            "ticks": ""
           }
          },
          "title": {
           "x": 0.05
          },
          "xaxis": {
           "automargin": true,
           "gridcolor": "white",
           "linecolor": "white",
           "ticks": "",
           "title": {
            "standoff": 15
           },
           "zerolinecolor": "white",
           "zerolinewidth": 2
          },
          "yaxis": {
           "automargin": true,
           "gridcolor": "white",
           "linecolor": "white",
           "ticks": "",
           "title": {
            "standoff": 15
           },
           "zerolinecolor": "white",
           "zerolinewidth": 2
          }
         }
        },
        "title": {
         "text": "CBPE - Estimated roc_auc"
        },
        "xaxis": {
         "linecolor": "#666666",
         "mirror": true,
         "showgrid": false,
         "title": {
          "text": "Time"
         },
         "zeroline": false
        },
        "yaxis": {
         "linecolor": "#666666",
         "mirror": true,
         "showgrid": false,
         "title": {
          "text": "Estimated roc_auc"
         },
         "zeroline": false
        }
       }
      },
      "text/html": [
       "<div>                            <div id=\"01d083f0-317b-488e-90d9-831beffdb8a7\" class=\"plotly-graph-div\" style=\"height:525px; width:100%;\"></div>            <script type=\"text/javascript\">                require([\"plotly\"], function(Plotly) {                    window.PLOTLYENV=window.PLOTLYENV || {};                                    if (document.getElementById(\"01d083f0-317b-488e-90d9-831beffdb8a7\")) {                    Plotly.newPlot(                        \"01d083f0-317b-488e-90d9-831beffdb8a7\",                        [{\"hoverinfo\":\"skip\",\"line\":{\"color\":\"rgba(0,0,0,0)\",\"shape\":\"hv\"},\"mode\":\"lines\",\"showlegend\":false,\"x\":[\"2020-09-01T03:10:01\",\"2020-09-13T16:15:32\",\"2020-09-25T19:50:04\",\"2020-10-08T02:57:34\",\"2020-10-20T15:49:06\",\"2020-11-01T22:04:59\",\"2020-11-14T03:55:49\",\"2020-11-26T09:19:22\",\"2020-12-08T14:34:25\",\"2020-12-20T18:31:09\",\"2021-01-01T22:57:55\"],\"y\":[0.9100375398555589,0.9128990704703352,0.9130281191498286,0.912057933875222,0.9103245011989631,0.8209460011196681,0.8217654257592911,0.8206088626557924,0.8208810774848387,0.8230917621969486,0.8230917621969486],\"type\":\"scatter\"},{\"fill\":\"tonexty\",\"fillcolor\":\"rgba(0.23137254901960785, 0.00784313725490196, 0.5019607843137255, 0.2)\",\"hoverinfo\":\"skip\",\"line\":{\"color\":\"rgba(0,0,0,0)\",\"shape\":\"hv\"},\"mode\":\"lines\",\"showlegend\":false,\"x\":[\"2020-09-01T03:10:01\",\"2020-09-13T16:15:32\",\"2020-09-25T19:50:04\",\"2020-10-08T02:57:34\",\"2020-10-20T15:49:06\",\"2020-11-01T22:04:59\",\"2020-11-14T03:55:49\",\"2020-11-26T09:19:22\",\"2020-12-08T14:34:25\",\"2020-12-20T18:31:09\",\"2021-01-01T22:57:55\"],\"y\":[0.9083826217041706,0.911244152318947,0.9113732009984403,0.9104030157238338,0.9086695830475748,0.8192910829682798,0.8201105076079028,0.8189539445044041,0.8192261593334504,0.8214368440455603,0.8214368440455603],\"type\":\"scatter\"},{\"hoverinfo\":\"skip\",\"legendgroup\":\"1\",\"line\":{\"color\":\"#00c8e5\",\"shape\":\"hv\",\"width\":2},\"mode\":\"lines\",\"name\":\"Reference period\",\"x\":[],\"y\":[],\"type\":\"scatter\"},{\"hoverinfo\":\"skip\",\"legendgroup\":\"1\",\"line\":{\"color\":\"#3b0280\",\"dash\":\"dot\",\"shape\":\"hv\",\"width\":2},\"mode\":\"lines\",\"name\":\"Analysis period\",\"x\":[\"2020-09-01T03:10:01\",\"2020-09-13T16:15:32\",\"2020-09-25T19:50:04\",\"2020-10-08T02:57:34\",\"2020-10-20T15:49:06\",\"2020-11-01T22:04:59\",\"2020-11-14T03:55:49\",\"2020-11-26T09:19:22\",\"2020-12-08T14:34:25\",\"2020-12-20T18:31:09\",\"2021-01-01T22:57:55\"],\"y\":[0.9092100807798648,0.9120716113946411,0.9122006600741345,0.9112304747995279,0.909497042123269,0.8201185420439739,0.820937966683597,0.8197814035800982,0.8200536184091446,0.8222643031212544,0.8222643031212544],\"type\":\"scatter\"},{\"customdata\":[],\"hovertemplate\":\"%{customdata[4]} &nbsp; &nbsp; <span style=\\\"color:#AD0000\\\">%{customdata[5]}</span><br>Chunk: <b>%{customdata[0]}</b> &nbsp; &nbsp; From <b>%{customdata[1]}</b> to <b>%{customdata[2]}</b> &nbsp; &nbsp; <br>Estimated ROC AUC: <b>%{customdata[3]}</b>  &nbsp; &nbsp; %{customdata[6]} <extra></extra>\",\"marker\":{\"color\":\"#00c8e5\",\"size\":6,\"symbol\":\"square\"},\"mode\":\"markers\",\"name\":\"Reference\",\"showlegend\":false,\"x\":[],\"y\":[],\"type\":\"scatter\"},{\"customdata\":[[\"[0:5999]\",\"Sep-01-2020\",\"Sep-13-2020\",\"0.9092\",\"<b style=\\\"color:#3b0280;line-height:60px\\\">Analysis</b>\",\"\",\"\"],[\"[6000:11999]\",\"Sep-13-2020\",\"Sep-25-2020\",\"0.9121\",\"<b style=\\\"color:#3b0280;line-height:60px\\\">Analysis</b>\",\"\",\"\"],[\"[12000:17999]\",\"Sep-25-2020\",\"Oct-08-2020\",\"0.9122\",\"<b style=\\\"color:#3b0280;line-height:60px\\\">Analysis</b>\",\"\",\"\"],[\"[18000:23999]\",\"Oct-08-2020\",\"Oct-20-2020\",\"0.9112\",\"<b style=\\\"color:#3b0280;line-height:60px\\\">Analysis</b>\",\"\",\"\"],[\"[24000:29999]\",\"Oct-20-2020\",\"Nov-01-2020\",\"0.9095\",\"<b style=\\\"color:#3b0280;line-height:60px\\\">Analysis</b>\",\"\",\"\"]],\"hovertemplate\":\"%{customdata[4]} &nbsp; &nbsp; <span style=\\\"color:#AD0000\\\">%{customdata[5]}</span><br>Chunk: <b>%{customdata[0]}</b> &nbsp; &nbsp; From <b>%{customdata[1]}</b> to <b>%{customdata[2]}</b> &nbsp; &nbsp; <br>Estimated ROC AUC: <b>%{customdata[3]}</b>  &nbsp; &nbsp; %{customdata[6]} <extra></extra>\",\"marker\":{\"color\":\"#3b0280\",\"size\":6,\"symbol\":\"square\"},\"mode\":\"markers\",\"name\":\"No change\",\"showlegend\":false,\"x\":[\"2020-09-07T09:42:35.500000\",\"2020-09-19T18:02:07\",\"2020-10-01T23:21:55.500000\",\"2020-10-14T09:22:56.500000\",\"2020-10-26T18:56:53\"],\"y\":[0.9092100807798648,0.9120716113946411,0.9122006600741345,0.9112304747995279,0.909497042123269],\"type\":\"scatter\"},{\"customdata\":[[\"[30000:35999]\",\"Nov-01-2020\",\"Nov-14-2020\",\"0.8201\",\"<b style=\\\"color:#3b0280;line-height:60px\\\">Analysis</b>\",\"\\u26a0 <b>Drift detected</b>\",\"\"],[\"[36000:41999]\",\"Nov-14-2020\",\"Nov-26-2020\",\"0.8209\",\"<b style=\\\"color:#3b0280;line-height:60px\\\">Analysis</b>\",\"\\u26a0 <b>Drift detected</b>\",\"\"],[\"[42000:47999]\",\"Nov-26-2020\",\"Dec-08-2020\",\"0.8198\",\"<b style=\\\"color:#3b0280;line-height:60px\\\">Analysis</b>\",\"\\u26a0 <b>Drift detected</b>\",\"\"],[\"[48000:53999]\",\"Dec-08-2020\",\"Dec-20-2020\",\"0.8201\",\"<b style=\\\"color:#3b0280;line-height:60px\\\">Analysis</b>\",\"\\u26a0 <b>Drift detected</b>\",\"\"],[\"[54000:59999]\",\"Dec-20-2020\",\"Jan-01-2021\",\"0.8223\",\"<b style=\\\"color:#3b0280;line-height:60px\\\">Analysis</b>\",\"\\u26a0 <b>Drift detected</b>\",\"\"]],\"hovertemplate\":\"%{customdata[4]} &nbsp; &nbsp; <span style=\\\"color:#AD0000\\\">%{customdata[5]}</span><br>Chunk: <b>%{customdata[0]}</b> &nbsp; &nbsp; From <b>%{customdata[1]}</b> to <b>%{customdata[2]}</b> &nbsp; &nbsp; <br>Estimated ROC AUC: <b>%{customdata[3]}</b>  &nbsp; &nbsp; %{customdata[6]} <extra></extra>\",\"marker\":{\"color\":\"#DD4040\",\"size\":6,\"symbol\":\"diamond\"},\"mode\":\"markers\",\"name\":\"Change\",\"showlegend\":false,\"x\":[\"2020-11-08T01:00:16\",\"2020-11-20T06:37:27.500000\",\"2020-12-02T11:56:39\",\"2020-12-14T16:32:27.500000\",\"2020-12-26T20:44:32\"],\"y\":[0.8201185420439739,0.820937966683597,0.8197814035800982,0.8200536184091446,0.8222643031212544],\"type\":\"scatter\"},{\"line\":{\"color\":\"rgba(0,0,0,0)\"},\"mode\":\"lines\",\"showlegend\":false,\"x\":[[1599471755500000000],[1609015472000000000]],\"y\":[null,null],\"type\":\"scatter\"},{\"fill\":\"tonexty\",\"fillcolor\":\"rgba(0.23137254901960785, 0.00784313725490196, 0.5019607843137255, 0.2)\",\"legendgroup\":\"1\",\"line\":{\"color\":\"rgba(0,0,0,0)\"},\"mode\":\"lines\",\"name\":\"Confidence band\",\"x\":[[1599471755500000000],[1609015472000000000]],\"y\":[null,null],\"type\":\"scatter\"},{\"legendgroup\":\"1\",\"line\":{\"color\":\"#DD4040\",\"dash\":\"dash\",\"width\":1},\"mode\":\"lines\",\"name\":\"Performance threshold\",\"x\":[[1599471755500000000],[1609015472000000000]],\"y\":[null,null],\"type\":\"scatter\"},{\"line\":{\"color\":\"rgba(0,0,0,0)\"},\"mode\":\"lines\",\"showlegend\":false,\"x\":[[1599471755500000000],[1609015472000000000]],\"y\":[null,null],\"type\":\"scatter\"},{\"fill\":\"tonexty\",\"fillcolor\":\"rgba(0.8666666666666667, 0.25098039215686274, 0.25098039215686274, 0.2)\",\"legendgroup\":\"1\",\"line\":{\"color\":\"rgba(0,0,0,0)\"},\"marker\":{\"color\":\"#DD4040\",\"size\":6,\"symbol\":\"diamond\"},\"mode\":\"lines+markers\",\"name\":\"Degraded performance\",\"x\":[[1599471755500000000],[1609015472000000000]],\"y\":[null,null],\"type\":\"scatter\"}],                        {\"hoverlabel\":{\"bgcolor\":\"white\",\"font\":{\"size\":14}},\"legend\":{\"itemclick\":false,\"itemdoubleclick\":false,\"traceorder\":\"normal\",\"yanchor\":\"top\",\"y\":-0.25,\"xanchor\":\"left\",\"x\":0,\"orientation\":\"h\"},\"paper_bgcolor\":\"rgba(255,255,255,1)\",\"plot_bgcolor\":\"rgba(255,255,255,1)\",\"title\":{\"text\":\"CBPE - Estimated roc_auc\"},\"xaxis\":{\"linecolor\":\"#666666\",\"mirror\":true,\"showgrid\":false,\"title\":{\"text\":\"Time\"},\"zeroline\":false},\"yaxis\":{\"linecolor\":\"#666666\",\"mirror\":true,\"showgrid\":false,\"title\":{\"text\":\"Estimated roc_auc\"},\"zeroline\":false},\"template\":{\"data\":{\"bar\":[{\"error_x\":{\"color\":\"#2a3f5f\"},\"error_y\":{\"color\":\"#2a3f5f\"},\"marker\":{\"line\":{\"color\":\"#E5ECF6\",\"width\":0.5},\"pattern\":{\"fillmode\":\"overlay\",\"size\":10,\"solidity\":0.2}},\"type\":\"bar\"}],\"barpolar\":[{\"marker\":{\"line\":{\"color\":\"#E5ECF6\",\"width\":0.5},\"pattern\":{\"fillmode\":\"overlay\",\"size\":10,\"solidity\":0.2}},\"type\":\"barpolar\"}],\"carpet\":[{\"aaxis\":{\"endlinecolor\":\"#2a3f5f\",\"gridcolor\":\"white\",\"linecolor\":\"white\",\"minorgridcolor\":\"white\",\"startlinecolor\":\"#2a3f5f\"},\"baxis\":{\"endlinecolor\":\"#2a3f5f\",\"gridcolor\":\"white\",\"linecolor\":\"white\",\"minorgridcolor\":\"white\",\"startlinecolor\":\"#2a3f5f\"},\"type\":\"carpet\"}],\"choropleth\":[{\"colorbar\":{\"outlinewidth\":0,\"ticks\":\"\"},\"type\":\"choropleth\"}],\"contour\":[{\"colorbar\":{\"outlinewidth\":0,\"ticks\":\"\"},\"colorscale\":[[0.0,\"#0d0887\"],[0.1111111111111111,\"#46039f\"],[0.2222222222222222,\"#7201a8\"],[0.3333333333333333,\"#9c179e\"],[0.4444444444444444,\"#bd3786\"],[0.5555555555555556,\"#d8576b\"],[0.6666666666666666,\"#ed7953\"],[0.7777777777777778,\"#fb9f3a\"],[0.8888888888888888,\"#fdca26\"],[1.0,\"#f0f921\"]],\"type\":\"contour\"}],\"contourcarpet\":[{\"colorbar\":{\"outlinewidth\":0,\"ticks\":\"\"},\"type\":\"contourcarpet\"}],\"heatmap\":[{\"colorbar\":{\"outlinewidth\":0,\"ticks\":\"\"},\"colorscale\":[[0.0,\"#0d0887\"],[0.1111111111111111,\"#46039f\"],[0.2222222222222222,\"#7201a8\"],[0.3333333333333333,\"#9c179e\"],[0.4444444444444444,\"#bd3786\"],[0.5555555555555556,\"#d8576b\"],[0.6666666666666666,\"#ed7953\"],[0.7777777777777778,\"#fb9f3a\"],[0.8888888888888888,\"#fdca26\"],[1.0,\"#f0f921\"]],\"type\":\"heatmap\"}],\"heatmapgl\":[{\"colorbar\":{\"outlinewidth\":0,\"ticks\":\"\"},\"colorscale\":[[0.0,\"#0d0887\"],[0.1111111111111111,\"#46039f\"],[0.2222222222222222,\"#7201a8\"],[0.3333333333333333,\"#9c179e\"],[0.4444444444444444,\"#bd3786\"],[0.5555555555555556,\"#d8576b\"],[0.6666666666666666,\"#ed7953\"],[0.7777777777777778,\"#fb9f3a\"],[0.8888888888888888,\"#fdca26\"],[1.0,\"#f0f921\"]],\"type\":\"heatmapgl\"}],\"histogram\":[{\"marker\":{\"pattern\":{\"fillmode\":\"overlay\",\"size\":10,\"solidity\":0.2}},\"type\":\"histogram\"}],\"histogram2d\":[{\"colorbar\":{\"outlinewidth\":0,\"ticks\":\"\"},\"colorscale\":[[0.0,\"#0d0887\"],[0.1111111111111111,\"#46039f\"],[0.2222222222222222,\"#7201a8\"],[0.3333333333333333,\"#9c179e\"],[0.4444444444444444,\"#bd3786\"],[0.5555555555555556,\"#d8576b\"],[0.6666666666666666,\"#ed7953\"],[0.7777777777777778,\"#fb9f3a\"],[0.8888888888888888,\"#fdca26\"],[1.0,\"#f0f921\"]],\"type\":\"histogram2d\"}],\"histogram2dcontour\":[{\"colorbar\":{\"outlinewidth\":0,\"ticks\":\"\"},\"colorscale\":[[0.0,\"#0d0887\"],[0.1111111111111111,\"#46039f\"],[0.2222222222222222,\"#7201a8\"],[0.3333333333333333,\"#9c179e\"],[0.4444444444444444,\"#bd3786\"],[0.5555555555555556,\"#d8576b\"],[0.6666666666666666,\"#ed7953\"],[0.7777777777777778,\"#fb9f3a\"],[0.8888888888888888,\"#fdca26\"],[1.0,\"#f0f921\"]],\"type\":\"histogram2dcontour\"}],\"mesh3d\":[{\"colorbar\":{\"outlinewidth\":0,\"ticks\":\"\"},\"type\":\"mesh3d\"}],\"parcoords\":[{\"line\":{\"colorbar\":{\"outlinewidth\":0,\"ticks\":\"\"}},\"type\":\"parcoords\"}],\"pie\":[{\"automargin\":true,\"type\":\"pie\"}],\"scatter\":[{\"marker\":{\"colorbar\":{\"outlinewidth\":0,\"ticks\":\"\"}},\"type\":\"scatter\"}],\"scatter3d\":[{\"line\":{\"colorbar\":{\"outlinewidth\":0,\"ticks\":\"\"}},\"marker\":{\"colorbar\":{\"outlinewidth\":0,\"ticks\":\"\"}},\"type\":\"scatter3d\"}],\"scattercarpet\":[{\"marker\":{\"colorbar\":{\"outlinewidth\":0,\"ticks\":\"\"}},\"type\":\"scattercarpet\"}],\"scattergeo\":[{\"marker\":{\"colorbar\":{\"outlinewidth\":0,\"ticks\":\"\"}},\"type\":\"scattergeo\"}],\"scattergl\":[{\"marker\":{\"colorbar\":{\"outlinewidth\":0,\"ticks\":\"\"}},\"type\":\"scattergl\"}],\"scattermapbox\":[{\"marker\":{\"colorbar\":{\"outlinewidth\":0,\"ticks\":\"\"}},\"type\":\"scattermapbox\"}],\"scatterpolar\":[{\"marker\":{\"colorbar\":{\"outlinewidth\":0,\"ticks\":\"\"}},\"type\":\"scatterpolar\"}],\"scatterpolargl\":[{\"marker\":{\"colorbar\":{\"outlinewidth\":0,\"ticks\":\"\"}},\"type\":\"scatterpolargl\"}],\"scatterternary\":[{\"marker\":{\"colorbar\":{\"outlinewidth\":0,\"ticks\":\"\"}},\"type\":\"scatterternary\"}],\"surface\":[{\"colorbar\":{\"outlinewidth\":0,\"ticks\":\"\"},\"colorscale\":[[0.0,\"#0d0887\"],[0.1111111111111111,\"#46039f\"],[0.2222222222222222,\"#7201a8\"],[0.3333333333333333,\"#9c179e\"],[0.4444444444444444,\"#bd3786\"],[0.5555555555555556,\"#d8576b\"],[0.6666666666666666,\"#ed7953\"],[0.7777777777777778,\"#fb9f3a\"],[0.8888888888888888,\"#fdca26\"],[1.0,\"#f0f921\"]],\"type\":\"surface\"}],\"table\":[{\"cells\":{\"fill\":{\"color\":\"#EBF0F8\"},\"line\":{\"color\":\"white\"}},\"header\":{\"fill\":{\"color\":\"#C8D4E3\"},\"line\":{\"color\":\"white\"}},\"type\":\"table\"}]},\"layout\":{\"annotationdefaults\":{\"arrowcolor\":\"#2a3f5f\",\"arrowhead\":0,\"arrowwidth\":1},\"autotypenumbers\":\"strict\",\"coloraxis\":{\"colorbar\":{\"outlinewidth\":0,\"ticks\":\"\"}},\"colorscale\":{\"diverging\":[[0,\"#8e0152\"],[0.1,\"#c51b7d\"],[0.2,\"#de77ae\"],[0.3,\"#f1b6da\"],[0.4,\"#fde0ef\"],[0.5,\"#f7f7f7\"],[0.6,\"#e6f5d0\"],[0.7,\"#b8e186\"],[0.8,\"#7fbc41\"],[0.9,\"#4d9221\"],[1,\"#276419\"]],\"sequential\":[[0.0,\"#0d0887\"],[0.1111111111111111,\"#46039f\"],[0.2222222222222222,\"#7201a8\"],[0.3333333333333333,\"#9c179e\"],[0.4444444444444444,\"#bd3786\"],[0.5555555555555556,\"#d8576b\"],[0.6666666666666666,\"#ed7953\"],[0.7777777777777778,\"#fb9f3a\"],[0.8888888888888888,\"#fdca26\"],[1.0,\"#f0f921\"]],\"sequentialminus\":[[0.0,\"#0d0887\"],[0.1111111111111111,\"#46039f\"],[0.2222222222222222,\"#7201a8\"],[0.3333333333333333,\"#9c179e\"],[0.4444444444444444,\"#bd3786\"],[0.5555555555555556,\"#d8576b\"],[0.6666666666666666,\"#ed7953\"],[0.7777777777777778,\"#fb9f3a\"],[0.8888888888888888,\"#fdca26\"],[1.0,\"#f0f921\"]]},\"colorway\":[\"#636efa\",\"#EF553B\",\"#00cc96\",\"#ab63fa\",\"#FFA15A\",\"#19d3f3\",\"#FF6692\",\"#B6E880\",\"#FF97FF\",\"#FECB52\"],\"font\":{\"color\":\"#2a3f5f\"},\"geo\":{\"bgcolor\":\"white\",\"lakecolor\":\"white\",\"landcolor\":\"#E5ECF6\",\"showlakes\":true,\"showland\":true,\"subunitcolor\":\"white\"},\"hoverlabel\":{\"align\":\"left\"},\"hovermode\":\"closest\",\"mapbox\":{\"style\":\"light\"},\"paper_bgcolor\":\"white\",\"plot_bgcolor\":\"#E5ECF6\",\"polar\":{\"angularaxis\":{\"gridcolor\":\"white\",\"linecolor\":\"white\",\"ticks\":\"\"},\"bgcolor\":\"#E5ECF6\",\"radialaxis\":{\"gridcolor\":\"white\",\"linecolor\":\"white\",\"ticks\":\"\"}},\"scene\":{\"xaxis\":{\"backgroundcolor\":\"#E5ECF6\",\"gridcolor\":\"white\",\"gridwidth\":2,\"linecolor\":\"white\",\"showbackground\":true,\"ticks\":\"\",\"zerolinecolor\":\"white\"},\"yaxis\":{\"backgroundcolor\":\"#E5ECF6\",\"gridcolor\":\"white\",\"gridwidth\":2,\"linecolor\":\"white\",\"showbackground\":true,\"ticks\":\"\",\"zerolinecolor\":\"white\"},\"zaxis\":{\"backgroundcolor\":\"#E5ECF6\",\"gridcolor\":\"white\",\"gridwidth\":2,\"linecolor\":\"white\",\"showbackground\":true,\"ticks\":\"\",\"zerolinecolor\":\"white\"}},\"shapedefaults\":{\"line\":{\"color\":\"#2a3f5f\"}},\"ternary\":{\"aaxis\":{\"gridcolor\":\"white\",\"linecolor\":\"white\",\"ticks\":\"\"},\"baxis\":{\"gridcolor\":\"white\",\"linecolor\":\"white\",\"ticks\":\"\"},\"bgcolor\":\"#E5ECF6\",\"caxis\":{\"gridcolor\":\"white\",\"linecolor\":\"white\",\"ticks\":\"\"}},\"title\":{\"x\":0.05},\"xaxis\":{\"automargin\":true,\"gridcolor\":\"white\",\"linecolor\":\"white\",\"ticks\":\"\",\"title\":{\"standoff\":15},\"zerolinecolor\":\"white\",\"zerolinewidth\":2},\"yaxis\":{\"automargin\":true,\"gridcolor\":\"white\",\"linecolor\":\"white\",\"ticks\":\"\",\"title\":{\"standoff\":15},\"zerolinecolor\":\"white\",\"zerolinewidth\":2}}},\"shapes\":[{\"layer\":\"below\",\"line\":{\"color\":\"#DD4040\",\"dash\":\"dash\",\"width\":1},\"type\":\"line\",\"x0\":0,\"x1\":1,\"xref\":\"x domain\",\"y0\":0.9135156728918074,\"y1\":0.9135156728918074,\"yref\":\"y\"},{\"layer\":\"below\",\"line\":{\"color\":\"#DD4040\",\"dash\":\"dash\",\"width\":1},\"type\":\"line\",\"x0\":0,\"x1\":1,\"xref\":\"x domain\",\"y0\":0.900902260737325,\"y1\":0.900902260737325,\"yref\":\"y\"},{\"fillcolor\":\"#DD4040\",\"layer\":\"below\",\"line\":{\"width\":0},\"opacity\":0.2,\"type\":\"rect\",\"x0\":\"2020-11-01T22:04:59\",\"x1\":\"2020-11-14T03:55:33\",\"xref\":\"x\",\"y0\":0,\"y1\":1,\"yref\":\"y domain\"},{\"fillcolor\":\"#DD4040\",\"layer\":\"below\",\"line\":{\"width\":0},\"opacity\":0.2,\"type\":\"rect\",\"x0\":\"2020-11-14T03:55:49\",\"x1\":\"2020-11-26T09:19:06\",\"xref\":\"x\",\"y0\":0,\"y1\":1,\"yref\":\"y domain\"},{\"fillcolor\":\"#DD4040\",\"layer\":\"below\",\"line\":{\"width\":0},\"opacity\":0.2,\"type\":\"rect\",\"x0\":\"2020-11-26T09:19:22\",\"x1\":\"2020-12-08T14:33:56\",\"xref\":\"x\",\"y0\":0,\"y1\":1,\"yref\":\"y domain\"},{\"fillcolor\":\"#DD4040\",\"layer\":\"below\",\"line\":{\"width\":0},\"opacity\":0.2,\"type\":\"rect\",\"x0\":\"2020-12-08T14:34:25\",\"x1\":\"2020-12-20T18:30:30\",\"xref\":\"x\",\"y0\":0,\"y1\":1,\"yref\":\"y domain\"},{\"fillcolor\":\"#DD4040\",\"layer\":\"below\",\"line\":{\"width\":0},\"opacity\":0.2,\"type\":\"rect\",\"x0\":\"2020-12-20T18:31:09\",\"x1\":\"2021-01-01T22:57:55\",\"xref\":\"x\",\"y0\":0,\"y1\":1,\"yref\":\"y domain\"}],\"annotations\":[{\"font\":{\"color\":\"#DD4040\"},\"showarrow\":false,\"text\":\"0.91\",\"x\":1,\"xanchor\":\"right\",\"xref\":\"x domain\",\"y\":0.9135156728918074,\"yanchor\":\"bottom\",\"yref\":\"y\"},{\"font\":{\"color\":\"#DD4040\"},\"showarrow\":false,\"text\":\"0.90\",\"x\":1,\"xanchor\":\"right\",\"xref\":\"x domain\",\"y\":0.900902260737325,\"yanchor\":\"bottom\",\"yref\":\"y\"}]},                        {\"responsive\": true}                    ).then(function(){\n",
       "                            \n",
       "var gd = document.getElementById('01d083f0-317b-488e-90d9-831beffdb8a7');\n",
       "var x = new MutationObserver(function (mutations, observer) {{\n",
       "        var display = window.getComputedStyle(gd).display;\n",
       "        if (!display || display === 'none') {{\n",
       "            console.log([gd, 'removed!']);\n",
       "            Plotly.purge(gd);\n",
       "            observer.disconnect();\n",
       "        }}\n",
       "}});\n",
       "\n",
       "// Listen for the removal of the full notebook cells\n",
       "var notebookContainer = gd.closest('#notebook-container');\n",
       "if (notebookContainer) {{\n",
       "    x.observe(notebookContainer, {childList: true});\n",
       "}}\n",
       "\n",
       "// Listen for the clearing of the current output cell\n",
       "var outputEl = gd.closest('.output');\n",
       "if (outputEl) {{\n",
       "    x.observe(outputEl, {childList: true});\n",
       "}}\n",
       "\n",
       "                        })                };                });            </script>        </div>"
      ]
     },
     "metadata": {},
     "output_type": "display_data"
    },
    {
     "data": {
      "application/vnd.plotly.v1+json": {
       "config": {
        "plotlyServerURL": "https://plot.ly"
       },
       "data": [
        {
         "hoverinfo": "skip",
         "line": {
          "color": "rgba(0,0,0,0)",
          "shape": "hv"
         },
         "mode": "lines",
         "showlegend": false,
         "type": "scatter",
         "x": [
          "2020-09-01T03:10:01",
          "2020-09-13T16:15:32",
          "2020-09-25T19:50:04",
          "2020-10-08T02:57:34",
          "2020-10-20T15:49:06",
          "2020-11-01T22:04:59",
          "2020-11-14T03:55:49",
          "2020-11-26T09:19:22",
          "2020-12-08T14:34:25",
          "2020-12-20T18:31:09",
          "2021-01-01T22:57:55"
         ],
         "y": [
          0.7570758621967587,
          0.7601708655920035,
          0.7620133162844372,
          0.7602729924294869,
          0.7576041389617284,
          0.634062067250791,
          0.6344879109469016,
          0.6335872481015282,
          0.6347233281673336,
          0.6366274585452686,
          0.6366274585452686
         ]
        },
        {
         "fill": "tonexty",
         "fillcolor": "rgba(0.23137254901960785, 0.00784313725490196, 0.5019607843137255, 0.2)",
         "hoverinfo": "skip",
         "line": {
          "color": "rgba(0,0,0,0)",
          "shape": "hv"
         },
         "mode": "lines",
         "showlegend": false,
         "type": "scatter",
         "x": [
          "2020-09-01T03:10:01",
          "2020-09-13T16:15:32",
          "2020-09-25T19:50:04",
          "2020-10-08T02:57:34",
          "2020-10-20T15:49:06",
          "2020-11-01T22:04:59",
          "2020-11-14T03:55:49",
          "2020-11-26T09:19:22",
          "2020-12-08T14:34:25",
          "2020-12-20T18:31:09",
          "2021-01-01T22:57:55"
         ],
         "y": [
          0.7535727113644105,
          0.7566677147596553,
          0.758510165452089,
          0.7567698415971387,
          0.7541009881293802,
          0.6305589164184427,
          0.6309847601145534,
          0.63008409726918,
          0.6312201773349854,
          0.6331243077129204,
          0.6331243077129204
         ]
        },
        {
         "hoverinfo": "skip",
         "legendgroup": "1",
         "line": {
          "color": "#00c8e5",
          "shape": "hv",
          "width": 2
         },
         "mode": "lines",
         "name": "Reference period",
         "type": "scatter",
         "x": [],
         "y": []
        },
        {
         "hoverinfo": "skip",
         "legendgroup": "1",
         "line": {
          "color": "#3b0280",
          "dash": "dot",
          "shape": "hv",
          "width": 2
         },
         "mode": "lines",
         "name": "Analysis period",
         "type": "scatter",
         "x": [
          "2020-09-01T03:10:01",
          "2020-09-13T16:15:32",
          "2020-09-25T19:50:04",
          "2020-10-08T02:57:34",
          "2020-10-20T15:49:06",
          "2020-11-01T22:04:59",
          "2020-11-14T03:55:49",
          "2020-11-26T09:19:22",
          "2020-12-08T14:34:25",
          "2020-12-20T18:31:09",
          "2021-01-01T22:57:55"
         ],
         "y": [
          0.7553242867805846,
          0.7584192901758294,
          0.7602617408682631,
          0.7585214170133128,
          0.7558525635455543,
          0.6323104918346169,
          0.6327363355307275,
          0.6318356726853541,
          0.6329717527511595,
          0.6348758831290945,
          0.6348758831290945
         ]
        },
        {
         "customdata": [],
         "hovertemplate": "%{customdata[4]} &nbsp; &nbsp; <span style=\"color:#AD0000\">%{customdata[5]}</span><br>Chunk: <b>%{customdata[0]}</b> &nbsp; &nbsp; From <b>%{customdata[1]}</b> to <b>%{customdata[2]}</b> &nbsp; &nbsp; <br>Estimated ROC AUC: <b>%{customdata[3]}</b>  &nbsp; &nbsp; %{customdata[6]} <extra></extra>",
         "marker": {
          "color": "#00c8e5",
          "size": 6,
          "symbol": "square"
         },
         "mode": "markers",
         "name": "Reference",
         "showlegend": false,
         "type": "scatter",
         "x": [],
         "y": []
        },
        {
         "customdata": [
          [
           "[0:5999]",
           "Sep-01-2020",
           "Sep-13-2020",
           "0.7553",
           "<b style=\"color:#3b0280;line-height:60px\">Analysis</b>",
           "",
           ""
          ],
          [
           "[6000:11999]",
           "Sep-13-2020",
           "Sep-25-2020",
           "0.7584",
           "<b style=\"color:#3b0280;line-height:60px\">Analysis</b>",
           "",
           ""
          ],
          [
           "[12000:17999]",
           "Sep-25-2020",
           "Oct-08-2020",
           "0.7603",
           "<b style=\"color:#3b0280;line-height:60px\">Analysis</b>",
           "",
           ""
          ],
          [
           "[18000:23999]",
           "Oct-08-2020",
           "Oct-20-2020",
           "0.7585",
           "<b style=\"color:#3b0280;line-height:60px\">Analysis</b>",
           "",
           ""
          ],
          [
           "[24000:29999]",
           "Oct-20-2020",
           "Nov-01-2020",
           "0.7559",
           "<b style=\"color:#3b0280;line-height:60px\">Analysis</b>",
           "",
           ""
          ]
         ],
         "hovertemplate": "%{customdata[4]} &nbsp; &nbsp; <span style=\"color:#AD0000\">%{customdata[5]}</span><br>Chunk: <b>%{customdata[0]}</b> &nbsp; &nbsp; From <b>%{customdata[1]}</b> to <b>%{customdata[2]}</b> &nbsp; &nbsp; <br>Estimated ROC AUC: <b>%{customdata[3]}</b>  &nbsp; &nbsp; %{customdata[6]} <extra></extra>",
         "marker": {
          "color": "#3b0280",
          "size": 6,
          "symbol": "square"
         },
         "mode": "markers",
         "name": "No change",
         "showlegend": false,
         "type": "scatter",
         "x": [
          "2020-09-07T09:42:35.500000",
          "2020-09-19T18:02:07",
          "2020-10-01T23:21:55.500000",
          "2020-10-14T09:22:56.500000",
          "2020-10-26T18:56:53"
         ],
         "y": [
          0.7553242867805846,
          0.7584192901758294,
          0.7602617408682631,
          0.7585214170133128,
          0.7558525635455543
         ]
        },
        {
         "customdata": [
          [
           "[30000:35999]",
           "Nov-01-2020",
           "Nov-14-2020",
           "0.6323",
           "<b style=\"color:#3b0280;line-height:60px\">Analysis</b>",
           "⚠ <b>Drift detected</b>",
           ""
          ],
          [
           "[36000:41999]",
           "Nov-14-2020",
           "Nov-26-2020",
           "0.6327",
           "<b style=\"color:#3b0280;line-height:60px\">Analysis</b>",
           "⚠ <b>Drift detected</b>",
           ""
          ],
          [
           "[42000:47999]",
           "Nov-26-2020",
           "Dec-08-2020",
           "0.6318",
           "<b style=\"color:#3b0280;line-height:60px\">Analysis</b>",
           "⚠ <b>Drift detected</b>",
           ""
          ],
          [
           "[48000:53999]",
           "Dec-08-2020",
           "Dec-20-2020",
           "0.6330",
           "<b style=\"color:#3b0280;line-height:60px\">Analysis</b>",
           "⚠ <b>Drift detected</b>",
           ""
          ],
          [
           "[54000:59999]",
           "Dec-20-2020",
           "Jan-01-2021",
           "0.6349",
           "<b style=\"color:#3b0280;line-height:60px\">Analysis</b>",
           "⚠ <b>Drift detected</b>",
           ""
          ]
         ],
         "hovertemplate": "%{customdata[4]} &nbsp; &nbsp; <span style=\"color:#AD0000\">%{customdata[5]}</span><br>Chunk: <b>%{customdata[0]}</b> &nbsp; &nbsp; From <b>%{customdata[1]}</b> to <b>%{customdata[2]}</b> &nbsp; &nbsp; <br>Estimated ROC AUC: <b>%{customdata[3]}</b>  &nbsp; &nbsp; %{customdata[6]} <extra></extra>",
         "marker": {
          "color": "#DD4040",
          "size": 6,
          "symbol": "diamond"
         },
         "mode": "markers",
         "name": "Change",
         "showlegend": false,
         "type": "scatter",
         "x": [
          "2020-11-08T01:00:16",
          "2020-11-20T06:37:27.500000",
          "2020-12-02T11:56:39",
          "2020-12-14T16:32:27.500000",
          "2020-12-26T20:44:32"
         ],
         "y": [
          0.6323104918346169,
          0.6327363355307275,
          0.6318356726853541,
          0.6329717527511595,
          0.6348758831290945
         ]
        },
        {
         "line": {
          "color": "rgba(0,0,0,0)"
         },
         "mode": "lines",
         "showlegend": false,
         "type": "scatter",
         "x": [
          [
           1599471755500000000
          ],
          [
           1609015472000000000
          ]
         ],
         "y": [
          null,
          null
         ]
        },
        {
         "fill": "tonexty",
         "fillcolor": "rgba(0.23137254901960785, 0.00784313725490196, 0.5019607843137255, 0.2)",
         "legendgroup": "1",
         "line": {
          "color": "rgba(0,0,0,0)"
         },
         "mode": "lines",
         "name": "Confidence band",
         "type": "scatter",
         "x": [
          [
           1599471755500000000
          ],
          [
           1609015472000000000
          ]
         ],
         "y": [
          null,
          null
         ]
        },
        {
         "legendgroup": "1",
         "line": {
          "color": "#DD4040",
          "dash": "dash",
          "width": 1
         },
         "mode": "lines",
         "name": "Performance threshold",
         "type": "scatter",
         "x": [
          [
           1599471755500000000
          ],
          [
           1609015472000000000
          ]
         ],
         "y": [
          null,
          null
         ]
        },
        {
         "line": {
          "color": "rgba(0,0,0,0)"
         },
         "mode": "lines",
         "showlegend": false,
         "type": "scatter",
         "x": [
          [
           1599471755500000000
          ],
          [
           1609015472000000000
          ]
         ],
         "y": [
          null,
          null
         ]
        },
        {
         "fill": "tonexty",
         "fillcolor": "rgba(0.8666666666666667, 0.25098039215686274, 0.25098039215686274, 0.2)",
         "legendgroup": "1",
         "line": {
          "color": "rgba(0,0,0,0)"
         },
         "marker": {
          "color": "#DD4040",
          "size": 6,
          "symbol": "diamond"
         },
         "mode": "lines+markers",
         "name": "Degraded performance",
         "type": "scatter",
         "x": [
          [
           1599471755500000000
          ],
          [
           1609015472000000000
          ]
         ],
         "y": [
          null,
          null
         ]
        }
       ],
       "layout": {
        "annotations": [
         {
          "font": {
           "color": "#DD4040"
          },
          "showarrow": false,
          "text": "0.76",
          "x": 1,
          "xanchor": "right",
          "xref": "x domain",
          "y": 0.7649438592270994,
          "yanchor": "bottom",
          "yref": "y"
         },
         {
          "font": {
           "color": "#DD4040"
          },
          "showarrow": false,
          "text": "0.74",
          "x": 1,
          "xanchor": "right",
          "xref": "x domain",
          "y": 0.741253919065521,
          "yanchor": "bottom",
          "yref": "y"
         }
        ],
        "hoverlabel": {
         "bgcolor": "white",
         "font": {
          "size": 14
         }
        },
        "legend": {
         "itemclick": false,
         "itemdoubleclick": false,
         "orientation": "h",
         "traceorder": "normal",
         "x": 0,
         "xanchor": "left",
         "y": -0.25,
         "yanchor": "top"
        },
        "paper_bgcolor": "rgba(255,255,255,1)",
        "plot_bgcolor": "rgba(255,255,255,1)",
        "shapes": [
         {
          "layer": "below",
          "line": {
           "color": "#DD4040",
           "dash": "dash",
           "width": 1
          },
          "type": "line",
          "x0": 0,
          "x1": 1,
          "xref": "x domain",
          "y0": 0.7649438592270994,
          "y1": 0.7649438592270994,
          "yref": "y"
         },
         {
          "layer": "below",
          "line": {
           "color": "#DD4040",
           "dash": "dash",
           "width": 1
          },
          "type": "line",
          "x0": 0,
          "x1": 1,
          "xref": "x domain",
          "y0": 0.741253919065521,
          "y1": 0.741253919065521,
          "yref": "y"
         },
         {
          "fillcolor": "#DD4040",
          "layer": "below",
          "line": {
           "width": 0
          },
          "opacity": 0.2,
          "type": "rect",
          "x0": "2020-11-01T22:04:59",
          "x1": "2020-11-14T03:55:33",
          "xref": "x",
          "y0": 0,
          "y1": 1,
          "yref": "y domain"
         },
         {
          "fillcolor": "#DD4040",
          "layer": "below",
          "line": {
           "width": 0
          },
          "opacity": 0.2,
          "type": "rect",
          "x0": "2020-11-14T03:55:49",
          "x1": "2020-11-26T09:19:06",
          "xref": "x",
          "y0": 0,
          "y1": 1,
          "yref": "y domain"
         },
         {
          "fillcolor": "#DD4040",
          "layer": "below",
          "line": {
           "width": 0
          },
          "opacity": 0.2,
          "type": "rect",
          "x0": "2020-11-26T09:19:22",
          "x1": "2020-12-08T14:33:56",
          "xref": "x",
          "y0": 0,
          "y1": 1,
          "yref": "y domain"
         },
         {
          "fillcolor": "#DD4040",
          "layer": "below",
          "line": {
           "width": 0
          },
          "opacity": 0.2,
          "type": "rect",
          "x0": "2020-12-08T14:34:25",
          "x1": "2020-12-20T18:30:30",
          "xref": "x",
          "y0": 0,
          "y1": 1,
          "yref": "y domain"
         },
         {
          "fillcolor": "#DD4040",
          "layer": "below",
          "line": {
           "width": 0
          },
          "opacity": 0.2,
          "type": "rect",
          "x0": "2020-12-20T18:31:09",
          "x1": "2021-01-01T22:57:55",
          "xref": "x",
          "y0": 0,
          "y1": 1,
          "yref": "y domain"
         }
        ],
        "template": {
         "data": {
          "bar": [
           {
            "error_x": {
             "color": "#2a3f5f"
            },
            "error_y": {
             "color": "#2a3f5f"
            },
            "marker": {
             "line": {
              "color": "#E5ECF6",
              "width": 0.5
             },
             "pattern": {
              "fillmode": "overlay",
              "size": 10,
              "solidity": 0.2
             }
            },
            "type": "bar"
           }
          ],
          "barpolar": [
           {
            "marker": {
             "line": {
              "color": "#E5ECF6",
              "width": 0.5
             },
             "pattern": {
              "fillmode": "overlay",
              "size": 10,
              "solidity": 0.2
             }
            },
            "type": "barpolar"
           }
          ],
          "carpet": [
           {
            "aaxis": {
             "endlinecolor": "#2a3f5f",
             "gridcolor": "white",
             "linecolor": "white",
             "minorgridcolor": "white",
             "startlinecolor": "#2a3f5f"
            },
            "baxis": {
             "endlinecolor": "#2a3f5f",
             "gridcolor": "white",
             "linecolor": "white",
             "minorgridcolor": "white",
             "startlinecolor": "#2a3f5f"
            },
            "type": "carpet"
           }
          ],
          "choropleth": [
           {
            "colorbar": {
             "outlinewidth": 0,
             "ticks": ""
            },
            "type": "choropleth"
           }
          ],
          "contour": [
           {
            "colorbar": {
             "outlinewidth": 0,
             "ticks": ""
            },
            "colorscale": [
             [
              0,
              "#0d0887"
             ],
             [
              0.1111111111111111,
              "#46039f"
             ],
             [
              0.2222222222222222,
              "#7201a8"
             ],
             [
              0.3333333333333333,
              "#9c179e"
             ],
             [
              0.4444444444444444,
              "#bd3786"
             ],
             [
              0.5555555555555556,
              "#d8576b"
             ],
             [
              0.6666666666666666,
              "#ed7953"
             ],
             [
              0.7777777777777778,
              "#fb9f3a"
             ],
             [
              0.8888888888888888,
              "#fdca26"
             ],
             [
              1,
              "#f0f921"
             ]
            ],
            "type": "contour"
           }
          ],
          "contourcarpet": [
           {
            "colorbar": {
             "outlinewidth": 0,
             "ticks": ""
            },
            "type": "contourcarpet"
           }
          ],
          "heatmap": [
           {
            "colorbar": {
             "outlinewidth": 0,
             "ticks": ""
            },
            "colorscale": [
             [
              0,
              "#0d0887"
             ],
             [
              0.1111111111111111,
              "#46039f"
             ],
             [
              0.2222222222222222,
              "#7201a8"
             ],
             [
              0.3333333333333333,
              "#9c179e"
             ],
             [
              0.4444444444444444,
              "#bd3786"
             ],
             [
              0.5555555555555556,
              "#d8576b"
             ],
             [
              0.6666666666666666,
              "#ed7953"
             ],
             [
              0.7777777777777778,
              "#fb9f3a"
             ],
             [
              0.8888888888888888,
              "#fdca26"
             ],
             [
              1,
              "#f0f921"
             ]
            ],
            "type": "heatmap"
           }
          ],
          "heatmapgl": [
           {
            "colorbar": {
             "outlinewidth": 0,
             "ticks": ""
            },
            "colorscale": [
             [
              0,
              "#0d0887"
             ],
             [
              0.1111111111111111,
              "#46039f"
             ],
             [
              0.2222222222222222,
              "#7201a8"
             ],
             [
              0.3333333333333333,
              "#9c179e"
             ],
             [
              0.4444444444444444,
              "#bd3786"
             ],
             [
              0.5555555555555556,
              "#d8576b"
             ],
             [
              0.6666666666666666,
              "#ed7953"
             ],
             [
              0.7777777777777778,
              "#fb9f3a"
             ],
             [
              0.8888888888888888,
              "#fdca26"
             ],
             [
              1,
              "#f0f921"
             ]
            ],
            "type": "heatmapgl"
           }
          ],
          "histogram": [
           {
            "marker": {
             "pattern": {
              "fillmode": "overlay",
              "size": 10,
              "solidity": 0.2
             }
            },
            "type": "histogram"
           }
          ],
          "histogram2d": [
           {
            "colorbar": {
             "outlinewidth": 0,
             "ticks": ""
            },
            "colorscale": [
             [
              0,
              "#0d0887"
             ],
             [
              0.1111111111111111,
              "#46039f"
             ],
             [
              0.2222222222222222,
              "#7201a8"
             ],
             [
              0.3333333333333333,
              "#9c179e"
             ],
             [
              0.4444444444444444,
              "#bd3786"
             ],
             [
              0.5555555555555556,
              "#d8576b"
             ],
             [
              0.6666666666666666,
              "#ed7953"
             ],
             [
              0.7777777777777778,
              "#fb9f3a"
             ],
             [
              0.8888888888888888,
              "#fdca26"
             ],
             [
              1,
              "#f0f921"
             ]
            ],
            "type": "histogram2d"
           }
          ],
          "histogram2dcontour": [
           {
            "colorbar": {
             "outlinewidth": 0,
             "ticks": ""
            },
            "colorscale": [
             [
              0,
              "#0d0887"
             ],
             [
              0.1111111111111111,
              "#46039f"
             ],
             [
              0.2222222222222222,
              "#7201a8"
             ],
             [
              0.3333333333333333,
              "#9c179e"
             ],
             [
              0.4444444444444444,
              "#bd3786"
             ],
             [
              0.5555555555555556,
              "#d8576b"
             ],
             [
              0.6666666666666666,
              "#ed7953"
             ],
             [
              0.7777777777777778,
              "#fb9f3a"
             ],
             [
              0.8888888888888888,
              "#fdca26"
             ],
             [
              1,
              "#f0f921"
             ]
            ],
            "type": "histogram2dcontour"
           }
          ],
          "mesh3d": [
           {
            "colorbar": {
             "outlinewidth": 0,
             "ticks": ""
            },
            "type": "mesh3d"
           }
          ],
          "parcoords": [
           {
            "line": {
             "colorbar": {
              "outlinewidth": 0,
              "ticks": ""
             }
            },
            "type": "parcoords"
           }
          ],
          "pie": [
           {
            "automargin": true,
            "type": "pie"
           }
          ],
          "scatter": [
           {
            "marker": {
             "colorbar": {
              "outlinewidth": 0,
              "ticks": ""
             }
            },
            "type": "scatter"
           }
          ],
          "scatter3d": [
           {
            "line": {
             "colorbar": {
              "outlinewidth": 0,
              "ticks": ""
             }
            },
            "marker": {
             "colorbar": {
              "outlinewidth": 0,
              "ticks": ""
             }
            },
            "type": "scatter3d"
           }
          ],
          "scattercarpet": [
           {
            "marker": {
             "colorbar": {
              "outlinewidth": 0,
              "ticks": ""
             }
            },
            "type": "scattercarpet"
           }
          ],
          "scattergeo": [
           {
            "marker": {
             "colorbar": {
              "outlinewidth": 0,
              "ticks": ""
             }
            },
            "type": "scattergeo"
           }
          ],
          "scattergl": [
           {
            "marker": {
             "colorbar": {
              "outlinewidth": 0,
              "ticks": ""
             }
            },
            "type": "scattergl"
           }
          ],
          "scattermapbox": [
           {
            "marker": {
             "colorbar": {
              "outlinewidth": 0,
              "ticks": ""
             }
            },
            "type": "scattermapbox"
           }
          ],
          "scatterpolar": [
           {
            "marker": {
             "colorbar": {
              "outlinewidth": 0,
              "ticks": ""
             }
            },
            "type": "scatterpolar"
           }
          ],
          "scatterpolargl": [
           {
            "marker": {
             "colorbar": {
              "outlinewidth": 0,
              "ticks": ""
             }
            },
            "type": "scatterpolargl"
           }
          ],
          "scatterternary": [
           {
            "marker": {
             "colorbar": {
              "outlinewidth": 0,
              "ticks": ""
             }
            },
            "type": "scatterternary"
           }
          ],
          "surface": [
           {
            "colorbar": {
             "outlinewidth": 0,
             "ticks": ""
            },
            "colorscale": [
             [
              0,
              "#0d0887"
             ],
             [
              0.1111111111111111,
              "#46039f"
             ],
             [
              0.2222222222222222,
              "#7201a8"
             ],
             [
              0.3333333333333333,
              "#9c179e"
             ],
             [
              0.4444444444444444,
              "#bd3786"
             ],
             [
              0.5555555555555556,
              "#d8576b"
             ],
             [
              0.6666666666666666,
              "#ed7953"
             ],
             [
              0.7777777777777778,
              "#fb9f3a"
             ],
             [
              0.8888888888888888,
              "#fdca26"
             ],
             [
              1,
              "#f0f921"
             ]
            ],
            "type": "surface"
           }
          ],
          "table": [
           {
            "cells": {
             "fill": {
              "color": "#EBF0F8"
             },
             "line": {
              "color": "white"
             }
            },
            "header": {
             "fill": {
              "color": "#C8D4E3"
             },
             "line": {
              "color": "white"
             }
            },
            "type": "table"
           }
          ]
         },
         "layout": {
          "annotationdefaults": {
           "arrowcolor": "#2a3f5f",
           "arrowhead": 0,
           "arrowwidth": 1
          },
          "autotypenumbers": "strict",
          "coloraxis": {
           "colorbar": {
            "outlinewidth": 0,
            "ticks": ""
           }
          },
          "colorscale": {
           "diverging": [
            [
             0,
             "#8e0152"
            ],
            [
             0.1,
             "#c51b7d"
            ],
            [
             0.2,
             "#de77ae"
            ],
            [
             0.3,
             "#f1b6da"
            ],
            [
             0.4,
             "#fde0ef"
            ],
            [
             0.5,
             "#f7f7f7"
            ],
            [
             0.6,
             "#e6f5d0"
            ],
            [
             0.7,
             "#b8e186"
            ],
            [
             0.8,
             "#7fbc41"
            ],
            [
             0.9,
             "#4d9221"
            ],
            [
             1,
             "#276419"
            ]
           ],
           "sequential": [
            [
             0,
             "#0d0887"
            ],
            [
             0.1111111111111111,
             "#46039f"
            ],
            [
             0.2222222222222222,
             "#7201a8"
            ],
            [
             0.3333333333333333,
             "#9c179e"
            ],
            [
             0.4444444444444444,
             "#bd3786"
            ],
            [
             0.5555555555555556,
             "#d8576b"
            ],
            [
             0.6666666666666666,
             "#ed7953"
            ],
            [
             0.7777777777777778,
             "#fb9f3a"
            ],
            [
             0.8888888888888888,
             "#fdca26"
            ],
            [
             1,
             "#f0f921"
            ]
           ],
           "sequentialminus": [
            [
             0,
             "#0d0887"
            ],
            [
             0.1111111111111111,
             "#46039f"
            ],
            [
             0.2222222222222222,
             "#7201a8"
            ],
            [
             0.3333333333333333,
             "#9c179e"
            ],
            [
             0.4444444444444444,
             "#bd3786"
            ],
            [
             0.5555555555555556,
             "#d8576b"
            ],
            [
             0.6666666666666666,
             "#ed7953"
            ],
            [
             0.7777777777777778,
             "#fb9f3a"
            ],
            [
             0.8888888888888888,
             "#fdca26"
            ],
            [
             1,
             "#f0f921"
            ]
           ]
          },
          "colorway": [
           "#636efa",
           "#EF553B",
           "#00cc96",
           "#ab63fa",
           "#FFA15A",
           "#19d3f3",
           "#FF6692",
           "#B6E880",
           "#FF97FF",
           "#FECB52"
          ],
          "font": {
           "color": "#2a3f5f"
          },
          "geo": {
           "bgcolor": "white",
           "lakecolor": "white",
           "landcolor": "#E5ECF6",
           "showlakes": true,
           "showland": true,
           "subunitcolor": "white"
          },
          "hoverlabel": {
           "align": "left"
          },
          "hovermode": "closest",
          "mapbox": {
           "style": "light"
          },
          "paper_bgcolor": "white",
          "plot_bgcolor": "#E5ECF6",
          "polar": {
           "angularaxis": {
            "gridcolor": "white",
            "linecolor": "white",
            "ticks": ""
           },
           "bgcolor": "#E5ECF6",
           "radialaxis": {
            "gridcolor": "white",
            "linecolor": "white",
            "ticks": ""
           }
          },
          "scene": {
           "xaxis": {
            "backgroundcolor": "#E5ECF6",
            "gridcolor": "white",
            "gridwidth": 2,
            "linecolor": "white",
            "showbackground": true,
            "ticks": "",
            "zerolinecolor": "white"
           },
           "yaxis": {
            "backgroundcolor": "#E5ECF6",
            "gridcolor": "white",
            "gridwidth": 2,
            "linecolor": "white",
            "showbackground": true,
            "ticks": "",
            "zerolinecolor": "white"
           },
           "zaxis": {
            "backgroundcolor": "#E5ECF6",
            "gridcolor": "white",
            "gridwidth": 2,
            "linecolor": "white",
            "showbackground": true,
            "ticks": "",
            "zerolinecolor": "white"
           }
          },
          "shapedefaults": {
           "line": {
            "color": "#2a3f5f"
           }
          },
          "ternary": {
           "aaxis": {
            "gridcolor": "white",
            "linecolor": "white",
            "ticks": ""
           },
           "baxis": {
            "gridcolor": "white",
            "linecolor": "white",
            "ticks": ""
           },
           "bgcolor": "#E5ECF6",
           "caxis": {
            "gridcolor": "white",
            "linecolor": "white",
            "ticks": ""
           }
          },
          "title": {
           "x": 0.05
          },
          "xaxis": {
           "automargin": true,
           "gridcolor": "white",
           "linecolor": "white",
           "ticks": "",
           "title": {
            "standoff": 15
           },
           "zerolinecolor": "white",
           "zerolinewidth": 2
          },
          "yaxis": {
           "automargin": true,
           "gridcolor": "white",
           "linecolor": "white",
           "ticks": "",
           "title": {
            "standoff": 15
           },
           "zerolinecolor": "white",
           "zerolinewidth": 2
          }
         }
        },
        "title": {
         "text": "CBPE - Estimated f1"
        },
        "xaxis": {
         "linecolor": "#666666",
         "mirror": true,
         "showgrid": false,
         "title": {
          "text": "Time"
         },
         "zeroline": false
        },
        "yaxis": {
         "linecolor": "#666666",
         "mirror": true,
         "showgrid": false,
         "title": {
          "text": "Estimated f1"
         },
         "zeroline": false
        }
       }
      },
      "text/html": [
       "<div>                            <div id=\"e6cb697a-6fae-4ce9-a789-5b773d29a38a\" class=\"plotly-graph-div\" style=\"height:525px; width:100%;\"></div>            <script type=\"text/javascript\">                require([\"plotly\"], function(Plotly) {                    window.PLOTLYENV=window.PLOTLYENV || {};                                    if (document.getElementById(\"e6cb697a-6fae-4ce9-a789-5b773d29a38a\")) {                    Plotly.newPlot(                        \"e6cb697a-6fae-4ce9-a789-5b773d29a38a\",                        [{\"hoverinfo\":\"skip\",\"line\":{\"color\":\"rgba(0,0,0,0)\",\"shape\":\"hv\"},\"mode\":\"lines\",\"showlegend\":false,\"x\":[\"2020-09-01T03:10:01\",\"2020-09-13T16:15:32\",\"2020-09-25T19:50:04\",\"2020-10-08T02:57:34\",\"2020-10-20T15:49:06\",\"2020-11-01T22:04:59\",\"2020-11-14T03:55:49\",\"2020-11-26T09:19:22\",\"2020-12-08T14:34:25\",\"2020-12-20T18:31:09\",\"2021-01-01T22:57:55\"],\"y\":[0.7570758621967587,0.7601708655920035,0.7620133162844372,0.7602729924294869,0.7576041389617284,0.634062067250791,0.6344879109469016,0.6335872481015282,0.6347233281673336,0.6366274585452686,0.6366274585452686],\"type\":\"scatter\"},{\"fill\":\"tonexty\",\"fillcolor\":\"rgba(0.23137254901960785, 0.00784313725490196, 0.5019607843137255, 0.2)\",\"hoverinfo\":\"skip\",\"line\":{\"color\":\"rgba(0,0,0,0)\",\"shape\":\"hv\"},\"mode\":\"lines\",\"showlegend\":false,\"x\":[\"2020-09-01T03:10:01\",\"2020-09-13T16:15:32\",\"2020-09-25T19:50:04\",\"2020-10-08T02:57:34\",\"2020-10-20T15:49:06\",\"2020-11-01T22:04:59\",\"2020-11-14T03:55:49\",\"2020-11-26T09:19:22\",\"2020-12-08T14:34:25\",\"2020-12-20T18:31:09\",\"2021-01-01T22:57:55\"],\"y\":[0.7535727113644105,0.7566677147596553,0.758510165452089,0.7567698415971387,0.7541009881293802,0.6305589164184427,0.6309847601145534,0.63008409726918,0.6312201773349854,0.6331243077129204,0.6331243077129204],\"type\":\"scatter\"},{\"hoverinfo\":\"skip\",\"legendgroup\":\"1\",\"line\":{\"color\":\"#00c8e5\",\"shape\":\"hv\",\"width\":2},\"mode\":\"lines\",\"name\":\"Reference period\",\"x\":[],\"y\":[],\"type\":\"scatter\"},{\"hoverinfo\":\"skip\",\"legendgroup\":\"1\",\"line\":{\"color\":\"#3b0280\",\"dash\":\"dot\",\"shape\":\"hv\",\"width\":2},\"mode\":\"lines\",\"name\":\"Analysis period\",\"x\":[\"2020-09-01T03:10:01\",\"2020-09-13T16:15:32\",\"2020-09-25T19:50:04\",\"2020-10-08T02:57:34\",\"2020-10-20T15:49:06\",\"2020-11-01T22:04:59\",\"2020-11-14T03:55:49\",\"2020-11-26T09:19:22\",\"2020-12-08T14:34:25\",\"2020-12-20T18:31:09\",\"2021-01-01T22:57:55\"],\"y\":[0.7553242867805846,0.7584192901758294,0.7602617408682631,0.7585214170133128,0.7558525635455543,0.6323104918346169,0.6327363355307275,0.6318356726853541,0.6329717527511595,0.6348758831290945,0.6348758831290945],\"type\":\"scatter\"},{\"customdata\":[],\"hovertemplate\":\"%{customdata[4]} &nbsp; &nbsp; <span style=\\\"color:#AD0000\\\">%{customdata[5]}</span><br>Chunk: <b>%{customdata[0]}</b> &nbsp; &nbsp; From <b>%{customdata[1]}</b> to <b>%{customdata[2]}</b> &nbsp; &nbsp; <br>Estimated ROC AUC: <b>%{customdata[3]}</b>  &nbsp; &nbsp; %{customdata[6]} <extra></extra>\",\"marker\":{\"color\":\"#00c8e5\",\"size\":6,\"symbol\":\"square\"},\"mode\":\"markers\",\"name\":\"Reference\",\"showlegend\":false,\"x\":[],\"y\":[],\"type\":\"scatter\"},{\"customdata\":[[\"[0:5999]\",\"Sep-01-2020\",\"Sep-13-2020\",\"0.7553\",\"<b style=\\\"color:#3b0280;line-height:60px\\\">Analysis</b>\",\"\",\"\"],[\"[6000:11999]\",\"Sep-13-2020\",\"Sep-25-2020\",\"0.7584\",\"<b style=\\\"color:#3b0280;line-height:60px\\\">Analysis</b>\",\"\",\"\"],[\"[12000:17999]\",\"Sep-25-2020\",\"Oct-08-2020\",\"0.7603\",\"<b style=\\\"color:#3b0280;line-height:60px\\\">Analysis</b>\",\"\",\"\"],[\"[18000:23999]\",\"Oct-08-2020\",\"Oct-20-2020\",\"0.7585\",\"<b style=\\\"color:#3b0280;line-height:60px\\\">Analysis</b>\",\"\",\"\"],[\"[24000:29999]\",\"Oct-20-2020\",\"Nov-01-2020\",\"0.7559\",\"<b style=\\\"color:#3b0280;line-height:60px\\\">Analysis</b>\",\"\",\"\"]],\"hovertemplate\":\"%{customdata[4]} &nbsp; &nbsp; <span style=\\\"color:#AD0000\\\">%{customdata[5]}</span><br>Chunk: <b>%{customdata[0]}</b> &nbsp; &nbsp; From <b>%{customdata[1]}</b> to <b>%{customdata[2]}</b> &nbsp; &nbsp; <br>Estimated ROC AUC: <b>%{customdata[3]}</b>  &nbsp; &nbsp; %{customdata[6]} <extra></extra>\",\"marker\":{\"color\":\"#3b0280\",\"size\":6,\"symbol\":\"square\"},\"mode\":\"markers\",\"name\":\"No change\",\"showlegend\":false,\"x\":[\"2020-09-07T09:42:35.500000\",\"2020-09-19T18:02:07\",\"2020-10-01T23:21:55.500000\",\"2020-10-14T09:22:56.500000\",\"2020-10-26T18:56:53\"],\"y\":[0.7553242867805846,0.7584192901758294,0.7602617408682631,0.7585214170133128,0.7558525635455543],\"type\":\"scatter\"},{\"customdata\":[[\"[30000:35999]\",\"Nov-01-2020\",\"Nov-14-2020\",\"0.6323\",\"<b style=\\\"color:#3b0280;line-height:60px\\\">Analysis</b>\",\"\\u26a0 <b>Drift detected</b>\",\"\"],[\"[36000:41999]\",\"Nov-14-2020\",\"Nov-26-2020\",\"0.6327\",\"<b style=\\\"color:#3b0280;line-height:60px\\\">Analysis</b>\",\"\\u26a0 <b>Drift detected</b>\",\"\"],[\"[42000:47999]\",\"Nov-26-2020\",\"Dec-08-2020\",\"0.6318\",\"<b style=\\\"color:#3b0280;line-height:60px\\\">Analysis</b>\",\"\\u26a0 <b>Drift detected</b>\",\"\"],[\"[48000:53999]\",\"Dec-08-2020\",\"Dec-20-2020\",\"0.6330\",\"<b style=\\\"color:#3b0280;line-height:60px\\\">Analysis</b>\",\"\\u26a0 <b>Drift detected</b>\",\"\"],[\"[54000:59999]\",\"Dec-20-2020\",\"Jan-01-2021\",\"0.6349\",\"<b style=\\\"color:#3b0280;line-height:60px\\\">Analysis</b>\",\"\\u26a0 <b>Drift detected</b>\",\"\"]],\"hovertemplate\":\"%{customdata[4]} &nbsp; &nbsp; <span style=\\\"color:#AD0000\\\">%{customdata[5]}</span><br>Chunk: <b>%{customdata[0]}</b> &nbsp; &nbsp; From <b>%{customdata[1]}</b> to <b>%{customdata[2]}</b> &nbsp; &nbsp; <br>Estimated ROC AUC: <b>%{customdata[3]}</b>  &nbsp; &nbsp; %{customdata[6]} <extra></extra>\",\"marker\":{\"color\":\"#DD4040\",\"size\":6,\"symbol\":\"diamond\"},\"mode\":\"markers\",\"name\":\"Change\",\"showlegend\":false,\"x\":[\"2020-11-08T01:00:16\",\"2020-11-20T06:37:27.500000\",\"2020-12-02T11:56:39\",\"2020-12-14T16:32:27.500000\",\"2020-12-26T20:44:32\"],\"y\":[0.6323104918346169,0.6327363355307275,0.6318356726853541,0.6329717527511595,0.6348758831290945],\"type\":\"scatter\"},{\"line\":{\"color\":\"rgba(0,0,0,0)\"},\"mode\":\"lines\",\"showlegend\":false,\"x\":[[1599471755500000000],[1609015472000000000]],\"y\":[null,null],\"type\":\"scatter\"},{\"fill\":\"tonexty\",\"fillcolor\":\"rgba(0.23137254901960785, 0.00784313725490196, 0.5019607843137255, 0.2)\",\"legendgroup\":\"1\",\"line\":{\"color\":\"rgba(0,0,0,0)\"},\"mode\":\"lines\",\"name\":\"Confidence band\",\"x\":[[1599471755500000000],[1609015472000000000]],\"y\":[null,null],\"type\":\"scatter\"},{\"legendgroup\":\"1\",\"line\":{\"color\":\"#DD4040\",\"dash\":\"dash\",\"width\":1},\"mode\":\"lines\",\"name\":\"Performance threshold\",\"x\":[[1599471755500000000],[1609015472000000000]],\"y\":[null,null],\"type\":\"scatter\"},{\"line\":{\"color\":\"rgba(0,0,0,0)\"},\"mode\":\"lines\",\"showlegend\":false,\"x\":[[1599471755500000000],[1609015472000000000]],\"y\":[null,null],\"type\":\"scatter\"},{\"fill\":\"tonexty\",\"fillcolor\":\"rgba(0.8666666666666667, 0.25098039215686274, 0.25098039215686274, 0.2)\",\"legendgroup\":\"1\",\"line\":{\"color\":\"rgba(0,0,0,0)\"},\"marker\":{\"color\":\"#DD4040\",\"size\":6,\"symbol\":\"diamond\"},\"mode\":\"lines+markers\",\"name\":\"Degraded performance\",\"x\":[[1599471755500000000],[1609015472000000000]],\"y\":[null,null],\"type\":\"scatter\"}],                        {\"hoverlabel\":{\"bgcolor\":\"white\",\"font\":{\"size\":14}},\"legend\":{\"itemclick\":false,\"itemdoubleclick\":false,\"traceorder\":\"normal\",\"yanchor\":\"top\",\"y\":-0.25,\"xanchor\":\"left\",\"x\":0,\"orientation\":\"h\"},\"paper_bgcolor\":\"rgba(255,255,255,1)\",\"plot_bgcolor\":\"rgba(255,255,255,1)\",\"title\":{\"text\":\"CBPE - Estimated f1\"},\"xaxis\":{\"linecolor\":\"#666666\",\"mirror\":true,\"showgrid\":false,\"title\":{\"text\":\"Time\"},\"zeroline\":false},\"yaxis\":{\"linecolor\":\"#666666\",\"mirror\":true,\"showgrid\":false,\"title\":{\"text\":\"Estimated f1\"},\"zeroline\":false},\"template\":{\"data\":{\"bar\":[{\"error_x\":{\"color\":\"#2a3f5f\"},\"error_y\":{\"color\":\"#2a3f5f\"},\"marker\":{\"line\":{\"color\":\"#E5ECF6\",\"width\":0.5},\"pattern\":{\"fillmode\":\"overlay\",\"size\":10,\"solidity\":0.2}},\"type\":\"bar\"}],\"barpolar\":[{\"marker\":{\"line\":{\"color\":\"#E5ECF6\",\"width\":0.5},\"pattern\":{\"fillmode\":\"overlay\",\"size\":10,\"solidity\":0.2}},\"type\":\"barpolar\"}],\"carpet\":[{\"aaxis\":{\"endlinecolor\":\"#2a3f5f\",\"gridcolor\":\"white\",\"linecolor\":\"white\",\"minorgridcolor\":\"white\",\"startlinecolor\":\"#2a3f5f\"},\"baxis\":{\"endlinecolor\":\"#2a3f5f\",\"gridcolor\":\"white\",\"linecolor\":\"white\",\"minorgridcolor\":\"white\",\"startlinecolor\":\"#2a3f5f\"},\"type\":\"carpet\"}],\"choropleth\":[{\"colorbar\":{\"outlinewidth\":0,\"ticks\":\"\"},\"type\":\"choropleth\"}],\"contour\":[{\"colorbar\":{\"outlinewidth\":0,\"ticks\":\"\"},\"colorscale\":[[0.0,\"#0d0887\"],[0.1111111111111111,\"#46039f\"],[0.2222222222222222,\"#7201a8\"],[0.3333333333333333,\"#9c179e\"],[0.4444444444444444,\"#bd3786\"],[0.5555555555555556,\"#d8576b\"],[0.6666666666666666,\"#ed7953\"],[0.7777777777777778,\"#fb9f3a\"],[0.8888888888888888,\"#fdca26\"],[1.0,\"#f0f921\"]],\"type\":\"contour\"}],\"contourcarpet\":[{\"colorbar\":{\"outlinewidth\":0,\"ticks\":\"\"},\"type\":\"contourcarpet\"}],\"heatmap\":[{\"colorbar\":{\"outlinewidth\":0,\"ticks\":\"\"},\"colorscale\":[[0.0,\"#0d0887\"],[0.1111111111111111,\"#46039f\"],[0.2222222222222222,\"#7201a8\"],[0.3333333333333333,\"#9c179e\"],[0.4444444444444444,\"#bd3786\"],[0.5555555555555556,\"#d8576b\"],[0.6666666666666666,\"#ed7953\"],[0.7777777777777778,\"#fb9f3a\"],[0.8888888888888888,\"#fdca26\"],[1.0,\"#f0f921\"]],\"type\":\"heatmap\"}],\"heatmapgl\":[{\"colorbar\":{\"outlinewidth\":0,\"ticks\":\"\"},\"colorscale\":[[0.0,\"#0d0887\"],[0.1111111111111111,\"#46039f\"],[0.2222222222222222,\"#7201a8\"],[0.3333333333333333,\"#9c179e\"],[0.4444444444444444,\"#bd3786\"],[0.5555555555555556,\"#d8576b\"],[0.6666666666666666,\"#ed7953\"],[0.7777777777777778,\"#fb9f3a\"],[0.8888888888888888,\"#fdca26\"],[1.0,\"#f0f921\"]],\"type\":\"heatmapgl\"}],\"histogram\":[{\"marker\":{\"pattern\":{\"fillmode\":\"overlay\",\"size\":10,\"solidity\":0.2}},\"type\":\"histogram\"}],\"histogram2d\":[{\"colorbar\":{\"outlinewidth\":0,\"ticks\":\"\"},\"colorscale\":[[0.0,\"#0d0887\"],[0.1111111111111111,\"#46039f\"],[0.2222222222222222,\"#7201a8\"],[0.3333333333333333,\"#9c179e\"],[0.4444444444444444,\"#bd3786\"],[0.5555555555555556,\"#d8576b\"],[0.6666666666666666,\"#ed7953\"],[0.7777777777777778,\"#fb9f3a\"],[0.8888888888888888,\"#fdca26\"],[1.0,\"#f0f921\"]],\"type\":\"histogram2d\"}],\"histogram2dcontour\":[{\"colorbar\":{\"outlinewidth\":0,\"ticks\":\"\"},\"colorscale\":[[0.0,\"#0d0887\"],[0.1111111111111111,\"#46039f\"],[0.2222222222222222,\"#7201a8\"],[0.3333333333333333,\"#9c179e\"],[0.4444444444444444,\"#bd3786\"],[0.5555555555555556,\"#d8576b\"],[0.6666666666666666,\"#ed7953\"],[0.7777777777777778,\"#fb9f3a\"],[0.8888888888888888,\"#fdca26\"],[1.0,\"#f0f921\"]],\"type\":\"histogram2dcontour\"}],\"mesh3d\":[{\"colorbar\":{\"outlinewidth\":0,\"ticks\":\"\"},\"type\":\"mesh3d\"}],\"parcoords\":[{\"line\":{\"colorbar\":{\"outlinewidth\":0,\"ticks\":\"\"}},\"type\":\"parcoords\"}],\"pie\":[{\"automargin\":true,\"type\":\"pie\"}],\"scatter\":[{\"marker\":{\"colorbar\":{\"outlinewidth\":0,\"ticks\":\"\"}},\"type\":\"scatter\"}],\"scatter3d\":[{\"line\":{\"colorbar\":{\"outlinewidth\":0,\"ticks\":\"\"}},\"marker\":{\"colorbar\":{\"outlinewidth\":0,\"ticks\":\"\"}},\"type\":\"scatter3d\"}],\"scattercarpet\":[{\"marker\":{\"colorbar\":{\"outlinewidth\":0,\"ticks\":\"\"}},\"type\":\"scattercarpet\"}],\"scattergeo\":[{\"marker\":{\"colorbar\":{\"outlinewidth\":0,\"ticks\":\"\"}},\"type\":\"scattergeo\"}],\"scattergl\":[{\"marker\":{\"colorbar\":{\"outlinewidth\":0,\"ticks\":\"\"}},\"type\":\"scattergl\"}],\"scattermapbox\":[{\"marker\":{\"colorbar\":{\"outlinewidth\":0,\"ticks\":\"\"}},\"type\":\"scattermapbox\"}],\"scatterpolar\":[{\"marker\":{\"colorbar\":{\"outlinewidth\":0,\"ticks\":\"\"}},\"type\":\"scatterpolar\"}],\"scatterpolargl\":[{\"marker\":{\"colorbar\":{\"outlinewidth\":0,\"ticks\":\"\"}},\"type\":\"scatterpolargl\"}],\"scatterternary\":[{\"marker\":{\"colorbar\":{\"outlinewidth\":0,\"ticks\":\"\"}},\"type\":\"scatterternary\"}],\"surface\":[{\"colorbar\":{\"outlinewidth\":0,\"ticks\":\"\"},\"colorscale\":[[0.0,\"#0d0887\"],[0.1111111111111111,\"#46039f\"],[0.2222222222222222,\"#7201a8\"],[0.3333333333333333,\"#9c179e\"],[0.4444444444444444,\"#bd3786\"],[0.5555555555555556,\"#d8576b\"],[0.6666666666666666,\"#ed7953\"],[0.7777777777777778,\"#fb9f3a\"],[0.8888888888888888,\"#fdca26\"],[1.0,\"#f0f921\"]],\"type\":\"surface\"}],\"table\":[{\"cells\":{\"fill\":{\"color\":\"#EBF0F8\"},\"line\":{\"color\":\"white\"}},\"header\":{\"fill\":{\"color\":\"#C8D4E3\"},\"line\":{\"color\":\"white\"}},\"type\":\"table\"}]},\"layout\":{\"annotationdefaults\":{\"arrowcolor\":\"#2a3f5f\",\"arrowhead\":0,\"arrowwidth\":1},\"autotypenumbers\":\"strict\",\"coloraxis\":{\"colorbar\":{\"outlinewidth\":0,\"ticks\":\"\"}},\"colorscale\":{\"diverging\":[[0,\"#8e0152\"],[0.1,\"#c51b7d\"],[0.2,\"#de77ae\"],[0.3,\"#f1b6da\"],[0.4,\"#fde0ef\"],[0.5,\"#f7f7f7\"],[0.6,\"#e6f5d0\"],[0.7,\"#b8e186\"],[0.8,\"#7fbc41\"],[0.9,\"#4d9221\"],[1,\"#276419\"]],\"sequential\":[[0.0,\"#0d0887\"],[0.1111111111111111,\"#46039f\"],[0.2222222222222222,\"#7201a8\"],[0.3333333333333333,\"#9c179e\"],[0.4444444444444444,\"#bd3786\"],[0.5555555555555556,\"#d8576b\"],[0.6666666666666666,\"#ed7953\"],[0.7777777777777778,\"#fb9f3a\"],[0.8888888888888888,\"#fdca26\"],[1.0,\"#f0f921\"]],\"sequentialminus\":[[0.0,\"#0d0887\"],[0.1111111111111111,\"#46039f\"],[0.2222222222222222,\"#7201a8\"],[0.3333333333333333,\"#9c179e\"],[0.4444444444444444,\"#bd3786\"],[0.5555555555555556,\"#d8576b\"],[0.6666666666666666,\"#ed7953\"],[0.7777777777777778,\"#fb9f3a\"],[0.8888888888888888,\"#fdca26\"],[1.0,\"#f0f921\"]]},\"colorway\":[\"#636efa\",\"#EF553B\",\"#00cc96\",\"#ab63fa\",\"#FFA15A\",\"#19d3f3\",\"#FF6692\",\"#B6E880\",\"#FF97FF\",\"#FECB52\"],\"font\":{\"color\":\"#2a3f5f\"},\"geo\":{\"bgcolor\":\"white\",\"lakecolor\":\"white\",\"landcolor\":\"#E5ECF6\",\"showlakes\":true,\"showland\":true,\"subunitcolor\":\"white\"},\"hoverlabel\":{\"align\":\"left\"},\"hovermode\":\"closest\",\"mapbox\":{\"style\":\"light\"},\"paper_bgcolor\":\"white\",\"plot_bgcolor\":\"#E5ECF6\",\"polar\":{\"angularaxis\":{\"gridcolor\":\"white\",\"linecolor\":\"white\",\"ticks\":\"\"},\"bgcolor\":\"#E5ECF6\",\"radialaxis\":{\"gridcolor\":\"white\",\"linecolor\":\"white\",\"ticks\":\"\"}},\"scene\":{\"xaxis\":{\"backgroundcolor\":\"#E5ECF6\",\"gridcolor\":\"white\",\"gridwidth\":2,\"linecolor\":\"white\",\"showbackground\":true,\"ticks\":\"\",\"zerolinecolor\":\"white\"},\"yaxis\":{\"backgroundcolor\":\"#E5ECF6\",\"gridcolor\":\"white\",\"gridwidth\":2,\"linecolor\":\"white\",\"showbackground\":true,\"ticks\":\"\",\"zerolinecolor\":\"white\"},\"zaxis\":{\"backgroundcolor\":\"#E5ECF6\",\"gridcolor\":\"white\",\"gridwidth\":2,\"linecolor\":\"white\",\"showbackground\":true,\"ticks\":\"\",\"zerolinecolor\":\"white\"}},\"shapedefaults\":{\"line\":{\"color\":\"#2a3f5f\"}},\"ternary\":{\"aaxis\":{\"gridcolor\":\"white\",\"linecolor\":\"white\",\"ticks\":\"\"},\"baxis\":{\"gridcolor\":\"white\",\"linecolor\":\"white\",\"ticks\":\"\"},\"bgcolor\":\"#E5ECF6\",\"caxis\":{\"gridcolor\":\"white\",\"linecolor\":\"white\",\"ticks\":\"\"}},\"title\":{\"x\":0.05},\"xaxis\":{\"automargin\":true,\"gridcolor\":\"white\",\"linecolor\":\"white\",\"ticks\":\"\",\"title\":{\"standoff\":15},\"zerolinecolor\":\"white\",\"zerolinewidth\":2},\"yaxis\":{\"automargin\":true,\"gridcolor\":\"white\",\"linecolor\":\"white\",\"ticks\":\"\",\"title\":{\"standoff\":15},\"zerolinecolor\":\"white\",\"zerolinewidth\":2}}},\"shapes\":[{\"layer\":\"below\",\"line\":{\"color\":\"#DD4040\",\"dash\":\"dash\",\"width\":1},\"type\":\"line\",\"x0\":0,\"x1\":1,\"xref\":\"x domain\",\"y0\":0.7649438592270994,\"y1\":0.7649438592270994,\"yref\":\"y\"},{\"layer\":\"below\",\"line\":{\"color\":\"#DD4040\",\"dash\":\"dash\",\"width\":1},\"type\":\"line\",\"x0\":0,\"x1\":1,\"xref\":\"x domain\",\"y0\":0.741253919065521,\"y1\":0.741253919065521,\"yref\":\"y\"},{\"fillcolor\":\"#DD4040\",\"layer\":\"below\",\"line\":{\"width\":0},\"opacity\":0.2,\"type\":\"rect\",\"x0\":\"2020-11-01T22:04:59\",\"x1\":\"2020-11-14T03:55:33\",\"xref\":\"x\",\"y0\":0,\"y1\":1,\"yref\":\"y domain\"},{\"fillcolor\":\"#DD4040\",\"layer\":\"below\",\"line\":{\"width\":0},\"opacity\":0.2,\"type\":\"rect\",\"x0\":\"2020-11-14T03:55:49\",\"x1\":\"2020-11-26T09:19:06\",\"xref\":\"x\",\"y0\":0,\"y1\":1,\"yref\":\"y domain\"},{\"fillcolor\":\"#DD4040\",\"layer\":\"below\",\"line\":{\"width\":0},\"opacity\":0.2,\"type\":\"rect\",\"x0\":\"2020-11-26T09:19:22\",\"x1\":\"2020-12-08T14:33:56\",\"xref\":\"x\",\"y0\":0,\"y1\":1,\"yref\":\"y domain\"},{\"fillcolor\":\"#DD4040\",\"layer\":\"below\",\"line\":{\"width\":0},\"opacity\":0.2,\"type\":\"rect\",\"x0\":\"2020-12-08T14:34:25\",\"x1\":\"2020-12-20T18:30:30\",\"xref\":\"x\",\"y0\":0,\"y1\":1,\"yref\":\"y domain\"},{\"fillcolor\":\"#DD4040\",\"layer\":\"below\",\"line\":{\"width\":0},\"opacity\":0.2,\"type\":\"rect\",\"x0\":\"2020-12-20T18:31:09\",\"x1\":\"2021-01-01T22:57:55\",\"xref\":\"x\",\"y0\":0,\"y1\":1,\"yref\":\"y domain\"}],\"annotations\":[{\"font\":{\"color\":\"#DD4040\"},\"showarrow\":false,\"text\":\"0.76\",\"x\":1,\"xanchor\":\"right\",\"xref\":\"x domain\",\"y\":0.7649438592270994,\"yanchor\":\"bottom\",\"yref\":\"y\"},{\"font\":{\"color\":\"#DD4040\"},\"showarrow\":false,\"text\":\"0.74\",\"x\":1,\"xanchor\":\"right\",\"xref\":\"x domain\",\"y\":0.741253919065521,\"yanchor\":\"bottom\",\"yref\":\"y\"}]},                        {\"responsive\": true}                    ).then(function(){\n",
       "                            \n",
       "var gd = document.getElementById('e6cb697a-6fae-4ce9-a789-5b773d29a38a');\n",
       "var x = new MutationObserver(function (mutations, observer) {{\n",
       "        var display = window.getComputedStyle(gd).display;\n",
       "        if (!display || display === 'none') {{\n",
       "            console.log([gd, 'removed!']);\n",
       "            Plotly.purge(gd);\n",
       "            observer.disconnect();\n",
       "        }}\n",
       "}});\n",
       "\n",
       "// Listen for the removal of the full notebook cells\n",
       "var notebookContainer = gd.closest('#notebook-container');\n",
       "if (notebookContainer) {{\n",
       "    x.observe(notebookContainer, {childList: true});\n",
       "}}\n",
       "\n",
       "// Listen for the clearing of the current output cell\n",
       "var outputEl = gd.closest('.output');\n",
       "if (outputEl) {{\n",
       "    x.observe(outputEl, {childList: true});\n",
       "}}\n",
       "\n",
       "                        })                };                });            </script>        </div>"
      ]
     },
     "metadata": {},
     "output_type": "display_data"
    }
   ],
   "source": [
    "for metric in cbpe.metrics:\n",
    "    est_perf_analysis.plot(kind='performance', metric=metric).show()"
   ]
  },
  {
   "cell_type": "code",
   "execution_count": 13,
   "id": "613369ee",
   "metadata": {},
   "outputs": [],
   "source": [
    "est_perf_with_ref = cbpe.estimate(pd.concat([reference, analysis], ignore_index=True))"
   ]
  },
  {
   "cell_type": "code",
   "execution_count": 15,
   "id": "c3935b2d",
   "metadata": {},
   "outputs": [
    {
     "data": {
      "application/vnd.plotly.v1+json": {
       "config": {
        "plotlyServerURL": "https://plot.ly"
       },
       "data": [
        {
         "hoverinfo": "skip",
         "line": {
          "color": "rgba(0,0,0,0)",
          "shape": "hv"
         },
         "mode": "lines",
         "showlegend": false,
         "type": "scatter",
         "x": [
          "2020-09-01T03:10:01",
          "2020-09-13T16:15:32",
          "2020-09-25T19:50:04",
          "2020-10-08T02:57:34",
          "2020-10-20T15:49:06",
          "2020-11-01T22:04:59",
          "2020-11-14T03:55:49",
          "2020-11-26T09:19:22",
          "2020-12-08T14:34:25",
          "2020-12-20T18:31:09",
          "2021-01-01T22:57:55"
         ],
         "y": [
          0.9100375398555589,
          0.9128990704703352,
          0.9130281191498286,
          0.912057933875222,
          0.9103245011989631,
          0.8209460011196681,
          0.8217654257592911,
          0.8206088626557924,
          0.8208810774848387,
          0.8230917621969486,
          0.8230917621969486
         ]
        },
        {
         "fill": "tonexty",
         "fillcolor": "rgba(0.23137254901960785, 0.00784313725490196, 0.5019607843137255, 0.2)",
         "hoverinfo": "skip",
         "line": {
          "color": "rgba(0,0,0,0)",
          "shape": "hv"
         },
         "mode": "lines",
         "showlegend": false,
         "type": "scatter",
         "x": [
          "2020-09-01T03:10:01",
          "2020-09-13T16:15:32",
          "2020-09-25T19:50:04",
          "2020-10-08T02:57:34",
          "2020-10-20T15:49:06",
          "2020-11-01T22:04:59",
          "2020-11-14T03:55:49",
          "2020-11-26T09:19:22",
          "2020-12-08T14:34:25",
          "2020-12-20T18:31:09",
          "2021-01-01T22:57:55"
         ],
         "y": [
          0.9083826217041706,
          0.911244152318947,
          0.9113732009984403,
          0.9104030157238338,
          0.9086695830475748,
          0.8192910829682798,
          0.8201105076079028,
          0.8189539445044041,
          0.8192261593334504,
          0.8214368440455603,
          0.8214368440455603
         ]
        },
        {
         "hoverinfo": "skip",
         "legendgroup": "1",
         "line": {
          "color": "#00c8e5",
          "shape": "hv",
          "width": 2
         },
         "mode": "lines",
         "name": "Reference period",
         "type": "scatter",
         "x": [
          "2020-05-02T02:01:30",
          "2020-05-14T12:29:25",
          "2020-05-26T18:31:06",
          "2020-06-07T19:58:39",
          "2020-06-19T19:44:14",
          "2020-07-02T02:06:56",
          "2020-07-14T08:14:08",
          "2020-07-26T12:57:37",
          "2020-08-07T16:33:44",
          "2020-08-20T00:07:58",
          "2020-09-01T03:03:23"
         ],
         "y": [
          0.9047604867815185,
          0.9059169458383876,
          0.9093288408003372,
          0.906731007520671,
          0.9105774459778013,
          0.9045772973310676,
          0.906673477964433,
          0.9087028273995331,
          0.9050723814398817,
          0.9097489570920305,
          0.9097489570920305
         ]
        },
        {
         "hoverinfo": "skip",
         "legendgroup": "1",
         "line": {
          "color": "#3b0280",
          "dash": "dot",
          "shape": "hv",
          "width": 2
         },
         "mode": "lines",
         "name": "Analysis period",
         "type": "scatter",
         "x": [
          "2020-09-01T03:10:01",
          "2020-09-13T16:15:32",
          "2020-09-25T19:50:04",
          "2020-10-08T02:57:34",
          "2020-10-20T15:49:06",
          "2020-11-01T22:04:59",
          "2020-11-14T03:55:49",
          "2020-11-26T09:19:22",
          "2020-12-08T14:34:25",
          "2020-12-20T18:31:09",
          "2021-01-01T22:57:55"
         ],
         "y": [
          0.9092100807798648,
          0.9120716113946411,
          0.9122006600741345,
          0.9112304747995279,
          0.909497042123269,
          0.8201185420439739,
          0.820937966683597,
          0.8197814035800982,
          0.8200536184091446,
          0.8222643031212544,
          0.8222643031212544
         ]
        },
        {
         "customdata": [
          [
           "[0:5999]",
           "May-02-2020",
           "May-14-2020",
           "0.9048",
           "<b style=\"color:#00c8e5;line-height:60px\">Reference</b>",
           "",
           ""
          ],
          [
           "[6000:11999]",
           "May-14-2020",
           "May-26-2020",
           "0.9059",
           "<b style=\"color:#00c8e5;line-height:60px\">Reference</b>",
           "",
           ""
          ],
          [
           "[12000:17999]",
           "May-26-2020",
           "Jun-07-2020",
           "0.9093",
           "<b style=\"color:#00c8e5;line-height:60px\">Reference</b>",
           "",
           ""
          ],
          [
           "[18000:23999]",
           "Jun-07-2020",
           "Jun-19-2020",
           "0.9067",
           "<b style=\"color:#00c8e5;line-height:60px\">Reference</b>",
           "",
           ""
          ],
          [
           "[24000:29999]",
           "Jun-19-2020",
           "Jul-02-2020",
           "0.9106",
           "<b style=\"color:#00c8e5;line-height:60px\">Reference</b>",
           "",
           ""
          ],
          [
           "[30000:35999]",
           "Jul-02-2020",
           "Jul-14-2020",
           "0.9046",
           "<b style=\"color:#00c8e5;line-height:60px\">Reference</b>",
           "",
           ""
          ],
          [
           "[36000:41999]",
           "Jul-14-2020",
           "Jul-26-2020",
           "0.9067",
           "<b style=\"color:#00c8e5;line-height:60px\">Reference</b>",
           "",
           ""
          ],
          [
           "[42000:47999]",
           "Jul-26-2020",
           "Aug-07-2020",
           "0.9087",
           "<b style=\"color:#00c8e5;line-height:60px\">Reference</b>",
           "",
           ""
          ],
          [
           "[48000:53999]",
           "Aug-07-2020",
           "Aug-20-2020",
           "0.9051",
           "<b style=\"color:#00c8e5;line-height:60px\">Reference</b>",
           "",
           ""
          ],
          [
           "[54000:59999]",
           "Aug-20-2020",
           "Sep-01-2020",
           "0.9097",
           "<b style=\"color:#00c8e5;line-height:60px\">Reference</b>",
           "",
           ""
          ]
         ],
         "hovertemplate": "%{customdata[4]} &nbsp; &nbsp; <span style=\"color:#AD0000\">%{customdata[5]}</span><br>Chunk: <b>%{customdata[0]}</b> &nbsp; &nbsp; From <b>%{customdata[1]}</b> to <b>%{customdata[2]}</b> &nbsp; &nbsp; <br>Estimated ROC AUC: <b>%{customdata[3]}</b>  &nbsp; &nbsp; %{customdata[6]} <extra></extra>",
         "marker": {
          "color": "#00c8e5",
          "size": 6,
          "symbol": "square"
         },
         "mode": "markers",
         "name": "Reference",
         "showlegend": false,
         "type": "scatter",
         "x": [
          "2020-05-08T07:13:32.500000",
          "2020-05-20T15:28:33.500000",
          "2020-06-01T19:13:25.500000",
          "2020-06-13T19:50:29.500000",
          "2020-06-25T22:51:09.500000",
          "2020-07-08T05:10:30",
          "2020-07-20T10:34:55",
          "2020-08-01T14:44:56",
          "2020-08-13T20:19:56",
          "2020-08-26T01:35:40.500000"
         ],
         "y": [
          0.9047604867815185,
          0.9059169458383876,
          0.9093288408003372,
          0.906731007520671,
          0.9105774459778013,
          0.9045772973310676,
          0.906673477964433,
          0.9087028273995331,
          0.9050723814398817,
          0.9097489570920305
         ]
        },
        {
         "customdata": [
          [
           "[60000:65999]",
           "Sep-01-2020",
           "Sep-13-2020",
           "0.9092",
           "<b style=\"color:#3b0280;line-height:60px\">Analysis</b>",
           "",
           ""
          ],
          [
           "[66000:71999]",
           "Sep-13-2020",
           "Sep-25-2020",
           "0.9121",
           "<b style=\"color:#3b0280;line-height:60px\">Analysis</b>",
           "",
           ""
          ],
          [
           "[72000:77999]",
           "Sep-25-2020",
           "Oct-08-2020",
           "0.9122",
           "<b style=\"color:#3b0280;line-height:60px\">Analysis</b>",
           "",
           ""
          ],
          [
           "[78000:83999]",
           "Oct-08-2020",
           "Oct-20-2020",
           "0.9112",
           "<b style=\"color:#3b0280;line-height:60px\">Analysis</b>",
           "",
           ""
          ],
          [
           "[84000:89999]",
           "Oct-20-2020",
           "Nov-01-2020",
           "0.9095",
           "<b style=\"color:#3b0280;line-height:60px\">Analysis</b>",
           "",
           ""
          ]
         ],
         "hovertemplate": "%{customdata[4]} &nbsp; &nbsp; <span style=\"color:#AD0000\">%{customdata[5]}</span><br>Chunk: <b>%{customdata[0]}</b> &nbsp; &nbsp; From <b>%{customdata[1]}</b> to <b>%{customdata[2]}</b> &nbsp; &nbsp; <br>Estimated ROC AUC: <b>%{customdata[3]}</b>  &nbsp; &nbsp; %{customdata[6]} <extra></extra>",
         "marker": {
          "color": "#3b0280",
          "size": 6,
          "symbol": "square"
         },
         "mode": "markers",
         "name": "No change",
         "showlegend": false,
         "type": "scatter",
         "x": [
          "2020-09-07T09:42:35.500000",
          "2020-09-19T18:02:07",
          "2020-10-01T23:21:55.500000",
          "2020-10-14T09:22:56.500000",
          "2020-10-26T18:56:53"
         ],
         "y": [
          0.9092100807798648,
          0.9120716113946411,
          0.9122006600741345,
          0.9112304747995279,
          0.909497042123269
         ]
        },
        {
         "customdata": [
          [
           "[90000:95999]",
           "Nov-01-2020",
           "Nov-14-2020",
           "0.8201",
           "<b style=\"color:#3b0280;line-height:60px\">Analysis</b>",
           "⚠ <b>Drift detected</b>",
           ""
          ],
          [
           "[96000:101999]",
           "Nov-14-2020",
           "Nov-26-2020",
           "0.8209",
           "<b style=\"color:#3b0280;line-height:60px\">Analysis</b>",
           "⚠ <b>Drift detected</b>",
           ""
          ],
          [
           "[102000:107999]",
           "Nov-26-2020",
           "Dec-08-2020",
           "0.8198",
           "<b style=\"color:#3b0280;line-height:60px\">Analysis</b>",
           "⚠ <b>Drift detected</b>",
           ""
          ],
          [
           "[108000:113999]",
           "Dec-08-2020",
           "Dec-20-2020",
           "0.8201",
           "<b style=\"color:#3b0280;line-height:60px\">Analysis</b>",
           "⚠ <b>Drift detected</b>",
           ""
          ],
          [
           "[114000:119999]",
           "Dec-20-2020",
           "Jan-01-2021",
           "0.8223",
           "<b style=\"color:#3b0280;line-height:60px\">Analysis</b>",
           "⚠ <b>Drift detected</b>",
           ""
          ]
         ],
         "hovertemplate": "%{customdata[4]} &nbsp; &nbsp; <span style=\"color:#AD0000\">%{customdata[5]}</span><br>Chunk: <b>%{customdata[0]}</b> &nbsp; &nbsp; From <b>%{customdata[1]}</b> to <b>%{customdata[2]}</b> &nbsp; &nbsp; <br>Estimated ROC AUC: <b>%{customdata[3]}</b>  &nbsp; &nbsp; %{customdata[6]} <extra></extra>",
         "marker": {
          "color": "#DD4040",
          "size": 6,
          "symbol": "diamond"
         },
         "mode": "markers",
         "name": "Change",
         "showlegend": false,
         "type": "scatter",
         "x": [
          "2020-11-08T01:00:16",
          "2020-11-20T06:37:27.500000",
          "2020-12-02T11:56:39",
          "2020-12-14T16:32:27.500000",
          "2020-12-26T20:44:32"
         ],
         "y": [
          0.8201185420439739,
          0.820937966683597,
          0.8197814035800982,
          0.8200536184091446,
          0.8222643031212544
         ]
        },
        {
         "line": {
          "color": "rgba(0,0,0,0)"
         },
         "mode": "lines",
         "showlegend": false,
         "type": "scatter",
         "x": [
          [
           1588922012500000000
          ],
          [
           1609015472000000000
          ]
         ],
         "y": [
          null,
          null
         ]
        },
        {
         "fill": "tonexty",
         "fillcolor": "rgba(0.23137254901960785, 0.00784313725490196, 0.5019607843137255, 0.2)",
         "legendgroup": "1",
         "line": {
          "color": "rgba(0,0,0,0)"
         },
         "mode": "lines",
         "name": "Confidence band",
         "type": "scatter",
         "x": [
          [
           1588922012500000000
          ],
          [
           1609015472000000000
          ]
         ],
         "y": [
          null,
          null
         ]
        },
        {
         "legendgroup": "1",
         "line": {
          "color": "#DD4040",
          "dash": "dash",
          "width": 1
         },
         "mode": "lines",
         "name": "Performance threshold",
         "type": "scatter",
         "x": [
          [
           1588922012500000000
          ],
          [
           1609015472000000000
          ]
         ],
         "y": [
          null,
          null
         ]
        },
        {
         "line": {
          "color": "rgba(0,0,0,0)"
         },
         "mode": "lines",
         "showlegend": false,
         "type": "scatter",
         "x": [
          [
           1588922012500000000
          ],
          [
           1609015472000000000
          ]
         ],
         "y": [
          null,
          null
         ]
        },
        {
         "fill": "tonexty",
         "fillcolor": "rgba(0.8666666666666667, 0.25098039215686274, 0.25098039215686274, 0.2)",
         "legendgroup": "1",
         "line": {
          "color": "rgba(0,0,0,0)"
         },
         "marker": {
          "color": "#DD4040",
          "size": 6,
          "symbol": "diamond"
         },
         "mode": "lines+markers",
         "name": "Degraded performance",
         "type": "scatter",
         "x": [
          [
           1588922012500000000
          ],
          [
           1609015472000000000
          ]
         ],
         "y": [
          null,
          null
         ]
        }
       ],
       "layout": {
        "annotations": [
         {
          "font": {
           "color": "#DD4040"
          },
          "showarrow": false,
          "text": "0.91",
          "x": 1,
          "xanchor": "right",
          "xref": "x domain",
          "y": 0.9135156728918074,
          "yanchor": "bottom",
          "yref": "y"
         },
         {
          "font": {
           "color": "#DD4040"
          },
          "showarrow": false,
          "text": "0.90",
          "x": 1,
          "xanchor": "right",
          "xref": "x domain",
          "y": 0.900902260737325,
          "yanchor": "bottom",
          "yref": "y"
         }
        ],
        "hoverlabel": {
         "bgcolor": "white",
         "font": {
          "size": 14
         }
        },
        "legend": {
         "itemclick": false,
         "itemdoubleclick": false,
         "orientation": "h",
         "traceorder": "normal",
         "x": 0,
         "xanchor": "left",
         "y": -0.25,
         "yanchor": "top"
        },
        "paper_bgcolor": "rgba(255,255,255,1)",
        "plot_bgcolor": "rgba(255,255,255,1)",
        "shapes": [
         {
          "layer": "below",
          "line": {
           "color": "#DD4040",
           "dash": "dash",
           "width": 1
          },
          "type": "line",
          "x0": 0,
          "x1": 1,
          "xref": "x domain",
          "y0": 0.9135156728918074,
          "y1": 0.9135156728918074,
          "yref": "y"
         },
         {
          "layer": "below",
          "line": {
           "color": "#DD4040",
           "dash": "dash",
           "width": 1
          },
          "type": "line",
          "x0": 0,
          "x1": 1,
          "xref": "x domain",
          "y0": 0.900902260737325,
          "y1": 0.900902260737325,
          "yref": "y"
         },
         {
          "layer": "below",
          "line": {
           "color": "#3b0280",
           "dash": "dash",
           "width": 1
          },
          "type": "line",
          "x0": "2020-09-01T03:10:01",
          "x1": "2020-09-01T03:10:01",
          "xref": "x",
          "y0": 0,
          "y1": 1,
          "yref": "y domain"
         },
         {
          "fillcolor": "#DD4040",
          "layer": "below",
          "line": {
           "width": 0
          },
          "opacity": 0.2,
          "type": "rect",
          "x0": "2020-11-01T22:04:59",
          "x1": "2020-11-14T03:55:33",
          "xref": "x",
          "y0": 0,
          "y1": 1,
          "yref": "y domain"
         },
         {
          "fillcolor": "#DD4040",
          "layer": "below",
          "line": {
           "width": 0
          },
          "opacity": 0.2,
          "type": "rect",
          "x0": "2020-11-14T03:55:49",
          "x1": "2020-11-26T09:19:06",
          "xref": "x",
          "y0": 0,
          "y1": 1,
          "yref": "y domain"
         },
         {
          "fillcolor": "#DD4040",
          "layer": "below",
          "line": {
           "width": 0
          },
          "opacity": 0.2,
          "type": "rect",
          "x0": "2020-11-26T09:19:22",
          "x1": "2020-12-08T14:33:56",
          "xref": "x",
          "y0": 0,
          "y1": 1,
          "yref": "y domain"
         },
         {
          "fillcolor": "#DD4040",
          "layer": "below",
          "line": {
           "width": 0
          },
          "opacity": 0.2,
          "type": "rect",
          "x0": "2020-12-08T14:34:25",
          "x1": "2020-12-20T18:30:30",
          "xref": "x",
          "y0": 0,
          "y1": 1,
          "yref": "y domain"
         },
         {
          "fillcolor": "#DD4040",
          "layer": "below",
          "line": {
           "width": 0
          },
          "opacity": 0.2,
          "type": "rect",
          "x0": "2020-12-20T18:31:09",
          "x1": "2021-01-01T22:57:55",
          "xref": "x",
          "y0": 0,
          "y1": 1,
          "yref": "y domain"
         }
        ],
        "template": {
         "data": {
          "bar": [
           {
            "error_x": {
             "color": "#2a3f5f"
            },
            "error_y": {
             "color": "#2a3f5f"
            },
            "marker": {
             "line": {
              "color": "#E5ECF6",
              "width": 0.5
             },
             "pattern": {
              "fillmode": "overlay",
              "size": 10,
              "solidity": 0.2
             }
            },
            "type": "bar"
           }
          ],
          "barpolar": [
           {
            "marker": {
             "line": {
              "color": "#E5ECF6",
              "width": 0.5
             },
             "pattern": {
              "fillmode": "overlay",
              "size": 10,
              "solidity": 0.2
             }
            },
            "type": "barpolar"
           }
          ],
          "carpet": [
           {
            "aaxis": {
             "endlinecolor": "#2a3f5f",
             "gridcolor": "white",
             "linecolor": "white",
             "minorgridcolor": "white",
             "startlinecolor": "#2a3f5f"
            },
            "baxis": {
             "endlinecolor": "#2a3f5f",
             "gridcolor": "white",
             "linecolor": "white",
             "minorgridcolor": "white",
             "startlinecolor": "#2a3f5f"
            },
            "type": "carpet"
           }
          ],
          "choropleth": [
           {
            "colorbar": {
             "outlinewidth": 0,
             "ticks": ""
            },
            "type": "choropleth"
           }
          ],
          "contour": [
           {
            "colorbar": {
             "outlinewidth": 0,
             "ticks": ""
            },
            "colorscale": [
             [
              0,
              "#0d0887"
             ],
             [
              0.1111111111111111,
              "#46039f"
             ],
             [
              0.2222222222222222,
              "#7201a8"
             ],
             [
              0.3333333333333333,
              "#9c179e"
             ],
             [
              0.4444444444444444,
              "#bd3786"
             ],
             [
              0.5555555555555556,
              "#d8576b"
             ],
             [
              0.6666666666666666,
              "#ed7953"
             ],
             [
              0.7777777777777778,
              "#fb9f3a"
             ],
             [
              0.8888888888888888,
              "#fdca26"
             ],
             [
              1,
              "#f0f921"
             ]
            ],
            "type": "contour"
           }
          ],
          "contourcarpet": [
           {
            "colorbar": {
             "outlinewidth": 0,
             "ticks": ""
            },
            "type": "contourcarpet"
           }
          ],
          "heatmap": [
           {
            "colorbar": {
             "outlinewidth": 0,
             "ticks": ""
            },
            "colorscale": [
             [
              0,
              "#0d0887"
             ],
             [
              0.1111111111111111,
              "#46039f"
             ],
             [
              0.2222222222222222,
              "#7201a8"
             ],
             [
              0.3333333333333333,
              "#9c179e"
             ],
             [
              0.4444444444444444,
              "#bd3786"
             ],
             [
              0.5555555555555556,
              "#d8576b"
             ],
             [
              0.6666666666666666,
              "#ed7953"
             ],
             [
              0.7777777777777778,
              "#fb9f3a"
             ],
             [
              0.8888888888888888,
              "#fdca26"
             ],
             [
              1,
              "#f0f921"
             ]
            ],
            "type": "heatmap"
           }
          ],
          "heatmapgl": [
           {
            "colorbar": {
             "outlinewidth": 0,
             "ticks": ""
            },
            "colorscale": [
             [
              0,
              "#0d0887"
             ],
             [
              0.1111111111111111,
              "#46039f"
             ],
             [
              0.2222222222222222,
              "#7201a8"
             ],
             [
              0.3333333333333333,
              "#9c179e"
             ],
             [
              0.4444444444444444,
              "#bd3786"
             ],
             [
              0.5555555555555556,
              "#d8576b"
             ],
             [
              0.6666666666666666,
              "#ed7953"
             ],
             [
              0.7777777777777778,
              "#fb9f3a"
             ],
             [
              0.8888888888888888,
              "#fdca26"
             ],
             [
              1,
              "#f0f921"
             ]
            ],
            "type": "heatmapgl"
           }
          ],
          "histogram": [
           {
            "marker": {
             "pattern": {
              "fillmode": "overlay",
              "size": 10,
              "solidity": 0.2
             }
            },
            "type": "histogram"
           }
          ],
          "histogram2d": [
           {
            "colorbar": {
             "outlinewidth": 0,
             "ticks": ""
            },
            "colorscale": [
             [
              0,
              "#0d0887"
             ],
             [
              0.1111111111111111,
              "#46039f"
             ],
             [
              0.2222222222222222,
              "#7201a8"
             ],
             [
              0.3333333333333333,
              "#9c179e"
             ],
             [
              0.4444444444444444,
              "#bd3786"
             ],
             [
              0.5555555555555556,
              "#d8576b"
             ],
             [
              0.6666666666666666,
              "#ed7953"
             ],
             [
              0.7777777777777778,
              "#fb9f3a"
             ],
             [
              0.8888888888888888,
              "#fdca26"
             ],
             [
              1,
              "#f0f921"
             ]
            ],
            "type": "histogram2d"
           }
          ],
          "histogram2dcontour": [
           {
            "colorbar": {
             "outlinewidth": 0,
             "ticks": ""
            },
            "colorscale": [
             [
              0,
              "#0d0887"
             ],
             [
              0.1111111111111111,
              "#46039f"
             ],
             [
              0.2222222222222222,
              "#7201a8"
             ],
             [
              0.3333333333333333,
              "#9c179e"
             ],
             [
              0.4444444444444444,
              "#bd3786"
             ],
             [
              0.5555555555555556,
              "#d8576b"
             ],
             [
              0.6666666666666666,
              "#ed7953"
             ],
             [
              0.7777777777777778,
              "#fb9f3a"
             ],
             [
              0.8888888888888888,
              "#fdca26"
             ],
             [
              1,
              "#f0f921"
             ]
            ],
            "type": "histogram2dcontour"
           }
          ],
          "mesh3d": [
           {
            "colorbar": {
             "outlinewidth": 0,
             "ticks": ""
            },
            "type": "mesh3d"
           }
          ],
          "parcoords": [
           {
            "line": {
             "colorbar": {
              "outlinewidth": 0,
              "ticks": ""
             }
            },
            "type": "parcoords"
           }
          ],
          "pie": [
           {
            "automargin": true,
            "type": "pie"
           }
          ],
          "scatter": [
           {
            "marker": {
             "colorbar": {
              "outlinewidth": 0,
              "ticks": ""
             }
            },
            "type": "scatter"
           }
          ],
          "scatter3d": [
           {
            "line": {
             "colorbar": {
              "outlinewidth": 0,
              "ticks": ""
             }
            },
            "marker": {
             "colorbar": {
              "outlinewidth": 0,
              "ticks": ""
             }
            },
            "type": "scatter3d"
           }
          ],
          "scattercarpet": [
           {
            "marker": {
             "colorbar": {
              "outlinewidth": 0,
              "ticks": ""
             }
            },
            "type": "scattercarpet"
           }
          ],
          "scattergeo": [
           {
            "marker": {
             "colorbar": {
              "outlinewidth": 0,
              "ticks": ""
             }
            },
            "type": "scattergeo"
           }
          ],
          "scattergl": [
           {
            "marker": {
             "colorbar": {
              "outlinewidth": 0,
              "ticks": ""
             }
            },
            "type": "scattergl"
           }
          ],
          "scattermapbox": [
           {
            "marker": {
             "colorbar": {
              "outlinewidth": 0,
              "ticks": ""
             }
            },
            "type": "scattermapbox"
           }
          ],
          "scatterpolar": [
           {
            "marker": {
             "colorbar": {
              "outlinewidth": 0,
              "ticks": ""
             }
            },
            "type": "scatterpolar"
           }
          ],
          "scatterpolargl": [
           {
            "marker": {
             "colorbar": {
              "outlinewidth": 0,
              "ticks": ""
             }
            },
            "type": "scatterpolargl"
           }
          ],
          "scatterternary": [
           {
            "marker": {
             "colorbar": {
              "outlinewidth": 0,
              "ticks": ""
             }
            },
            "type": "scatterternary"
           }
          ],
          "surface": [
           {
            "colorbar": {
             "outlinewidth": 0,
             "ticks": ""
            },
            "colorscale": [
             [
              0,
              "#0d0887"
             ],
             [
              0.1111111111111111,
              "#46039f"
             ],
             [
              0.2222222222222222,
              "#7201a8"
             ],
             [
              0.3333333333333333,
              "#9c179e"
             ],
             [
              0.4444444444444444,
              "#bd3786"
             ],
             [
              0.5555555555555556,
              "#d8576b"
             ],
             [
              0.6666666666666666,
              "#ed7953"
             ],
             [
              0.7777777777777778,
              "#fb9f3a"
             ],
             [
              0.8888888888888888,
              "#fdca26"
             ],
             [
              1,
              "#f0f921"
             ]
            ],
            "type": "surface"
           }
          ],
          "table": [
           {
            "cells": {
             "fill": {
              "color": "#EBF0F8"
             },
             "line": {
              "color": "white"
             }
            },
            "header": {
             "fill": {
              "color": "#C8D4E3"
             },
             "line": {
              "color": "white"
             }
            },
            "type": "table"
           }
          ]
         },
         "layout": {
          "annotationdefaults": {
           "arrowcolor": "#2a3f5f",
           "arrowhead": 0,
           "arrowwidth": 1
          },
          "autotypenumbers": "strict",
          "coloraxis": {
           "colorbar": {
            "outlinewidth": 0,
            "ticks": ""
           }
          },
          "colorscale": {
           "diverging": [
            [
             0,
             "#8e0152"
            ],
            [
             0.1,
             "#c51b7d"
            ],
            [
             0.2,
             "#de77ae"
            ],
            [
             0.3,
             "#f1b6da"
            ],
            [
             0.4,
             "#fde0ef"
            ],
            [
             0.5,
             "#f7f7f7"
            ],
            [
             0.6,
             "#e6f5d0"
            ],
            [
             0.7,
             "#b8e186"
            ],
            [
             0.8,
             "#7fbc41"
            ],
            [
             0.9,
             "#4d9221"
            ],
            [
             1,
             "#276419"
            ]
           ],
           "sequential": [
            [
             0,
             "#0d0887"
            ],
            [
             0.1111111111111111,
             "#46039f"
            ],
            [
             0.2222222222222222,
             "#7201a8"
            ],
            [
             0.3333333333333333,
             "#9c179e"
            ],
            [
             0.4444444444444444,
             "#bd3786"
            ],
            [
             0.5555555555555556,
             "#d8576b"
            ],
            [
             0.6666666666666666,
             "#ed7953"
            ],
            [
             0.7777777777777778,
             "#fb9f3a"
            ],
            [
             0.8888888888888888,
             "#fdca26"
            ],
            [
             1,
             "#f0f921"
            ]
           ],
           "sequentialminus": [
            [
             0,
             "#0d0887"
            ],
            [
             0.1111111111111111,
             "#46039f"
            ],
            [
             0.2222222222222222,
             "#7201a8"
            ],
            [
             0.3333333333333333,
             "#9c179e"
            ],
            [
             0.4444444444444444,
             "#bd3786"
            ],
            [
             0.5555555555555556,
             "#d8576b"
            ],
            [
             0.6666666666666666,
             "#ed7953"
            ],
            [
             0.7777777777777778,
             "#fb9f3a"
            ],
            [
             0.8888888888888888,
             "#fdca26"
            ],
            [
             1,
             "#f0f921"
            ]
           ]
          },
          "colorway": [
           "#636efa",
           "#EF553B",
           "#00cc96",
           "#ab63fa",
           "#FFA15A",
           "#19d3f3",
           "#FF6692",
           "#B6E880",
           "#FF97FF",
           "#FECB52"
          ],
          "font": {
           "color": "#2a3f5f"
          },
          "geo": {
           "bgcolor": "white",
           "lakecolor": "white",
           "landcolor": "#E5ECF6",
           "showlakes": true,
           "showland": true,
           "subunitcolor": "white"
          },
          "hoverlabel": {
           "align": "left"
          },
          "hovermode": "closest",
          "mapbox": {
           "style": "light"
          },
          "paper_bgcolor": "white",
          "plot_bgcolor": "#E5ECF6",
          "polar": {
           "angularaxis": {
            "gridcolor": "white",
            "linecolor": "white",
            "ticks": ""
           },
           "bgcolor": "#E5ECF6",
           "radialaxis": {
            "gridcolor": "white",
            "linecolor": "white",
            "ticks": ""
           }
          },
          "scene": {
           "xaxis": {
            "backgroundcolor": "#E5ECF6",
            "gridcolor": "white",
            "gridwidth": 2,
            "linecolor": "white",
            "showbackground": true,
            "ticks": "",
            "zerolinecolor": "white"
           },
           "yaxis": {
            "backgroundcolor": "#E5ECF6",
            "gridcolor": "white",
            "gridwidth": 2,
            "linecolor": "white",
            "showbackground": true,
            "ticks": "",
            "zerolinecolor": "white"
           },
           "zaxis": {
            "backgroundcolor": "#E5ECF6",
            "gridcolor": "white",
            "gridwidth": 2,
            "linecolor": "white",
            "showbackground": true,
            "ticks": "",
            "zerolinecolor": "white"
           }
          },
          "shapedefaults": {
           "line": {
            "color": "#2a3f5f"
           }
          },
          "ternary": {
           "aaxis": {
            "gridcolor": "white",
            "linecolor": "white",
            "ticks": ""
           },
           "baxis": {
            "gridcolor": "white",
            "linecolor": "white",
            "ticks": ""
           },
           "bgcolor": "#E5ECF6",
           "caxis": {
            "gridcolor": "white",
            "linecolor": "white",
            "ticks": ""
           }
          },
          "title": {
           "x": 0.05
          },
          "xaxis": {
           "automargin": true,
           "gridcolor": "white",
           "linecolor": "white",
           "ticks": "",
           "title": {
            "standoff": 15
           },
           "zerolinecolor": "white",
           "zerolinewidth": 2
          },
          "yaxis": {
           "automargin": true,
           "gridcolor": "white",
           "linecolor": "white",
           "ticks": "",
           "title": {
            "standoff": 15
           },
           "zerolinecolor": "white",
           "zerolinewidth": 2
          }
         }
        },
        "title": {
         "text": "CBPE - Estimated roc_auc"
        },
        "xaxis": {
         "linecolor": "#666666",
         "mirror": true,
         "showgrid": false,
         "title": {
          "text": "Time"
         },
         "zeroline": false
        },
        "yaxis": {
         "linecolor": "#666666",
         "mirror": true,
         "showgrid": false,
         "title": {
          "text": "Estimated roc_auc"
         },
         "zeroline": false
        }
       }
      },
      "text/html": [
       "<div>                            <div id=\"4fe3d86e-609c-49a4-81f9-b002048c42c9\" class=\"plotly-graph-div\" style=\"height:525px; width:100%;\"></div>            <script type=\"text/javascript\">                require([\"plotly\"], function(Plotly) {                    window.PLOTLYENV=window.PLOTLYENV || {};                                    if (document.getElementById(\"4fe3d86e-609c-49a4-81f9-b002048c42c9\")) {                    Plotly.newPlot(                        \"4fe3d86e-609c-49a4-81f9-b002048c42c9\",                        [{\"hoverinfo\":\"skip\",\"line\":{\"color\":\"rgba(0,0,0,0)\",\"shape\":\"hv\"},\"mode\":\"lines\",\"showlegend\":false,\"x\":[\"2020-09-01T03:10:01\",\"2020-09-13T16:15:32\",\"2020-09-25T19:50:04\",\"2020-10-08T02:57:34\",\"2020-10-20T15:49:06\",\"2020-11-01T22:04:59\",\"2020-11-14T03:55:49\",\"2020-11-26T09:19:22\",\"2020-12-08T14:34:25\",\"2020-12-20T18:31:09\",\"2021-01-01T22:57:55\"],\"y\":[0.9100375398555589,0.9128990704703352,0.9130281191498286,0.912057933875222,0.9103245011989631,0.8209460011196681,0.8217654257592911,0.8206088626557924,0.8208810774848387,0.8230917621969486,0.8230917621969486],\"type\":\"scatter\"},{\"fill\":\"tonexty\",\"fillcolor\":\"rgba(0.23137254901960785, 0.00784313725490196, 0.5019607843137255, 0.2)\",\"hoverinfo\":\"skip\",\"line\":{\"color\":\"rgba(0,0,0,0)\",\"shape\":\"hv\"},\"mode\":\"lines\",\"showlegend\":false,\"x\":[\"2020-09-01T03:10:01\",\"2020-09-13T16:15:32\",\"2020-09-25T19:50:04\",\"2020-10-08T02:57:34\",\"2020-10-20T15:49:06\",\"2020-11-01T22:04:59\",\"2020-11-14T03:55:49\",\"2020-11-26T09:19:22\",\"2020-12-08T14:34:25\",\"2020-12-20T18:31:09\",\"2021-01-01T22:57:55\"],\"y\":[0.9083826217041706,0.911244152318947,0.9113732009984403,0.9104030157238338,0.9086695830475748,0.8192910829682798,0.8201105076079028,0.8189539445044041,0.8192261593334504,0.8214368440455603,0.8214368440455603],\"type\":\"scatter\"},{\"hoverinfo\":\"skip\",\"legendgroup\":\"1\",\"line\":{\"color\":\"#00c8e5\",\"shape\":\"hv\",\"width\":2},\"mode\":\"lines\",\"name\":\"Reference period\",\"x\":[\"2020-05-02T02:01:30\",\"2020-05-14T12:29:25\",\"2020-05-26T18:31:06\",\"2020-06-07T19:58:39\",\"2020-06-19T19:44:14\",\"2020-07-02T02:06:56\",\"2020-07-14T08:14:08\",\"2020-07-26T12:57:37\",\"2020-08-07T16:33:44\",\"2020-08-20T00:07:58\",\"2020-09-01T03:03:23\"],\"y\":[0.9047604867815185,0.9059169458383876,0.9093288408003372,0.906731007520671,0.9105774459778013,0.9045772973310676,0.906673477964433,0.9087028273995331,0.9050723814398817,0.9097489570920305,0.9097489570920305],\"type\":\"scatter\"},{\"hoverinfo\":\"skip\",\"legendgroup\":\"1\",\"line\":{\"color\":\"#3b0280\",\"dash\":\"dot\",\"shape\":\"hv\",\"width\":2},\"mode\":\"lines\",\"name\":\"Analysis period\",\"x\":[\"2020-09-01T03:10:01\",\"2020-09-13T16:15:32\",\"2020-09-25T19:50:04\",\"2020-10-08T02:57:34\",\"2020-10-20T15:49:06\",\"2020-11-01T22:04:59\",\"2020-11-14T03:55:49\",\"2020-11-26T09:19:22\",\"2020-12-08T14:34:25\",\"2020-12-20T18:31:09\",\"2021-01-01T22:57:55\"],\"y\":[0.9092100807798648,0.9120716113946411,0.9122006600741345,0.9112304747995279,0.909497042123269,0.8201185420439739,0.820937966683597,0.8197814035800982,0.8200536184091446,0.8222643031212544,0.8222643031212544],\"type\":\"scatter\"},{\"customdata\":[[\"[0:5999]\",\"May-02-2020\",\"May-14-2020\",\"0.9048\",\"<b style=\\\"color:#00c8e5;line-height:60px\\\">Reference</b>\",\"\",\"\"],[\"[6000:11999]\",\"May-14-2020\",\"May-26-2020\",\"0.9059\",\"<b style=\\\"color:#00c8e5;line-height:60px\\\">Reference</b>\",\"\",\"\"],[\"[12000:17999]\",\"May-26-2020\",\"Jun-07-2020\",\"0.9093\",\"<b style=\\\"color:#00c8e5;line-height:60px\\\">Reference</b>\",\"\",\"\"],[\"[18000:23999]\",\"Jun-07-2020\",\"Jun-19-2020\",\"0.9067\",\"<b style=\\\"color:#00c8e5;line-height:60px\\\">Reference</b>\",\"\",\"\"],[\"[24000:29999]\",\"Jun-19-2020\",\"Jul-02-2020\",\"0.9106\",\"<b style=\\\"color:#00c8e5;line-height:60px\\\">Reference</b>\",\"\",\"\"],[\"[30000:35999]\",\"Jul-02-2020\",\"Jul-14-2020\",\"0.9046\",\"<b style=\\\"color:#00c8e5;line-height:60px\\\">Reference</b>\",\"\",\"\"],[\"[36000:41999]\",\"Jul-14-2020\",\"Jul-26-2020\",\"0.9067\",\"<b style=\\\"color:#00c8e5;line-height:60px\\\">Reference</b>\",\"\",\"\"],[\"[42000:47999]\",\"Jul-26-2020\",\"Aug-07-2020\",\"0.9087\",\"<b style=\\\"color:#00c8e5;line-height:60px\\\">Reference</b>\",\"\",\"\"],[\"[48000:53999]\",\"Aug-07-2020\",\"Aug-20-2020\",\"0.9051\",\"<b style=\\\"color:#00c8e5;line-height:60px\\\">Reference</b>\",\"\",\"\"],[\"[54000:59999]\",\"Aug-20-2020\",\"Sep-01-2020\",\"0.9097\",\"<b style=\\\"color:#00c8e5;line-height:60px\\\">Reference</b>\",\"\",\"\"]],\"hovertemplate\":\"%{customdata[4]} &nbsp; &nbsp; <span style=\\\"color:#AD0000\\\">%{customdata[5]}</span><br>Chunk: <b>%{customdata[0]}</b> &nbsp; &nbsp; From <b>%{customdata[1]}</b> to <b>%{customdata[2]}</b> &nbsp; &nbsp; <br>Estimated ROC AUC: <b>%{customdata[3]}</b>  &nbsp; &nbsp; %{customdata[6]} <extra></extra>\",\"marker\":{\"color\":\"#00c8e5\",\"size\":6,\"symbol\":\"square\"},\"mode\":\"markers\",\"name\":\"Reference\",\"showlegend\":false,\"x\":[\"2020-05-08T07:13:32.500000\",\"2020-05-20T15:28:33.500000\",\"2020-06-01T19:13:25.500000\",\"2020-06-13T19:50:29.500000\",\"2020-06-25T22:51:09.500000\",\"2020-07-08T05:10:30\",\"2020-07-20T10:34:55\",\"2020-08-01T14:44:56\",\"2020-08-13T20:19:56\",\"2020-08-26T01:35:40.500000\"],\"y\":[0.9047604867815185,0.9059169458383876,0.9093288408003372,0.906731007520671,0.9105774459778013,0.9045772973310676,0.906673477964433,0.9087028273995331,0.9050723814398817,0.9097489570920305],\"type\":\"scatter\"},{\"customdata\":[[\"[60000:65999]\",\"Sep-01-2020\",\"Sep-13-2020\",\"0.9092\",\"<b style=\\\"color:#3b0280;line-height:60px\\\">Analysis</b>\",\"\",\"\"],[\"[66000:71999]\",\"Sep-13-2020\",\"Sep-25-2020\",\"0.9121\",\"<b style=\\\"color:#3b0280;line-height:60px\\\">Analysis</b>\",\"\",\"\"],[\"[72000:77999]\",\"Sep-25-2020\",\"Oct-08-2020\",\"0.9122\",\"<b style=\\\"color:#3b0280;line-height:60px\\\">Analysis</b>\",\"\",\"\"],[\"[78000:83999]\",\"Oct-08-2020\",\"Oct-20-2020\",\"0.9112\",\"<b style=\\\"color:#3b0280;line-height:60px\\\">Analysis</b>\",\"\",\"\"],[\"[84000:89999]\",\"Oct-20-2020\",\"Nov-01-2020\",\"0.9095\",\"<b style=\\\"color:#3b0280;line-height:60px\\\">Analysis</b>\",\"\",\"\"]],\"hovertemplate\":\"%{customdata[4]} &nbsp; &nbsp; <span style=\\\"color:#AD0000\\\">%{customdata[5]}</span><br>Chunk: <b>%{customdata[0]}</b> &nbsp; &nbsp; From <b>%{customdata[1]}</b> to <b>%{customdata[2]}</b> &nbsp; &nbsp; <br>Estimated ROC AUC: <b>%{customdata[3]}</b>  &nbsp; &nbsp; %{customdata[6]} <extra></extra>\",\"marker\":{\"color\":\"#3b0280\",\"size\":6,\"symbol\":\"square\"},\"mode\":\"markers\",\"name\":\"No change\",\"showlegend\":false,\"x\":[\"2020-09-07T09:42:35.500000\",\"2020-09-19T18:02:07\",\"2020-10-01T23:21:55.500000\",\"2020-10-14T09:22:56.500000\",\"2020-10-26T18:56:53\"],\"y\":[0.9092100807798648,0.9120716113946411,0.9122006600741345,0.9112304747995279,0.909497042123269],\"type\":\"scatter\"},{\"customdata\":[[\"[90000:95999]\",\"Nov-01-2020\",\"Nov-14-2020\",\"0.8201\",\"<b style=\\\"color:#3b0280;line-height:60px\\\">Analysis</b>\",\"\\u26a0 <b>Drift detected</b>\",\"\"],[\"[96000:101999]\",\"Nov-14-2020\",\"Nov-26-2020\",\"0.8209\",\"<b style=\\\"color:#3b0280;line-height:60px\\\">Analysis</b>\",\"\\u26a0 <b>Drift detected</b>\",\"\"],[\"[102000:107999]\",\"Nov-26-2020\",\"Dec-08-2020\",\"0.8198\",\"<b style=\\\"color:#3b0280;line-height:60px\\\">Analysis</b>\",\"\\u26a0 <b>Drift detected</b>\",\"\"],[\"[108000:113999]\",\"Dec-08-2020\",\"Dec-20-2020\",\"0.8201\",\"<b style=\\\"color:#3b0280;line-height:60px\\\">Analysis</b>\",\"\\u26a0 <b>Drift detected</b>\",\"\"],[\"[114000:119999]\",\"Dec-20-2020\",\"Jan-01-2021\",\"0.8223\",\"<b style=\\\"color:#3b0280;line-height:60px\\\">Analysis</b>\",\"\\u26a0 <b>Drift detected</b>\",\"\"]],\"hovertemplate\":\"%{customdata[4]} &nbsp; &nbsp; <span style=\\\"color:#AD0000\\\">%{customdata[5]}</span><br>Chunk: <b>%{customdata[0]}</b> &nbsp; &nbsp; From <b>%{customdata[1]}</b> to <b>%{customdata[2]}</b> &nbsp; &nbsp; <br>Estimated ROC AUC: <b>%{customdata[3]}</b>  &nbsp; &nbsp; %{customdata[6]} <extra></extra>\",\"marker\":{\"color\":\"#DD4040\",\"size\":6,\"symbol\":\"diamond\"},\"mode\":\"markers\",\"name\":\"Change\",\"showlegend\":false,\"x\":[\"2020-11-08T01:00:16\",\"2020-11-20T06:37:27.500000\",\"2020-12-02T11:56:39\",\"2020-12-14T16:32:27.500000\",\"2020-12-26T20:44:32\"],\"y\":[0.8201185420439739,0.820937966683597,0.8197814035800982,0.8200536184091446,0.8222643031212544],\"type\":\"scatter\"},{\"line\":{\"color\":\"rgba(0,0,0,0)\"},\"mode\":\"lines\",\"showlegend\":false,\"x\":[[1588922012500000000],[1609015472000000000]],\"y\":[null,null],\"type\":\"scatter\"},{\"fill\":\"tonexty\",\"fillcolor\":\"rgba(0.23137254901960785, 0.00784313725490196, 0.5019607843137255, 0.2)\",\"legendgroup\":\"1\",\"line\":{\"color\":\"rgba(0,0,0,0)\"},\"mode\":\"lines\",\"name\":\"Confidence band\",\"x\":[[1588922012500000000],[1609015472000000000]],\"y\":[null,null],\"type\":\"scatter\"},{\"legendgroup\":\"1\",\"line\":{\"color\":\"#DD4040\",\"dash\":\"dash\",\"width\":1},\"mode\":\"lines\",\"name\":\"Performance threshold\",\"x\":[[1588922012500000000],[1609015472000000000]],\"y\":[null,null],\"type\":\"scatter\"},{\"line\":{\"color\":\"rgba(0,0,0,0)\"},\"mode\":\"lines\",\"showlegend\":false,\"x\":[[1588922012500000000],[1609015472000000000]],\"y\":[null,null],\"type\":\"scatter\"},{\"fill\":\"tonexty\",\"fillcolor\":\"rgba(0.8666666666666667, 0.25098039215686274, 0.25098039215686274, 0.2)\",\"legendgroup\":\"1\",\"line\":{\"color\":\"rgba(0,0,0,0)\"},\"marker\":{\"color\":\"#DD4040\",\"size\":6,\"symbol\":\"diamond\"},\"mode\":\"lines+markers\",\"name\":\"Degraded performance\",\"x\":[[1588922012500000000],[1609015472000000000]],\"y\":[null,null],\"type\":\"scatter\"}],                        {\"hoverlabel\":{\"bgcolor\":\"white\",\"font\":{\"size\":14}},\"legend\":{\"itemclick\":false,\"itemdoubleclick\":false,\"traceorder\":\"normal\",\"yanchor\":\"top\",\"y\":-0.25,\"xanchor\":\"left\",\"x\":0,\"orientation\":\"h\"},\"paper_bgcolor\":\"rgba(255,255,255,1)\",\"plot_bgcolor\":\"rgba(255,255,255,1)\",\"title\":{\"text\":\"CBPE - Estimated roc_auc\"},\"xaxis\":{\"linecolor\":\"#666666\",\"mirror\":true,\"showgrid\":false,\"title\":{\"text\":\"Time\"},\"zeroline\":false},\"yaxis\":{\"linecolor\":\"#666666\",\"mirror\":true,\"showgrid\":false,\"title\":{\"text\":\"Estimated roc_auc\"},\"zeroline\":false},\"template\":{\"data\":{\"bar\":[{\"error_x\":{\"color\":\"#2a3f5f\"},\"error_y\":{\"color\":\"#2a3f5f\"},\"marker\":{\"line\":{\"color\":\"#E5ECF6\",\"width\":0.5},\"pattern\":{\"fillmode\":\"overlay\",\"size\":10,\"solidity\":0.2}},\"type\":\"bar\"}],\"barpolar\":[{\"marker\":{\"line\":{\"color\":\"#E5ECF6\",\"width\":0.5},\"pattern\":{\"fillmode\":\"overlay\",\"size\":10,\"solidity\":0.2}},\"type\":\"barpolar\"}],\"carpet\":[{\"aaxis\":{\"endlinecolor\":\"#2a3f5f\",\"gridcolor\":\"white\",\"linecolor\":\"white\",\"minorgridcolor\":\"white\",\"startlinecolor\":\"#2a3f5f\"},\"baxis\":{\"endlinecolor\":\"#2a3f5f\",\"gridcolor\":\"white\",\"linecolor\":\"white\",\"minorgridcolor\":\"white\",\"startlinecolor\":\"#2a3f5f\"},\"type\":\"carpet\"}],\"choropleth\":[{\"colorbar\":{\"outlinewidth\":0,\"ticks\":\"\"},\"type\":\"choropleth\"}],\"contour\":[{\"colorbar\":{\"outlinewidth\":0,\"ticks\":\"\"},\"colorscale\":[[0.0,\"#0d0887\"],[0.1111111111111111,\"#46039f\"],[0.2222222222222222,\"#7201a8\"],[0.3333333333333333,\"#9c179e\"],[0.4444444444444444,\"#bd3786\"],[0.5555555555555556,\"#d8576b\"],[0.6666666666666666,\"#ed7953\"],[0.7777777777777778,\"#fb9f3a\"],[0.8888888888888888,\"#fdca26\"],[1.0,\"#f0f921\"]],\"type\":\"contour\"}],\"contourcarpet\":[{\"colorbar\":{\"outlinewidth\":0,\"ticks\":\"\"},\"type\":\"contourcarpet\"}],\"heatmap\":[{\"colorbar\":{\"outlinewidth\":0,\"ticks\":\"\"},\"colorscale\":[[0.0,\"#0d0887\"],[0.1111111111111111,\"#46039f\"],[0.2222222222222222,\"#7201a8\"],[0.3333333333333333,\"#9c179e\"],[0.4444444444444444,\"#bd3786\"],[0.5555555555555556,\"#d8576b\"],[0.6666666666666666,\"#ed7953\"],[0.7777777777777778,\"#fb9f3a\"],[0.8888888888888888,\"#fdca26\"],[1.0,\"#f0f921\"]],\"type\":\"heatmap\"}],\"heatmapgl\":[{\"colorbar\":{\"outlinewidth\":0,\"ticks\":\"\"},\"colorscale\":[[0.0,\"#0d0887\"],[0.1111111111111111,\"#46039f\"],[0.2222222222222222,\"#7201a8\"],[0.3333333333333333,\"#9c179e\"],[0.4444444444444444,\"#bd3786\"],[0.5555555555555556,\"#d8576b\"],[0.6666666666666666,\"#ed7953\"],[0.7777777777777778,\"#fb9f3a\"],[0.8888888888888888,\"#fdca26\"],[1.0,\"#f0f921\"]],\"type\":\"heatmapgl\"}],\"histogram\":[{\"marker\":{\"pattern\":{\"fillmode\":\"overlay\",\"size\":10,\"solidity\":0.2}},\"type\":\"histogram\"}],\"histogram2d\":[{\"colorbar\":{\"outlinewidth\":0,\"ticks\":\"\"},\"colorscale\":[[0.0,\"#0d0887\"],[0.1111111111111111,\"#46039f\"],[0.2222222222222222,\"#7201a8\"],[0.3333333333333333,\"#9c179e\"],[0.4444444444444444,\"#bd3786\"],[0.5555555555555556,\"#d8576b\"],[0.6666666666666666,\"#ed7953\"],[0.7777777777777778,\"#fb9f3a\"],[0.8888888888888888,\"#fdca26\"],[1.0,\"#f0f921\"]],\"type\":\"histogram2d\"}],\"histogram2dcontour\":[{\"colorbar\":{\"outlinewidth\":0,\"ticks\":\"\"},\"colorscale\":[[0.0,\"#0d0887\"],[0.1111111111111111,\"#46039f\"],[0.2222222222222222,\"#7201a8\"],[0.3333333333333333,\"#9c179e\"],[0.4444444444444444,\"#bd3786\"],[0.5555555555555556,\"#d8576b\"],[0.6666666666666666,\"#ed7953\"],[0.7777777777777778,\"#fb9f3a\"],[0.8888888888888888,\"#fdca26\"],[1.0,\"#f0f921\"]],\"type\":\"histogram2dcontour\"}],\"mesh3d\":[{\"colorbar\":{\"outlinewidth\":0,\"ticks\":\"\"},\"type\":\"mesh3d\"}],\"parcoords\":[{\"line\":{\"colorbar\":{\"outlinewidth\":0,\"ticks\":\"\"}},\"type\":\"parcoords\"}],\"pie\":[{\"automargin\":true,\"type\":\"pie\"}],\"scatter\":[{\"marker\":{\"colorbar\":{\"outlinewidth\":0,\"ticks\":\"\"}},\"type\":\"scatter\"}],\"scatter3d\":[{\"line\":{\"colorbar\":{\"outlinewidth\":0,\"ticks\":\"\"}},\"marker\":{\"colorbar\":{\"outlinewidth\":0,\"ticks\":\"\"}},\"type\":\"scatter3d\"}],\"scattercarpet\":[{\"marker\":{\"colorbar\":{\"outlinewidth\":0,\"ticks\":\"\"}},\"type\":\"scattercarpet\"}],\"scattergeo\":[{\"marker\":{\"colorbar\":{\"outlinewidth\":0,\"ticks\":\"\"}},\"type\":\"scattergeo\"}],\"scattergl\":[{\"marker\":{\"colorbar\":{\"outlinewidth\":0,\"ticks\":\"\"}},\"type\":\"scattergl\"}],\"scattermapbox\":[{\"marker\":{\"colorbar\":{\"outlinewidth\":0,\"ticks\":\"\"}},\"type\":\"scattermapbox\"}],\"scatterpolar\":[{\"marker\":{\"colorbar\":{\"outlinewidth\":0,\"ticks\":\"\"}},\"type\":\"scatterpolar\"}],\"scatterpolargl\":[{\"marker\":{\"colorbar\":{\"outlinewidth\":0,\"ticks\":\"\"}},\"type\":\"scatterpolargl\"}],\"scatterternary\":[{\"marker\":{\"colorbar\":{\"outlinewidth\":0,\"ticks\":\"\"}},\"type\":\"scatterternary\"}],\"surface\":[{\"colorbar\":{\"outlinewidth\":0,\"ticks\":\"\"},\"colorscale\":[[0.0,\"#0d0887\"],[0.1111111111111111,\"#46039f\"],[0.2222222222222222,\"#7201a8\"],[0.3333333333333333,\"#9c179e\"],[0.4444444444444444,\"#bd3786\"],[0.5555555555555556,\"#d8576b\"],[0.6666666666666666,\"#ed7953\"],[0.7777777777777778,\"#fb9f3a\"],[0.8888888888888888,\"#fdca26\"],[1.0,\"#f0f921\"]],\"type\":\"surface\"}],\"table\":[{\"cells\":{\"fill\":{\"color\":\"#EBF0F8\"},\"line\":{\"color\":\"white\"}},\"header\":{\"fill\":{\"color\":\"#C8D4E3\"},\"line\":{\"color\":\"white\"}},\"type\":\"table\"}]},\"layout\":{\"annotationdefaults\":{\"arrowcolor\":\"#2a3f5f\",\"arrowhead\":0,\"arrowwidth\":1},\"autotypenumbers\":\"strict\",\"coloraxis\":{\"colorbar\":{\"outlinewidth\":0,\"ticks\":\"\"}},\"colorscale\":{\"diverging\":[[0,\"#8e0152\"],[0.1,\"#c51b7d\"],[0.2,\"#de77ae\"],[0.3,\"#f1b6da\"],[0.4,\"#fde0ef\"],[0.5,\"#f7f7f7\"],[0.6,\"#e6f5d0\"],[0.7,\"#b8e186\"],[0.8,\"#7fbc41\"],[0.9,\"#4d9221\"],[1,\"#276419\"]],\"sequential\":[[0.0,\"#0d0887\"],[0.1111111111111111,\"#46039f\"],[0.2222222222222222,\"#7201a8\"],[0.3333333333333333,\"#9c179e\"],[0.4444444444444444,\"#bd3786\"],[0.5555555555555556,\"#d8576b\"],[0.6666666666666666,\"#ed7953\"],[0.7777777777777778,\"#fb9f3a\"],[0.8888888888888888,\"#fdca26\"],[1.0,\"#f0f921\"]],\"sequentialminus\":[[0.0,\"#0d0887\"],[0.1111111111111111,\"#46039f\"],[0.2222222222222222,\"#7201a8\"],[0.3333333333333333,\"#9c179e\"],[0.4444444444444444,\"#bd3786\"],[0.5555555555555556,\"#d8576b\"],[0.6666666666666666,\"#ed7953\"],[0.7777777777777778,\"#fb9f3a\"],[0.8888888888888888,\"#fdca26\"],[1.0,\"#f0f921\"]]},\"colorway\":[\"#636efa\",\"#EF553B\",\"#00cc96\",\"#ab63fa\",\"#FFA15A\",\"#19d3f3\",\"#FF6692\",\"#B6E880\",\"#FF97FF\",\"#FECB52\"],\"font\":{\"color\":\"#2a3f5f\"},\"geo\":{\"bgcolor\":\"white\",\"lakecolor\":\"white\",\"landcolor\":\"#E5ECF6\",\"showlakes\":true,\"showland\":true,\"subunitcolor\":\"white\"},\"hoverlabel\":{\"align\":\"left\"},\"hovermode\":\"closest\",\"mapbox\":{\"style\":\"light\"},\"paper_bgcolor\":\"white\",\"plot_bgcolor\":\"#E5ECF6\",\"polar\":{\"angularaxis\":{\"gridcolor\":\"white\",\"linecolor\":\"white\",\"ticks\":\"\"},\"bgcolor\":\"#E5ECF6\",\"radialaxis\":{\"gridcolor\":\"white\",\"linecolor\":\"white\",\"ticks\":\"\"}},\"scene\":{\"xaxis\":{\"backgroundcolor\":\"#E5ECF6\",\"gridcolor\":\"white\",\"gridwidth\":2,\"linecolor\":\"white\",\"showbackground\":true,\"ticks\":\"\",\"zerolinecolor\":\"white\"},\"yaxis\":{\"backgroundcolor\":\"#E5ECF6\",\"gridcolor\":\"white\",\"gridwidth\":2,\"linecolor\":\"white\",\"showbackground\":true,\"ticks\":\"\",\"zerolinecolor\":\"white\"},\"zaxis\":{\"backgroundcolor\":\"#E5ECF6\",\"gridcolor\":\"white\",\"gridwidth\":2,\"linecolor\":\"white\",\"showbackground\":true,\"ticks\":\"\",\"zerolinecolor\":\"white\"}},\"shapedefaults\":{\"line\":{\"color\":\"#2a3f5f\"}},\"ternary\":{\"aaxis\":{\"gridcolor\":\"white\",\"linecolor\":\"white\",\"ticks\":\"\"},\"baxis\":{\"gridcolor\":\"white\",\"linecolor\":\"white\",\"ticks\":\"\"},\"bgcolor\":\"#E5ECF6\",\"caxis\":{\"gridcolor\":\"white\",\"linecolor\":\"white\",\"ticks\":\"\"}},\"title\":{\"x\":0.05},\"xaxis\":{\"automargin\":true,\"gridcolor\":\"white\",\"linecolor\":\"white\",\"ticks\":\"\",\"title\":{\"standoff\":15},\"zerolinecolor\":\"white\",\"zerolinewidth\":2},\"yaxis\":{\"automargin\":true,\"gridcolor\":\"white\",\"linecolor\":\"white\",\"ticks\":\"\",\"title\":{\"standoff\":15},\"zerolinecolor\":\"white\",\"zerolinewidth\":2}}},\"shapes\":[{\"layer\":\"below\",\"line\":{\"color\":\"#DD4040\",\"dash\":\"dash\",\"width\":1},\"type\":\"line\",\"x0\":0,\"x1\":1,\"xref\":\"x domain\",\"y0\":0.9135156728918074,\"y1\":0.9135156728918074,\"yref\":\"y\"},{\"layer\":\"below\",\"line\":{\"color\":\"#DD4040\",\"dash\":\"dash\",\"width\":1},\"type\":\"line\",\"x0\":0,\"x1\":1,\"xref\":\"x domain\",\"y0\":0.900902260737325,\"y1\":0.900902260737325,\"yref\":\"y\"},{\"layer\":\"below\",\"line\":{\"color\":\"#3b0280\",\"dash\":\"dash\",\"width\":1},\"type\":\"line\",\"x0\":\"2020-09-01T03:10:01\",\"x1\":\"2020-09-01T03:10:01\",\"xref\":\"x\",\"y0\":0,\"y1\":1,\"yref\":\"y domain\"},{\"fillcolor\":\"#DD4040\",\"layer\":\"below\",\"line\":{\"width\":0},\"opacity\":0.2,\"type\":\"rect\",\"x0\":\"2020-11-01T22:04:59\",\"x1\":\"2020-11-14T03:55:33\",\"xref\":\"x\",\"y0\":0,\"y1\":1,\"yref\":\"y domain\"},{\"fillcolor\":\"#DD4040\",\"layer\":\"below\",\"line\":{\"width\":0},\"opacity\":0.2,\"type\":\"rect\",\"x0\":\"2020-11-14T03:55:49\",\"x1\":\"2020-11-26T09:19:06\",\"xref\":\"x\",\"y0\":0,\"y1\":1,\"yref\":\"y domain\"},{\"fillcolor\":\"#DD4040\",\"layer\":\"below\",\"line\":{\"width\":0},\"opacity\":0.2,\"type\":\"rect\",\"x0\":\"2020-11-26T09:19:22\",\"x1\":\"2020-12-08T14:33:56\",\"xref\":\"x\",\"y0\":0,\"y1\":1,\"yref\":\"y domain\"},{\"fillcolor\":\"#DD4040\",\"layer\":\"below\",\"line\":{\"width\":0},\"opacity\":0.2,\"type\":\"rect\",\"x0\":\"2020-12-08T14:34:25\",\"x1\":\"2020-12-20T18:30:30\",\"xref\":\"x\",\"y0\":0,\"y1\":1,\"yref\":\"y domain\"},{\"fillcolor\":\"#DD4040\",\"layer\":\"below\",\"line\":{\"width\":0},\"opacity\":0.2,\"type\":\"rect\",\"x0\":\"2020-12-20T18:31:09\",\"x1\":\"2021-01-01T22:57:55\",\"xref\":\"x\",\"y0\":0,\"y1\":1,\"yref\":\"y domain\"}],\"annotations\":[{\"font\":{\"color\":\"#DD4040\"},\"showarrow\":false,\"text\":\"0.91\",\"x\":1,\"xanchor\":\"right\",\"xref\":\"x domain\",\"y\":0.9135156728918074,\"yanchor\":\"bottom\",\"yref\":\"y\"},{\"font\":{\"color\":\"#DD4040\"},\"showarrow\":false,\"text\":\"0.90\",\"x\":1,\"xanchor\":\"right\",\"xref\":\"x domain\",\"y\":0.900902260737325,\"yanchor\":\"bottom\",\"yref\":\"y\"}]},                        {\"responsive\": true}                    ).then(function(){\n",
       "                            \n",
       "var gd = document.getElementById('4fe3d86e-609c-49a4-81f9-b002048c42c9');\n",
       "var x = new MutationObserver(function (mutations, observer) {{\n",
       "        var display = window.getComputedStyle(gd).display;\n",
       "        if (!display || display === 'none') {{\n",
       "            console.log([gd, 'removed!']);\n",
       "            Plotly.purge(gd);\n",
       "            observer.disconnect();\n",
       "        }}\n",
       "}});\n",
       "\n",
       "// Listen for the removal of the full notebook cells\n",
       "var notebookContainer = gd.closest('#notebook-container');\n",
       "if (notebookContainer) {{\n",
       "    x.observe(notebookContainer, {childList: true});\n",
       "}}\n",
       "\n",
       "// Listen for the clearing of the current output cell\n",
       "var outputEl = gd.closest('.output');\n",
       "if (outputEl) {{\n",
       "    x.observe(outputEl, {childList: true});\n",
       "}}\n",
       "\n",
       "                        })                };                });            </script>        </div>"
      ]
     },
     "metadata": {},
     "output_type": "display_data"
    },
    {
     "data": {
      "application/vnd.plotly.v1+json": {
       "config": {
        "plotlyServerURL": "https://plot.ly"
       },
       "data": [
        {
         "hoverinfo": "skip",
         "line": {
          "color": "rgba(0,0,0,0)",
          "shape": "hv"
         },
         "mode": "lines",
         "showlegend": false,
         "type": "scatter",
         "x": [
          "2020-09-01T03:10:01",
          "2020-09-13T16:15:32",
          "2020-09-25T19:50:04",
          "2020-10-08T02:57:34",
          "2020-10-20T15:49:06",
          "2020-11-01T22:04:59",
          "2020-11-14T03:55:49",
          "2020-11-26T09:19:22",
          "2020-12-08T14:34:25",
          "2020-12-20T18:31:09",
          "2021-01-01T22:57:55"
         ],
         "y": [
          0.7570758621967587,
          0.7601708655920035,
          0.7620133162844372,
          0.7602729924294869,
          0.7576041389617284,
          0.634062067250791,
          0.6344879109469016,
          0.6335872481015282,
          0.6347233281673336,
          0.6366274585452686,
          0.6366274585452686
         ]
        },
        {
         "fill": "tonexty",
         "fillcolor": "rgba(0.23137254901960785, 0.00784313725490196, 0.5019607843137255, 0.2)",
         "hoverinfo": "skip",
         "line": {
          "color": "rgba(0,0,0,0)",
          "shape": "hv"
         },
         "mode": "lines",
         "showlegend": false,
         "type": "scatter",
         "x": [
          "2020-09-01T03:10:01",
          "2020-09-13T16:15:32",
          "2020-09-25T19:50:04",
          "2020-10-08T02:57:34",
          "2020-10-20T15:49:06",
          "2020-11-01T22:04:59",
          "2020-11-14T03:55:49",
          "2020-11-26T09:19:22",
          "2020-12-08T14:34:25",
          "2020-12-20T18:31:09",
          "2021-01-01T22:57:55"
         ],
         "y": [
          0.7535727113644105,
          0.7566677147596553,
          0.758510165452089,
          0.7567698415971387,
          0.7541009881293802,
          0.6305589164184427,
          0.6309847601145534,
          0.63008409726918,
          0.6312201773349854,
          0.6331243077129204,
          0.6331243077129204
         ]
        },
        {
         "hoverinfo": "skip",
         "legendgroup": "1",
         "line": {
          "color": "#00c8e5",
          "shape": "hv",
          "width": 2
         },
         "mode": "lines",
         "name": "Reference period",
         "type": "scatter",
         "x": [
          "2020-05-02T02:01:30",
          "2020-05-14T12:29:25",
          "2020-05-26T18:31:06",
          "2020-06-07T19:58:39",
          "2020-06-19T19:44:14",
          "2020-07-02T02:06:56",
          "2020-07-14T08:14:08",
          "2020-07-26T12:57:37",
          "2020-08-07T16:33:44",
          "2020-08-20T00:07:58",
          "2020-09-01T03:03:23"
         ],
         "y": [
          0.7505323557358875,
          0.7511484640126803,
          0.7571400512722031,
          0.7502740596433638,
          0.7591436975867962,
          0.7486300734249819,
          0.7527627058654386,
          0.7558827980804009,
          0.7474196344836103,
          0.7580550513577399,
          0.7580550513577399
         ]
        },
        {
         "hoverinfo": "skip",
         "legendgroup": "1",
         "line": {
          "color": "#3b0280",
          "dash": "dot",
          "shape": "hv",
          "width": 2
         },
         "mode": "lines",
         "name": "Analysis period",
         "type": "scatter",
         "x": [
          "2020-09-01T03:10:01",
          "2020-09-13T16:15:32",
          "2020-09-25T19:50:04",
          "2020-10-08T02:57:34",
          "2020-10-20T15:49:06",
          "2020-11-01T22:04:59",
          "2020-11-14T03:55:49",
          "2020-11-26T09:19:22",
          "2020-12-08T14:34:25",
          "2020-12-20T18:31:09",
          "2021-01-01T22:57:55"
         ],
         "y": [
          0.7553242867805846,
          0.7584192901758294,
          0.7602617408682631,
          0.7585214170133128,
          0.7558525635455543,
          0.6323104918346169,
          0.6327363355307275,
          0.6318356726853541,
          0.6329717527511595,
          0.6348758831290945,
          0.6348758831290945
         ]
        },
        {
         "customdata": [
          [
           "[0:5999]",
           "May-02-2020",
           "May-14-2020",
           "0.7505",
           "<b style=\"color:#00c8e5;line-height:60px\">Reference</b>",
           "",
           ""
          ],
          [
           "[6000:11999]",
           "May-14-2020",
           "May-26-2020",
           "0.7511",
           "<b style=\"color:#00c8e5;line-height:60px\">Reference</b>",
           "",
           ""
          ],
          [
           "[12000:17999]",
           "May-26-2020",
           "Jun-07-2020",
           "0.7571",
           "<b style=\"color:#00c8e5;line-height:60px\">Reference</b>",
           "",
           ""
          ],
          [
           "[18000:23999]",
           "Jun-07-2020",
           "Jun-19-2020",
           "0.7503",
           "<b style=\"color:#00c8e5;line-height:60px\">Reference</b>",
           "",
           ""
          ],
          [
           "[24000:29999]",
           "Jun-19-2020",
           "Jul-02-2020",
           "0.7591",
           "<b style=\"color:#00c8e5;line-height:60px\">Reference</b>",
           "",
           ""
          ],
          [
           "[30000:35999]",
           "Jul-02-2020",
           "Jul-14-2020",
           "0.7486",
           "<b style=\"color:#00c8e5;line-height:60px\">Reference</b>",
           "",
           ""
          ],
          [
           "[36000:41999]",
           "Jul-14-2020",
           "Jul-26-2020",
           "0.7528",
           "<b style=\"color:#00c8e5;line-height:60px\">Reference</b>",
           "",
           ""
          ],
          [
           "[42000:47999]",
           "Jul-26-2020",
           "Aug-07-2020",
           "0.7559",
           "<b style=\"color:#00c8e5;line-height:60px\">Reference</b>",
           "",
           ""
          ],
          [
           "[48000:53999]",
           "Aug-07-2020",
           "Aug-20-2020",
           "0.7474",
           "<b style=\"color:#00c8e5;line-height:60px\">Reference</b>",
           "",
           ""
          ],
          [
           "[54000:59999]",
           "Aug-20-2020",
           "Sep-01-2020",
           "0.7581",
           "<b style=\"color:#00c8e5;line-height:60px\">Reference</b>",
           "",
           ""
          ]
         ],
         "hovertemplate": "%{customdata[4]} &nbsp; &nbsp; <span style=\"color:#AD0000\">%{customdata[5]}</span><br>Chunk: <b>%{customdata[0]}</b> &nbsp; &nbsp; From <b>%{customdata[1]}</b> to <b>%{customdata[2]}</b> &nbsp; &nbsp; <br>Estimated ROC AUC: <b>%{customdata[3]}</b>  &nbsp; &nbsp; %{customdata[6]} <extra></extra>",
         "marker": {
          "color": "#00c8e5",
          "size": 6,
          "symbol": "square"
         },
         "mode": "markers",
         "name": "Reference",
         "showlegend": false,
         "type": "scatter",
         "x": [
          "2020-05-08T07:13:32.500000",
          "2020-05-20T15:28:33.500000",
          "2020-06-01T19:13:25.500000",
          "2020-06-13T19:50:29.500000",
          "2020-06-25T22:51:09.500000",
          "2020-07-08T05:10:30",
          "2020-07-20T10:34:55",
          "2020-08-01T14:44:56",
          "2020-08-13T20:19:56",
          "2020-08-26T01:35:40.500000"
         ],
         "y": [
          0.7505323557358875,
          0.7511484640126803,
          0.7571400512722031,
          0.7502740596433638,
          0.7591436975867962,
          0.7486300734249819,
          0.7527627058654386,
          0.7558827980804009,
          0.7474196344836103,
          0.7580550513577399
         ]
        },
        {
         "customdata": [
          [
           "[60000:65999]",
           "Sep-01-2020",
           "Sep-13-2020",
           "0.7553",
           "<b style=\"color:#3b0280;line-height:60px\">Analysis</b>",
           "",
           ""
          ],
          [
           "[66000:71999]",
           "Sep-13-2020",
           "Sep-25-2020",
           "0.7584",
           "<b style=\"color:#3b0280;line-height:60px\">Analysis</b>",
           "",
           ""
          ],
          [
           "[72000:77999]",
           "Sep-25-2020",
           "Oct-08-2020",
           "0.7603",
           "<b style=\"color:#3b0280;line-height:60px\">Analysis</b>",
           "",
           ""
          ],
          [
           "[78000:83999]",
           "Oct-08-2020",
           "Oct-20-2020",
           "0.7585",
           "<b style=\"color:#3b0280;line-height:60px\">Analysis</b>",
           "",
           ""
          ],
          [
           "[84000:89999]",
           "Oct-20-2020",
           "Nov-01-2020",
           "0.7559",
           "<b style=\"color:#3b0280;line-height:60px\">Analysis</b>",
           "",
           ""
          ]
         ],
         "hovertemplate": "%{customdata[4]} &nbsp; &nbsp; <span style=\"color:#AD0000\">%{customdata[5]}</span><br>Chunk: <b>%{customdata[0]}</b> &nbsp; &nbsp; From <b>%{customdata[1]}</b> to <b>%{customdata[2]}</b> &nbsp; &nbsp; <br>Estimated ROC AUC: <b>%{customdata[3]}</b>  &nbsp; &nbsp; %{customdata[6]} <extra></extra>",
         "marker": {
          "color": "#3b0280",
          "size": 6,
          "symbol": "square"
         },
         "mode": "markers",
         "name": "No change",
         "showlegend": false,
         "type": "scatter",
         "x": [
          "2020-09-07T09:42:35.500000",
          "2020-09-19T18:02:07",
          "2020-10-01T23:21:55.500000",
          "2020-10-14T09:22:56.500000",
          "2020-10-26T18:56:53"
         ],
         "y": [
          0.7553242867805846,
          0.7584192901758294,
          0.7602617408682631,
          0.7585214170133128,
          0.7558525635455543
         ]
        },
        {
         "customdata": [
          [
           "[90000:95999]",
           "Nov-01-2020",
           "Nov-14-2020",
           "0.6323",
           "<b style=\"color:#3b0280;line-height:60px\">Analysis</b>",
           "⚠ <b>Drift detected</b>",
           ""
          ],
          [
           "[96000:101999]",
           "Nov-14-2020",
           "Nov-26-2020",
           "0.6327",
           "<b style=\"color:#3b0280;line-height:60px\">Analysis</b>",
           "⚠ <b>Drift detected</b>",
           ""
          ],
          [
           "[102000:107999]",
           "Nov-26-2020",
           "Dec-08-2020",
           "0.6318",
           "<b style=\"color:#3b0280;line-height:60px\">Analysis</b>",
           "⚠ <b>Drift detected</b>",
           ""
          ],
          [
           "[108000:113999]",
           "Dec-08-2020",
           "Dec-20-2020",
           "0.6330",
           "<b style=\"color:#3b0280;line-height:60px\">Analysis</b>",
           "⚠ <b>Drift detected</b>",
           ""
          ],
          [
           "[114000:119999]",
           "Dec-20-2020",
           "Jan-01-2021",
           "0.6349",
           "<b style=\"color:#3b0280;line-height:60px\">Analysis</b>",
           "⚠ <b>Drift detected</b>",
           ""
          ]
         ],
         "hovertemplate": "%{customdata[4]} &nbsp; &nbsp; <span style=\"color:#AD0000\">%{customdata[5]}</span><br>Chunk: <b>%{customdata[0]}</b> &nbsp; &nbsp; From <b>%{customdata[1]}</b> to <b>%{customdata[2]}</b> &nbsp; &nbsp; <br>Estimated ROC AUC: <b>%{customdata[3]}</b>  &nbsp; &nbsp; %{customdata[6]} <extra></extra>",
         "marker": {
          "color": "#DD4040",
          "size": 6,
          "symbol": "diamond"
         },
         "mode": "markers",
         "name": "Change",
         "showlegend": false,
         "type": "scatter",
         "x": [
          "2020-11-08T01:00:16",
          "2020-11-20T06:37:27.500000",
          "2020-12-02T11:56:39",
          "2020-12-14T16:32:27.500000",
          "2020-12-26T20:44:32"
         ],
         "y": [
          0.6323104918346169,
          0.6327363355307275,
          0.6318356726853541,
          0.6329717527511595,
          0.6348758831290945
         ]
        },
        {
         "line": {
          "color": "rgba(0,0,0,0)"
         },
         "mode": "lines",
         "showlegend": false,
         "type": "scatter",
         "x": [
          [
           1588922012500000000
          ],
          [
           1609015472000000000
          ]
         ],
         "y": [
          null,
          null
         ]
        },
        {
         "fill": "tonexty",
         "fillcolor": "rgba(0.23137254901960785, 0.00784313725490196, 0.5019607843137255, 0.2)",
         "legendgroup": "1",
         "line": {
          "color": "rgba(0,0,0,0)"
         },
         "mode": "lines",
         "name": "Confidence band",
         "type": "scatter",
         "x": [
          [
           1588922012500000000
          ],
          [
           1609015472000000000
          ]
         ],
         "y": [
          null,
          null
         ]
        },
        {
         "legendgroup": "1",
         "line": {
          "color": "#DD4040",
          "dash": "dash",
          "width": 1
         },
         "mode": "lines",
         "name": "Performance threshold",
         "type": "scatter",
         "x": [
          [
           1588922012500000000
          ],
          [
           1609015472000000000
          ]
         ],
         "y": [
          null,
          null
         ]
        },
        {
         "line": {
          "color": "rgba(0,0,0,0)"
         },
         "mode": "lines",
         "showlegend": false,
         "type": "scatter",
         "x": [
          [
           1588922012500000000
          ],
          [
           1609015472000000000
          ]
         ],
         "y": [
          null,
          null
         ]
        },
        {
         "fill": "tonexty",
         "fillcolor": "rgba(0.8666666666666667, 0.25098039215686274, 0.25098039215686274, 0.2)",
         "legendgroup": "1",
         "line": {
          "color": "rgba(0,0,0,0)"
         },
         "marker": {
          "color": "#DD4040",
          "size": 6,
          "symbol": "diamond"
         },
         "mode": "lines+markers",
         "name": "Degraded performance",
         "type": "scatter",
         "x": [
          [
           1588922012500000000
          ],
          [
           1609015472000000000
          ]
         ],
         "y": [
          null,
          null
         ]
        }
       ],
       "layout": {
        "annotations": [
         {
          "font": {
           "color": "#DD4040"
          },
          "showarrow": false,
          "text": "0.76",
          "x": 1,
          "xanchor": "right",
          "xref": "x domain",
          "y": 0.7649438592270994,
          "yanchor": "bottom",
          "yref": "y"
         },
         {
          "font": {
           "color": "#DD4040"
          },
          "showarrow": false,
          "text": "0.74",
          "x": 1,
          "xanchor": "right",
          "xref": "x domain",
          "y": 0.741253919065521,
          "yanchor": "bottom",
          "yref": "y"
         }
        ],
        "hoverlabel": {
         "bgcolor": "white",
         "font": {
          "size": 14
         }
        },
        "legend": {
         "itemclick": false,
         "itemdoubleclick": false,
         "orientation": "h",
         "traceorder": "normal",
         "x": 0,
         "xanchor": "left",
         "y": -0.25,
         "yanchor": "top"
        },
        "paper_bgcolor": "rgba(255,255,255,1)",
        "plot_bgcolor": "rgba(255,255,255,1)",
        "shapes": [
         {
          "layer": "below",
          "line": {
           "color": "#DD4040",
           "dash": "dash",
           "width": 1
          },
          "type": "line",
          "x0": 0,
          "x1": 1,
          "xref": "x domain",
          "y0": 0.7649438592270994,
          "y1": 0.7649438592270994,
          "yref": "y"
         },
         {
          "layer": "below",
          "line": {
           "color": "#DD4040",
           "dash": "dash",
           "width": 1
          },
          "type": "line",
          "x0": 0,
          "x1": 1,
          "xref": "x domain",
          "y0": 0.741253919065521,
          "y1": 0.741253919065521,
          "yref": "y"
         },
         {
          "layer": "below",
          "line": {
           "color": "#3b0280",
           "dash": "dash",
           "width": 1
          },
          "type": "line",
          "x0": "2020-09-01T03:10:01",
          "x1": "2020-09-01T03:10:01",
          "xref": "x",
          "y0": 0,
          "y1": 1,
          "yref": "y domain"
         },
         {
          "fillcolor": "#DD4040",
          "layer": "below",
          "line": {
           "width": 0
          },
          "opacity": 0.2,
          "type": "rect",
          "x0": "2020-11-01T22:04:59",
          "x1": "2020-11-14T03:55:33",
          "xref": "x",
          "y0": 0,
          "y1": 1,
          "yref": "y domain"
         },
         {
          "fillcolor": "#DD4040",
          "layer": "below",
          "line": {
           "width": 0
          },
          "opacity": 0.2,
          "type": "rect",
          "x0": "2020-11-14T03:55:49",
          "x1": "2020-11-26T09:19:06",
          "xref": "x",
          "y0": 0,
          "y1": 1,
          "yref": "y domain"
         },
         {
          "fillcolor": "#DD4040",
          "layer": "below",
          "line": {
           "width": 0
          },
          "opacity": 0.2,
          "type": "rect",
          "x0": "2020-11-26T09:19:22",
          "x1": "2020-12-08T14:33:56",
          "xref": "x",
          "y0": 0,
          "y1": 1,
          "yref": "y domain"
         },
         {
          "fillcolor": "#DD4040",
          "layer": "below",
          "line": {
           "width": 0
          },
          "opacity": 0.2,
          "type": "rect",
          "x0": "2020-12-08T14:34:25",
          "x1": "2020-12-20T18:30:30",
          "xref": "x",
          "y0": 0,
          "y1": 1,
          "yref": "y domain"
         },
         {
          "fillcolor": "#DD4040",
          "layer": "below",
          "line": {
           "width": 0
          },
          "opacity": 0.2,
          "type": "rect",
          "x0": "2020-12-20T18:31:09",
          "x1": "2021-01-01T22:57:55",
          "xref": "x",
          "y0": 0,
          "y1": 1,
          "yref": "y domain"
         }
        ],
        "template": {
         "data": {
          "bar": [
           {
            "error_x": {
             "color": "#2a3f5f"
            },
            "error_y": {
             "color": "#2a3f5f"
            },
            "marker": {
             "line": {
              "color": "#E5ECF6",
              "width": 0.5
             },
             "pattern": {
              "fillmode": "overlay",
              "size": 10,
              "solidity": 0.2
             }
            },
            "type": "bar"
           }
          ],
          "barpolar": [
           {
            "marker": {
             "line": {
              "color": "#E5ECF6",
              "width": 0.5
             },
             "pattern": {
              "fillmode": "overlay",
              "size": 10,
              "solidity": 0.2
             }
            },
            "type": "barpolar"
           }
          ],
          "carpet": [
           {
            "aaxis": {
             "endlinecolor": "#2a3f5f",
             "gridcolor": "white",
             "linecolor": "white",
             "minorgridcolor": "white",
             "startlinecolor": "#2a3f5f"
            },
            "baxis": {
             "endlinecolor": "#2a3f5f",
             "gridcolor": "white",
             "linecolor": "white",
             "minorgridcolor": "white",
             "startlinecolor": "#2a3f5f"
            },
            "type": "carpet"
           }
          ],
          "choropleth": [
           {
            "colorbar": {
             "outlinewidth": 0,
             "ticks": ""
            },
            "type": "choropleth"
           }
          ],
          "contour": [
           {
            "colorbar": {
             "outlinewidth": 0,
             "ticks": ""
            },
            "colorscale": [
             [
              0,
              "#0d0887"
             ],
             [
              0.1111111111111111,
              "#46039f"
             ],
             [
              0.2222222222222222,
              "#7201a8"
             ],
             [
              0.3333333333333333,
              "#9c179e"
             ],
             [
              0.4444444444444444,
              "#bd3786"
             ],
             [
              0.5555555555555556,
              "#d8576b"
             ],
             [
              0.6666666666666666,
              "#ed7953"
             ],
             [
              0.7777777777777778,
              "#fb9f3a"
             ],
             [
              0.8888888888888888,
              "#fdca26"
             ],
             [
              1,
              "#f0f921"
             ]
            ],
            "type": "contour"
           }
          ],
          "contourcarpet": [
           {
            "colorbar": {
             "outlinewidth": 0,
             "ticks": ""
            },
            "type": "contourcarpet"
           }
          ],
          "heatmap": [
           {
            "colorbar": {
             "outlinewidth": 0,
             "ticks": ""
            },
            "colorscale": [
             [
              0,
              "#0d0887"
             ],
             [
              0.1111111111111111,
              "#46039f"
             ],
             [
              0.2222222222222222,
              "#7201a8"
             ],
             [
              0.3333333333333333,
              "#9c179e"
             ],
             [
              0.4444444444444444,
              "#bd3786"
             ],
             [
              0.5555555555555556,
              "#d8576b"
             ],
             [
              0.6666666666666666,
              "#ed7953"
             ],
             [
              0.7777777777777778,
              "#fb9f3a"
             ],
             [
              0.8888888888888888,
              "#fdca26"
             ],
             [
              1,
              "#f0f921"
             ]
            ],
            "type": "heatmap"
           }
          ],
          "heatmapgl": [
           {
            "colorbar": {
             "outlinewidth": 0,
             "ticks": ""
            },
            "colorscale": [
             [
              0,
              "#0d0887"
             ],
             [
              0.1111111111111111,
              "#46039f"
             ],
             [
              0.2222222222222222,
              "#7201a8"
             ],
             [
              0.3333333333333333,
              "#9c179e"
             ],
             [
              0.4444444444444444,
              "#bd3786"
             ],
             [
              0.5555555555555556,
              "#d8576b"
             ],
             [
              0.6666666666666666,
              "#ed7953"
             ],
             [
              0.7777777777777778,
              "#fb9f3a"
             ],
             [
              0.8888888888888888,
              "#fdca26"
             ],
             [
              1,
              "#f0f921"
             ]
            ],
            "type": "heatmapgl"
           }
          ],
          "histogram": [
           {
            "marker": {
             "pattern": {
              "fillmode": "overlay",
              "size": 10,
              "solidity": 0.2
             }
            },
            "type": "histogram"
           }
          ],
          "histogram2d": [
           {
            "colorbar": {
             "outlinewidth": 0,
             "ticks": ""
            },
            "colorscale": [
             [
              0,
              "#0d0887"
             ],
             [
              0.1111111111111111,
              "#46039f"
             ],
             [
              0.2222222222222222,
              "#7201a8"
             ],
             [
              0.3333333333333333,
              "#9c179e"
             ],
             [
              0.4444444444444444,
              "#bd3786"
             ],
             [
              0.5555555555555556,
              "#d8576b"
             ],
             [
              0.6666666666666666,
              "#ed7953"
             ],
             [
              0.7777777777777778,
              "#fb9f3a"
             ],
             [
              0.8888888888888888,
              "#fdca26"
             ],
             [
              1,
              "#f0f921"
             ]
            ],
            "type": "histogram2d"
           }
          ],
          "histogram2dcontour": [
           {
            "colorbar": {
             "outlinewidth": 0,
             "ticks": ""
            },
            "colorscale": [
             [
              0,
              "#0d0887"
             ],
             [
              0.1111111111111111,
              "#46039f"
             ],
             [
              0.2222222222222222,
              "#7201a8"
             ],
             [
              0.3333333333333333,
              "#9c179e"
             ],
             [
              0.4444444444444444,
              "#bd3786"
             ],
             [
              0.5555555555555556,
              "#d8576b"
             ],
             [
              0.6666666666666666,
              "#ed7953"
             ],
             [
              0.7777777777777778,
              "#fb9f3a"
             ],
             [
              0.8888888888888888,
              "#fdca26"
             ],
             [
              1,
              "#f0f921"
             ]
            ],
            "type": "histogram2dcontour"
           }
          ],
          "mesh3d": [
           {
            "colorbar": {
             "outlinewidth": 0,
             "ticks": ""
            },
            "type": "mesh3d"
           }
          ],
          "parcoords": [
           {
            "line": {
             "colorbar": {
              "outlinewidth": 0,
              "ticks": ""
             }
            },
            "type": "parcoords"
           }
          ],
          "pie": [
           {
            "automargin": true,
            "type": "pie"
           }
          ],
          "scatter": [
           {
            "marker": {
             "colorbar": {
              "outlinewidth": 0,
              "ticks": ""
             }
            },
            "type": "scatter"
           }
          ],
          "scatter3d": [
           {
            "line": {
             "colorbar": {
              "outlinewidth": 0,
              "ticks": ""
             }
            },
            "marker": {
             "colorbar": {
              "outlinewidth": 0,
              "ticks": ""
             }
            },
            "type": "scatter3d"
           }
          ],
          "scattercarpet": [
           {
            "marker": {
             "colorbar": {
              "outlinewidth": 0,
              "ticks": ""
             }
            },
            "type": "scattercarpet"
           }
          ],
          "scattergeo": [
           {
            "marker": {
             "colorbar": {
              "outlinewidth": 0,
              "ticks": ""
             }
            },
            "type": "scattergeo"
           }
          ],
          "scattergl": [
           {
            "marker": {
             "colorbar": {
              "outlinewidth": 0,
              "ticks": ""
             }
            },
            "type": "scattergl"
           }
          ],
          "scattermapbox": [
           {
            "marker": {
             "colorbar": {
              "outlinewidth": 0,
              "ticks": ""
             }
            },
            "type": "scattermapbox"
           }
          ],
          "scatterpolar": [
           {
            "marker": {
             "colorbar": {
              "outlinewidth": 0,
              "ticks": ""
             }
            },
            "type": "scatterpolar"
           }
          ],
          "scatterpolargl": [
           {
            "marker": {
             "colorbar": {
              "outlinewidth": 0,
              "ticks": ""
             }
            },
            "type": "scatterpolargl"
           }
          ],
          "scatterternary": [
           {
            "marker": {
             "colorbar": {
              "outlinewidth": 0,
              "ticks": ""
             }
            },
            "type": "scatterternary"
           }
          ],
          "surface": [
           {
            "colorbar": {
             "outlinewidth": 0,
             "ticks": ""
            },
            "colorscale": [
             [
              0,
              "#0d0887"
             ],
             [
              0.1111111111111111,
              "#46039f"
             ],
             [
              0.2222222222222222,
              "#7201a8"
             ],
             [
              0.3333333333333333,
              "#9c179e"
             ],
             [
              0.4444444444444444,
              "#bd3786"
             ],
             [
              0.5555555555555556,
              "#d8576b"
             ],
             [
              0.6666666666666666,
              "#ed7953"
             ],
             [
              0.7777777777777778,
              "#fb9f3a"
             ],
             [
              0.8888888888888888,
              "#fdca26"
             ],
             [
              1,
              "#f0f921"
             ]
            ],
            "type": "surface"
           }
          ],
          "table": [
           {
            "cells": {
             "fill": {
              "color": "#EBF0F8"
             },
             "line": {
              "color": "white"
             }
            },
            "header": {
             "fill": {
              "color": "#C8D4E3"
             },
             "line": {
              "color": "white"
             }
            },
            "type": "table"
           }
          ]
         },
         "layout": {
          "annotationdefaults": {
           "arrowcolor": "#2a3f5f",
           "arrowhead": 0,
           "arrowwidth": 1
          },
          "autotypenumbers": "strict",
          "coloraxis": {
           "colorbar": {
            "outlinewidth": 0,
            "ticks": ""
           }
          },
          "colorscale": {
           "diverging": [
            [
             0,
             "#8e0152"
            ],
            [
             0.1,
             "#c51b7d"
            ],
            [
             0.2,
             "#de77ae"
            ],
            [
             0.3,
             "#f1b6da"
            ],
            [
             0.4,
             "#fde0ef"
            ],
            [
             0.5,
             "#f7f7f7"
            ],
            [
             0.6,
             "#e6f5d0"
            ],
            [
             0.7,
             "#b8e186"
            ],
            [
             0.8,
             "#7fbc41"
            ],
            [
             0.9,
             "#4d9221"
            ],
            [
             1,
             "#276419"
            ]
           ],
           "sequential": [
            [
             0,
             "#0d0887"
            ],
            [
             0.1111111111111111,
             "#46039f"
            ],
            [
             0.2222222222222222,
             "#7201a8"
            ],
            [
             0.3333333333333333,
             "#9c179e"
            ],
            [
             0.4444444444444444,
             "#bd3786"
            ],
            [
             0.5555555555555556,
             "#d8576b"
            ],
            [
             0.6666666666666666,
             "#ed7953"
            ],
            [
             0.7777777777777778,
             "#fb9f3a"
            ],
            [
             0.8888888888888888,
             "#fdca26"
            ],
            [
             1,
             "#f0f921"
            ]
           ],
           "sequentialminus": [
            [
             0,
             "#0d0887"
            ],
            [
             0.1111111111111111,
             "#46039f"
            ],
            [
             0.2222222222222222,
             "#7201a8"
            ],
            [
             0.3333333333333333,
             "#9c179e"
            ],
            [
             0.4444444444444444,
             "#bd3786"
            ],
            [
             0.5555555555555556,
             "#d8576b"
            ],
            [
             0.6666666666666666,
             "#ed7953"
            ],
            [
             0.7777777777777778,
             "#fb9f3a"
            ],
            [
             0.8888888888888888,
             "#fdca26"
            ],
            [
             1,
             "#f0f921"
            ]
           ]
          },
          "colorway": [
           "#636efa",
           "#EF553B",
           "#00cc96",
           "#ab63fa",
           "#FFA15A",
           "#19d3f3",
           "#FF6692",
           "#B6E880",
           "#FF97FF",
           "#FECB52"
          ],
          "font": {
           "color": "#2a3f5f"
          },
          "geo": {
           "bgcolor": "white",
           "lakecolor": "white",
           "landcolor": "#E5ECF6",
           "showlakes": true,
           "showland": true,
           "subunitcolor": "white"
          },
          "hoverlabel": {
           "align": "left"
          },
          "hovermode": "closest",
          "mapbox": {
           "style": "light"
          },
          "paper_bgcolor": "white",
          "plot_bgcolor": "#E5ECF6",
          "polar": {
           "angularaxis": {
            "gridcolor": "white",
            "linecolor": "white",
            "ticks": ""
           },
           "bgcolor": "#E5ECF6",
           "radialaxis": {
            "gridcolor": "white",
            "linecolor": "white",
            "ticks": ""
           }
          },
          "scene": {
           "xaxis": {
            "backgroundcolor": "#E5ECF6",
            "gridcolor": "white",
            "gridwidth": 2,
            "linecolor": "white",
            "showbackground": true,
            "ticks": "",
            "zerolinecolor": "white"
           },
           "yaxis": {
            "backgroundcolor": "#E5ECF6",
            "gridcolor": "white",
            "gridwidth": 2,
            "linecolor": "white",
            "showbackground": true,
            "ticks": "",
            "zerolinecolor": "white"
           },
           "zaxis": {
            "backgroundcolor": "#E5ECF6",
            "gridcolor": "white",
            "gridwidth": 2,
            "linecolor": "white",
            "showbackground": true,
            "ticks": "",
            "zerolinecolor": "white"
           }
          },
          "shapedefaults": {
           "line": {
            "color": "#2a3f5f"
           }
          },
          "ternary": {
           "aaxis": {
            "gridcolor": "white",
            "linecolor": "white",
            "ticks": ""
           },
           "baxis": {
            "gridcolor": "white",
            "linecolor": "white",
            "ticks": ""
           },
           "bgcolor": "#E5ECF6",
           "caxis": {
            "gridcolor": "white",
            "linecolor": "white",
            "ticks": ""
           }
          },
          "title": {
           "x": 0.05
          },
          "xaxis": {
           "automargin": true,
           "gridcolor": "white",
           "linecolor": "white",
           "ticks": "",
           "title": {
            "standoff": 15
           },
           "zerolinecolor": "white",
           "zerolinewidth": 2
          },
          "yaxis": {
           "automargin": true,
           "gridcolor": "white",
           "linecolor": "white",
           "ticks": "",
           "title": {
            "standoff": 15
           },
           "zerolinecolor": "white",
           "zerolinewidth": 2
          }
         }
        },
        "title": {
         "text": "CBPE - Estimated f1"
        },
        "xaxis": {
         "linecolor": "#666666",
         "mirror": true,
         "showgrid": false,
         "title": {
          "text": "Time"
         },
         "zeroline": false
        },
        "yaxis": {
         "linecolor": "#666666",
         "mirror": true,
         "showgrid": false,
         "title": {
          "text": "Estimated f1"
         },
         "zeroline": false
        }
       }
      },
      "text/html": [
       "<div>                            <div id=\"7219f125-7734-4e22-adcb-60b768cb079a\" class=\"plotly-graph-div\" style=\"height:525px; width:100%;\"></div>            <script type=\"text/javascript\">                require([\"plotly\"], function(Plotly) {                    window.PLOTLYENV=window.PLOTLYENV || {};                                    if (document.getElementById(\"7219f125-7734-4e22-adcb-60b768cb079a\")) {                    Plotly.newPlot(                        \"7219f125-7734-4e22-adcb-60b768cb079a\",                        [{\"hoverinfo\":\"skip\",\"line\":{\"color\":\"rgba(0,0,0,0)\",\"shape\":\"hv\"},\"mode\":\"lines\",\"showlegend\":false,\"x\":[\"2020-09-01T03:10:01\",\"2020-09-13T16:15:32\",\"2020-09-25T19:50:04\",\"2020-10-08T02:57:34\",\"2020-10-20T15:49:06\",\"2020-11-01T22:04:59\",\"2020-11-14T03:55:49\",\"2020-11-26T09:19:22\",\"2020-12-08T14:34:25\",\"2020-12-20T18:31:09\",\"2021-01-01T22:57:55\"],\"y\":[0.7570758621967587,0.7601708655920035,0.7620133162844372,0.7602729924294869,0.7576041389617284,0.634062067250791,0.6344879109469016,0.6335872481015282,0.6347233281673336,0.6366274585452686,0.6366274585452686],\"type\":\"scatter\"},{\"fill\":\"tonexty\",\"fillcolor\":\"rgba(0.23137254901960785, 0.00784313725490196, 0.5019607843137255, 0.2)\",\"hoverinfo\":\"skip\",\"line\":{\"color\":\"rgba(0,0,0,0)\",\"shape\":\"hv\"},\"mode\":\"lines\",\"showlegend\":false,\"x\":[\"2020-09-01T03:10:01\",\"2020-09-13T16:15:32\",\"2020-09-25T19:50:04\",\"2020-10-08T02:57:34\",\"2020-10-20T15:49:06\",\"2020-11-01T22:04:59\",\"2020-11-14T03:55:49\",\"2020-11-26T09:19:22\",\"2020-12-08T14:34:25\",\"2020-12-20T18:31:09\",\"2021-01-01T22:57:55\"],\"y\":[0.7535727113644105,0.7566677147596553,0.758510165452089,0.7567698415971387,0.7541009881293802,0.6305589164184427,0.6309847601145534,0.63008409726918,0.6312201773349854,0.6331243077129204,0.6331243077129204],\"type\":\"scatter\"},{\"hoverinfo\":\"skip\",\"legendgroup\":\"1\",\"line\":{\"color\":\"#00c8e5\",\"shape\":\"hv\",\"width\":2},\"mode\":\"lines\",\"name\":\"Reference period\",\"x\":[\"2020-05-02T02:01:30\",\"2020-05-14T12:29:25\",\"2020-05-26T18:31:06\",\"2020-06-07T19:58:39\",\"2020-06-19T19:44:14\",\"2020-07-02T02:06:56\",\"2020-07-14T08:14:08\",\"2020-07-26T12:57:37\",\"2020-08-07T16:33:44\",\"2020-08-20T00:07:58\",\"2020-09-01T03:03:23\"],\"y\":[0.7505323557358875,0.7511484640126803,0.7571400512722031,0.7502740596433638,0.7591436975867962,0.7486300734249819,0.7527627058654386,0.7558827980804009,0.7474196344836103,0.7580550513577399,0.7580550513577399],\"type\":\"scatter\"},{\"hoverinfo\":\"skip\",\"legendgroup\":\"1\",\"line\":{\"color\":\"#3b0280\",\"dash\":\"dot\",\"shape\":\"hv\",\"width\":2},\"mode\":\"lines\",\"name\":\"Analysis period\",\"x\":[\"2020-09-01T03:10:01\",\"2020-09-13T16:15:32\",\"2020-09-25T19:50:04\",\"2020-10-08T02:57:34\",\"2020-10-20T15:49:06\",\"2020-11-01T22:04:59\",\"2020-11-14T03:55:49\",\"2020-11-26T09:19:22\",\"2020-12-08T14:34:25\",\"2020-12-20T18:31:09\",\"2021-01-01T22:57:55\"],\"y\":[0.7553242867805846,0.7584192901758294,0.7602617408682631,0.7585214170133128,0.7558525635455543,0.6323104918346169,0.6327363355307275,0.6318356726853541,0.6329717527511595,0.6348758831290945,0.6348758831290945],\"type\":\"scatter\"},{\"customdata\":[[\"[0:5999]\",\"May-02-2020\",\"May-14-2020\",\"0.7505\",\"<b style=\\\"color:#00c8e5;line-height:60px\\\">Reference</b>\",\"\",\"\"],[\"[6000:11999]\",\"May-14-2020\",\"May-26-2020\",\"0.7511\",\"<b style=\\\"color:#00c8e5;line-height:60px\\\">Reference</b>\",\"\",\"\"],[\"[12000:17999]\",\"May-26-2020\",\"Jun-07-2020\",\"0.7571\",\"<b style=\\\"color:#00c8e5;line-height:60px\\\">Reference</b>\",\"\",\"\"],[\"[18000:23999]\",\"Jun-07-2020\",\"Jun-19-2020\",\"0.7503\",\"<b style=\\\"color:#00c8e5;line-height:60px\\\">Reference</b>\",\"\",\"\"],[\"[24000:29999]\",\"Jun-19-2020\",\"Jul-02-2020\",\"0.7591\",\"<b style=\\\"color:#00c8e5;line-height:60px\\\">Reference</b>\",\"\",\"\"],[\"[30000:35999]\",\"Jul-02-2020\",\"Jul-14-2020\",\"0.7486\",\"<b style=\\\"color:#00c8e5;line-height:60px\\\">Reference</b>\",\"\",\"\"],[\"[36000:41999]\",\"Jul-14-2020\",\"Jul-26-2020\",\"0.7528\",\"<b style=\\\"color:#00c8e5;line-height:60px\\\">Reference</b>\",\"\",\"\"],[\"[42000:47999]\",\"Jul-26-2020\",\"Aug-07-2020\",\"0.7559\",\"<b style=\\\"color:#00c8e5;line-height:60px\\\">Reference</b>\",\"\",\"\"],[\"[48000:53999]\",\"Aug-07-2020\",\"Aug-20-2020\",\"0.7474\",\"<b style=\\\"color:#00c8e5;line-height:60px\\\">Reference</b>\",\"\",\"\"],[\"[54000:59999]\",\"Aug-20-2020\",\"Sep-01-2020\",\"0.7581\",\"<b style=\\\"color:#00c8e5;line-height:60px\\\">Reference</b>\",\"\",\"\"]],\"hovertemplate\":\"%{customdata[4]} &nbsp; &nbsp; <span style=\\\"color:#AD0000\\\">%{customdata[5]}</span><br>Chunk: <b>%{customdata[0]}</b> &nbsp; &nbsp; From <b>%{customdata[1]}</b> to <b>%{customdata[2]}</b> &nbsp; &nbsp; <br>Estimated ROC AUC: <b>%{customdata[3]}</b>  &nbsp; &nbsp; %{customdata[6]} <extra></extra>\",\"marker\":{\"color\":\"#00c8e5\",\"size\":6,\"symbol\":\"square\"},\"mode\":\"markers\",\"name\":\"Reference\",\"showlegend\":false,\"x\":[\"2020-05-08T07:13:32.500000\",\"2020-05-20T15:28:33.500000\",\"2020-06-01T19:13:25.500000\",\"2020-06-13T19:50:29.500000\",\"2020-06-25T22:51:09.500000\",\"2020-07-08T05:10:30\",\"2020-07-20T10:34:55\",\"2020-08-01T14:44:56\",\"2020-08-13T20:19:56\",\"2020-08-26T01:35:40.500000\"],\"y\":[0.7505323557358875,0.7511484640126803,0.7571400512722031,0.7502740596433638,0.7591436975867962,0.7486300734249819,0.7527627058654386,0.7558827980804009,0.7474196344836103,0.7580550513577399],\"type\":\"scatter\"},{\"customdata\":[[\"[60000:65999]\",\"Sep-01-2020\",\"Sep-13-2020\",\"0.7553\",\"<b style=\\\"color:#3b0280;line-height:60px\\\">Analysis</b>\",\"\",\"\"],[\"[66000:71999]\",\"Sep-13-2020\",\"Sep-25-2020\",\"0.7584\",\"<b style=\\\"color:#3b0280;line-height:60px\\\">Analysis</b>\",\"\",\"\"],[\"[72000:77999]\",\"Sep-25-2020\",\"Oct-08-2020\",\"0.7603\",\"<b style=\\\"color:#3b0280;line-height:60px\\\">Analysis</b>\",\"\",\"\"],[\"[78000:83999]\",\"Oct-08-2020\",\"Oct-20-2020\",\"0.7585\",\"<b style=\\\"color:#3b0280;line-height:60px\\\">Analysis</b>\",\"\",\"\"],[\"[84000:89999]\",\"Oct-20-2020\",\"Nov-01-2020\",\"0.7559\",\"<b style=\\\"color:#3b0280;line-height:60px\\\">Analysis</b>\",\"\",\"\"]],\"hovertemplate\":\"%{customdata[4]} &nbsp; &nbsp; <span style=\\\"color:#AD0000\\\">%{customdata[5]}</span><br>Chunk: <b>%{customdata[0]}</b> &nbsp; &nbsp; From <b>%{customdata[1]}</b> to <b>%{customdata[2]}</b> &nbsp; &nbsp; <br>Estimated ROC AUC: <b>%{customdata[3]}</b>  &nbsp; &nbsp; %{customdata[6]} <extra></extra>\",\"marker\":{\"color\":\"#3b0280\",\"size\":6,\"symbol\":\"square\"},\"mode\":\"markers\",\"name\":\"No change\",\"showlegend\":false,\"x\":[\"2020-09-07T09:42:35.500000\",\"2020-09-19T18:02:07\",\"2020-10-01T23:21:55.500000\",\"2020-10-14T09:22:56.500000\",\"2020-10-26T18:56:53\"],\"y\":[0.7553242867805846,0.7584192901758294,0.7602617408682631,0.7585214170133128,0.7558525635455543],\"type\":\"scatter\"},{\"customdata\":[[\"[90000:95999]\",\"Nov-01-2020\",\"Nov-14-2020\",\"0.6323\",\"<b style=\\\"color:#3b0280;line-height:60px\\\">Analysis</b>\",\"\\u26a0 <b>Drift detected</b>\",\"\"],[\"[96000:101999]\",\"Nov-14-2020\",\"Nov-26-2020\",\"0.6327\",\"<b style=\\\"color:#3b0280;line-height:60px\\\">Analysis</b>\",\"\\u26a0 <b>Drift detected</b>\",\"\"],[\"[102000:107999]\",\"Nov-26-2020\",\"Dec-08-2020\",\"0.6318\",\"<b style=\\\"color:#3b0280;line-height:60px\\\">Analysis</b>\",\"\\u26a0 <b>Drift detected</b>\",\"\"],[\"[108000:113999]\",\"Dec-08-2020\",\"Dec-20-2020\",\"0.6330\",\"<b style=\\\"color:#3b0280;line-height:60px\\\">Analysis</b>\",\"\\u26a0 <b>Drift detected</b>\",\"\"],[\"[114000:119999]\",\"Dec-20-2020\",\"Jan-01-2021\",\"0.6349\",\"<b style=\\\"color:#3b0280;line-height:60px\\\">Analysis</b>\",\"\\u26a0 <b>Drift detected</b>\",\"\"]],\"hovertemplate\":\"%{customdata[4]} &nbsp; &nbsp; <span style=\\\"color:#AD0000\\\">%{customdata[5]}</span><br>Chunk: <b>%{customdata[0]}</b> &nbsp; &nbsp; From <b>%{customdata[1]}</b> to <b>%{customdata[2]}</b> &nbsp; &nbsp; <br>Estimated ROC AUC: <b>%{customdata[3]}</b>  &nbsp; &nbsp; %{customdata[6]} <extra></extra>\",\"marker\":{\"color\":\"#DD4040\",\"size\":6,\"symbol\":\"diamond\"},\"mode\":\"markers\",\"name\":\"Change\",\"showlegend\":false,\"x\":[\"2020-11-08T01:00:16\",\"2020-11-20T06:37:27.500000\",\"2020-12-02T11:56:39\",\"2020-12-14T16:32:27.500000\",\"2020-12-26T20:44:32\"],\"y\":[0.6323104918346169,0.6327363355307275,0.6318356726853541,0.6329717527511595,0.6348758831290945],\"type\":\"scatter\"},{\"line\":{\"color\":\"rgba(0,0,0,0)\"},\"mode\":\"lines\",\"showlegend\":false,\"x\":[[1588922012500000000],[1609015472000000000]],\"y\":[null,null],\"type\":\"scatter\"},{\"fill\":\"tonexty\",\"fillcolor\":\"rgba(0.23137254901960785, 0.00784313725490196, 0.5019607843137255, 0.2)\",\"legendgroup\":\"1\",\"line\":{\"color\":\"rgba(0,0,0,0)\"},\"mode\":\"lines\",\"name\":\"Confidence band\",\"x\":[[1588922012500000000],[1609015472000000000]],\"y\":[null,null],\"type\":\"scatter\"},{\"legendgroup\":\"1\",\"line\":{\"color\":\"#DD4040\",\"dash\":\"dash\",\"width\":1},\"mode\":\"lines\",\"name\":\"Performance threshold\",\"x\":[[1588922012500000000],[1609015472000000000]],\"y\":[null,null],\"type\":\"scatter\"},{\"line\":{\"color\":\"rgba(0,0,0,0)\"},\"mode\":\"lines\",\"showlegend\":false,\"x\":[[1588922012500000000],[1609015472000000000]],\"y\":[null,null],\"type\":\"scatter\"},{\"fill\":\"tonexty\",\"fillcolor\":\"rgba(0.8666666666666667, 0.25098039215686274, 0.25098039215686274, 0.2)\",\"legendgroup\":\"1\",\"line\":{\"color\":\"rgba(0,0,0,0)\"},\"marker\":{\"color\":\"#DD4040\",\"size\":6,\"symbol\":\"diamond\"},\"mode\":\"lines+markers\",\"name\":\"Degraded performance\",\"x\":[[1588922012500000000],[1609015472000000000]],\"y\":[null,null],\"type\":\"scatter\"}],                        {\"hoverlabel\":{\"bgcolor\":\"white\",\"font\":{\"size\":14}},\"legend\":{\"itemclick\":false,\"itemdoubleclick\":false,\"traceorder\":\"normal\",\"yanchor\":\"top\",\"y\":-0.25,\"xanchor\":\"left\",\"x\":0,\"orientation\":\"h\"},\"paper_bgcolor\":\"rgba(255,255,255,1)\",\"plot_bgcolor\":\"rgba(255,255,255,1)\",\"title\":{\"text\":\"CBPE - Estimated f1\"},\"xaxis\":{\"linecolor\":\"#666666\",\"mirror\":true,\"showgrid\":false,\"title\":{\"text\":\"Time\"},\"zeroline\":false},\"yaxis\":{\"linecolor\":\"#666666\",\"mirror\":true,\"showgrid\":false,\"title\":{\"text\":\"Estimated f1\"},\"zeroline\":false},\"template\":{\"data\":{\"bar\":[{\"error_x\":{\"color\":\"#2a3f5f\"},\"error_y\":{\"color\":\"#2a3f5f\"},\"marker\":{\"line\":{\"color\":\"#E5ECF6\",\"width\":0.5},\"pattern\":{\"fillmode\":\"overlay\",\"size\":10,\"solidity\":0.2}},\"type\":\"bar\"}],\"barpolar\":[{\"marker\":{\"line\":{\"color\":\"#E5ECF6\",\"width\":0.5},\"pattern\":{\"fillmode\":\"overlay\",\"size\":10,\"solidity\":0.2}},\"type\":\"barpolar\"}],\"carpet\":[{\"aaxis\":{\"endlinecolor\":\"#2a3f5f\",\"gridcolor\":\"white\",\"linecolor\":\"white\",\"minorgridcolor\":\"white\",\"startlinecolor\":\"#2a3f5f\"},\"baxis\":{\"endlinecolor\":\"#2a3f5f\",\"gridcolor\":\"white\",\"linecolor\":\"white\",\"minorgridcolor\":\"white\",\"startlinecolor\":\"#2a3f5f\"},\"type\":\"carpet\"}],\"choropleth\":[{\"colorbar\":{\"outlinewidth\":0,\"ticks\":\"\"},\"type\":\"choropleth\"}],\"contour\":[{\"colorbar\":{\"outlinewidth\":0,\"ticks\":\"\"},\"colorscale\":[[0.0,\"#0d0887\"],[0.1111111111111111,\"#46039f\"],[0.2222222222222222,\"#7201a8\"],[0.3333333333333333,\"#9c179e\"],[0.4444444444444444,\"#bd3786\"],[0.5555555555555556,\"#d8576b\"],[0.6666666666666666,\"#ed7953\"],[0.7777777777777778,\"#fb9f3a\"],[0.8888888888888888,\"#fdca26\"],[1.0,\"#f0f921\"]],\"type\":\"contour\"}],\"contourcarpet\":[{\"colorbar\":{\"outlinewidth\":0,\"ticks\":\"\"},\"type\":\"contourcarpet\"}],\"heatmap\":[{\"colorbar\":{\"outlinewidth\":0,\"ticks\":\"\"},\"colorscale\":[[0.0,\"#0d0887\"],[0.1111111111111111,\"#46039f\"],[0.2222222222222222,\"#7201a8\"],[0.3333333333333333,\"#9c179e\"],[0.4444444444444444,\"#bd3786\"],[0.5555555555555556,\"#d8576b\"],[0.6666666666666666,\"#ed7953\"],[0.7777777777777778,\"#fb9f3a\"],[0.8888888888888888,\"#fdca26\"],[1.0,\"#f0f921\"]],\"type\":\"heatmap\"}],\"heatmapgl\":[{\"colorbar\":{\"outlinewidth\":0,\"ticks\":\"\"},\"colorscale\":[[0.0,\"#0d0887\"],[0.1111111111111111,\"#46039f\"],[0.2222222222222222,\"#7201a8\"],[0.3333333333333333,\"#9c179e\"],[0.4444444444444444,\"#bd3786\"],[0.5555555555555556,\"#d8576b\"],[0.6666666666666666,\"#ed7953\"],[0.7777777777777778,\"#fb9f3a\"],[0.8888888888888888,\"#fdca26\"],[1.0,\"#f0f921\"]],\"type\":\"heatmapgl\"}],\"histogram\":[{\"marker\":{\"pattern\":{\"fillmode\":\"overlay\",\"size\":10,\"solidity\":0.2}},\"type\":\"histogram\"}],\"histogram2d\":[{\"colorbar\":{\"outlinewidth\":0,\"ticks\":\"\"},\"colorscale\":[[0.0,\"#0d0887\"],[0.1111111111111111,\"#46039f\"],[0.2222222222222222,\"#7201a8\"],[0.3333333333333333,\"#9c179e\"],[0.4444444444444444,\"#bd3786\"],[0.5555555555555556,\"#d8576b\"],[0.6666666666666666,\"#ed7953\"],[0.7777777777777778,\"#fb9f3a\"],[0.8888888888888888,\"#fdca26\"],[1.0,\"#f0f921\"]],\"type\":\"histogram2d\"}],\"histogram2dcontour\":[{\"colorbar\":{\"outlinewidth\":0,\"ticks\":\"\"},\"colorscale\":[[0.0,\"#0d0887\"],[0.1111111111111111,\"#46039f\"],[0.2222222222222222,\"#7201a8\"],[0.3333333333333333,\"#9c179e\"],[0.4444444444444444,\"#bd3786\"],[0.5555555555555556,\"#d8576b\"],[0.6666666666666666,\"#ed7953\"],[0.7777777777777778,\"#fb9f3a\"],[0.8888888888888888,\"#fdca26\"],[1.0,\"#f0f921\"]],\"type\":\"histogram2dcontour\"}],\"mesh3d\":[{\"colorbar\":{\"outlinewidth\":0,\"ticks\":\"\"},\"type\":\"mesh3d\"}],\"parcoords\":[{\"line\":{\"colorbar\":{\"outlinewidth\":0,\"ticks\":\"\"}},\"type\":\"parcoords\"}],\"pie\":[{\"automargin\":true,\"type\":\"pie\"}],\"scatter\":[{\"marker\":{\"colorbar\":{\"outlinewidth\":0,\"ticks\":\"\"}},\"type\":\"scatter\"}],\"scatter3d\":[{\"line\":{\"colorbar\":{\"outlinewidth\":0,\"ticks\":\"\"}},\"marker\":{\"colorbar\":{\"outlinewidth\":0,\"ticks\":\"\"}},\"type\":\"scatter3d\"}],\"scattercarpet\":[{\"marker\":{\"colorbar\":{\"outlinewidth\":0,\"ticks\":\"\"}},\"type\":\"scattercarpet\"}],\"scattergeo\":[{\"marker\":{\"colorbar\":{\"outlinewidth\":0,\"ticks\":\"\"}},\"type\":\"scattergeo\"}],\"scattergl\":[{\"marker\":{\"colorbar\":{\"outlinewidth\":0,\"ticks\":\"\"}},\"type\":\"scattergl\"}],\"scattermapbox\":[{\"marker\":{\"colorbar\":{\"outlinewidth\":0,\"ticks\":\"\"}},\"type\":\"scattermapbox\"}],\"scatterpolar\":[{\"marker\":{\"colorbar\":{\"outlinewidth\":0,\"ticks\":\"\"}},\"type\":\"scatterpolar\"}],\"scatterpolargl\":[{\"marker\":{\"colorbar\":{\"outlinewidth\":0,\"ticks\":\"\"}},\"type\":\"scatterpolargl\"}],\"scatterternary\":[{\"marker\":{\"colorbar\":{\"outlinewidth\":0,\"ticks\":\"\"}},\"type\":\"scatterternary\"}],\"surface\":[{\"colorbar\":{\"outlinewidth\":0,\"ticks\":\"\"},\"colorscale\":[[0.0,\"#0d0887\"],[0.1111111111111111,\"#46039f\"],[0.2222222222222222,\"#7201a8\"],[0.3333333333333333,\"#9c179e\"],[0.4444444444444444,\"#bd3786\"],[0.5555555555555556,\"#d8576b\"],[0.6666666666666666,\"#ed7953\"],[0.7777777777777778,\"#fb9f3a\"],[0.8888888888888888,\"#fdca26\"],[1.0,\"#f0f921\"]],\"type\":\"surface\"}],\"table\":[{\"cells\":{\"fill\":{\"color\":\"#EBF0F8\"},\"line\":{\"color\":\"white\"}},\"header\":{\"fill\":{\"color\":\"#C8D4E3\"},\"line\":{\"color\":\"white\"}},\"type\":\"table\"}]},\"layout\":{\"annotationdefaults\":{\"arrowcolor\":\"#2a3f5f\",\"arrowhead\":0,\"arrowwidth\":1},\"autotypenumbers\":\"strict\",\"coloraxis\":{\"colorbar\":{\"outlinewidth\":0,\"ticks\":\"\"}},\"colorscale\":{\"diverging\":[[0,\"#8e0152\"],[0.1,\"#c51b7d\"],[0.2,\"#de77ae\"],[0.3,\"#f1b6da\"],[0.4,\"#fde0ef\"],[0.5,\"#f7f7f7\"],[0.6,\"#e6f5d0\"],[0.7,\"#b8e186\"],[0.8,\"#7fbc41\"],[0.9,\"#4d9221\"],[1,\"#276419\"]],\"sequential\":[[0.0,\"#0d0887\"],[0.1111111111111111,\"#46039f\"],[0.2222222222222222,\"#7201a8\"],[0.3333333333333333,\"#9c179e\"],[0.4444444444444444,\"#bd3786\"],[0.5555555555555556,\"#d8576b\"],[0.6666666666666666,\"#ed7953\"],[0.7777777777777778,\"#fb9f3a\"],[0.8888888888888888,\"#fdca26\"],[1.0,\"#f0f921\"]],\"sequentialminus\":[[0.0,\"#0d0887\"],[0.1111111111111111,\"#46039f\"],[0.2222222222222222,\"#7201a8\"],[0.3333333333333333,\"#9c179e\"],[0.4444444444444444,\"#bd3786\"],[0.5555555555555556,\"#d8576b\"],[0.6666666666666666,\"#ed7953\"],[0.7777777777777778,\"#fb9f3a\"],[0.8888888888888888,\"#fdca26\"],[1.0,\"#f0f921\"]]},\"colorway\":[\"#636efa\",\"#EF553B\",\"#00cc96\",\"#ab63fa\",\"#FFA15A\",\"#19d3f3\",\"#FF6692\",\"#B6E880\",\"#FF97FF\",\"#FECB52\"],\"font\":{\"color\":\"#2a3f5f\"},\"geo\":{\"bgcolor\":\"white\",\"lakecolor\":\"white\",\"landcolor\":\"#E5ECF6\",\"showlakes\":true,\"showland\":true,\"subunitcolor\":\"white\"},\"hoverlabel\":{\"align\":\"left\"},\"hovermode\":\"closest\",\"mapbox\":{\"style\":\"light\"},\"paper_bgcolor\":\"white\",\"plot_bgcolor\":\"#E5ECF6\",\"polar\":{\"angularaxis\":{\"gridcolor\":\"white\",\"linecolor\":\"white\",\"ticks\":\"\"},\"bgcolor\":\"#E5ECF6\",\"radialaxis\":{\"gridcolor\":\"white\",\"linecolor\":\"white\",\"ticks\":\"\"}},\"scene\":{\"xaxis\":{\"backgroundcolor\":\"#E5ECF6\",\"gridcolor\":\"white\",\"gridwidth\":2,\"linecolor\":\"white\",\"showbackground\":true,\"ticks\":\"\",\"zerolinecolor\":\"white\"},\"yaxis\":{\"backgroundcolor\":\"#E5ECF6\",\"gridcolor\":\"white\",\"gridwidth\":2,\"linecolor\":\"white\",\"showbackground\":true,\"ticks\":\"\",\"zerolinecolor\":\"white\"},\"zaxis\":{\"backgroundcolor\":\"#E5ECF6\",\"gridcolor\":\"white\",\"gridwidth\":2,\"linecolor\":\"white\",\"showbackground\":true,\"ticks\":\"\",\"zerolinecolor\":\"white\"}},\"shapedefaults\":{\"line\":{\"color\":\"#2a3f5f\"}},\"ternary\":{\"aaxis\":{\"gridcolor\":\"white\",\"linecolor\":\"white\",\"ticks\":\"\"},\"baxis\":{\"gridcolor\":\"white\",\"linecolor\":\"white\",\"ticks\":\"\"},\"bgcolor\":\"#E5ECF6\",\"caxis\":{\"gridcolor\":\"white\",\"linecolor\":\"white\",\"ticks\":\"\"}},\"title\":{\"x\":0.05},\"xaxis\":{\"automargin\":true,\"gridcolor\":\"white\",\"linecolor\":\"white\",\"ticks\":\"\",\"title\":{\"standoff\":15},\"zerolinecolor\":\"white\",\"zerolinewidth\":2},\"yaxis\":{\"automargin\":true,\"gridcolor\":\"white\",\"linecolor\":\"white\",\"ticks\":\"\",\"title\":{\"standoff\":15},\"zerolinecolor\":\"white\",\"zerolinewidth\":2}}},\"shapes\":[{\"layer\":\"below\",\"line\":{\"color\":\"#DD4040\",\"dash\":\"dash\",\"width\":1},\"type\":\"line\",\"x0\":0,\"x1\":1,\"xref\":\"x domain\",\"y0\":0.7649438592270994,\"y1\":0.7649438592270994,\"yref\":\"y\"},{\"layer\":\"below\",\"line\":{\"color\":\"#DD4040\",\"dash\":\"dash\",\"width\":1},\"type\":\"line\",\"x0\":0,\"x1\":1,\"xref\":\"x domain\",\"y0\":0.741253919065521,\"y1\":0.741253919065521,\"yref\":\"y\"},{\"layer\":\"below\",\"line\":{\"color\":\"#3b0280\",\"dash\":\"dash\",\"width\":1},\"type\":\"line\",\"x0\":\"2020-09-01T03:10:01\",\"x1\":\"2020-09-01T03:10:01\",\"xref\":\"x\",\"y0\":0,\"y1\":1,\"yref\":\"y domain\"},{\"fillcolor\":\"#DD4040\",\"layer\":\"below\",\"line\":{\"width\":0},\"opacity\":0.2,\"type\":\"rect\",\"x0\":\"2020-11-01T22:04:59\",\"x1\":\"2020-11-14T03:55:33\",\"xref\":\"x\",\"y0\":0,\"y1\":1,\"yref\":\"y domain\"},{\"fillcolor\":\"#DD4040\",\"layer\":\"below\",\"line\":{\"width\":0},\"opacity\":0.2,\"type\":\"rect\",\"x0\":\"2020-11-14T03:55:49\",\"x1\":\"2020-11-26T09:19:06\",\"xref\":\"x\",\"y0\":0,\"y1\":1,\"yref\":\"y domain\"},{\"fillcolor\":\"#DD4040\",\"layer\":\"below\",\"line\":{\"width\":0},\"opacity\":0.2,\"type\":\"rect\",\"x0\":\"2020-11-26T09:19:22\",\"x1\":\"2020-12-08T14:33:56\",\"xref\":\"x\",\"y0\":0,\"y1\":1,\"yref\":\"y domain\"},{\"fillcolor\":\"#DD4040\",\"layer\":\"below\",\"line\":{\"width\":0},\"opacity\":0.2,\"type\":\"rect\",\"x0\":\"2020-12-08T14:34:25\",\"x1\":\"2020-12-20T18:30:30\",\"xref\":\"x\",\"y0\":0,\"y1\":1,\"yref\":\"y domain\"},{\"fillcolor\":\"#DD4040\",\"layer\":\"below\",\"line\":{\"width\":0},\"opacity\":0.2,\"type\":\"rect\",\"x0\":\"2020-12-20T18:31:09\",\"x1\":\"2021-01-01T22:57:55\",\"xref\":\"x\",\"y0\":0,\"y1\":1,\"yref\":\"y domain\"}],\"annotations\":[{\"font\":{\"color\":\"#DD4040\"},\"showarrow\":false,\"text\":\"0.76\",\"x\":1,\"xanchor\":\"right\",\"xref\":\"x domain\",\"y\":0.7649438592270994,\"yanchor\":\"bottom\",\"yref\":\"y\"},{\"font\":{\"color\":\"#DD4040\"},\"showarrow\":false,\"text\":\"0.74\",\"x\":1,\"xanchor\":\"right\",\"xref\":\"x domain\",\"y\":0.741253919065521,\"yanchor\":\"bottom\",\"yref\":\"y\"}]},                        {\"responsive\": true}                    ).then(function(){\n",
       "                            \n",
       "var gd = document.getElementById('7219f125-7734-4e22-adcb-60b768cb079a');\n",
       "var x = new MutationObserver(function (mutations, observer) {{\n",
       "        var display = window.getComputedStyle(gd).display;\n",
       "        if (!display || display === 'none') {{\n",
       "            console.log([gd, 'removed!']);\n",
       "            Plotly.purge(gd);\n",
       "            observer.disconnect();\n",
       "        }}\n",
       "}});\n",
       "\n",
       "// Listen for the removal of the full notebook cells\n",
       "var notebookContainer = gd.closest('#notebook-container');\n",
       "if (notebookContainer) {{\n",
       "    x.observe(notebookContainer, {childList: true});\n",
       "}}\n",
       "\n",
       "// Listen for the clearing of the current output cell\n",
       "var outputEl = gd.closest('.output');\n",
       "if (outputEl) {{\n",
       "    x.observe(outputEl, {childList: true});\n",
       "}}\n",
       "\n",
       "                        })                };                });            </script>        </div>"
      ]
     },
     "metadata": {},
     "output_type": "display_data"
    }
   ],
   "source": [
    "for metric in cbpe.metrics:\n",
    "    figure = est_perf_with_ref.plot(kind='performance', metric=metric)\n",
    "    figure.show()"
   ]
  },
  {
   "cell_type": "code",
   "execution_count": 16,
   "id": "ec5e7f9f",
   "metadata": {},
   "outputs": [],
   "source": [
    "engine='orca'\n",
    "for metric in cbpe.metrics:\n",
    "    fig = est_perf_analysis.plot(kind='performance', metric=metric)\n",
    "    fig.write_image(file=f\"../_static/tutorial-perf-est-mc-guide-analysis-{metric}.svg\", engine=engine)"
   ]
  },
  {
   "cell_type": "code",
   "execution_count": 17,
   "id": "c3ca6d83",
   "metadata": {},
   "outputs": [],
   "source": [
    "for metric in cbpe.metrics:\n",
    "    fig = est_perf_with_ref.plot(kind='performance', metric=metric)\n",
    "    fig.write_image(file=f\"../_static/tutorial-perf-est-mc-guide-with-ref-{metric}.svg\", engine=engine)"
   ]
  },
  {
   "cell_type": "code",
   "execution_count": null,
   "id": "adf93718",
   "metadata": {},
   "outputs": [],
   "source": []
  }
 ],
 "metadata": {
  "kernelspec": {
   "display_name": "p39all",
   "language": "python",
   "name": "p39all"
  },
  "language_info": {
   "codemirror_mode": {
    "name": "ipython",
    "version": 3
   },
   "file_extension": ".py",
   "mimetype": "text/x-python",
   "name": "python",
   "nbconvert_exporter": "python",
   "pygments_lexer": "ipython3",
   "version": "3.9.7"
  }
 },
 "nbformat": 4,
 "nbformat_minor": 5
}
